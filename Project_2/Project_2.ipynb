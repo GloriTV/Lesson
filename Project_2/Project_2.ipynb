{
 "cells": [
  {
   "cell_type": "markdown",
   "metadata": {},
   "source": [
    "УСТАНОВКА PSYCOPG2"
   ]
  },
  {
   "cell_type": "code",
   "execution_count": 56,
   "metadata": {},
   "outputs": [],
   "source": [
    "# !pip install psycopg2"
   ]
  },
  {
   "cell_type": "markdown",
   "metadata": {},
   "source": [
    "Начинаем с импорта библиотек"
   ]
  },
  {
   "cell_type": "code",
   "execution_count": 8,
   "metadata": {},
   "outputs": [],
   "source": [
    "import pandas as pd\n",
    "import psycopg2\n",
    "import warnings\n",
    "warnings.filterwarnings(\"ignore\")\n",
    "\n",
    "# для загрузок логин пароль\n",
    "import os\n",
    "from dotenv import load_dotenv"
   ]
  },
  {
   "cell_type": "markdown",
   "metadata": {},
   "source": [
    "базы параметры"
   ]
  },
  {
   "cell_type": "markdown",
   "metadata": {},
   "source": [
    "Создаем соединение с заданными параметрами"
   ]
  },
  {
   "cell_type": "code",
   "execution_count": 11,
   "metadata": {},
   "outputs": [],
   "source": [
    "# загрузка данных из \".env\"\n",
    "load_dotenv()\n",
    "\n",
    "connection = psycopg2.connect(\n",
    "    dbname=os.getenv('DBNAME'),\n",
    "    user=os.getenv('USER'),\n",
    "    host=os.getenv('HOST'),\n",
    "    password=os.getenv('PASSWORD'),\n",
    "    port=os.getenv('PORT')\n",
    ")"
   ]
  },
  {
   "cell_type": "markdown",
   "metadata": {},
   "source": [
    "Запрос"
   ]
  },
  {
   "cell_type": "code",
   "execution_count": 60,
   "metadata": {},
   "outputs": [],
   "source": [
    "def zapr(query ):\n",
    "    \"\"\"Функция запроса к базе SQL\n",
    "\n",
    "    Args:\n",
    "        query (_str_): запрос принимаем в виде строки\n",
    "\n",
    "    Returns:\n",
    "        df: Возвращаем полученый DataFrame\n",
    "    \"\"\"\n",
    "    global connection \n",
    "    # используем метод read_sql_query, чтобы получить результаты запроса сразу в виде датафрейма\n",
    "    df = pd.read_sql_query(query, connection)#, index_col='id')\n",
    "    return df \n"
   ]
  },
  {
   "cell_type": "markdown",
   "metadata": {},
   "source": [
    "### 3.1\n",
    "Сколько вакансий есть в базе"
   ]
  },
  {
   "cell_type": "code",
   "execution_count": 61,
   "metadata": {},
   "outputs": [
    {
     "name": "stdout",
     "output_type": "stream",
     "text": [
      "Количество вакансий: 49197\n"
     ]
    }
   ],
   "source": [
    "# код запроса представляет из себя строковую переменную\n",
    "# вывести количество строк колонки id\n",
    "query = f'''select COUNT(id) \n",
    "            from vacancies\n",
    "         '''\n",
    "# вывести результат \n",
    "print('Количество вакансий:', zapr(query )['count'].iloc[0])"
   ]
  },
  {
   "cell_type": "markdown",
   "metadata": {},
   "source": [
    "### Вывод\n",
    "Количество вакансий: $49197$, что соответствует количеству строк в таблице \"vacancies\"\n",
    "\n",
    "Название вакансий могут быть одинаковы так как предложения могут поступать от разных работатателей, но id у них уникальны по этому считаем по id\n"
   ]
  },
  {
   "cell_type": "markdown",
   "metadata": {},
   "source": [
    "### 3.2\n",
    "Сколько работодателей"
   ]
  },
  {
   "cell_type": "code",
   "execution_count": 62,
   "metadata": {},
   "outputs": [
    {
     "name": "stdout",
     "output_type": "stream",
     "text": [
      "Количество работодателей: 23501\n"
     ]
    }
   ],
   "source": [
    "# код запроса представляет из себя строковую переменную\n",
    "# вывести количество строк колонки id\n",
    "query = f'''select COUNT(id)\n",
    "            from employers            \n",
    "        '''\n",
    "# вывести результат\n",
    "print('Количество работодателей:', zapr(query )['count'].iloc[0])"
   ]
  },
  {
   "cell_type": "markdown",
   "metadata": {},
   "source": [
    "### Вывод\n",
    "Количество работодателей: $23501$, что соответствует количеству строк в таблице \"employers\"\n",
    "\n",
    "Имена работодателей могут быть одинаковы но id у них уникальны так как сфера деятельность может отличатся, поэтому считаем по id"
   ]
  },
  {
   "cell_type": "markdown",
   "metadata": {},
   "source": [
    "### 3.3\n",
    "Сколько регионов"
   ]
  },
  {
   "cell_type": "code",
   "execution_count": 63,
   "metadata": {},
   "outputs": [
    {
     "name": "stdout",
     "output_type": "stream",
     "text": [
      "Количество регионов: 1362\n"
     ]
    }
   ],
   "source": [
    "# код запроса представляет из себя строковую переменную\n",
    "# вывести количество строк колонки id\n",
    "query = f'''select COUNT(id)\n",
    "            from areas            \n",
    "        '''\n",
    "# вывести результат\n",
    "print('Количество регионов:', zapr(query )['count'].iloc[0])"
   ]
  },
  {
   "cell_type": "markdown",
   "metadata": {},
   "source": [
    "### Вывод\n",
    "Количество регионов: $1362$, что соответствует количеству строк в таблице \"areas\"\n",
    "\n",
    "Имена регионов могут быть одинаковы но id у них уникальны по этому считаем по id"
   ]
  },
  {
   "cell_type": "markdown",
   "metadata": {},
   "source": [
    "### 3.4\n",
    "Сколько сфер деятельности"
   ]
  },
  {
   "cell_type": "code",
   "execution_count": 64,
   "metadata": {},
   "outputs": [
    {
     "name": "stdout",
     "output_type": "stream",
     "text": [
      "Количество сфер деятельности: 294\n"
     ]
    }
   ],
   "source": [
    "# код запроса представляет из себя строковую переменную\n",
    "# вывести количество строк колонки id\n",
    "query = f'''select COUNT(id)\n",
    "            from industries  \n",
    "        '''\n",
    "# вывести результат\n",
    "print('Количество сфер деятельности:', zapr(query )['count'].iloc[0])"
   ]
  },
  {
   "cell_type": "markdown",
   "metadata": {},
   "source": [
    "### Вывод\n",
    "Количество сфер деятельности: $294$, что соответствует количеству строк в таблице \"employers\"\n",
    "\n",
    "Имена регионов могут быть одинаковы но id у них уникальны по этому считаем по id"
   ]
  },
  {
   "cell_type": "markdown",
   "metadata": {},
   "source": [
    "### 4.1\n",
    "Запрос, который позволит узнать, сколько (cnt) вакансий в каждом регионе (area)"
   ]
  },
  {
   "cell_type": "code",
   "execution_count": 65,
   "metadata": {},
   "outputs": [
    {
     "data": {
      "text/html": [
       "<div>\n",
       "<style scoped>\n",
       "    .dataframe tbody tr th:only-of-type {\n",
       "        vertical-align: middle;\n",
       "    }\n",
       "\n",
       "    .dataframe tbody tr th {\n",
       "        vertical-align: top;\n",
       "    }\n",
       "\n",
       "    .dataframe thead th {\n",
       "        text-align: right;\n",
       "    }\n",
       "</style>\n",
       "<table border=\"1\" class=\"dataframe\">\n",
       "  <thead>\n",
       "    <tr style=\"text-align: right;\">\n",
       "      <th></th>\n",
       "      <th>area</th>\n",
       "      <th>cnt</th>\n",
       "    </tr>\n",
       "  </thead>\n",
       "  <tbody>\n",
       "    <tr>\n",
       "      <th>0</th>\n",
       "      <td>Москва</td>\n",
       "      <td>5333</td>\n",
       "    </tr>\n",
       "    <tr>\n",
       "      <th>1</th>\n",
       "      <td>Санкт-Петербург</td>\n",
       "      <td>2851</td>\n",
       "    </tr>\n",
       "    <tr>\n",
       "      <th>2</th>\n",
       "      <td>Минск</td>\n",
       "      <td>2112</td>\n",
       "    </tr>\n",
       "    <tr>\n",
       "      <th>3</th>\n",
       "      <td>Новосибирск</td>\n",
       "      <td>2006</td>\n",
       "    </tr>\n",
       "    <tr>\n",
       "      <th>4</th>\n",
       "      <td>Алматы</td>\n",
       "      <td>1892</td>\n",
       "    </tr>\n",
       "  </tbody>\n",
       "</table>\n",
       "</div>"
      ],
      "text/plain": [
       "              area   cnt\n",
       "0           Москва  5333\n",
       "1  Санкт-Петербург  2851\n",
       "2            Минск  2112\n",
       "3      Новосибирск  2006\n",
       "4           Алматы  1892"
      ]
     },
     "execution_count": 65,
     "metadata": {},
     "output_type": "execute_result"
    }
   ],
   "source": [
    "# код запроса представляет из себя строковую переменную\n",
    "# по id присваеваим название регионов, группируем по регионам и считаем сколько id вошло в регион.\n",
    "# Затем сортируем в порядке убывания по количеству вошедших id и выводим 5 первых строк\n",
    "\n",
    "n = 5 #  количество выводимых строк\n",
    "\n",
    "query = f'''select a.name AS area,\n",
    "                  COUNT(v.id) AS cnt\n",
    "            from VACANCIES AS v\n",
    "               LEFT JOIN AREAS AS a ON v.area_id=a.id\n",
    "            GROUP BY a.name\n",
    "            ORDER BY COUNT(v.id) DESC\n",
    "            LIMIT {n}\n",
    "         '''\n",
    "# вывести результат\n",
    "zapr(query)"
   ]
  },
  {
   "cell_type": "markdown",
   "metadata": {},
   "source": [
    "### Вывод\n",
    "Мы нашли 5 городов которые по количеству вакансий находятся на 1 местах, а из них можно выделить Москву по количеству вакансий"
   ]
  },
  {
   "cell_type": "markdown",
   "metadata": {},
   "source": [
    "### 4.2\n",
    "Количество вакансий заполнено хотя бы одно из двух полей с зарплатой"
   ]
  },
  {
   "cell_type": "code",
   "execution_count": 66,
   "metadata": {},
   "outputs": [
    {
     "name": "stdout",
     "output_type": "stream",
     "text": [
      "количество вакансий: 24073\n"
     ]
    }
   ],
   "source": [
    "# код запроса представляет из себя строковую переменную\n",
    "# Производим фильтрацию по заполнению ячеек, затем вывести количество строк оставшихся колонак id\n",
    "\n",
    "query = f'''select COUNT(id)\n",
    "            from VACANCIES\n",
    "            WHERE salary_from is NOT NULL OR salary_to is NOT NULL\n",
    "               \n",
    "         '''\n",
    "# вывести результат\n",
    "print('количество вакансий:', zapr(query)['count'].iloc[0])"
   ]
  },
  {
   "cell_type": "markdown",
   "metadata": {},
   "source": [
    "### Вывод\n",
    "Мы нашли количество вакансий: $24073$ в которых заполнено хотя бы одно из двух полей с зарплатой\n",
    "\n",
    "У нас много ячеек с неуказанной зарплатой почти половина"
   ]
  },
  {
   "cell_type": "markdown",
   "metadata": {},
   "source": [
    "### 4.3\n",
    "средние значения для нижней и верхней границы зарплатной вилки. Округлите значения до целого числа"
   ]
  },
  {
   "cell_type": "code",
   "execution_count": 67,
   "metadata": {},
   "outputs": [
    {
     "name": "stdout",
     "output_type": "stream",
     "text": [
      "средние значения нижней границы зарплаты: 71065.0\n",
      "средние значения верхней границы зарплаты: 110537.0\n"
     ]
    }
   ],
   "source": [
    "# код запроса представляет из себя строковую переменную\n",
    "# Применяем агрегирующую функцию AVG которая высчитавает средние значения ячеек не учитывая ячейки с NULL\n",
    "query = f'''select ROUND(AVG(salary_from)) AS AVG_MIN,\n",
    "                    ROUND(AVG(salary_to)) AS AVG_MAX\n",
    "            from VACANCIES     \n",
    "         '''\n",
    "# вывести результат\n",
    "print ('средние значения нижней границы зарплаты:',zapr(query).iloc[0,0])\n",
    "print ('средние значения верхней границы зарплаты:',zapr(query).iloc[0,1])"
   ]
  },
  {
   "cell_type": "markdown",
   "metadata": {},
   "source": [
    "### Вывод\n",
    "Мы нашли средние значения нижней границы зарплаты: $71065.0$ , средние значения верхней границы зарплаты: $110537.0$\n",
    "\n",
    "Мы можем ориентироваться примерно на зарплату в этом диапозоне\n",
    "\n",
    "Интересно помотрель минимальные и максимальные значениях в этих границах"
   ]
  },
  {
   "cell_type": "markdown",
   "metadata": {},
   "source": [
    "### 4.4\n",
    "Запрос, который выведет количество вакансий для каждого сочетания типа рабочего графика (schedule) и типа трудоустройства (employment), используемого в вакансиях. Какая пара находится на втором месте по популярности"
   ]
  },
  {
   "cell_type": "code",
   "execution_count": 68,
   "metadata": {},
   "outputs": [
    {
     "data": {
      "text/html": [
       "<div>\n",
       "<style scoped>\n",
       "    .dataframe tbody tr th:only-of-type {\n",
       "        vertical-align: middle;\n",
       "    }\n",
       "\n",
       "    .dataframe tbody tr th {\n",
       "        vertical-align: top;\n",
       "    }\n",
       "\n",
       "    .dataframe thead th {\n",
       "        text-align: right;\n",
       "    }\n",
       "</style>\n",
       "<table border=\"1\" class=\"dataframe\">\n",
       "  <thead>\n",
       "    <tr style=\"text-align: right;\">\n",
       "      <th></th>\n",
       "      <th>schedule</th>\n",
       "      <th>employment</th>\n",
       "    </tr>\n",
       "  </thead>\n",
       "  <tbody>\n",
       "    <tr>\n",
       "      <th>0</th>\n",
       "      <td>Удаленная работа</td>\n",
       "      <td>Полная занятость</td>\n",
       "    </tr>\n",
       "  </tbody>\n",
       "</table>\n",
       "</div>"
      ],
      "text/plain": [
       "           schedule        employment\n",
       "0  Удаленная работа  Полная занятость"
      ]
     },
     "execution_count": 68,
     "metadata": {},
     "output_type": "execute_result"
    }
   ],
   "source": [
    "# код запроса представляет из себя строковую переменную\n",
    "# Группируем по столбцам \"schedule\", \"employment\",\n",
    "# затем сортируем по количеству вошедших в группу строк начиная с большего количества,\n",
    "# пропускаем первое значение и выводим только второе\n",
    "query = f'''select schedule,\n",
    "                    employment\n",
    "            from VACANCIES \n",
    "            GROUP BY  schedule, employment \n",
    "            ORDER BY COUNT(id) DESC\n",
    "            OFFSET 1\n",
    "            LIMIT 1 \n",
    "         '''\n",
    "# вывести результат\n",
    "zapr(query)"
   ]
  },
  {
   "cell_type": "markdown",
   "metadata": {},
   "source": [
    "### Вывод\n",
    "Мы нашли пару которая находится на втором месте по популярности\n",
    "Удаленная работа пользуется спросом"
   ]
  },
  {
   "cell_type": "markdown",
   "metadata": {},
   "source": [
    "### 4.5\n",
    "Запрос, выводящий значения поля Требуемый опыт работы (experience) в порядке возрастания количества вакансий, в которых указан данный вариант опыта"
   ]
  },
  {
   "cell_type": "code",
   "execution_count": 69,
   "metadata": {},
   "outputs": [
    {
     "data": {
      "text/html": [
       "<div>\n",
       "<style scoped>\n",
       "    .dataframe tbody tr th:only-of-type {\n",
       "        vertical-align: middle;\n",
       "    }\n",
       "\n",
       "    .dataframe tbody tr th {\n",
       "        vertical-align: top;\n",
       "    }\n",
       "\n",
       "    .dataframe thead th {\n",
       "        text-align: right;\n",
       "    }\n",
       "</style>\n",
       "<table border=\"1\" class=\"dataframe\">\n",
       "  <thead>\n",
       "    <tr style=\"text-align: right;\">\n",
       "      <th></th>\n",
       "      <th>experience</th>\n",
       "    </tr>\n",
       "  </thead>\n",
       "  <tbody>\n",
       "    <tr>\n",
       "      <th>0</th>\n",
       "      <td>Более 6 лет</td>\n",
       "    </tr>\n",
       "    <tr>\n",
       "      <th>1</th>\n",
       "      <td>Нет опыта</td>\n",
       "    </tr>\n",
       "    <tr>\n",
       "      <th>2</th>\n",
       "      <td>От 3 до 6 лет</td>\n",
       "    </tr>\n",
       "    <tr>\n",
       "      <th>3</th>\n",
       "      <td>От 1 года до 3 лет</td>\n",
       "    </tr>\n",
       "  </tbody>\n",
       "</table>\n",
       "</div>"
      ],
      "text/plain": [
       "           experience\n",
       "0         Более 6 лет\n",
       "1           Нет опыта\n",
       "2       От 3 до 6 лет\n",
       "3  От 1 года до 3 лет"
      ]
     },
     "execution_count": 69,
     "metadata": {},
     "output_type": "execute_result"
    }
   ],
   "source": [
    "# код запроса представляет из себя строковую переменную\n",
    "# Группируем по столбцу \"experience\",\n",
    "# затем сортируем по количеству вошедших в группу строк начиная с меньшего количества\n",
    "query = f'''select experience\n",
    "            from VACANCIES \n",
    "            GROUP BY experience\n",
    "            ORDER BY COUNT(*)\n",
    "         '''\n",
    "# вывести результат\n",
    "zapr(query)"
   ]
  },
  {
   "cell_type": "markdown",
   "metadata": {},
   "source": [
    "### Вывод\n",
    "Запрос показал что минимальное количество значение требования опыта работа \"Более 6 лет\",\n",
    "максимальное значение \"От 1 года до 3 лет\"\n",
    "\n",
    "Можно сделать выводы что в большенстве с работой можно справиться с опытом работа от 1 года, но без опыта сложно будет искать работу"
   ]
  },
  {
   "cell_type": "markdown",
   "metadata": {},
   "source": [
    "### 5.1\n",
    "Запрос, который позволит узнать, какие работодатели находятся на первом и пятом месте по количеству вакансий"
   ]
  },
  {
   "cell_type": "code",
   "execution_count": 70,
   "metadata": {},
   "outputs": [
    {
     "data": {
      "text/html": [
       "<div>\n",
       "<style scoped>\n",
       "    .dataframe tbody tr th:only-of-type {\n",
       "        vertical-align: middle;\n",
       "    }\n",
       "\n",
       "    .dataframe tbody tr th {\n",
       "        vertical-align: top;\n",
       "    }\n",
       "\n",
       "    .dataframe thead th {\n",
       "        text-align: right;\n",
       "    }\n",
       "</style>\n",
       "<table border=\"1\" class=\"dataframe\">\n",
       "  <thead>\n",
       "    <tr style=\"text-align: right;\">\n",
       "      <th></th>\n",
       "      <th>name</th>\n",
       "    </tr>\n",
       "  </thead>\n",
       "  <tbody>\n",
       "    <tr>\n",
       "      <th>0</th>\n",
       "      <td>Яндекс</td>\n",
       "    </tr>\n",
       "    <tr>\n",
       "      <th>1</th>\n",
       "      <td>Газпром нефть</td>\n",
       "    </tr>\n",
       "  </tbody>\n",
       "</table>\n",
       "</div>"
      ],
      "text/plain": [
       "            name\n",
       "0         Яндекс\n",
       "1  Газпром нефть"
      ]
     },
     "execution_count": 70,
     "metadata": {},
     "output_type": "execute_result"
    }
   ],
   "source": [
    "# код запроса представляет из себя строковую переменную\n",
    "# В начале обьединяем таблици чтоб получить имена работодателя,\n",
    "# затем группируем по работадателю и\n",
    "# пременяем функцию ранжирования чтоб получить очередность вывода по количеству вакансий\n",
    "# Потом фильтруем запрос по итогу ранжирования(выводим только 1 и 5)\n",
    "query = f'''SELECT name\n",
    "            FROM\n",
    "                (select e.name,\n",
    "                    ROW_NUMBER() OVER(ORDER BY COUNT(*) DESC) AS rnk\n",
    "                from VACANCIES AS v\n",
    "                     LEFT JOIN EMPLOYERS AS e ON v.employer_id=e.id\n",
    "                GROUP BY e.name) AS d\n",
    "            WHERE rnk=1 OR rnk=5\n",
    "            ORDER BY rnk\n",
    "            \n",
    "         '''\n",
    "# вывести результат\n",
    "zapr(query)"
   ]
  },
  {
   "cell_type": "markdown",
   "metadata": {},
   "source": [
    "### Вывод\n",
    "Запрос показал на первом месте Яндекс а на пятом Газпром нефть"
   ]
  },
  {
   "cell_type": "markdown",
   "metadata": {},
   "source": [
    "### 5.2\n",
    "запрос, который для каждого региона выведет количество работодателей и вакансий в нём.\n",
    "\n",
    "Среди регионов, в которых нет вакансий, найдите тот, в котором наибольшее количество работодателей. Впишите его название в поле ниже в том виде, который вернул запрос"
   ]
  },
  {
   "cell_type": "code",
   "execution_count": 71,
   "metadata": {},
   "outputs": [
    {
     "data": {
      "text/plain": [
       "'Россия'"
      ]
     },
     "execution_count": 71,
     "metadata": {},
     "output_type": "execute_result"
    }
   ],
   "source": [
    "# код запроса представляет из себя строковую переменную\n",
    "# 1) создаём таблицу \"а\" в которой обьединяем таблицу региона с вакансиями и\n",
    "#       группируем по имени региона, подсчитывая количество вошедших строк\n",
    "# 2) создаём таблицу \"b\" в которой обьединяем таблицу региона с работадателями и\n",
    "#       группируем по имени работодателя, подсчитывая количество вошедших строк\n",
    "# 3) объединяем таблицы \"a\" и \"b\" по названию региона\n",
    "#       применяем фильтр по региону для которых нет вакансий\n",
    "#       сортируем по наибольшему количеству работадателей в регионе\n",
    "#       выводим только 1 регион из списка \n",
    "query = f'''WITH a AS\n",
    "            (select a.name AS name_v,\n",
    "                COUNT(v.id) AS count_v\n",
    "            from AREAS AS a\n",
    "                LEFT JOIN VACANCIES AS v ON v.area_id=a.id   \n",
    "            GROUP BY a.name),\n",
    "            \n",
    "            b AS\n",
    "            (SELECT a.name AS name_e,\n",
    "                COUNT(e.id) AS count_e\n",
    "            FROM AREAS AS a\n",
    "                LEFT JOIN EMPLOYERS AS e ON a.id=e.area\n",
    "            GROUP BY a.name)\n",
    "            \n",
    "            SELECT name_v AS name\n",
    "            FROM a JOIN b ON a.name_v=b.name_e\n",
    "            WHERE count_v=0\n",
    "            ORDER BY count_e DESC\n",
    "            LIMIT 1\n",
    "         '''\n",
    "# вывести результат        \n",
    "zapr(query).iloc[0,0]"
   ]
  },
  {
   "cell_type": "markdown",
   "metadata": {},
   "source": [
    "### Вывод\n",
    "Запрос показал что регион, в котором нет вакансий, но в котором наибольшее количество работодателей это Россия\n",
    "\n",
    "Странно почему Москва, Санкт-Петербург, Новосибирск не входят в регион Россия\n",
    "\n",
    "Можно сделать вывод что работадатели из России предлагают вакансии в других регионах тем самым предоставляя удаленную работу, но не в России"
   ]
  },
  {
   "cell_type": "markdown",
   "metadata": {},
   "source": [
    "### 5.3\n",
    "Для каждого работодателя посчитайте количество регионов, в которых он публикует свои вакансии.\n",
    "\n",
    "Выберите максимальное значение из получившегося списка"
   ]
  },
  {
   "cell_type": "code",
   "execution_count": 72,
   "metadata": {},
   "outputs": [
    {
     "data": {
      "text/html": [
       "<div>\n",
       "<style scoped>\n",
       "    .dataframe tbody tr th:only-of-type {\n",
       "        vertical-align: middle;\n",
       "    }\n",
       "\n",
       "    .dataframe tbody tr th {\n",
       "        vertical-align: top;\n",
       "    }\n",
       "\n",
       "    .dataframe thead th {\n",
       "        text-align: right;\n",
       "    }\n",
       "</style>\n",
       "<table border=\"1\" class=\"dataframe\">\n",
       "  <thead>\n",
       "    <tr style=\"text-align: right;\">\n",
       "      <th></th>\n",
       "      <th>name_e</th>\n",
       "      <th>count</th>\n",
       "    </tr>\n",
       "  </thead>\n",
       "  <tbody>\n",
       "    <tr>\n",
       "      <th>0</th>\n",
       "      <td>Яндекс</td>\n",
       "      <td>181</td>\n",
       "    </tr>\n",
       "    <tr>\n",
       "      <th>1</th>\n",
       "      <td>Ростелеком</td>\n",
       "      <td>152</td>\n",
       "    </tr>\n",
       "    <tr>\n",
       "      <th>2</th>\n",
       "      <td>Спецремонт</td>\n",
       "      <td>116</td>\n",
       "    </tr>\n",
       "    <tr>\n",
       "      <th>3</th>\n",
       "      <td>Поляков Денис Иванович</td>\n",
       "      <td>88</td>\n",
       "    </tr>\n",
       "    <tr>\n",
       "      <th>4</th>\n",
       "      <td>ООО ЕФИН</td>\n",
       "      <td>71</td>\n",
       "    </tr>\n",
       "    <tr>\n",
       "      <th>...</th>\n",
       "      <td>...</td>\n",
       "      <td>...</td>\n",
       "    </tr>\n",
       "    <tr>\n",
       "      <th>14761</th>\n",
       "      <td>Русская дымка</td>\n",
       "      <td>1</td>\n",
       "    </tr>\n",
       "    <tr>\n",
       "      <th>14762</th>\n",
       "      <td>Интеркросс</td>\n",
       "      <td>1</td>\n",
       "    </tr>\n",
       "    <tr>\n",
       "      <th>14763</th>\n",
       "      <td>Автономная некоммерческая организация Московск...</td>\n",
       "      <td>1</td>\n",
       "    </tr>\n",
       "    <tr>\n",
       "      <th>14764</th>\n",
       "      <td>Транспортный холдинг города Алматы</td>\n",
       "      <td>1</td>\n",
       "    </tr>\n",
       "    <tr>\n",
       "      <th>14765</th>\n",
       "      <td>СептикГрупп</td>\n",
       "      <td>1</td>\n",
       "    </tr>\n",
       "  </tbody>\n",
       "</table>\n",
       "<p>14766 rows × 2 columns</p>\n",
       "</div>"
      ],
      "text/plain": [
       "                                                  name_e  count\n",
       "0                                                 Яндекс    181\n",
       "1                                             Ростелеком    152\n",
       "2                                             Спецремонт    116\n",
       "3                                 Поляков Денис Иванович     88\n",
       "4                                              ООО ЕФИН      71\n",
       "...                                                  ...    ...\n",
       "14761                                      Русская дымка      1\n",
       "14762                                         Интеркросс      1\n",
       "14763  Автономная некоммерческая организация Московск...      1\n",
       "14764                 Транспортный холдинг города Алматы      1\n",
       "14765                                        СептикГрупп      1\n",
       "\n",
       "[14766 rows x 2 columns]"
      ]
     },
     "execution_count": 72,
     "metadata": {},
     "output_type": "execute_result"
    }
   ],
   "source": [
    "# код запроса представляет из себя строковую переменную\n",
    "# 1) создаём таблицу \"а\" в которой обьединяем таблицу вакансиями с регионами и с работадателем\n",
    "#       группируем таблицу по имени региона и именем работодателя\n",
    "# 2) Группируем таблицу по имени работодателя и\n",
    "#       подсчитываем количество вошедших строк выводим\n",
    "#       выводим имена работодателя и количество вакансий\n",
    "#       сортируем по количеству вакансий в порядку убывания\n",
    "query = f'''WITH a AS\n",
    "            (SELECT e.name AS name_e,\n",
    "                    a.name AS name_a\n",
    "            from VACANCIES AS v\n",
    "                LEFT JOIN AREAS AS a  ON v.area_id=a.id\n",
    "                LEFT JOIN EMPLOYERS AS e ON  v.employer_id=e.id\n",
    "            GROUP BY e.name, a.name\n",
    "            )\n",
    "                        \n",
    "            SELECT name_e,\n",
    "                    count(*)\n",
    "            FROM a\n",
    "            GROUP BY name_e \n",
    "            ORDER BY COUNT(*) DESC\n",
    "         '''\n",
    "# вывести результат \n",
    "zapr(query)"
   ]
  },
  {
   "cell_type": "markdown",
   "metadata": {},
   "source": [
    "### Вывод\n",
    "Запрос показал что работадатель Яндекс предлагает больше всех вакансий в различных регионах \n",
    "\n",
    "Компания Яндекс является развивающейся и развивает разные регионы\n",
    "\n",
    "Интересно посмотреть какое количество видов вакансий предлагает Яндекс"
   ]
  },
  {
   "cell_type": "markdown",
   "metadata": {},
   "source": [
    "### 5.4\n",
    "запрос для подсчёта количества работодателей, у которых не указана сфера деятельности"
   ]
  },
  {
   "cell_type": "code",
   "execution_count": 73,
   "metadata": {},
   "outputs": [
    {
     "name": "stdout",
     "output_type": "stream",
     "text": [
      "количества работодателей, у которых не указана сфера деятельности: 8419\n"
     ]
    }
   ],
   "source": [
    "# код запроса представляет из себя строковую переменную\n",
    "# обьединяем таблицу работадателем с таблицей вид деятельности\n",
    "# выбираем тех у которых не указан вид деятельности\n",
    "# выполняем подсчет вошедших работодателей\n",
    "query = f'''SELECT COUNT(id)\n",
    "            from EMPLOYERS AS e\n",
    "                LEFT JOIN EMPLOYERS_INDUSTRIES AS ei  ON e.id=ei.employer_id\n",
    "            WHERE industry_id is NULL\n",
    "        '''\n",
    "# вывод результата\n",
    "print ('количества работодателей, у которых не указана сфера деятельности:',zapr(query)['count'].iloc[0])"
   ]
  },
  {
   "cell_type": "markdown",
   "metadata": {},
   "source": [
    "### Вывод\n",
    "Запрос показал что количества работодателей, у которых не указана сфера деятельности: 8419\n",
    "\n",
    "Значит они не знают к какой сфере деятеьности отнести себя или настолько разностаронни что указывать сферу деятельности бесполезно"
   ]
  },
  {
   "cell_type": "markdown",
   "metadata": {},
   "source": [
    "### 5.5\n",
    "запрос, чтобы узнать название компании, находящейся на третьем месте в алфавитном списке (по названию) компаний, у которых указано четыре сферы деятельности"
   ]
  },
  {
   "cell_type": "code",
   "execution_count": 74,
   "metadata": {},
   "outputs": [
    {
     "name": "stdout",
     "output_type": "stream",
     "text": [
      "название компании, находящейся на третьем месте в алфавитном списке: 2ГИС\n"
     ]
    }
   ],
   "source": [
    "# код запроса представляет из себя строковую переменную\n",
    "# обьединяем таблицу работадателем с таблицей вид деятельности\n",
    "# удаляем строки в которых нет вида деятельности\n",
    "# группируем по имени работадателя\n",
    "# фильтруем оставить только тех у которых 4 вида деятельности\n",
    "# сортируем в порядке алфавита и выводим только 3 в списки\n",
    "query = f'''SELECT e.name\n",
    "            from EMPLOYERS AS e\n",
    "                LEFT JOIN EMPLOYERS_INDUSTRIES AS ei  ON e.id=ei.employer_id\n",
    "            WHERE ei.industry_id is NOT NULL\n",
    "            GROUP BY e.name\n",
    "            HAVING COUNT(DISTINCT ei.industry_id)=4\n",
    "            ORDER BY e.name\n",
    "            OFFSET 2 LIMIT 1\n",
    "        '''\n",
    "# вывод результата\n",
    "print('название компании, находящейся на третьем месте в алфавитном списке:', zapr(query).iloc[0,0])"
   ]
  },
  {
   "cell_type": "markdown",
   "metadata": {},
   "source": [
    "### Вывод\n",
    "Запрос показал что компании, находящейся на третьем месте в алфавитном списке с четырьмя сферами деятельности это: 2ГИС"
   ]
  },
  {
   "cell_type": "markdown",
   "metadata": {},
   "source": [
    "### 5.6\n",
    "запроса выясните, у какого количества работодателей в качестве сферы деятельности указана «Разработка программного обеспечения»"
   ]
  },
  {
   "cell_type": "code",
   "execution_count": 75,
   "metadata": {},
   "outputs": [
    {
     "name": "stdout",
     "output_type": "stream",
     "text": [
      "количества работодателей в качестве сферы деятельности указана «Разработка программного обеспечения» 3553\n"
     ]
    }
   ],
   "source": [
    "# код запроса представляет из себя строковую переменную\n",
    "# обьединяем таблицу работадателем с таблицей вид деятельности и\n",
    "# с таблицей названием деятельности\n",
    "# фильтруем по 'Разработка программного обеспечения'\n",
    "# выводим количества вошедших в нашу таблицу\n",
    "query = f'''SELECT COUNT(e.id)                   \n",
    "            from EMPLOYERS AS e\n",
    "                LEFT JOIN EMPLOYERS_INDUSTRIES AS ei  ON e.id=ei.employer_id\n",
    "                LEFT JOIN INDUSTRIES AS i ON i.id=ei.industry_id\n",
    "            WHERE i.name='Разработка программного обеспечения'\n",
    "        '''\n",
    "# Вывод результата \n",
    "print('количества работодателей в качестве сферы деятельности указана «Разработка программного обеспечения»', zapr(query)['count'].iloc[0])"
   ]
  },
  {
   "cell_type": "markdown",
   "metadata": {},
   "source": [
    "### Вывод\n",
    "Запрос показал что количество работодателей в качестве сферы деятельности указана «Разработка программного обеспечения» 3553\n",
    "\n",
    "Это 7% от всех вакансий и это наши потонциальные работодатели"
   ]
  },
  {
   "cell_type": "markdown",
   "metadata": {},
   "source": [
    "### 5.7\n",
    "Для компании «Яндекс» выведите список регионов-миллионников , в которых представлены вакансии компании, вместе с количеством вакансий в этих регионах. Также добавьте строку Total с общим количеством вакансий компании, собранных в этой таблице"
   ]
  },
  {
   "cell_type": "code",
   "execution_count": 76,
   "metadata": {},
   "outputs": [
    {
     "data": {
      "text/html": [
       "<div>\n",
       "<style scoped>\n",
       "    .dataframe tbody tr th:only-of-type {\n",
       "        vertical-align: middle;\n",
       "    }\n",
       "\n",
       "    .dataframe tbody tr th {\n",
       "        vertical-align: top;\n",
       "    }\n",
       "\n",
       "    .dataframe thead th {\n",
       "        text-align: right;\n",
       "    }\n",
       "</style>\n",
       "<table border=\"1\" class=\"dataframe\">\n",
       "  <thead>\n",
       "    <tr style=\"text-align: right;\">\n",
       "      <th></th>\n",
       "      <th>name</th>\n",
       "      <th>cnt</th>\n",
       "    </tr>\n",
       "  </thead>\n",
       "  <tbody>\n",
       "    <tr>\n",
       "      <th>0</th>\n",
       "      <td>Омск</td>\n",
       "      <td>21.0</td>\n",
       "    </tr>\n",
       "    <tr>\n",
       "      <th>1</th>\n",
       "      <td>Челябинск</td>\n",
       "      <td>22.0</td>\n",
       "    </tr>\n",
       "    <tr>\n",
       "      <th>2</th>\n",
       "      <td>Красноярск</td>\n",
       "      <td>23.0</td>\n",
       "    </tr>\n",
       "    <tr>\n",
       "      <th>3</th>\n",
       "      <td>Волгоград</td>\n",
       "      <td>24.0</td>\n",
       "    </tr>\n",
       "    <tr>\n",
       "      <th>4</th>\n",
       "      <td>Казань</td>\n",
       "      <td>25.0</td>\n",
       "    </tr>\n",
       "    <tr>\n",
       "      <th>5</th>\n",
       "      <td>Пермь</td>\n",
       "      <td>25.0</td>\n",
       "    </tr>\n",
       "    <tr>\n",
       "      <th>6</th>\n",
       "      <td>Ростов-на-Дону</td>\n",
       "      <td>25.0</td>\n",
       "    </tr>\n",
       "    <tr>\n",
       "      <th>7</th>\n",
       "      <td>Самара</td>\n",
       "      <td>26.0</td>\n",
       "    </tr>\n",
       "    <tr>\n",
       "      <th>8</th>\n",
       "      <td>Уфа</td>\n",
       "      <td>26.0</td>\n",
       "    </tr>\n",
       "    <tr>\n",
       "      <th>9</th>\n",
       "      <td>Краснодар</td>\n",
       "      <td>30.0</td>\n",
       "    </tr>\n",
       "    <tr>\n",
       "      <th>10</th>\n",
       "      <td>Воронеж</td>\n",
       "      <td>32.0</td>\n",
       "    </tr>\n",
       "    <tr>\n",
       "      <th>11</th>\n",
       "      <td>Новосибирск</td>\n",
       "      <td>35.0</td>\n",
       "    </tr>\n",
       "    <tr>\n",
       "      <th>12</th>\n",
       "      <td>Нижний Новгород</td>\n",
       "      <td>36.0</td>\n",
       "    </tr>\n",
       "    <tr>\n",
       "      <th>13</th>\n",
       "      <td>Екатеринбург</td>\n",
       "      <td>39.0</td>\n",
       "    </tr>\n",
       "    <tr>\n",
       "      <th>14</th>\n",
       "      <td>Санкт-Петербург</td>\n",
       "      <td>42.0</td>\n",
       "    </tr>\n",
       "    <tr>\n",
       "      <th>15</th>\n",
       "      <td>Москва</td>\n",
       "      <td>54.0</td>\n",
       "    </tr>\n",
       "    <tr>\n",
       "      <th>16</th>\n",
       "      <td>Total</td>\n",
       "      <td>485.0</td>\n",
       "    </tr>\n",
       "  </tbody>\n",
       "</table>\n",
       "</div>"
      ],
      "text/plain": [
       "               name    cnt\n",
       "0              Омск   21.0\n",
       "1         Челябинск   22.0\n",
       "2        Красноярск   23.0\n",
       "3         Волгоград   24.0\n",
       "4            Казань   25.0\n",
       "5             Пермь   25.0\n",
       "6    Ростов-на-Дону   25.0\n",
       "7            Самара   26.0\n",
       "8               Уфа   26.0\n",
       "9         Краснодар   30.0\n",
       "10          Воронеж   32.0\n",
       "11      Новосибирск   35.0\n",
       "12  Нижний Новгород   36.0\n",
       "13     Екатеринбург   39.0\n",
       "14  Санкт-Петербург   42.0\n",
       "15           Москва   54.0\n",
       "16            Total  485.0"
      ]
     },
     "execution_count": 76,
     "metadata": {},
     "output_type": "execute_result"
    }
   ],
   "source": [
    "# Формируем список регионов-миллионников\n",
    "million_cities = ['Москва', 'Санкт-Петербург','Новосибирск', 'Екатеринбург','Нижний Новгород','Казань', 'Челябинск',\n",
    "                  'Омск', 'Самара', 'Ростов-на-Дону', 'Краснодар', 'Уфа', 'Красноярск', 'Пермь', 'Воронеж','Волгоград']\n",
    "list_str=\"'\"+\"','\".join(million_cities)+\"'\"\n",
    "\n",
    "# код запроса представляет из себя строковую переменную\n",
    "# 1) создаём таблицу \"yande\" \n",
    "#     объединяем таблицу вакансий с регионами и с работадателем\n",
    "#     применяем фильтр по \"Яндекс\" и регионов-миллионников\n",
    "#     группируем по названию региона\n",
    "#     подсчитываем количество строк вошедших в группы\n",
    "# 2) выводим название региона\n",
    "#      сортируем по количесту вакансий в регионе а затем по региону\n",
    "# 3) присоединяем таблицу с общим количеством вакансий в регионов-миллионников\n",
    "query = f'''WITH yande AS\n",
    "            (SELECT a.name,\n",
    "                    COUNT(*) AS cnt                   \n",
    "            from VACANCIES AS v\n",
    "                LEFT JOIN AREAS AS a  ON v.area_id=a.id\n",
    "                LEFT JOIN EMPLOYERS AS e  ON v.employer_id=e.id\n",
    "            WHERE e.name='Яндекс' AND a.name in ({list_str})\n",
    "            GROUP BY a.name)\n",
    "            \n",
    "            (SELECT *\n",
    "            FROM yande\n",
    "            ORDER BY 2,1)\n",
    "            UNION ALL\n",
    "            SELECT 'Total',SUM(cnt)\n",
    "            FROM yande\n",
    "        '''\n",
    "# вывод результата\n",
    "zapr(query)"
   ]
  },
  {
   "cell_type": "markdown",
   "metadata": {},
   "source": [
    "### Вывод\n",
    "Наш запрос показал для компании «Яндекс» количество вакансий в списке регионов-миллионников\n",
    "\n",
    "Тем самым можем увидить что компании «Яндекс» является разносторонней и предлагает как минимум 21 специальность в регионе-миллионнике"
   ]
  },
  {
   "cell_type": "markdown",
   "metadata": {},
   "source": [
    "### 6.1\n",
    "Сколько вакансий имеет отношение к данным"
   ]
  },
  {
   "cell_type": "code",
   "execution_count": 77,
   "metadata": {},
   "outputs": [
    {
     "name": "stdout",
     "output_type": "stream",
     "text": [
      "вакансий имеет отношение к данным: 1771\n"
     ]
    }
   ],
   "source": [
    "# код запроса представляет из себя строковую переменную\n",
    "# фильтруем и ведем подсчет вошедших в нашу выборку\n",
    "query = f'''SELECT COUNT(id)                \n",
    "            from VACANCIES\n",
    "            WHERE name iLIKE '%data%' or name iLIKE '%данн%'            \n",
    "        '''\n",
    "# Вывод результата\n",
    "print('вакансий имеет отношение к данным:',zapr(query)['count'].iloc[0])"
   ]
  },
  {
   "cell_type": "markdown",
   "metadata": {},
   "source": [
    "### Вывод\n",
    "Количество вакансий имеет отношение к данным: $1771$\n",
    "\n",
    "Очень мало вакансий"
   ]
  },
  {
   "cell_type": "markdown",
   "metadata": {},
   "source": [
    "### 6.2\n",
    "Сколько есть подходящих вакансий для начинающего дата-сайентиста?\n",
    "\n",
    "Будем считать вакансиями для дата-сайентистов такие, в названии которых есть хотя бы одно из следующих сочетаний"
   ]
  },
  {
   "cell_type": "markdown",
   "metadata": {},
   "source": [
    "# ВЕРСИЯ 2,0"
   ]
  },
  {
   "cell_type": "code",
   "execution_count": 78,
   "metadata": {},
   "outputs": [
    {
     "name": "stdout",
     "output_type": "stream",
     "text": [
      "подходящих вакансий для начинающего дата-сайентиста: 51\n"
     ]
    }
   ],
   "source": [
    "# создаём список для фильтра вакансий\n",
    "pro_list =[\"data scientist\",\"data science\",\"исследователь данных\",\"machine learning\"]\n",
    "str_list=\"name iLIKE '%машинн%обучен%' OR ( name LIKE '%ML%' AND name NOT LIKE '%HTML%' )\"\n",
    "for index in pro_list:\n",
    "    str_list+=f\" OR name iLIKE '%{index}%'\"\n",
    "# создаём список для фильтра опыт работы или начинающего  \n",
    "str_jun=\"( experience='Нет опыта' OR employment='Стажировка' OR name iLIKE '%junior%' )\"\n",
    "\n",
    "# код запроса представляет из себя строковую переменную\n",
    "# применяем фильтр и ведем подсчет вошедших вакансий\n",
    "query = f'''SELECT COUNT(id)                  \n",
    "            from VACANCIES\n",
    "            WHERE ({str_list} ) AND {str_jun}\n",
    "        '''\n",
    "# Вывод результата\n",
    "print('подходящих вакансий для начинающего дата-сайентиста:',zapr(query)['count'].iloc[0])"
   ]
  },
  {
   "cell_type": "markdown",
   "metadata": {},
   "source": [
    "### Вывод\n",
    "Количество подходящих вакансий для начинающего дата-сайентиста: $51$\n",
    "\n",
    "Очени мало вакансий и значит высокая конкуренция"
   ]
  },
  {
   "cell_type": "markdown",
   "metadata": {},
   "source": [
    "# ВЕРСИЯ 3,0"
   ]
  },
  {
   "cell_type": "code",
   "execution_count": 79,
   "metadata": {},
   "outputs": [],
   "source": [
    "str_list=\"name iLIKE any('{%data scientist%, %data science%, %исследователь данных%, %machine learning%, %машинн%обучен%}') OR ( name LIKE '%ML%' AND name NOT LIKE '%HTML%' )\"\n",
    "  \n",
    "str_jun=\"( experience='Нет опыта' OR employment='Стажировка' OR name iLIKE '%junior%' )\"\n",
    "\n",
    "query = f'''SELECT COUNT(id)                  \n",
    "            FROM public.vacancies\n",
    "            WHERE ({str_list}) AND {str_jun}\n",
    "        '''"
   ]
  },
  {
   "cell_type": "markdown",
   "metadata": {},
   "source": [
    "### 6.3\n",
    "Сколько есть вакансий для DS, в которых в качестве ключевого навыка указан SQL или postgres"
   ]
  },
  {
   "cell_type": "code",
   "execution_count": 80,
   "metadata": {},
   "outputs": [
    {
     "name": "stdout",
     "output_type": "stream",
     "text": [
      "вакансий для дата-сайентиста со знанием SQL: 201\n"
     ]
    }
   ],
   "source": [
    "# создаём список для фильтра вакансий\n",
    "pro_list =[\"data scientist\",\"data science\",\"исследователь данных\",\"machine learning\",\"машинн%обучен\"]\n",
    "str_list=\"( name LIKE '%ML%' AND name NOT LIKE '%HTML%' )\"\n",
    "for index in pro_list:\n",
    "    str_list+=f\" OR name iLIKE '%{index}%'\"\n",
    "# создаём список для фильтра по ключевому навыку \n",
    "str_jun=\"( key_skills LIKE '%SQL%' OR key_skills LIKE '%postgres%' )\"\n",
    "# код запроса представляет из себя строковую переменную\n",
    "# применяем фильтр и ведем подсчет вошедших вакансий\n",
    "query = f'''SELECT COUNT(id)                 \n",
    "            FROM vacancies\n",
    "            WHERE ({str_list}) AND {str_jun}\n",
    "       '''\n",
    "# вывод результата\n",
    "print('вакансий для дата-сайентиста со знанием SQL:',zapr(query)['count'].iloc[0])      "
   ]
  },
  {
   "cell_type": "markdown",
   "metadata": {},
   "source": [
    "### Вывод\n",
    "Количество вакансий для дата-сайентиста со знанием SQL: $201$\n",
    "\n",
    "Знание SQL один из важных навыков \n",
    "\n",
    "## Задание не принимает так как допущена ошибка в модуле написано в Пачке принимает 229"
   ]
  },
  {
   "cell_type": "markdown",
   "metadata": {},
   "source": [
    "### 6.4\n",
    "\n",
    "С помощью запроса, аналогичного предыдущему, проверьте, насколько популярен Python в требованиях работодателей к DS. Вычислите количество вакансий, в которых в качестве ключевого навыка указан Python."
   ]
  },
  {
   "cell_type": "code",
   "execution_count": 81,
   "metadata": {},
   "outputs": [
    {
     "name": "stdout",
     "output_type": "stream",
     "text": [
      "вакансий для дата-сайентиста со знанием Python: 351\n"
     ]
    }
   ],
   "source": [
    "# создаём список для фильтра вакансий\n",
    "pro_list =[\"data scientist\",\"data science\",\"исследователь данных\",\"machine learning\",\"машинн%обучен\"]\n",
    "str_list=\"( name LIKE '%ML%' AND name NOT LIKE '%HTML%' )\"\n",
    "for index in pro_list:\n",
    "    str_list+=f\" OR name iLIKE '%{index}%'\"\n",
    "# создаём список для фильтра по ключевому навыку   \n",
    "str_jun=\"( key_skills ilike '%Python%' )\"\n",
    "# код запроса представляет из себя строковую переменную\n",
    "# применяем фильтр и ведем подсчет вошедших вакансий\n",
    "query = f'''SELECT COUNT(name)                 \n",
    "            FROM vacancies\n",
    "            WHERE ({str_list}) AND {str_jun}\n",
    "        '''\n",
    "# вывод результата \n",
    "print('вакансий для дата-сайентиста со знанием Python:',zapr(query)['count'].iloc[0])   "
   ]
  },
  {
   "cell_type": "markdown",
   "metadata": {},
   "source": [
    "### Вывод\n",
    "Количество вакансий для дата-сайентиста со знанием Python: $351$\n",
    "\n",
    "Знание Python это очень важный навык при трудоустройстве больше 60% нужно знание Python в работе\n",
    "\n",
    "## Задание не принимает так как допущена ошибка в модуле написано в Пачке принимает 357"
   ]
  },
  {
   "cell_type": "markdown",
   "metadata": {},
   "source": [
    "### 6.5\n",
    "Сколько ключевых навыков в среднем указывают в вакансиях для DS"
   ]
  },
  {
   "cell_type": "code",
   "execution_count": 82,
   "metadata": {},
   "outputs": [
    {
     "name": "stdout",
     "output_type": "stream",
     "text": [
      "Сколько ключевых навыков: 6.41\n"
     ]
    }
   ],
   "source": [
    "# создаём список для фильтра вакансий\n",
    "pro_list =[\"data scientist\",\"data science\",\"исследователь данных\",\"machine learning\",\"машинн%обучен\"]\n",
    "str_list=\"( name LIKE '%ML%' AND name NOT LIKE '%HTML%' )\"\n",
    "for index in pro_list:\n",
    "    str_list+=f\" OR name iLIKE '%{index}%'\"\n",
    "\n",
    "# код запроса представляет из себя строковую переменную\n",
    "# применяем фильтр и исключаем NULL\n",
    "# вычисляем длинну сткоки и\n",
    "# вычитаем длинну строки без учёта \"\\t\" тем самым получаем сколько у нас разделителей навыков и +1 \n",
    "# вычисляем среднее значение, округляем\n",
    "query = f'''SELECT ROUND(AVG(length(key_skills) - length(replace(key_skills,'\\t','')) +1),2)             \n",
    "            FROM vacancies\n",
    "            WHERE ({str_list}) AND key_skills IS NOT NULL\n",
    "        '''\n",
    "# вывод результата\n",
    "print('Сколько ключевых навыков:',zapr(query).iloc[0,0])  "
   ]
  },
  {
   "cell_type": "markdown",
   "metadata": {},
   "source": [
    "### Вывод\n",
    "Количество ключевых навыков: $6.41$\n",
    "\n",
    "У нас имеются знания Python и SQL надо как минимум еще 4 навыка \n",
    "\n",
    "Интересно узнать специальность с минимальным набором навыков и их количество"
   ]
  },
  {
   "cell_type": "markdown",
   "metadata": {},
   "source": [
    "### 6.6\n",
    "Напишите запрос, позволяющий вычислить, какую зарплату для DS в среднем указывают для каждого типа требуемого опыта (уникальное значение из поля experience)"
   ]
  },
  {
   "cell_type": "code",
   "execution_count": 83,
   "metadata": {},
   "outputs": [
    {
     "data": {
      "text/html": [
       "<div>\n",
       "<style scoped>\n",
       "    .dataframe tbody tr th:only-of-type {\n",
       "        vertical-align: middle;\n",
       "    }\n",
       "\n",
       "    .dataframe tbody tr th {\n",
       "        vertical-align: top;\n",
       "    }\n",
       "\n",
       "    .dataframe thead th {\n",
       "        text-align: right;\n",
       "    }\n",
       "</style>\n",
       "<table border=\"1\" class=\"dataframe\">\n",
       "  <thead>\n",
       "    <tr style=\"text-align: right;\">\n",
       "      <th></th>\n",
       "      <th>experience</th>\n",
       "      <th>round</th>\n",
       "    </tr>\n",
       "  </thead>\n",
       "  <tbody>\n",
       "    <tr>\n",
       "      <th>0</th>\n",
       "      <td>Нет опыта</td>\n",
       "      <td>74643.0</td>\n",
       "    </tr>\n",
       "    <tr>\n",
       "      <th>1</th>\n",
       "      <td>От 1 года до 3 лет</td>\n",
       "      <td>139675.0</td>\n",
       "    </tr>\n",
       "    <tr>\n",
       "      <th>2</th>\n",
       "      <td>От 3 до 6 лет</td>\n",
       "      <td>243115.0</td>\n",
       "    </tr>\n",
       "  </tbody>\n",
       "</table>\n",
       "</div>"
      ],
      "text/plain": [
       "           experience     round\n",
       "0           Нет опыта   74643.0\n",
       "1  От 1 года до 3 лет  139675.0\n",
       "2       От 3 до 6 лет  243115.0"
      ]
     },
     "execution_count": 83,
     "metadata": {},
     "output_type": "execute_result"
    }
   ],
   "source": [
    "#  создаём список для фильтра вакансий\n",
    "pro_list =[\"data scientist\",\"data science\",\"исследователь данных\",\"machine learning\",\"машинн%обучен\"]\n",
    "str_list=\"( name LIKE '%ML%' AND name NOT LIKE '%HTML%' )\"\n",
    "for index in pro_list:\n",
    "    str_list+=f\" OR name iLIKE '%{index}%'\"\n",
    "\n",
    "# код запроса представляет из себя строковую переменную\n",
    "# фильтруем по вакансии и убираем если зарплата не заполнена в 2 ячейках\n",
    "# группируем по опыту работы\n",
    "# с помощью функции \"COALESCE\" меняем ячейку с NULL на ячейку с заполненой зарплатой, \n",
    "# а фильток отсек условия что сразу в 2 ячейках NULL\n",
    "# суммируем делим на 2 и находим среднее значение и округляем\n",
    "query = f'''SELECT experience, ROUND(AVG((COALESCE(salary_from , salary_to)+COALESCE(salary_to , salary_from))/2))            \n",
    "            FROM vacancies\n",
    "            WHERE ({str_list}) AND (salary_from IS NOT NULL OR salary_to IS NOT NULL)\n",
    "            GROUP BY experience\n",
    "        '''\n",
    "# вывод результата\n",
    "zapr(query)  "
   ]
  },
  {
   "cell_type": "markdown",
   "metadata": {},
   "source": [
    "### Вывод\n",
    "Интересная тенденция зарплата растет в геометрической прогрессии с опытом"
   ]
  },
  {
   "cell_type": "markdown",
   "metadata": {},
   "source": [
    "# Дополнительно"
   ]
  },
  {
   "cell_type": "markdown",
   "metadata": {},
   "source": [
    "# *1\n",
    "# Каких вакансий много?"
   ]
  },
  {
   "cell_type": "code",
   "execution_count": 84,
   "metadata": {},
   "outputs": [
    {
     "data": {
      "text/html": [
       "<div>\n",
       "<style scoped>\n",
       "    .dataframe tbody tr th:only-of-type {\n",
       "        vertical-align: middle;\n",
       "    }\n",
       "\n",
       "    .dataframe tbody tr th {\n",
       "        vertical-align: top;\n",
       "    }\n",
       "\n",
       "    .dataframe thead th {\n",
       "        text-align: right;\n",
       "    }\n",
       "</style>\n",
       "<table border=\"1\" class=\"dataframe\">\n",
       "  <thead>\n",
       "    <tr style=\"text-align: right;\">\n",
       "      <th></th>\n",
       "      <th>name</th>\n",
       "      <th>cnt</th>\n",
       "    </tr>\n",
       "  </thead>\n",
       "  <tbody>\n",
       "    <tr>\n",
       "      <th>0</th>\n",
       "      <td>Системный администратор</td>\n",
       "      <td>1761</td>\n",
       "    </tr>\n",
       "    <tr>\n",
       "      <th>1</th>\n",
       "      <td>Программист 1С</td>\n",
       "      <td>1153</td>\n",
       "    </tr>\n",
       "    <tr>\n",
       "      <th>2</th>\n",
       "      <td>Бизнес-аналитик</td>\n",
       "      <td>488</td>\n",
       "    </tr>\n",
       "    <tr>\n",
       "      <th>3</th>\n",
       "      <td>Специалист технической поддержки</td>\n",
       "      <td>457</td>\n",
       "    </tr>\n",
       "    <tr>\n",
       "      <th>4</th>\n",
       "      <td>Системный аналитик</td>\n",
       "      <td>432</td>\n",
       "    </tr>\n",
       "    <tr>\n",
       "      <th>...</th>\n",
       "      <td>...</td>\n",
       "      <td>...</td>\n",
       "    </tr>\n",
       "    <tr>\n",
       "      <th>21218</th>\n",
       "      <td>Генеральный менеджер Проекта</td>\n",
       "      <td>1</td>\n",
       "    </tr>\n",
       "    <tr>\n",
       "      <th>21219</th>\n",
       "      <td>Ведущий инженер-программист (1С:УПП)</td>\n",
       "      <td>1</td>\n",
       "    </tr>\n",
       "    <tr>\n",
       "      <th>21220</th>\n",
       "      <td>Главный специалист IT направления</td>\n",
       "      <td>1</td>\n",
       "    </tr>\n",
       "    <tr>\n",
       "      <th>21221</th>\n",
       "      <td>Сотрудник Отдела информационных систем</td>\n",
       "      <td>1</td>\n",
       "    </tr>\n",
       "    <tr>\n",
       "      <th>21222</th>\n",
       "      <td>Старший финансовый менеджер</td>\n",
       "      <td>1</td>\n",
       "    </tr>\n",
       "  </tbody>\n",
       "</table>\n",
       "<p>21223 rows × 2 columns</p>\n",
       "</div>"
      ],
      "text/plain": [
       "                                         name   cnt\n",
       "0                     Системный администратор  1761\n",
       "1                              Программист 1С  1153\n",
       "2                             Бизнес-аналитик   488\n",
       "3            Специалист технической поддержки   457\n",
       "4                          Системный аналитик   432\n",
       "...                                       ...   ...\n",
       "21218            Генеральный менеджер Проекта     1\n",
       "21219    Ведущий инженер-программист (1С:УПП)     1\n",
       "21220       Главный специалист IT направления     1\n",
       "21221  Сотрудник Отдела информационных систем     1\n",
       "21222             Старший финансовый менеджер     1\n",
       "\n",
       "[21223 rows x 2 columns]"
      ]
     },
     "execution_count": 84,
     "metadata": {},
     "output_type": "execute_result"
    }
   ],
   "source": [
    "# код запроса представляет из себя строковую переменную\n",
    "# группируем по вакансиям\n",
    "# вывести количество строк колонки id\n",
    "\n",
    "query = f'''SELECT name,\n",
    "                    COUNT(id) AS cnt\n",
    "            from VACANCIES\n",
    "            GROUP BY name\n",
    "            ORDER BY 2 DESC           \n",
    "        '''\n",
    "# вывести результат\n",
    "zapr(query )"
   ]
  },
  {
   "cell_type": "markdown",
   "metadata": {},
   "source": [
    "### Вывод \n",
    "Много специальностей по Системный администратор, Программист 1С, Бизнес-аналитик\n",
    "\n",
    "Нам как дата-сайентиста это не подходит применим фильтр"
   ]
  },
  {
   "cell_type": "code",
   "execution_count": 85,
   "metadata": {},
   "outputs": [
    {
     "data": {
      "text/html": [
       "<div>\n",
       "<style scoped>\n",
       "    .dataframe tbody tr th:only-of-type {\n",
       "        vertical-align: middle;\n",
       "    }\n",
       "\n",
       "    .dataframe tbody tr th {\n",
       "        vertical-align: top;\n",
       "    }\n",
       "\n",
       "    .dataframe thead th {\n",
       "        text-align: right;\n",
       "    }\n",
       "</style>\n",
       "<table border=\"1\" class=\"dataframe\">\n",
       "  <thead>\n",
       "    <tr style=\"text-align: right;\">\n",
       "      <th></th>\n",
       "      <th>name</th>\n",
       "      <th>cnt</th>\n",
       "    </tr>\n",
       "  </thead>\n",
       "  <tbody>\n",
       "    <tr>\n",
       "      <th>0</th>\n",
       "      <td>Data Scientist</td>\n",
       "      <td>55</td>\n",
       "    </tr>\n",
       "    <tr>\n",
       "      <th>1</th>\n",
       "      <td>Senior Data Scientist</td>\n",
       "      <td>21</td>\n",
       "    </tr>\n",
       "    <tr>\n",
       "      <th>2</th>\n",
       "      <td>C++ разработчик (QML)</td>\n",
       "      <td>10</td>\n",
       "    </tr>\n",
       "    <tr>\n",
       "      <th>3</th>\n",
       "      <td>ML Engineer/ Data Scientist (WAF)</td>\n",
       "      <td>9</td>\n",
       "    </tr>\n",
       "    <tr>\n",
       "      <th>4</th>\n",
       "      <td>Junior Data Scientist (Валидация скоринговых м...</td>\n",
       "      <td>9</td>\n",
       "    </tr>\n",
       "    <tr>\n",
       "      <th>...</th>\n",
       "      <td>...</td>\n",
       "      <td>...</td>\n",
       "    </tr>\n",
       "    <tr>\n",
       "      <th>281</th>\n",
       "      <td>Data scientist (Remote)</td>\n",
       "      <td>1</td>\n",
       "    </tr>\n",
       "    <tr>\n",
       "      <th>282</th>\n",
       "      <td>Data Scientist (Remote)</td>\n",
       "      <td>1</td>\n",
       "    </tr>\n",
       "    <tr>\n",
       "      <th>283</th>\n",
       "      <td>Data Scientist (Research)</td>\n",
       "      <td>1</td>\n",
       "    </tr>\n",
       "    <tr>\n",
       "      <th>284</th>\n",
       "      <td>Data Scientist - Risk Models Developer</td>\n",
       "      <td>1</td>\n",
       "    </tr>\n",
       "    <tr>\n",
       "      <th>285</th>\n",
       "      <td>Data Scientist Senior (корпоративные риски)</td>\n",
       "      <td>1</td>\n",
       "    </tr>\n",
       "  </tbody>\n",
       "</table>\n",
       "<p>286 rows × 2 columns</p>\n",
       "</div>"
      ],
      "text/plain": [
       "                                                  name  cnt\n",
       "0                                       Data Scientist   55\n",
       "1                                Senior Data Scientist   21\n",
       "2                                C++ разработчик (QML)   10\n",
       "3                    ML Engineer/ Data Scientist (WAF)    9\n",
       "4    Junior Data Scientist (Валидация скоринговых м...    9\n",
       "..                                                 ...  ...\n",
       "281                            Data scientist (Remote)    1\n",
       "282                            Data Scientist (Remote)    1\n",
       "283                          Data Scientist (Research)    1\n",
       "284             Data Scientist - Risk Models Developer    1\n",
       "285        Data Scientist Senior (корпоративные риски)    1\n",
       "\n",
       "[286 rows x 2 columns]"
      ]
     },
     "execution_count": 85,
     "metadata": {},
     "output_type": "execute_result"
    }
   ],
   "source": [
    "#  создаём список для фильтра вакансий\n",
    "pro_list =[\"data scientist\",\"data science\",\"исследователь данных\",\"machine learning\",\"машинн%обучен\"]\n",
    "str_list=\"( name LIKE '%ML%' AND name NOT LIKE '%HTML%' )\"\n",
    "for index in pro_list:\n",
    "    str_list+=f\" OR name iLIKE '%{index}%'\"\n",
    "# код запроса представляет из себя строковую переменную\n",
    "#  применяем фильтр и группируем\n",
    "# вывести количество строк колонки id\n",
    "query = f'''SELECT name,\n",
    "                    COUNT(id) AS cnt\n",
    "            from VACANCIES\n",
    "            WHERE {str_list}\n",
    "            GROUP BY name\n",
    "            ORDER BY 2 DESC           \n",
    "        '''\n",
    "# вывести результат\n",
    "zapr(query )"
   ]
  },
  {
   "cell_type": "markdown",
   "metadata": {},
   "source": [
    "### Вывод\n",
    "На первом месте специальность Data Scientist"
   ]
  },
  {
   "cell_type": "markdown",
   "metadata": {},
   "source": [
    "# *2\n",
    "# Что можно сказать о рынке труда в различных городах?"
   ]
  },
  {
   "cell_type": "markdown",
   "metadata": {},
   "source": [
    "Понятно что с ростом населения будет и рост вакансий\n",
    "\n",
    "Интересно посмотреть, на гистограмме как это распределенно может увидим что-то интересное"
   ]
  },
  {
   "cell_type": "code",
   "execution_count": 86,
   "metadata": {},
   "outputs": [
    {
     "data": {
      "text/html": [
       "<div>\n",
       "<style scoped>\n",
       "    .dataframe tbody tr th:only-of-type {\n",
       "        vertical-align: middle;\n",
       "    }\n",
       "\n",
       "    .dataframe tbody tr th {\n",
       "        vertical-align: top;\n",
       "    }\n",
       "\n",
       "    .dataframe thead th {\n",
       "        text-align: right;\n",
       "    }\n",
       "</style>\n",
       "<table border=\"1\" class=\"dataframe\">\n",
       "  <thead>\n",
       "    <tr style=\"text-align: right;\">\n",
       "      <th></th>\n",
       "      <th>name</th>\n",
       "      <th>name</th>\n",
       "      <th>count</th>\n",
       "    </tr>\n",
       "  </thead>\n",
       "  <tbody>\n",
       "    <tr>\n",
       "      <th>0</th>\n",
       "      <td>Бизнес-аналитик</td>\n",
       "      <td>Москва</td>\n",
       "      <td>173</td>\n",
       "    </tr>\n",
       "    <tr>\n",
       "      <th>1</th>\n",
       "      <td>Аналитик</td>\n",
       "      <td>Москва</td>\n",
       "      <td>69</td>\n",
       "    </tr>\n",
       "    <tr>\n",
       "      <th>2</th>\n",
       "      <td>Системный администратор</td>\n",
       "      <td>Санкт-Петербург</td>\n",
       "      <td>68</td>\n",
       "    </tr>\n",
       "    <tr>\n",
       "      <th>3</th>\n",
       "      <td>Системный аналитик</td>\n",
       "      <td>Москва</td>\n",
       "      <td>59</td>\n",
       "    </tr>\n",
       "    <tr>\n",
       "      <th>4</th>\n",
       "      <td>Системный администратор</td>\n",
       "      <td>Минск</td>\n",
       "      <td>55</td>\n",
       "    </tr>\n",
       "    <tr>\n",
       "      <th>...</th>\n",
       "      <td>...</td>\n",
       "      <td>...</td>\n",
       "      <td>...</td>\n",
       "    </tr>\n",
       "    <tr>\n",
       "      <th>38769</th>\n",
       "      <td>Программист 1С-8</td>\n",
       "      <td>Барнаул</td>\n",
       "      <td>1</td>\n",
       "    </tr>\n",
       "    <tr>\n",
       "      <th>38770</th>\n",
       "      <td>Программист 1С 8.2, 8.3</td>\n",
       "      <td>Всеволожск</td>\n",
       "      <td>1</td>\n",
       "    </tr>\n",
       "    <tr>\n",
       "      <th>38771</th>\n",
       "      <td>Программист 1С 8.2, 8.3</td>\n",
       "      <td>Минск</td>\n",
       "      <td>1</td>\n",
       "    </tr>\n",
       "    <tr>\n",
       "      <th>38772</th>\n",
       "      <td>Программист 1С (8.3)</td>\n",
       "      <td>Ростов-на-Дону</td>\n",
       "      <td>1</td>\n",
       "    </tr>\n",
       "    <tr>\n",
       "      <th>38773</th>\n",
       "      <td>Программист 1С 8.3</td>\n",
       "      <td>Екатеринбург</td>\n",
       "      <td>1</td>\n",
       "    </tr>\n",
       "  </tbody>\n",
       "</table>\n",
       "<p>38774 rows × 3 columns</p>\n",
       "</div>"
      ],
      "text/plain": [
       "                          name             name  count\n",
       "0              Бизнес-аналитик           Москва    173\n",
       "1                     Аналитик           Москва     69\n",
       "2      Системный администратор  Санкт-Петербург     68\n",
       "3           Системный аналитик           Москва     59\n",
       "4      Системный администратор            Минск     55\n",
       "...                        ...              ...    ...\n",
       "38769         Программист 1С-8          Барнаул      1\n",
       "38770  Программист 1С 8.2, 8.3       Всеволожск      1\n",
       "38771  Программист 1С 8.2, 8.3            Минск      1\n",
       "38772     Программист 1С (8.3)   Ростов-на-Дону      1\n",
       "38773       Программист 1С 8.3     Екатеринбург      1\n",
       "\n",
       "[38774 rows x 3 columns]"
      ]
     },
     "execution_count": 86,
     "metadata": {},
     "output_type": "execute_result"
    }
   ],
   "source": [
    "# код запроса представляет из себя строковую переменную\n",
    "# обьеденяем таблицу вакансий и регионов \n",
    "# группируем по вакансиям и регионам\n",
    "# сосчитаем количество строк колонок\n",
    "# сортируем по количеству\n",
    "query = f'''SELECT v.name,\n",
    "                    a.name , \n",
    "                    COUNT(*)                  \n",
    "            from VACANCIES AS v\n",
    "                LEFT JOIN AREAS AS a  ON v.area_id=a.id \n",
    "            GROUP BY v.name, a.name\n",
    "            ORDER BY 3 desc      \n",
    "        '''\n",
    "# вывести результат\n",
    "zapr(query )"
   ]
  },
  {
   "cell_type": "markdown",
   "metadata": {},
   "source": [
    "### Вывод\n",
    "На первом месте Бизнес-аналитик в Москве\n",
    "Как дата-сайентиста это не подходит применим фильтр"
   ]
  },
  {
   "cell_type": "code",
   "execution_count": 87,
   "metadata": {},
   "outputs": [
    {
     "data": {
      "text/html": [
       "<div>\n",
       "<style scoped>\n",
       "    .dataframe tbody tr th:only-of-type {\n",
       "        vertical-align: middle;\n",
       "    }\n",
       "\n",
       "    .dataframe tbody tr th {\n",
       "        vertical-align: top;\n",
       "    }\n",
       "\n",
       "    .dataframe thead th {\n",
       "        text-align: right;\n",
       "    }\n",
       "</style>\n",
       "<table border=\"1\" class=\"dataframe\">\n",
       "  <thead>\n",
       "    <tr style=\"text-align: right;\">\n",
       "      <th></th>\n",
       "      <th>name</th>\n",
       "      <th>name</th>\n",
       "      <th>count</th>\n",
       "    </tr>\n",
       "  </thead>\n",
       "  <tbody>\n",
       "    <tr>\n",
       "      <th>0</th>\n",
       "      <td>Data Scientist</td>\n",
       "      <td>Москва</td>\n",
       "      <td>28</td>\n",
       "    </tr>\n",
       "    <tr>\n",
       "      <th>1</th>\n",
       "      <td>Data Scientist</td>\n",
       "      <td>Санкт-Петербург</td>\n",
       "      <td>7</td>\n",
       "    </tr>\n",
       "    <tr>\n",
       "      <th>2</th>\n",
       "      <td>Data Scientist</td>\n",
       "      <td>Алматы</td>\n",
       "      <td>6</td>\n",
       "    </tr>\n",
       "    <tr>\n",
       "      <th>3</th>\n",
       "      <td>Data scientist</td>\n",
       "      <td>Москва</td>\n",
       "      <td>5</td>\n",
       "    </tr>\n",
       "    <tr>\n",
       "      <th>4</th>\n",
       "      <td>Senior Data Scientist</td>\n",
       "      <td>Москва</td>\n",
       "      <td>5</td>\n",
       "    </tr>\n",
       "    <tr>\n",
       "      <th>5</th>\n",
       "      <td>Machine Learning Engineer</td>\n",
       "      <td>Москва</td>\n",
       "      <td>3</td>\n",
       "    </tr>\n",
       "    <tr>\n",
       "      <th>6</th>\n",
       "      <td>Machine Learning Engineer</td>\n",
       "      <td>Армения</td>\n",
       "      <td>2</td>\n",
       "    </tr>\n",
       "    <tr>\n",
       "      <th>7</th>\n",
       "      <td>Middle Data Scientist</td>\n",
       "      <td>Иннополис</td>\n",
       "      <td>2</td>\n",
       "    </tr>\n",
       "    <tr>\n",
       "      <th>8</th>\n",
       "      <td>Data Scientist</td>\n",
       "      <td>Казань</td>\n",
       "      <td>2</td>\n",
       "    </tr>\n",
       "    <tr>\n",
       "      <th>9</th>\n",
       "      <td>Data Scientist</td>\n",
       "      <td>Краснодар</td>\n",
       "      <td>2</td>\n",
       "    </tr>\n",
       "    <tr>\n",
       "      <th>10</th>\n",
       "      <td>Data Scientist в области рекомендательных систем</td>\n",
       "      <td>Москва</td>\n",
       "      <td>2</td>\n",
       "    </tr>\n",
       "    <tr>\n",
       "      <th>11</th>\n",
       "      <td>Deep Learning/Machine Learning NLP Engineer</td>\n",
       "      <td>Москва</td>\n",
       "      <td>2</td>\n",
       "    </tr>\n",
       "    <tr>\n",
       "      <th>12</th>\n",
       "      <td>Lead Data Scientist</td>\n",
       "      <td>Москва</td>\n",
       "      <td>2</td>\n",
       "    </tr>\n",
       "    <tr>\n",
       "      <th>13</th>\n",
       "      <td>Data Scientist (Middle)</td>\n",
       "      <td>Москва</td>\n",
       "      <td>2</td>\n",
       "    </tr>\n",
       "    <tr>\n",
       "      <th>14</th>\n",
       "      <td>Data Scientist (Sber AI Lab: Applied Research)</td>\n",
       "      <td>Москва</td>\n",
       "      <td>2</td>\n",
       "    </tr>\n",
       "    <tr>\n",
       "      <th>15</th>\n",
       "      <td>Middle Data Scientist</td>\n",
       "      <td>Москва</td>\n",
       "      <td>2</td>\n",
       "    </tr>\n",
       "    <tr>\n",
       "      <th>16</th>\n",
       "      <td>Middle Data Scientist (Big Data)</td>\n",
       "      <td>Москва</td>\n",
       "      <td>2</td>\n",
       "    </tr>\n",
       "    <tr>\n",
       "      <th>17</th>\n",
       "      <td>Middle/Senior Data Scientist</td>\n",
       "      <td>Москва</td>\n",
       "      <td>2</td>\n",
       "    </tr>\n",
       "    <tr>\n",
       "      <th>18</th>\n",
       "      <td>ML Engineer в области рекомендательных систем</td>\n",
       "      <td>Москва</td>\n",
       "      <td>2</td>\n",
       "    </tr>\n",
       "    <tr>\n",
       "      <th>19</th>\n",
       "      <td>ML инженер / Data Scientist</td>\n",
       "      <td>Москва</td>\n",
       "      <td>2</td>\n",
       "    </tr>\n",
       "    <tr>\n",
       "      <th>20</th>\n",
       "      <td>Middle Data Scientist</td>\n",
       "      <td>Нижний Новгород</td>\n",
       "      <td>2</td>\n",
       "    </tr>\n",
       "    <tr>\n",
       "      <th>21</th>\n",
       "      <td>Data Scientist в области рекомендательных систем</td>\n",
       "      <td>Нижний Новгород</td>\n",
       "      <td>2</td>\n",
       "    </tr>\n",
       "    <tr>\n",
       "      <th>22</th>\n",
       "      <td>ML engineer</td>\n",
       "      <td>Нижний Новгород</td>\n",
       "      <td>2</td>\n",
       "    </tr>\n",
       "    <tr>\n",
       "      <th>23</th>\n",
       "      <td>ML Engineer/ Data Scientist (WAF)</td>\n",
       "      <td>Нижний Новгород</td>\n",
       "      <td>2</td>\n",
       "    </tr>\n",
       "    <tr>\n",
       "      <th>24</th>\n",
       "      <td>Аналитик/Аналитик данных (Data Analyst|Data Sc...</td>\n",
       "      <td>Новосибирск</td>\n",
       "      <td>2</td>\n",
       "    </tr>\n",
       "    <tr>\n",
       "      <th>25</th>\n",
       "      <td>ML Engineer/ Data Scientist (WAF)</td>\n",
       "      <td>Новосибирск</td>\n",
       "      <td>2</td>\n",
       "    </tr>\n",
       "    <tr>\n",
       "      <th>26</th>\n",
       "      <td>Аналитик BI, Data Scientist, BI Architect</td>\n",
       "      <td>Самара</td>\n",
       "      <td>2</td>\n",
       "    </tr>\n",
       "    <tr>\n",
       "      <th>27</th>\n",
       "      <td>Data Scientist</td>\n",
       "      <td>Самара</td>\n",
       "      <td>2</td>\n",
       "    </tr>\n",
       "    <tr>\n",
       "      <th>28</th>\n",
       "      <td>Junior Data Scientist</td>\n",
       "      <td>Санкт-Петербург</td>\n",
       "      <td>2</td>\n",
       "    </tr>\n",
       "    <tr>\n",
       "      <th>29</th>\n",
       "      <td>Data scientist</td>\n",
       "      <td>Санкт-Петербург</td>\n",
       "      <td>2</td>\n",
       "    </tr>\n",
       "    <tr>\n",
       "      <th>30</th>\n",
       "      <td>Senior Data Scientist</td>\n",
       "      <td>Санкт-Петербург</td>\n",
       "      <td>2</td>\n",
       "    </tr>\n",
       "    <tr>\n",
       "      <th>31</th>\n",
       "      <td>Team Lead Data Science</td>\n",
       "      <td>Санкт-Петербург</td>\n",
       "      <td>2</td>\n",
       "    </tr>\n",
       "    <tr>\n",
       "      <th>32</th>\n",
       "      <td>ML Engineer/ Data Scientist (WAF)</td>\n",
       "      <td>Санкт-Петербург</td>\n",
       "      <td>2</td>\n",
       "    </tr>\n",
       "    <tr>\n",
       "      <th>33</th>\n",
       "      <td>Эксперт по машинному обучению и искусственному...</td>\n",
       "      <td>Ташкент</td>\n",
       "      <td>2</td>\n",
       "    </tr>\n",
       "    <tr>\n",
       "      <th>34</th>\n",
       "      <td>ML Engineer/ Data Scientist (WAF)</td>\n",
       "      <td>Томск</td>\n",
       "      <td>2</td>\n",
       "    </tr>\n",
       "  </tbody>\n",
       "</table>\n",
       "</div>"
      ],
      "text/plain": [
       "                                                 name             name  count\n",
       "0                                      Data Scientist           Москва     28\n",
       "1                                      Data Scientist  Санкт-Петербург      7\n",
       "2                                      Data Scientist           Алматы      6\n",
       "3                                      Data scientist           Москва      5\n",
       "4                               Senior Data Scientist           Москва      5\n",
       "5                           Machine Learning Engineer           Москва      3\n",
       "6                           Machine Learning Engineer          Армения      2\n",
       "7                               Middle Data Scientist        Иннополис      2\n",
       "8                                      Data Scientist           Казань      2\n",
       "9                                      Data Scientist        Краснодар      2\n",
       "10   Data Scientist в области рекомендательных систем           Москва      2\n",
       "11        Deep Learning/Machine Learning NLP Engineer           Москва      2\n",
       "12                                Lead Data Scientist           Москва      2\n",
       "13                            Data Scientist (Middle)           Москва      2\n",
       "14     Data Scientist (Sber AI Lab: Applied Research)           Москва      2\n",
       "15                              Middle Data Scientist           Москва      2\n",
       "16                   Middle Data Scientist (Big Data)           Москва      2\n",
       "17                       Middle/Senior Data Scientist           Москва      2\n",
       "18      ML Engineer в области рекомендательных систем           Москва      2\n",
       "19                        ML инженер / Data Scientist           Москва      2\n",
       "20                              Middle Data Scientist  Нижний Новгород      2\n",
       "21   Data Scientist в области рекомендательных систем  Нижний Новгород      2\n",
       "22                                        ML engineer  Нижний Новгород      2\n",
       "23                  ML Engineer/ Data Scientist (WAF)  Нижний Новгород      2\n",
       "24  Аналитик/Аналитик данных (Data Analyst|Data Sc...      Новосибирск      2\n",
       "25                  ML Engineer/ Data Scientist (WAF)      Новосибирск      2\n",
       "26          Аналитик BI, Data Scientist, BI Architect           Самара      2\n",
       "27                                     Data Scientist           Самара      2\n",
       "28                              Junior Data Scientist  Санкт-Петербург      2\n",
       "29                                     Data scientist  Санкт-Петербург      2\n",
       "30                              Senior Data Scientist  Санкт-Петербург      2\n",
       "31                             Team Lead Data Science  Санкт-Петербург      2\n",
       "32                  ML Engineer/ Data Scientist (WAF)  Санкт-Петербург      2\n",
       "33  Эксперт по машинному обучению и искусственному...          Ташкент      2\n",
       "34                  ML Engineer/ Data Scientist (WAF)            Томск      2"
      ]
     },
     "execution_count": 87,
     "metadata": {},
     "output_type": "execute_result"
    }
   ],
   "source": [
    "#  создаём список для фильтра вакансий\n",
    "pro_list =[\"data scientist\",\"data science\",\"исследователь данных\",\"machine learning\",\"машинн%обучен\"]\n",
    "str_list=\"( v.name LIKE '%ML%' AND v.name NOT LIKE '%HTML%' )\"\n",
    "for index in pro_list:\n",
    "    str_list+=f\" OR v.name iLIKE '%{index}%'\"\n",
    "# код запроса представляет из себя строковую переменную\n",
    "# обьеденяем таблицу вакансий и регионов\n",
    "# применим фильтр вакансий\n",
    "# группируем по вакансиям и регионам\n",
    "# применим фильтр по количеству\n",
    "# сосчитаем количество строк колонок\n",
    "# сортируем по количеству\n",
    "query = f'''SELECT v.name,\n",
    "                    a.name,  \n",
    "                    COUNT(*)                  \n",
    "            from VACANCIES AS v\n",
    "                LEFT JOIN AREAS AS a  ON v.area_id=a.id \n",
    "            WHERE {str_list}\n",
    "            GROUP BY v.name, a.name\n",
    "            HAVING COUNT(*)>1\n",
    "            ORDER BY 3 desc, 2    \n",
    "        '''\n",
    "# вывести результат\n",
    "zapr(query )"
   ]
  },
  {
   "cell_type": "markdown",
   "metadata": {},
   "source": [
    "### Вывод\n",
    "На первом месте Data Scientist в Москве\n",
    "Как дата-сайентиста это не подходит применим фильтр"
   ]
  },
  {
   "cell_type": "markdown",
   "metadata": {},
   "source": [
    "А давайте посмотрим все вакансии в городах миллионниках, на гистограмме и будем считать количество вакансий от 20"
   ]
  },
  {
   "cell_type": "code",
   "execution_count": 88,
   "metadata": {},
   "outputs": [
    {
     "data": {
      "image/png": "[encoded data removed]",
      "text/plain": [
       "<Figure size 640x480 with 2 Axes>"
      ]
     },
     "metadata": {},
     "output_type": "display_data"
    }
   ],
   "source": [
    "# Подключение библиотек\n",
    "import seaborn as sns\n",
    "import matplotlib.pyplot as plt\n",
    "# Формируем список регионов-миллионников\n",
    "million_cities = ['Москва', 'Санкт-Петербург','Новосибирск', 'Екатеринбург','Нижний Новгород','Казань', 'Челябинск',\n",
    "                  'Омск', 'Самара', 'Ростов-на-Дону', 'Краснодар', 'Уфа', 'Красноярск', 'Пермь', 'Воронеж','Волгоград']\n",
    "list_str=\"'\"+\"','\".join(million_cities)+\"'\"\n",
    "\n",
    "# код запроса представляет из себя строковую переменную\n",
    "#     обьединяем таблицу вакансий с регионами \n",
    "#     применяем фильтр по  регионов-миллионников и количеству\n",
    "#     группируем по названию региона и вакансий\n",
    "#     подсчитываем количество строк вошедших в группы\n",
    "query = f'''SELECT a.name AS area,\n",
    "                    v.name,\n",
    "                    COUNT(*) AS cnt                   \n",
    "            from VACANCIES AS v\n",
    "                LEFT JOIN AREAS AS a  ON v.area_id=a.id\n",
    "            WHERE a.name in ({list_str})\n",
    "            GROUP BY a.name,v.name\n",
    "            HAVING COUNT(*)>20            \n",
    "        '''\n",
    "# вывод таблицы\n",
    "temp2=zapr(query ).pivot_table(\n",
    "    values='cnt',   # Значения с которыми производим операции\n",
    "    index='name',    # название строк и группировка по значению\n",
    "    columns='area',   # название столбцов и группировка по значению\n",
    "    )\n",
    "# таблица\n",
    "heatmap = sns.heatmap(data=temp2, cmap='YlGnBu')\n",
    "# надписи\n",
    "plt.ylabel('Вакансии', fontsize = 15)\n",
    "plt.xlabel('Регионы', fontsize = 15)\n",
    "heatmap.set_title('Количество вакансий в регионах', fontsize=16);"
   ]
  },
  {
   "cell_type": "markdown",
   "metadata": {},
   "source": [
    "### Выводы\n",
    "На гистограмме можно сделать вывод что вакансия \"Data Scientist\" наблюдается в Москве. Вакансия \"Программист 1С\" отсутствует в Москве, а вакансия \"Системный администратор\" отсутствуеп только в Перми. Вакансия \"Бизнес_аналитик\" самая востребованая"
   ]
  },
  {
   "cell_type": "markdown",
   "metadata": {},
   "source": [
    "# *3\n",
    "Давайте узнаем минимальные и максимальный навыки Дата сайнтиста"
   ]
  },
  {
   "cell_type": "code",
   "execution_count": 89,
   "metadata": {},
   "outputs": [
    {
     "name": "stdout",
     "output_type": "stream",
     "text": [
      "Минимальное количество ключевых навыков: 1\n",
      "Максимальное количество ключевых навыков: 20\n"
     ]
    }
   ],
   "source": [
    "# создаём список для фильтра вакансий\n",
    "pro_list =[\"data scientist\",\"data science\",\"исследователь данных\",\"machine learning\",\"машинн%обучен\"]\n",
    "str_list=\"( name LIKE '%ML%' AND name NOT LIKE '%HTML%' )\"\n",
    "for index in pro_list:\n",
    "    str_list+=f\" OR name iLIKE '%{index}%'\"\n",
    "\n",
    "# код запроса представляет из себя строковую переменную\n",
    "# применяем фильтр и исключаем NULL\n",
    "# вычисляем длинну сткоки и\n",
    "# вычитаем длинну строки без учёта \"\\t\" тем самым получаем сколько у нас разделителей навыков и +1 \n",
    "# вычисляем минимум и максимум\n",
    "query = f'''SELECT MIN(length(key_skills) - length(replace(key_skills,'\\t','')) +1),\n",
    "                    MAX(length(key_skills) - length(replace(key_skills,'\\t','')) +1)              \n",
    "            FROM vacancies\n",
    "            WHERE ({str_list}) AND key_skills IS NOT NULL\n",
    "        '''\n",
    "# вывод результата\n",
    "print('Минимальное количество ключевых навыков:',zapr(query).iloc[0,0]) \n",
    "print('Максимальное количество ключевых навыков:',zapr(query).iloc[0,1]) "
   ]
  },
  {
   "cell_type": "markdown",
   "metadata": {},
   "source": [
    "Интересно что за вакансия с одним навыком "
   ]
  },
  {
   "cell_type": "code",
   "execution_count": 90,
   "metadata": {},
   "outputs": [
    {
     "data": {
      "text/html": [
       "<div>\n",
       "<style scoped>\n",
       "    .dataframe tbody tr th:only-of-type {\n",
       "        vertical-align: middle;\n",
       "    }\n",
       "\n",
       "    .dataframe tbody tr th {\n",
       "        vertical-align: top;\n",
       "    }\n",
       "\n",
       "    .dataframe thead th {\n",
       "        text-align: right;\n",
       "    }\n",
       "</style>\n",
       "<table border=\"1\" class=\"dataframe\">\n",
       "  <thead>\n",
       "    <tr style=\"text-align: right;\">\n",
       "      <th></th>\n",
       "      <th>id</th>\n",
       "      <th>name</th>\n",
       "      <th>key_skills</th>\n",
       "      <th>schedule</th>\n",
       "      <th>experience</th>\n",
       "      <th>employment</th>\n",
       "      <th>salary_from</th>\n",
       "      <th>salary_to</th>\n",
       "      <th>area_id</th>\n",
       "      <th>employer_id</th>\n",
       "      <th>col</th>\n",
       "    </tr>\n",
       "  </thead>\n",
       "  <tbody>\n",
       "    <tr>\n",
       "      <th>0</th>\n",
       "      <td>54891900</td>\n",
       "      <td>Tech Lead Machine Learning</td>\n",
       "      <td>DS</td>\n",
       "      <td>Полный день</td>\n",
       "      <td>От 3 до 6 лет</td>\n",
       "      <td>Полная занятость</td>\n",
       "      <td>None</td>\n",
       "      <td>None</td>\n",
       "      <td>1</td>\n",
       "      <td>5599143</td>\n",
       "      <td>1</td>\n",
       "    </tr>\n",
       "    <tr>\n",
       "      <th>1</th>\n",
       "      <td>55573414</td>\n",
       "      <td>Golang-разработчик в ML</td>\n",
       "      <td>Golang</td>\n",
       "      <td>Полный день</td>\n",
       "      <td>От 1 года до 3 лет</td>\n",
       "      <td>Полная занятость</td>\n",
       "      <td>None</td>\n",
       "      <td>None</td>\n",
       "      <td>4</td>\n",
       "      <td>78638</td>\n",
       "      <td>1</td>\n",
       "    </tr>\n",
       "    <tr>\n",
       "      <th>2</th>\n",
       "      <td>54814282</td>\n",
       "      <td>ML Engineer (рекомендательная система)</td>\n",
       "      <td>Python</td>\n",
       "      <td>Полный день</td>\n",
       "      <td>От 1 года до 3 лет</td>\n",
       "      <td>Полная занятость</td>\n",
       "      <td>None</td>\n",
       "      <td>None</td>\n",
       "      <td>66</td>\n",
       "      <td>3529</td>\n",
       "      <td>1</td>\n",
       "    </tr>\n",
       "    <tr>\n",
       "      <th>3</th>\n",
       "      <td>52211622</td>\n",
       "      <td>Project Manager ML проектов</td>\n",
       "      <td>Управление проектами</td>\n",
       "      <td>Полный день</td>\n",
       "      <td>От 3 до 6 лет</td>\n",
       "      <td>Полная занятость</td>\n",
       "      <td>None</td>\n",
       "      <td>None</td>\n",
       "      <td>1</td>\n",
       "      <td>1272486</td>\n",
       "      <td>1</td>\n",
       "    </tr>\n",
       "  </tbody>\n",
       "</table>\n",
       "</div>"
      ],
      "text/plain": [
       "         id                                    name            key_skills  \\\n",
       "0  54891900              Tech Lead Machine Learning                    DS   \n",
       "1  55573414                 Golang-разработчик в ML                Golang   \n",
       "2  54814282  ML Engineer (рекомендательная система)                Python   \n",
       "3  52211622             Project Manager ML проектов  Управление проектами   \n",
       "\n",
       "      schedule          experience        employment salary_from salary_to  \\\n",
       "0  Полный день       От 3 до 6 лет  Полная занятость        None      None   \n",
       "1  Полный день  От 1 года до 3 лет  Полная занятость        None      None   \n",
       "2  Полный день  От 1 года до 3 лет  Полная занятость        None      None   \n",
       "3  Полный день       От 3 до 6 лет  Полная занятость        None      None   \n",
       "\n",
       "   area_id  employer_id  col  \n",
       "0        1      5599143    1  \n",
       "1        4        78638    1  \n",
       "2       66         3529    1  \n",
       "3        1      1272486    1  "
      ]
     },
     "execution_count": 90,
     "metadata": {},
     "output_type": "execute_result"
    }
   ],
   "source": [
    "# создаём список для фильтра вакансий\n",
    "pro_list =[\"data scientist\",\"data science\",\"исследователь данных\",\"machine learning\",\"машинн%обучен\"]\n",
    "str_list=\"( name LIKE '%ML%' AND name NOT LIKE '%HTML%' )\"\n",
    "for index in pro_list:\n",
    "    str_list+=f\" OR name iLIKE '%{index}%'\"\n",
    "\n",
    "# код запроса представляет из себя строковую переменную\n",
    "# применяем фильтр и исключаем NULL\n",
    "# добавляем к таблицы колонку \"col\" в которой вычисляем длинну сткоки и\n",
    "# вычитаем длинну строки без учёта \"\\t\" тем самым получаем сколько у нас разделителей навыков и +1 \n",
    "# фильтруем по количеству ключевых навыков\n",
    "query = f'''SELECT *\n",
    "            FROM\n",
    "            (SELECT *,\n",
    "            (length(key_skills) - length(replace(key_skills,'\\t','')))+1  AS col          \n",
    "            FROM vacancies\n",
    "            WHERE ({str_list}) AND key_skills IS NOT NULL) AS z\n",
    "            WHERE col=1\n",
    "        '''\n",
    "# вывод результата\n",
    "zapr(query)"
   ]
  },
  {
   "cell_type": "markdown",
   "metadata": {},
   "source": [
    "### Вывод\n",
    "Получилось 4 вакансии и ключевой навык Python который мы уже изучили"
   ]
  },
  {
   "cell_type": "markdown",
   "metadata": {},
   "source": [
    "# *4\n",
    "Давай те посмотрим минимальную и максимальную ЗП"
   ]
  },
  {
   "cell_type": "code",
   "execution_count": 91,
   "metadata": {},
   "outputs": [
    {
     "name": "stdout",
     "output_type": "stream",
     "text": [
      "Минималиная зарплаты: 30\n",
      "Максимальная зарплаты: 1000000\n"
     ]
    }
   ],
   "source": [
    "# код запроса представляет из себя строковую переменную\n",
    "# Применяем агрегирующию функцию MIN и MAX\n",
    "query = f'''select MIN(salary_from) AS AVG_MIN,\n",
    "                    MAX(salary_to) AS AVG_MAX\n",
    "            from VACANCIES     \n",
    "         '''\n",
    "# вывести результат\n",
    "print ('Минималиная зарплаты:',zapr(query).iloc[0,0])\n",
    "print ('Максимальная зарплаты:',zapr(query).iloc[0,1])"
   ]
  },
  {
   "cell_type": "markdown",
   "metadata": {},
   "source": [
    "Смешное минимально значение"
   ]
  },
  {
   "cell_type": "code",
   "execution_count": 92,
   "metadata": {},
   "outputs": [
    {
     "data": {
      "text/html": [
       "<div>\n",
       "<style scoped>\n",
       "    .dataframe tbody tr th:only-of-type {\n",
       "        vertical-align: middle;\n",
       "    }\n",
       "\n",
       "    .dataframe tbody tr th {\n",
       "        vertical-align: top;\n",
       "    }\n",
       "\n",
       "    .dataframe thead th {\n",
       "        text-align: right;\n",
       "    }\n",
       "</style>\n",
       "<table border=\"1\" class=\"dataframe\">\n",
       "  <thead>\n",
       "    <tr style=\"text-align: right;\">\n",
       "      <th></th>\n",
       "      <th>id</th>\n",
       "      <th>name</th>\n",
       "      <th>key_skills</th>\n",
       "      <th>schedule</th>\n",
       "      <th>experience</th>\n",
       "      <th>employment</th>\n",
       "      <th>salary_from</th>\n",
       "      <th>salary_to</th>\n",
       "      <th>area_id</th>\n",
       "      <th>employer_id</th>\n",
       "      <th>avg_min</th>\n",
       "      <th>avg_max</th>\n",
       "    </tr>\n",
       "  </thead>\n",
       "  <tbody>\n",
       "    <tr>\n",
       "      <th>0</th>\n",
       "      <td>66097724</td>\n",
       "      <td>QA Automation Engineer</td>\n",
       "      <td>Тестирование\\tHTML\\tJavaScript\\tGit\\tТестирова...</td>\n",
       "      <td>Полный день</td>\n",
       "      <td>От 1 года до 3 лет</td>\n",
       "      <td>Полная занятость</td>\n",
       "      <td>400000</td>\n",
       "      <td>1000000.0</td>\n",
       "      <td>160</td>\n",
       "      <td>703174</td>\n",
       "      <td>30</td>\n",
       "      <td>1000000</td>\n",
       "    </tr>\n",
       "    <tr>\n",
       "      <th>1</th>\n",
       "      <td>50779568</td>\n",
       "      <td>СТО/Директор по разработке</td>\n",
       "      <td>Laravel\\tУправление проектами\\tPHP\\tVue.js\\tPo...</td>\n",
       "      <td>Полный день</td>\n",
       "      <td>От 3 до 6 лет</td>\n",
       "      <td>Полная занятость</td>\n",
       "      <td>500000</td>\n",
       "      <td>1000000.0</td>\n",
       "      <td>1</td>\n",
       "      <td>988480</td>\n",
       "      <td>30</td>\n",
       "      <td>1000000</td>\n",
       "    </tr>\n",
       "    <tr>\n",
       "      <th>2</th>\n",
       "      <td>66145376</td>\n",
       "      <td>Помощник IT-специалиста</td>\n",
       "      <td>Adobe Photoshop\\tHTML\\tWeb\\tОпрятный внешний в...</td>\n",
       "      <td>Полный день</td>\n",
       "      <td>Нет опыта</td>\n",
       "      <td>Полная занятость</td>\n",
       "      <td>30</td>\n",
       "      <td>NaN</td>\n",
       "      <td>237</td>\n",
       "      <td>3046483</td>\n",
       "      <td>30</td>\n",
       "      <td>1000000</td>\n",
       "    </tr>\n",
       "    <tr>\n",
       "      <th>3</th>\n",
       "      <td>53692636</td>\n",
       "      <td>Брокер по продаже апартаментов</td>\n",
       "      <td>Ведение переговоров\\tТелефонные переговоры\\tРа...</td>\n",
       "      <td>Полный день</td>\n",
       "      <td>От 1 года до 3 лет</td>\n",
       "      <td>Полная занятость</td>\n",
       "      <td>500000</td>\n",
       "      <td>1000000.0</td>\n",
       "      <td>237</td>\n",
       "      <td>1625845</td>\n",
       "      <td>30</td>\n",
       "      <td>1000000</td>\n",
       "    </tr>\n",
       "    <tr>\n",
       "      <th>4</th>\n",
       "      <td>54816956</td>\n",
       "      <td>Системный администратор</td>\n",
       "      <td>Настройка ПО\\tНастройка серверов\\tАдминистриро...</td>\n",
       "      <td>Полный день</td>\n",
       "      <td>От 1 года до 3 лет</td>\n",
       "      <td>Полная занятость</td>\n",
       "      <td>30</td>\n",
       "      <td>50000.0</td>\n",
       "      <td>104</td>\n",
       "      <td>792907</td>\n",
       "      <td>30</td>\n",
       "      <td>1000000</td>\n",
       "    </tr>\n",
       "    <tr>\n",
       "      <th>5</th>\n",
       "      <td>66073664</td>\n",
       "      <td>Помощник IT-специалиста</td>\n",
       "      <td>Adobe Photoshop\\tHTML\\tWeb\\tОпрятный внешний в...</td>\n",
       "      <td>Полный день</td>\n",
       "      <td>От 1 года до 3 лет</td>\n",
       "      <td>Полная занятость</td>\n",
       "      <td>30</td>\n",
       "      <td>NaN</td>\n",
       "      <td>237</td>\n",
       "      <td>3046483</td>\n",
       "      <td>30</td>\n",
       "      <td>1000000</td>\n",
       "    </tr>\n",
       "  </tbody>\n",
       "</table>\n",
       "</div>"
      ],
      "text/plain": [
       "         id                            name  \\\n",
       "0  66097724          QA Automation Engineer   \n",
       "1  50779568      СТО/Директор по разработке   \n",
       "2  66145376         Помощник IT-специалиста   \n",
       "3  53692636  Брокер по продаже апартаментов   \n",
       "4  54816956         Системный администратор   \n",
       "5  66073664         Помощник IT-специалиста   \n",
       "\n",
       "                                          key_skills     schedule  \\\n",
       "0  Тестирование\\tHTML\\tJavaScript\\tGit\\tТестирова...  Полный день   \n",
       "1  Laravel\\tУправление проектами\\tPHP\\tVue.js\\tPo...  Полный день   \n",
       "2  Adobe Photoshop\\tHTML\\tWeb\\tОпрятный внешний в...  Полный день   \n",
       "3  Ведение переговоров\\tТелефонные переговоры\\tРа...  Полный день   \n",
       "4  Настройка ПО\\tНастройка серверов\\tАдминистриро...  Полный день   \n",
       "5  Adobe Photoshop\\tHTML\\tWeb\\tОпрятный внешний в...  Полный день   \n",
       "\n",
       "           experience        employment  salary_from  salary_to  area_id  \\\n",
       "0  От 1 года до 3 лет  Полная занятость       400000  1000000.0      160   \n",
       "1       От 3 до 6 лет  Полная занятость       500000  1000000.0        1   \n",
       "2           Нет опыта  Полная занятость           30        NaN      237   \n",
       "3  От 1 года до 3 лет  Полная занятость       500000  1000000.0      237   \n",
       "4  От 1 года до 3 лет  Полная занятость           30    50000.0      104   \n",
       "5  От 1 года до 3 лет  Полная занятость           30        NaN      237   \n",
       "\n",
       "   employer_id  avg_min  avg_max  \n",
       "0       703174       30  1000000  \n",
       "1       988480       30  1000000  \n",
       "2      3046483       30  1000000  \n",
       "3      1625845       30  1000000  \n",
       "4       792907       30  1000000  \n",
       "5      3046483       30  1000000  "
      ]
     },
     "execution_count": 92,
     "metadata": {},
     "output_type": "execute_result"
    }
   ],
   "source": [
    "# код запроса представляет из себя строковую переменную\n",
    "# добавляем колонки с MIN и MAX\n",
    "# фильтруем\n",
    "query = f'''SELECT *\n",
    "            FROM\n",
    "            (select *,MIN(salary_from) OVER() AS AVG_MIN,\n",
    "                    MAX(salary_to) OVER() AS AVG_MAX\n",
    "            from VACANCIES) AS z \n",
    "            WHERE AVG_MIN=salary_from OR AVG_MAX=salary_to  \n",
    "         '''\n",
    "# вывести результат\n",
    "zapr(query)"
   ]
  },
  {
   "cell_type": "markdown",
   "metadata": {},
   "source": [
    "### Вывод\n",
    "Хороше что это не наши специальности"
   ]
  },
  {
   "cell_type": "code",
   "execution_count": 98,
   "metadata": {},
   "outputs": [
    {
     "data": {
      "application/vnd.plotly.v1+json": {
       "config": {
        "plotlyServerURL": "https://plot.ly"
       },
       "data": [
        {
         "alignmentgroup": "True",
         "boxpoints": "all",
         "hovertemplate": "salary=%{x}<extra></extra>",
         "legendgroup": "",
         "marker": {
          "color": "#636efa"
         },
         "name": "",
         "notched": false,
         "offsetgroup": "",
         "orientation": "h",
         "showlegend": false,
         "type": "box",
         "x": [
          60000,
          75000,
          60000,
          37000,
          50000,
          119000,
          110000,
          233794,
          72500,
          150000,
          233794,
          115000,
          450000,
          233794,
          90000,
          98000,
          122047,
          292242,
          200000,
          250000,
          50000,
          140000,
          222104,
          225000,
          100000,
          200000,
          225000,
          205000,
          120000,
          300000,
          200000,
          150000,
          105000,
          90000,
          150000,
          300000,
          170000,
          80000,
          275000,
          175346,
          300000,
          300000,
          155000,
          225000,
          275000,
          150000,
          250000,
          300000,
          130000,
          130000,
          200000,
          225000,
          350000,
          275000,
          50000,
          300000,
          70000,
          100000,
          292242,
          175000,
          143500,
          67126
         ],
         "x0": " ",
         "xaxis": "x",
         "y0": " ",
         "yaxis": "y"
        }
       ],
       "layout": {
        "boxmode": "group",
        "legend": {
         "tracegroupgap": 0
        },
        "margin": {
         "t": 60
        },
        "template": {
         "data": {
          "bar": [
           {
            "error_x": {
             "color": "#2a3f5f"
            },
            "error_y": {
             "color": "#2a3f5f"
            },
            "marker": {
             "line": {
              "color": "#E5ECF6",
              "width": 0.5
             },
             "pattern": {
              "fillmode": "overlay",
              "size": 10,
              "solidity": 0.2
             }
            },
            "type": "bar"
           }
          ],
          "barpolar": [
           {
            "marker": {
             "line": {
              "color": "#E5ECF6",
              "width": 0.5
             },
             "pattern": {
              "fillmode": "overlay",
              "size": 10,
              "solidity": 0.2
             }
            },
            "type": "barpolar"
           }
          ],
          "carpet": [
           {
            "aaxis": {
             "endlinecolor": "#2a3f5f",
             "gridcolor": "white",
             "linecolor": "white",
             "minorgridcolor": "white",
             "startlinecolor": "#2a3f5f"
            },
            "baxis": {
             "endlinecolor": "#2a3f5f",
             "gridcolor": "white",
             "linecolor": "white",
             "minorgridcolor": "white",
             "startlinecolor": "#2a3f5f"
            },
            "type": "carpet"
           }
          ],
          "choropleth": [
           {
            "colorbar": {
             "outlinewidth": 0,
             "ticks": ""
            },
            "type": "choropleth"
           }
          ],
          "contour": [
           {
            "colorbar": {
             "outlinewidth": 0,
             "ticks": ""
            },
            "colorscale": [
             [
              0,
              "#0d0887"
             ],
             [
              0.1111111111111111,
              "#46039f"
             ],
             [
              0.2222222222222222,
              "#7201a8"
             ],
             [
              0.3333333333333333,
              "#9c179e"
             ],
             [
              0.4444444444444444,
              "#bd3786"
             ],
             [
              0.5555555555555556,
              "#d8576b"
             ],
             [
              0.6666666666666666,
              "#ed7953"
             ],
             [
              0.7777777777777778,
              "#fb9f3a"
             ],
             [
              0.8888888888888888,
              "#fdca26"
             ],
             [
              1,
              "#f0f921"
             ]
            ],
            "type": "contour"
           }
          ],
          "contourcarpet": [
           {
            "colorbar": {
             "outlinewidth": 0,
             "ticks": ""
            },
            "type": "contourcarpet"
           }
          ],
          "heatmap": [
           {
            "colorbar": {
             "outlinewidth": 0,
             "ticks": ""
            },
            "colorscale": [
             [
              0,
              "#0d0887"
             ],
             [
              0.1111111111111111,
              "#46039f"
             ],
             [
              0.2222222222222222,
              "#7201a8"
             ],
             [
              0.3333333333333333,
              "#9c179e"
             ],
             [
              0.4444444444444444,
              "#bd3786"
             ],
             [
              0.5555555555555556,
              "#d8576b"
             ],
             [
              0.6666666666666666,
              "#ed7953"
             ],
             [
              0.7777777777777778,
              "#fb9f3a"
             ],
             [
              0.8888888888888888,
              "#fdca26"
             ],
             [
              1,
              "#f0f921"
             ]
            ],
            "type": "heatmap"
           }
          ],
          "heatmapgl": [
           {
            "colorbar": {
             "outlinewidth": 0,
             "ticks": ""
            },
            "colorscale": [
             [
              0,
              "#0d0887"
             ],
             [
              0.1111111111111111,
              "#46039f"
             ],
             [
              0.2222222222222222,
              "#7201a8"
             ],
             [
              0.3333333333333333,
              "#9c179e"
             ],
             [
              0.4444444444444444,
              "#bd3786"
             ],
             [
              0.5555555555555556,
              "#d8576b"
             ],
             [
              0.6666666666666666,
              "#ed7953"
             ],
             [
              0.7777777777777778,
              "#fb9f3a"
             ],
             [
              0.8888888888888888,
              "#fdca26"
             ],
             [
              1,
              "#f0f921"
             ]
            ],
            "type": "heatmapgl"
           }
          ],
          "histogram": [
           {
            "marker": {
             "pattern": {
              "fillmode": "overlay",
              "size": 10,
              "solidity": 0.2
             }
            },
            "type": "histogram"
           }
          ],
          "histogram2d": [
           {
            "colorbar": {
             "outlinewidth": 0,
             "ticks": ""
            },
            "colorscale": [
             [
              0,
              "#0d0887"
             ],
             [
              0.1111111111111111,
              "#46039f"
             ],
             [
              0.2222222222222222,
              "#7201a8"
             ],
             [
              0.3333333333333333,
              "#9c179e"
             ],
             [
              0.4444444444444444,
              "#bd3786"
             ],
             [
              0.5555555555555556,
              "#d8576b"
             ],
             [
              0.6666666666666666,
              "#ed7953"
             ],
             [
              0.7777777777777778,
              "#fb9f3a"
             ],
             [
              0.8888888888888888,
              "#fdca26"
             ],
             [
              1,
              "#f0f921"
             ]
            ],
            "type": "histogram2d"
           }
          ],
          "histogram2dcontour": [
           {
            "colorbar": {
             "outlinewidth": 0,
             "ticks": ""
            },
            "colorscale": [
             [
              0,
              "#0d0887"
             ],
             [
              0.1111111111111111,
              "#46039f"
             ],
             [
              0.2222222222222222,
              "#7201a8"
             ],
             [
              0.3333333333333333,
              "#9c179e"
             ],
             [
              0.4444444444444444,
              "#bd3786"
             ],
             [
              0.5555555555555556,
              "#d8576b"
             ],
             [
              0.6666666666666666,
              "#ed7953"
             ],
             [
              0.7777777777777778,
              "#fb9f3a"
             ],
             [
              0.8888888888888888,
              "#fdca26"
             ],
             [
              1,
              "#f0f921"
             ]
            ],
            "type": "histogram2dcontour"
           }
          ],
          "mesh3d": [
           {
            "colorbar": {
             "outlinewidth": 0,
             "ticks": ""
            },
            "type": "mesh3d"
           }
          ],
          "parcoords": [
           {
            "line": {
             "colorbar": {
              "outlinewidth": 0,
              "ticks": ""
             }
            },
            "type": "parcoords"
           }
          ],
          "pie": [
           {
            "automargin": true,
            "type": "pie"
           }
          ],
          "scatter": [
           {
            "fillpattern": {
             "fillmode": "overlay",
             "size": 10,
             "solidity": 0.2
            },
            "type": "scatter"
           }
          ],
          "scatter3d": [
           {
            "line": {
             "colorbar": {
              "outlinewidth": 0,
              "ticks": ""
             }
            },
            "marker": {
             "colorbar": {
              "outlinewidth": 0,
              "ticks": ""
             }
            },
            "type": "scatter3d"
           }
          ],
          "scattercarpet": [
           {
            "marker": {
             "colorbar": {
              "outlinewidth": 0,
              "ticks": ""
             }
            },
            "type": "scattercarpet"
           }
          ],
          "scattergeo": [
           {
            "marker": {
             "colorbar": {
              "outlinewidth": 0,
              "ticks": ""
             }
            },
            "type": "scattergeo"
           }
          ],
          "scattergl": [
           {
            "marker": {
             "colorbar": {
              "outlinewidth": 0,
              "ticks": ""
             }
            },
            "type": "scattergl"
           }
          ],
          "scattermapbox": [
           {
            "marker": {
             "colorbar": {
              "outlinewidth": 0,
              "ticks": ""
             }
            },
            "type": "scattermapbox"
           }
          ],
          "scatterpolar": [
           {
            "marker": {
             "colorbar": {
              "outlinewidth": 0,
              "ticks": ""
             }
            },
            "type": "scatterpolar"
           }
          ],
          "scatterpolargl": [
           {
            "marker": {
             "colorbar": {
              "outlinewidth": 0,
              "ticks": ""
             }
            },
            "type": "scatterpolargl"
           }
          ],
          "scatterternary": [
           {
            "marker": {
             "colorbar": {
              "outlinewidth": 0,
              "ticks": ""
             }
            },
            "type": "scatterternary"
           }
          ],
          "surface": [
           {
            "colorbar": {
             "outlinewidth": 0,
             "ticks": ""
            },
            "colorscale": [
             [
              0,
              "#0d0887"
             ],
             [
              0.1111111111111111,
              "#46039f"
             ],
             [
              0.2222222222222222,
              "#7201a8"
             ],
             [
              0.3333333333333333,
              "#9c179e"
             ],
             [
              0.4444444444444444,
              "#bd3786"
             ],
             [
              0.5555555555555556,
              "#d8576b"
             ],
             [
              0.6666666666666666,
              "#ed7953"
             ],
             [
              0.7777777777777778,
              "#fb9f3a"
             ],
             [
              0.8888888888888888,
              "#fdca26"
             ],
             [
              1,
              "#f0f921"
             ]
            ],
            "type": "surface"
           }
          ],
          "table": [
           {
            "cells": {
             "fill": {
              "color": "#EBF0F8"
             },
             "line": {
              "color": "white"
             }
            },
            "header": {
             "fill": {
              "color": "#C8D4E3"
             },
             "line": {
              "color": "white"
             }
            },
            "type": "table"
           }
          ]
         },
         "layout": {
          "annotationdefaults": {
           "arrowcolor": "#2a3f5f",
           "arrowhead": 0,
           "arrowwidth": 1
          },
          "autotypenumbers": "strict",
          "coloraxis": {
           "colorbar": {
            "outlinewidth": 0,
            "ticks": ""
           }
          },
          "colorscale": {
           "diverging": [
            [
             0,
             "#8e0152"
            ],
            [
             0.1,
             "#c51b7d"
            ],
            [
             0.2,
             "#de77ae"
            ],
            [
             0.3,
             "#f1b6da"
            ],
            [
             0.4,
             "#fde0ef"
            ],
            [
             0.5,
             "#f7f7f7"
            ],
            [
             0.6,
             "#e6f5d0"
            ],
            [
             0.7,
             "#b8e186"
            ],
            [
             0.8,
             "#7fbc41"
            ],
            [
             0.9,
             "#4d9221"
            ],
            [
             1,
             "#276419"
            ]
           ],
           "sequential": [
            [
             0,
             "#0d0887"
            ],
            [
             0.1111111111111111,
             "#46039f"
            ],
            [
             0.2222222222222222,
             "#7201a8"
            ],
            [
             0.3333333333333333,
             "#9c179e"
            ],
            [
             0.4444444444444444,
             "#bd3786"
            ],
            [
             0.5555555555555556,
             "#d8576b"
            ],
            [
             0.6666666666666666,
             "#ed7953"
            ],
            [
             0.7777777777777778,
             "#fb9f3a"
            ],
            [
             0.8888888888888888,
             "#fdca26"
            ],
            [
             1,
             "#f0f921"
            ]
           ],
           "sequentialminus": [
            [
             0,
             "#0d0887"
            ],
            [
             0.1111111111111111,
             "#46039f"
            ],
            [
             0.2222222222222222,
             "#7201a8"
            ],
            [
             0.3333333333333333,
             "#9c179e"
            ],
            [
             0.4444444444444444,
             "#bd3786"
            ],
            [
             0.5555555555555556,
             "#d8576b"
            ],
            [
             0.6666666666666666,
             "#ed7953"
            ],
            [
             0.7777777777777778,
             "#fb9f3a"
            ],
            [
             0.8888888888888888,
             "#fdca26"
            ],
            [
             1,
             "#f0f921"
            ]
           ]
          },
          "colorway": [
           "#636efa",
           "#EF553B",
           "#00cc96",
           "#ab63fa",
           "#FFA15A",
           "#19d3f3",
           "#FF6692",
           "#B6E880",
           "#FF97FF",
           "#FECB52"
          ],
          "font": {
           "color": "#2a3f5f"
          },
          "geo": {
           "bgcolor": "white",
           "lakecolor": "white",
           "landcolor": "#E5ECF6",
           "showlakes": true,
           "showland": true,
           "subunitcolor": "white"
          },
          "hoverlabel": {
           "align": "left"
          },
          "hovermode": "closest",
          "mapbox": {
           "style": "light"
          },
          "paper_bgcolor": "white",
          "plot_bgcolor": "#E5ECF6",
          "polar": {
           "angularaxis": {
            "gridcolor": "white",
            "linecolor": "white",
            "ticks": ""
           },
           "bgcolor": "#E5ECF6",
           "radialaxis": {
            "gridcolor": "white",
            "linecolor": "white",
            "ticks": ""
           }
          },
          "scene": {
           "xaxis": {
            "backgroundcolor": "#E5ECF6",
            "gridcolor": "white",
            "gridwidth": 2,
            "linecolor": "white",
            "showbackground": true,
            "ticks": "",
            "zerolinecolor": "white"
           },
           "yaxis": {
            "backgroundcolor": "#E5ECF6",
            "gridcolor": "white",
            "gridwidth": 2,
            "linecolor": "white",
            "showbackground": true,
            "ticks": "",
            "zerolinecolor": "white"
           },
           "zaxis": {
            "backgroundcolor": "#E5ECF6",
            "gridcolor": "white",
            "gridwidth": 2,
            "linecolor": "white",
            "showbackground": true,
            "ticks": "",
            "zerolinecolor": "white"
           }
          },
          "shapedefaults": {
           "line": {
            "color": "#2a3f5f"
           }
          },
          "ternary": {
           "aaxis": {
            "gridcolor": "white",
            "linecolor": "white",
            "ticks": ""
           },
           "baxis": {
            "gridcolor": "white",
            "linecolor": "white",
            "ticks": ""
           },
           "bgcolor": "#E5ECF6",
           "caxis": {
            "gridcolor": "white",
            "linecolor": "white",
            "ticks": ""
           }
          },
          "title": {
           "x": 0.05
          },
          "xaxis": {
           "automargin": true,
           "gridcolor": "white",
           "linecolor": "white",
           "ticks": "",
           "title": {
            "standoff": 15
           },
           "zerolinecolor": "white",
           "zerolinewidth": 2
          },
          "yaxis": {
           "automargin": true,
           "gridcolor": "white",
           "linecolor": "white",
           "ticks": "",
           "title": {
            "standoff": 15
           },
           "zerolinecolor": "white",
           "zerolinewidth": 2
          }
         }
        },
        "title": {
         "text": "График ЗП",
         "x": 0.5
        },
        "xaxis": {
         "anchor": "y",
         "domain": [
          0,
          1
         ],
         "title": {
          "text": "salary"
         }
        },
        "yaxis": {
         "anchor": "x",
         "domain": [
          0,
          1
         ]
        }
       }
      }
     },
     "metadata": {},
     "output_type": "display_data"
    }
   ],
   "source": [
    "import plotly.express as px\n",
    "#  создаём список для фильтра вакансий\n",
    "pro_list =[\"data scientist\",\"data science\",\"исследователь данных\",\"machine learning\",\"машинн%обучен\"]\n",
    "str_list=\"( name LIKE '%ML%' AND name NOT LIKE '%HTML%' )\"\n",
    "for index in pro_list:\n",
    "    str_list+=f\" OR name iLIKE '%{index}%'\"\n",
    "\n",
    "# код запроса представляет из себя строковую переменную\n",
    "# фильтруем по вакансии и убираем если зарплата не заполнена в 2 ячейках\n",
    "# группируем по опыту работы\n",
    "# с помощью функции \"COALESCE\" меняем ячейку с NULL на ячейку с заполненой зарплатой, \n",
    "# а фильток отсек условия что сразу в 2 ячейках NULL\n",
    "# суммируем делим на 2 и находим среднее значение и округляем\n",
    "query = f'''SELECT (COALESCE(salary_from , salary_to)+COALESCE(salary_to , salary_from))/2 AS salary           \n",
    "            FROM vacancies\n",
    "            WHERE ({str_list}) AND (salary_from IS NOT NULL OR salary_to IS NOT NULL)\n",
    "        ''' \n",
    "\n",
    "# вывести результат\n",
    "fig=px.box(\n",
    "zapr(query),\n",
    "x= 'salary',\n",
    "points=\"all\"\n",
    ").update_layout( \n",
    "    title={\"text\": \"График ЗП\", \"x\": 0.5}\n",
    ")\n",
    "fig.show()         \n"
   ]
  },
  {
   "cell_type": "code",
   "execution_count": null,
   "metadata": {},
   "outputs": [],
   "source": [
    "# не забываем закрыть соединение после окончания работы\n",
    "connection.close()"
   ]
  }
 ],
 "metadata": {
  "kernelspec": {
   "display_name": "Python 3.8.10 64-bit",
   "language": "python",
   "name": "python3"
  },
  "language_info": {
   "codemirror_mode": {
    "name": "ipython",
    "version": 3
   },
   "file_extension": ".py",
   "mimetype": "text/x-python",
   "name": "python",
   "nbconvert_exporter": "python",
   "pygments_lexer": "ipython3",
   "version": "3.8.10"
  },
  "orig_nbformat": 4,
  "vscode": {
   "interpreter": {
    "hash": "541247ef5e2c485a853fcdfc5770898360c10253d62f064c141db27a35a34903"
   }
  }
 },
 "nbformat": 4,
 "nbformat_minor": 2
}
