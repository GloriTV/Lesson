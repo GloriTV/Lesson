{
 "cells": [
  {
   "cell_type": "code",
   "execution_count": 1,
   "metadata": {},
   "outputs": [],
   "source": [
    "import numpy as np #для матричных вычислений\n",
    "import pandas as pd #для анализа и предобработки данных\n",
    "import matplotlib.pyplot as plt #для визуализации\n",
    "import seaborn as sns #для визуализации\n",
    "\n",
    "from sklearn import metrics #метрики\n",
    "\n",
    "from sklearn import ensemble #ансамбли"
   ]
  },
  {
   "cell_type": "code",
   "execution_count": 4,
   "metadata": {},
   "outputs": [],
   "source": [
    "wine_data = pd.read_csv('../../data/winequality-red.csv', sep=';')\n",
    "wine_data['quality'] = wine_data['quality'].apply(lambda x: 1 if x>=6 else 0)\n",
    "X = wine_data.drop('quality', axis=1)\n",
    "y = wine_data['quality']"
   ]
  },
  {
   "cell_type": "code",
   "execution_count": 5,
   "metadata": {},
   "outputs": [],
   "source": [
    "from sklearn.model_selection import train_test_split\n",
    "X_train, X_test, y_train, y_test = train_test_split(X, y, test_size=0.2, random_state=42)"
   ]
  },
  {
   "cell_type": "markdown",
   "metadata": {},
   "source": [
    "### Задание 7.5\n",
    "\n",
    "Обучите на тренировочной выборке (X_train, y_train) модель случайного леса,\n",
    "1. состоящего из 500 деревьев. \n",
    "2. Максимальная глубина каждого из деревьев — 8. \n",
    "3. Минимальное число объектов в листе — 10. \n",
    "4. В качестве критерия информативности используйте критерий Джини.\n",
    "5. Количество признаков, на которых обучается каждое из деревьев, возьмите как $\\sqrt{m}$ , где $m$ — общее количество признаков. \n",
    "6. В качестве значения параметра random_state возьмите число 42.\n",
    "\n",
    "Сделайте предсказание качества вина для тренировочного и тестового наборов данных.\n",
    "\n",
    "Рассчитайте метрику accuracy для каждого набора и запишите её в качестве ответа с точностью до двух знаков после точки-разделителя\n"
   ]
  },
  {
   "cell_type": "code",
   "execution_count": 9,
   "metadata": {},
   "outputs": [
    {
     "name": "stdout",
     "output_type": "stream",
     "text": [
      "Accuracy на тренировочной выборке: 0.85\n",
      "Accuracy на тестовой выборке: 0.75\n"
     ]
    }
   ],
   "source": [
    "rf_clf_2d = ensemble.RandomForestClassifier(\n",
    "    n_estimators=500, #число деревьев    \n",
    "    max_depth=8, #максимальная глубина дерева\n",
    "    min_samples_leaf=10,# Минимальное число объектов в листе\n",
    "    criterion='gini', #критерий эффективности\n",
    "    max_features='sqrt', #число признаков из метода случайных подространств\n",
    "    random_state=42 #генератор случайных чисел\n",
    ")\n",
    "#Обучаем модель \n",
    "rf_clf_2d.fit(X_train, y_train)\n",
    "\n",
    "#Делаем предсказание класса\n",
    "y_pred = rf_clf_2d.predict(X_train)\n",
    "#Выводим отчёт о метриках\n",
    "print('Accuracy на тренировочной выборке: {}'.format(round(metrics.accuracy_score(y_train, y_pred),2)))\n",
    "\n",
    "#Делаем предсказание класса\n",
    "y_pred = rf_clf_2d.predict(X_test)\n",
    "#Выводим отчёт о метриках\n",
    "print('Accuracy на тестовой выборке: {}'.format(round(metrics.accuracy_score(y_test , y_pred),2)))"
   ]
  }
 ],
 "metadata": {
  "kernelspec": {
   "display_name": "Python 3.8.10 64-bit",
   "language": "python",
   "name": "python3"
  },
  "language_info": {
   "codemirror_mode": {
    "name": "ipython",
    "version": 3
   },
   "file_extension": ".py",
   "mimetype": "text/x-python",
   "name": "python",
   "nbconvert_exporter": "python",
   "pygments_lexer": "ipython3",
   "version": "3.8.10"
  },
  "orig_nbformat": 4,
  "vscode": {
   "interpreter": {
    "hash": "541247ef5e2c485a853fcdfc5770898360c10253d62f064c141db27a35a34903"
   }
  }
 },
 "nbformat": 4,
 "nbformat_minor": 2
}
