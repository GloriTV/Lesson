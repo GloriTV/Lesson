{
 "cells": [
  {
   "cell_type": "code",
   "execution_count": 1,
   "metadata": {},
   "outputs": [],
   "source": [
    "import numpy as np #для матричных вычислений\n",
    "import pandas as pd #для анализа и предобработки данных\n",
    "import matplotlib.pyplot as plt #для визуализации\n",
    "import seaborn as sns #для визуализации\n",
    "\n",
    "from sklearn import metrics #метрики\n",
    "\n",
    "import warnings # для игнорирования предупреждений\n",
    "#Игнорируем предупреждения\n",
    "warnings.filterwarnings('ignore')\n",
    "\n",
    "\n",
    "# Устанавливаем стиль визуализаций в matplotlib\n",
    "%matplotlib inline\n",
    "plt.style.use('seaborn')\n",
    "\n",
    "from sklearn import tree #модели деревьев решения"
   ]
  },
  {
   "cell_type": "code",
   "execution_count": 2,
   "metadata": {},
   "outputs": [
    {
     "data": {
      "text/html": [
       "<div>\n",
       "<style scoped>\n",
       "    .dataframe tbody tr th:only-of-type {\n",
       "        vertical-align: middle;\n",
       "    }\n",
       "\n",
       "    .dataframe tbody tr th {\n",
       "        vertical-align: top;\n",
       "    }\n",
       "\n",
       "    .dataframe thead th {\n",
       "        text-align: right;\n",
       "    }\n",
       "</style>\n",
       "<table border=\"1\" class=\"dataframe\">\n",
       "  <thead>\n",
       "    <tr style=\"text-align: right;\">\n",
       "      <th></th>\n",
       "      <th>Pregnancies</th>\n",
       "      <th>Glucose</th>\n",
       "      <th>BloodPressure</th>\n",
       "      <th>SkinThickness</th>\n",
       "      <th>BMI</th>\n",
       "      <th>DiabetesPedigreeFunction</th>\n",
       "      <th>Age</th>\n",
       "      <th>Outcome</th>\n",
       "    </tr>\n",
       "  </thead>\n",
       "  <tbody>\n",
       "    <tr>\n",
       "      <th>0</th>\n",
       "      <td>6</td>\n",
       "      <td>98.0</td>\n",
       "      <td>58.0</td>\n",
       "      <td>33.0</td>\n",
       "      <td>34.0</td>\n",
       "      <td>0.430</td>\n",
       "      <td>43</td>\n",
       "      <td>0</td>\n",
       "    </tr>\n",
       "    <tr>\n",
       "      <th>1</th>\n",
       "      <td>2</td>\n",
       "      <td>112.0</td>\n",
       "      <td>75.0</td>\n",
       "      <td>32.0</td>\n",
       "      <td>35.7</td>\n",
       "      <td>0.148</td>\n",
       "      <td>21</td>\n",
       "      <td>0</td>\n",
       "    </tr>\n",
       "    <tr>\n",
       "      <th>2</th>\n",
       "      <td>2</td>\n",
       "      <td>108.0</td>\n",
       "      <td>64.0</td>\n",
       "      <td>29.0</td>\n",
       "      <td>30.8</td>\n",
       "      <td>0.158</td>\n",
       "      <td>21</td>\n",
       "      <td>0</td>\n",
       "    </tr>\n",
       "    <tr>\n",
       "      <th>3</th>\n",
       "      <td>8</td>\n",
       "      <td>107.0</td>\n",
       "      <td>80.0</td>\n",
       "      <td>29.0</td>\n",
       "      <td>24.6</td>\n",
       "      <td>0.856</td>\n",
       "      <td>34</td>\n",
       "      <td>0</td>\n",
       "    </tr>\n",
       "    <tr>\n",
       "      <th>4</th>\n",
       "      <td>7</td>\n",
       "      <td>136.0</td>\n",
       "      <td>90.0</td>\n",
       "      <td>29.0</td>\n",
       "      <td>29.9</td>\n",
       "      <td>0.210</td>\n",
       "      <td>50</td>\n",
       "      <td>0</td>\n",
       "    </tr>\n",
       "  </tbody>\n",
       "</table>\n",
       "</div>"
      ],
      "text/plain": [
       "   Pregnancies  Glucose  BloodPressure  SkinThickness   BMI  \\\n",
       "0            6     98.0           58.0           33.0  34.0   \n",
       "1            2    112.0           75.0           32.0  35.7   \n",
       "2            2    108.0           64.0           29.0  30.8   \n",
       "3            8    107.0           80.0           29.0  24.6   \n",
       "4            7    136.0           90.0           29.0  29.9   \n",
       "\n",
       "   DiabetesPedigreeFunction  Age  Outcome  \n",
       "0                     0.430   43        0  \n",
       "1                     0.148   21        0  \n",
       "2                     0.158   21        0  \n",
       "3                     0.856   34        0  \n",
       "4                     0.210   50        0  "
      ]
     },
     "execution_count": 2,
     "metadata": {},
     "output_type": "execute_result"
    }
   ],
   "source": [
    "diabetes_data = pd.read_csv('../../data/diabetes_cleaned.csv')\n",
    "diabetes_data.head()"
   ]
  },
  {
   "cell_type": "code",
   "execution_count": 3,
   "metadata": {},
   "outputs": [],
   "source": [
    "#Создаём матрицу признаков X и столбец с ответами y\n",
    "X = diabetes_data.drop('Outcome', axis=1)\n",
    "y = diabetes_data['Outcome']"
   ]
  },
  {
   "cell_type": "markdown",
   "metadata": {},
   "source": [
    "### Задание 6.10\n",
    "Для выполнения задания используйте датасет о диабете из данного модуля. Для обучения используйте все доступные признаки.\n",
    "\n",
    "Обучите дерево решений с максимальной глубиной 6 и критерием информативности Джини. В качестве значения параметра random_state возьмите число 42.\n",
    "\n",
    "Сделайте предсказание и рассчитайте -меру.\n",
    "\n",
    "Чему равно значение метрики? Ответ запишите с точностью до второго знака после точки-разделителя."
   ]
  },
  {
   "cell_type": "code",
   "execution_count": 8,
   "metadata": {},
   "outputs": [
    {
     "name": "stdout",
     "output_type": "stream",
     "text": [
      "              precision    recall  f1-score   support\n",
      "\n",
      "           0       0.86      0.93      0.90       493\n",
      "           1       0.85      0.73      0.78       264\n",
      "\n",
      "    accuracy                           0.86       757\n",
      "   macro avg       0.85      0.83      0.84       757\n",
      "weighted avg       0.86      0.86      0.86       757\n",
      "\n",
      "Значение F1 метрики = 0.78\n"
     ]
    }
   ],
   "source": [
    "#Создаём объект класса DecisionTreeClassifier\n",
    "dt_clf_full = tree.DecisionTreeClassifier(\n",
    "    criterion='gini', #критерий эффективности\n",
    "    max_depth=6, #максимальная глубина дерева\n",
    "    random_state=42 #генератор случайных чисел\n",
    ")\n",
    "#Обучаем модель по алгоритму CART\n",
    "dt_clf_full.fit(X, y)\n",
    "\n",
    "#Делаем предсказание класса\n",
    "y_pred = dt_clf_full.predict(X)\n",
    "#Выводим отчёт о метриках\n",
    "print(metrics.classification_report(y, y_pred))\n",
    "print('Значение F1 метрики = {}'.format(round(metrics.f1_score(y, y_pred),2)))"
   ]
  }
 ],
 "metadata": {
  "kernelspec": {
   "display_name": "Python 3.8.10 64-bit",
   "language": "python",
   "name": "python3"
  },
  "language_info": {
   "codemirror_mode": {
    "name": "ipython",
    "version": 3
   },
   "file_extension": ".py",
   "mimetype": "text/x-python",
   "name": "python",
   "nbconvert_exporter": "python",
   "pygments_lexer": "ipython3",
   "version": "3.8.10"
  },
  "orig_nbformat": 4,
  "vscode": {
   "interpreter": {
    "hash": "541247ef5e2c485a853fcdfc5770898360c10253d62f064c141db27a35a34903"
   }
  }
 },
 "nbformat": 4,
 "nbformat_minor": 2
}
