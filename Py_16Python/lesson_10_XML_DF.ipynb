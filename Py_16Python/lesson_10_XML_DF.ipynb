{
 "cells": [
  {
   "cell_type": "code",
   "execution_count": 2,
   "metadata": {},
   "outputs": [
    {
     "data": {
      "text/html": [
       "<div>\n",
       "<style scoped>\n",
       "    .dataframe tbody tr th:only-of-type {\n",
       "        vertical-align: middle;\n",
       "    }\n",
       "\n",
       "    .dataframe tbody tr th {\n",
       "        vertical-align: top;\n",
       "    }\n",
       "\n",
       "    .dataframe thead th {\n",
       "        text-align: right;\n",
       "    }\n",
       "</style>\n",
       "<table border=\"1\" class=\"dataframe\">\n",
       "  <thead>\n",
       "    <tr style=\"text-align: right;\">\n",
       "      <th></th>\n",
       "      <th>name</th>\n",
       "      <th>price</th>\n",
       "      <th>weight</th>\n",
       "      <th>class</th>\n",
       "    </tr>\n",
       "  </thead>\n",
       "  <tbody>\n",
       "    <tr>\n",
       "      <th>0</th>\n",
       "      <td>Кура</td>\n",
       "      <td>40</td>\n",
       "      <td>300</td>\n",
       "      <td>Мясо</td>\n",
       "    </tr>\n",
       "    <tr>\n",
       "      <th>1</th>\n",
       "      <td>Греча</td>\n",
       "      <td>20</td>\n",
       "      <td>200</td>\n",
       "      <td>Крупа</td>\n",
       "    </tr>\n",
       "  </tbody>\n",
       "</table>\n",
       "</div>"
      ],
      "text/plain": [
       "    name price weight  class\n",
       "0   Кура    40    300   Мясо\n",
       "1  Греча    20    200  Крупа"
      ]
     },
     "metadata": {},
     "output_type": "display_data"
    }
   ],
   "source": [
    "import xml.etree.ElementTree as ET # Библиотека\n",
    "tree = ET.parse('../data/menu.xml') # Загрузка XML\n",
    "root = tree.getroot() # Передача дерева в переменную\n",
    "\n",
    "import pandas as pd # Библиотека\n",
    "column_names = ['name', 'price', 'weight', 'class'] # Создаём имена столбцов\n",
    "df_list = [] # Создаём пустой список для сохранения и передачи в DF\n",
    "\n",
    "for dish in root: # Перебиваем ветви дерива\n",
    "    row = [dish.attrib['name'], dish[0].text, dish[1].text, dish[2].text] # Создали list с именем, цена , вес, класс\n",
    "    df_list.append(row) # Добавляем в список\n",
    "    \n",
    "df = pd.DataFrame(df_list, columns=column_names) # В носим в DF\n",
    "display(df)"
   ]
  },
  {
   "cell_type": "markdown",
   "metadata": {},
   "source": [
    "Чтобы создать корень дерева, используем метод Element() из класса ElementTree:"
   ]
  },
  {
   "cell_type": "code",
   "execution_count": 3,
   "metadata": {},
   "outputs": [
    {
     "data": {
      "text/plain": [
       "<Element 'menu' at 0x0000000008040A90>"
      ]
     },
     "metadata": {},
     "output_type": "display_data"
    }
   ],
   "source": [
    "import xml.etree.ElementTree as ET\n",
    "\n",
    "new_root = ET.Element('menu')\n",
    "display(new_root)"
   ]
  },
  {
   "cell_type": "markdown",
   "metadata": {},
   "source": [
    "Теперь мы можем добавлять новые узлы в наше дерево, используя метод SubElement() из того же класса."
   ]
  },
  {
   "cell_type": "code",
   "execution_count": 4,
   "metadata": {},
   "outputs": [
    {
     "data": {
      "text/plain": [
       "[<Element 'dish' at 0x0000000008040C70>,\n",
       " <Element 'dish' at 0x0000000018DBAEA0>]"
      ]
     },
     "metadata": {},
     "output_type": "display_data"
    }
   ],
   "source": [
    "dish1 = ET.SubElement(new_root, 'dish', name='Кура')\n",
    "\n",
    "dish2 = ET.SubElement(new_root, 'dish', name='Греча')\n",
    "\n",
    "display(list(new_root))"
   ]
  },
  {
   "cell_type": "markdown",
   "metadata": {},
   "source": [
    "Добавим в создаваемую структуру по три потомка (атрибута) к двум новым узлам, которые будут содержать информацию о блюде — о его цене (price), весе (weight) и классе (class), а также значение этих атрибутов:"
   ]
  },
  {
   "cell_type": "code",
   "execution_count": 5,
   "metadata": {},
   "outputs": [
    {
     "data": {
      "text/plain": [
       "[<Element 'price' at 0x0000000018D9F8B0>,\n",
       " <Element 'weight' at 0x0000000008040D60>,\n",
       " <Element 'class' at 0x0000000018DD0770>]"
      ]
     },
     "metadata": {},
     "output_type": "display_data"
    },
    {
     "data": {
      "text/plain": [
       "[<Element 'price' at 0x00000000058985E0>,\n",
       " <Element 'weight' at 0x0000000005898590>,\n",
       " <Element 'class' at 0x00000000058ACC70>]"
      ]
     },
     "metadata": {},
     "output_type": "display_data"
    }
   ],
   "source": [
    "price1 = ET.SubElement(dish1, \"price\").text = \"40\"\n",
    "weight1 = ET.SubElement(dish1, \"weight\").text = \"300\"\n",
    "class1 = ET.SubElement(dish1, \"class\").text = \"Мясо\"\n",
    "display(list(dish1))\n",
    "\n",
    "price2 = ET.SubElement(dish2, \"price\").text = \"20\"\n",
    "weight2 = ET.SubElement(dish2, \"weight\").text = \"200\"\n",
    "class2 = ET.SubElement(dish2, \"class\").text = \"Крупа\"\n",
    "display(list(dish2))"
   ]
  },
  {
   "cell_type": "markdown",
   "metadata": {},
   "source": [
    "Проверим визуально корректность созданной нами структуры, выполнив фрагмент кода, разработанного ранее:"
   ]
  },
  {
   "cell_type": "code",
   "execution_count": 6,
   "metadata": {},
   "outputs": [
    {
     "name": "stdout",
     "output_type": "stream",
     "text": [
      "Кура price 40\n",
      "Кура weight 300\n",
      "Кура class Мясо\n",
      "\n",
      "Греча price 20\n",
      "Греча weight 200\n",
      "Греча class Крупа\n",
      "\n"
     ]
    }
   ],
   "source": [
    "for dish in new_root:    \n",
    "    for param in dish:\n",
    "        print(dish.attrib['name'], param.tag, param.text)\n",
    "    print()"
   ]
  },
  {
   "cell_type": "markdown",
   "metadata": {},
   "source": [
    "Преобразуем созданный нами объект типа ElementTree.Element в строку c помощью метода tostring(), передав наше новое дерево как аргумент. Сохраним эту строку на диске, используя стандартные средства Python::"
   ]
  },
  {
   "cell_type": "code",
   "execution_count": 12,
   "metadata": {},
   "outputs": [],
   "source": [
    "new_root_string = ET.tostring(new_root)\n",
    "\n",
    "with open(\"data/new_menu.xml\", \"wb\") as f:\n",
    "    f.write(new_root_string)"
   ]
  },
  {
   "cell_type": "code",
   "execution_count": 10,
   "metadata": {},
   "outputs": [],
   "source": [
    "ET.ElementTree(new_root).write('data/new_menu_good.xml', encoding=\"utf-8\")"
   ]
  }
 ],
 "metadata": {
  "kernelspec": {
   "display_name": "Python 3.8.10 64-bit",
   "language": "python",
   "name": "python3"
  },
  "language_info": {
   "codemirror_mode": {
    "name": "ipython",
    "version": 3
   },
   "file_extension": ".py",
   "mimetype": "text/x-python",
   "name": "python",
   "nbconvert_exporter": "python",
   "pygments_lexer": "ipython3",
   "version": "3.8.10"
  },
  "orig_nbformat": 4,
  "vscode": {
   "interpreter": {
    "hash": "541247ef5e2c485a853fcdfc5770898360c10253d62f064c141db27a35a34903"
   }
  }
 },
 "nbformat": 4,
 "nbformat_minor": 2
}
