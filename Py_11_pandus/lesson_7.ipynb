{
 "cells": [
  {
   "cell_type": "code",
   "execution_count": 1,
   "metadata": {},
   "outputs": [
    {
     "data": {
      "text/html": [
       "<div>\n",
       "<style scoped>\n",
       "    .dataframe tbody tr th:only-of-type {\n",
       "        vertical-align: middle;\n",
       "    }\n",
       "\n",
       "    .dataframe tbody tr th {\n",
       "        vertical-align: top;\n",
       "    }\n",
       "\n",
       "    .dataframe thead th {\n",
       "        text-align: right;\n",
       "    }\n",
       "</style>\n",
       "<table border=\"1\" class=\"dataframe\">\n",
       "  <thead>\n",
       "    <tr style=\"text-align: right;\">\n",
       "      <th></th>\n",
       "      <th>starttime</th>\n",
       "      <th>stoptime</th>\n",
       "      <th>start station name</th>\n",
       "      <th>end station name</th>\n",
       "      <th>usertype</th>\n",
       "    </tr>\n",
       "  </thead>\n",
       "  <tbody>\n",
       "    <tr>\n",
       "      <th>count</th>\n",
       "      <td>300000</td>\n",
       "      <td>300000</td>\n",
       "      <td>299831</td>\n",
       "      <td>299831</td>\n",
       "      <td>300000</td>\n",
       "    </tr>\n",
       "    <tr>\n",
       "      <th>unique</th>\n",
       "      <td>299836</td>\n",
       "      <td>299813</td>\n",
       "      <td>759</td>\n",
       "      <td>765</td>\n",
       "      <td>2</td>\n",
       "    </tr>\n",
       "    <tr>\n",
       "      <th>top</th>\n",
       "      <td>2018-09-02 13:59:41.7770</td>\n",
       "      <td>2018-09-04 17:51:07.9110</td>\n",
       "      <td>Grand Army Plaza &amp; Central Park S</td>\n",
       "      <td>West St &amp; Chambers St</td>\n",
       "      <td>Subscriber</td>\n",
       "    </tr>\n",
       "    <tr>\n",
       "      <th>freq</th>\n",
       "      <td>2</td>\n",
       "      <td>2</td>\n",
       "      <td>1928</td>\n",
       "      <td>1963</td>\n",
       "      <td>232202</td>\n",
       "    </tr>\n",
       "  </tbody>\n",
       "</table>\n",
       "</div>"
      ],
      "text/plain": [
       "                       starttime                  stoptime  \\\n",
       "count                     300000                    300000   \n",
       "unique                    299836                    299813   \n",
       "top     2018-09-02 13:59:41.7770  2018-09-04 17:51:07.9110   \n",
       "freq                           2                         2   \n",
       "\n",
       "                       start station name       end station name    usertype  \n",
       "count                              299831                 299831      300000  \n",
       "unique                                759                    765           2  \n",
       "top     Grand Army Plaza & Central Park S  West St & Chambers St  Subscriber  \n",
       "freq                                 1928                   1963      232202  "
      ]
     },
     "execution_count": 1,
     "metadata": {},
     "output_type": "execute_result"
    }
   ],
   "source": [
    "import pandas as pd\n",
    "melb_df = pd.read_csv('data/citibike-tripdata.csv', sep=',')\n",
    "#data_df = pd.read_csv('https://raw.githubusercontent.com/justmarkham/pandas-videos/master/data/ufo.csv')\n",
    "# melb_df.head()\n",
    "# melb_df.shape # (300000, 14)\n",
    "# melb_df.info()\n",
    "melb_df.describe(include=['object'])"
   ]
  },
  {
   "cell_type": "markdown",
   "metadata": {},
   "source": [
    "<class 'pandas.core.frame.DataFrame'>\n",
    "RangeIndex: 300000 entries, 0 to 299999\n",
    "Data columns (total 14 columns):\n",
    " #   Column                   Non-Null Count   Dtype  \n",
    "---  ------                   --------------   -----  \n",
    " 0   starttime                300000 non-null  object \n",
    " 1   stoptime                 300000 non-null  object \n",
    " 2   start station id         299831 non-null  float64\n",
    " 3   start station name       299831 non-null  object \n",
    " 4   start station latitude   300000 non-null  float64\n",
    " 5   start station longitude  300000 non-null  float64\n",
    " 6   end station id           299831 non-null  float64\n",
    " 7   end station name         299831 non-null  object \n",
    " 8   end station latitude     300000 non-null  float64\n",
    " 9   end station longitude    300000 non-null  float64\n",
    " 10  bikeid                   300000 non-null  int64  \n",
    " 11  usertype                 300000 non-null  object \n",
    " 12  birth year               300000 non-null  int64  \n",
    " 13  gender                   300000 non-null  int64  \n",
    "dtypes: float64(6), int64(3), object(5)\n",
    "memory usage: 32.0+ MB"
   ]
  },
  {
   "cell_type": "markdown",
   "metadata": {},
   "source": [
    "starttime — время начала поездки (дата, время);\n",
    "stoptime — время окончания поездки (дата, время);\n",
    "start station id — идентификатор стартовой стоянки;\n",
    "start station name — название стартовой стоянки;\n",
    "start station latitude, start station longitude — географическая широта и долгота стартовой стоянки;\n",
    "end station id — идентификатор конечной стоянки;\n",
    "end station name — название конечной стоянки;\n",
    "end station latitude, end station longitude — географическая широта и долгота конечной стоянки;\n",
    "bikeid — идентификатор велосипеда;\n",
    "usertype — тип пользователя (Customer — клиент с подпиской на 24 часа или на три дня, Subscriber — подписчик с годовой арендой велосипеда);\n",
    "birth year — год рождения клиента;\n",
    "gender — пол клиента (0 — неизвестный, 1 — мужчина, 2 — женщина)."
   ]
  },
  {
   "cell_type": "markdown",
   "metadata": {},
   "source": [
    "6.1"
   ]
  },
  {
   "cell_type": "code",
   "execution_count": 2,
   "metadata": {},
   "outputs": [
    {
     "data": {
      "text/plain": [
       "169"
      ]
     },
     "execution_count": 2,
     "metadata": {},
     "output_type": "execute_result"
    }
   ],
   "source": [
    "melb_df['start station id'].isnull().sum ()"
   ]
  },
  {
   "cell_type": "markdown",
   "metadata": {},
   "source": [
    "6.2"
   ]
  },
  {
   "cell_type": "code",
   "execution_count": 3,
   "metadata": {},
   "outputs": [
    {
     "name": "stdout",
     "output_type": "stream",
     "text": [
      "<class 'pandas.core.frame.DataFrame'>\n",
      "RangeIndex: 300000 entries, 0 to 299999\n",
      "Data columns (total 14 columns):\n",
      " #   Column                   Non-Null Count   Dtype  \n",
      "---  ------                   --------------   -----  \n",
      " 0   starttime                300000 non-null  object \n",
      " 1   stoptime                 300000 non-null  object \n",
      " 2   start station id         299831 non-null  float64\n",
      " 3   start station name       299831 non-null  object \n",
      " 4   start station latitude   300000 non-null  float64\n",
      " 5   start station longitude  300000 non-null  float64\n",
      " 6   end station id           299831 non-null  float64\n",
      " 7   end station name         299831 non-null  object \n",
      " 8   end station latitude     300000 non-null  float64\n",
      " 9   end station longitude    300000 non-null  float64\n",
      " 10  bikeid                   300000 non-null  int64  \n",
      " 11  usertype                 300000 non-null  object \n",
      " 12  birth year               300000 non-null  int64  \n",
      " 13  gender                   300000 non-null  int64  \n",
      "dtypes: float64(6), int64(3), object(5)\n",
      "memory usage: 32.0+ MB\n"
     ]
    }
   ],
   "source": [
    "# melb_df['starttime'].dtype\n",
    "melb_df.info()"
   ]
  },
  {
   "cell_type": "markdown",
   "metadata": {},
   "source": [
    "6.3"
   ]
  },
  {
   "cell_type": "code",
   "execution_count": 4,
   "metadata": {},
   "outputs": [
    {
     "data": {
      "text/plain": [
       "0    281.0\n",
       "Name: start station id, dtype: float64"
      ]
     },
     "execution_count": 4,
     "metadata": {},
     "output_type": "execute_result"
    }
   ],
   "source": [
    "# melb_df['start station id'].value_counts()\n",
    "# melb_df['start station id'].describe()\n",
    "# melb_df['start station id'].value_counts()\n",
    "melb_df['start station id'].mode()\n"
   ]
  },
  {
   "cell_type": "markdown",
   "metadata": {},
   "source": [
    "6.4"
   ]
  },
  {
   "cell_type": "code",
   "execution_count": 5,
   "metadata": {},
   "outputs": [
    {
     "data": {
      "text/plain": [
       "0    33887\n",
       "Name: bikeid, dtype: int64"
      ]
     },
     "execution_count": 5,
     "metadata": {},
     "output_type": "execute_result"
    }
   ],
   "source": [
    "melb_df['bikeid'].mode()"
   ]
  },
  {
   "cell_type": "markdown",
   "metadata": {},
   "source": [
    "6.5"
   ]
  },
  {
   "cell_type": "code",
   "execution_count": 6,
   "metadata": {},
   "outputs": [
    {
     "data": {
      "text/plain": [
       "usertype\n",
       "Subscriber    0.77\n",
       "Customer      0.23\n",
       "Name: proportion, dtype: float64"
      ]
     },
     "execution_count": 6,
     "metadata": {},
     "output_type": "execute_result"
    }
   ],
   "source": [
    "# melb_df[(melb_df['usertype']=='Subscriber') | (melb_df['usertype']=='Customer')]['usertype']\n",
    "round(melb_df['usertype'].value_counts(normalize=True),2)"
   ]
  },
  {
   "cell_type": "code",
   "execution_count": 7,
   "metadata": {},
   "outputs": [
    {
     "name": "stdout",
     "output_type": "stream",
     "text": [
      "0.77\n"
     ]
    }
   ],
   "source": [
    "mode_usertype = melb_df['usertype'].mode()[0]\n",
    "count_mode_user = melb_df[melb_df['usertype'] == mode_usertype].shape[0]\n",
    "print(round(count_mode_user / melb_df.shape[0], 2))"
   ]
  },
  {
   "cell_type": "markdown",
   "metadata": {},
   "source": [
    "6.6"
   ]
  },
  {
   "cell_type": "code",
   "execution_count": 8,
   "metadata": {},
   "outputs": [
    {
     "data": {
      "text/plain": [
       "183582"
      ]
     },
     "execution_count": 8,
     "metadata": {},
     "output_type": "execute_result"
    }
   ],
   "source": [
    "melb_df['gender'].value_counts().max()"
   ]
  },
  {
   "cell_type": "code",
   "execution_count": 9,
   "metadata": {},
   "outputs": [
    {
     "name": "stdout",
     "output_type": "stream",
     "text": [
      "183582\n"
     ]
    }
   ],
   "source": [
    "male_count = melb_df[melb_df['gender'] == 1].shape[0]\n",
    "female_count = melb_df[melb_df['gender'] == 0].shape[0]\n",
    "print(max([male_count, female_count]))"
   ]
  },
  {
   "cell_type": "markdown",
   "metadata": {},
   "source": [
    "6.7"
   ]
  },
  {
   "cell_type": "markdown",
   "metadata": {},
   "source": [
    "pandas.to_datetime"
   ]
  },
  {
   "cell_type": "code",
   "execution_count": 10,
   "metadata": {},
   "outputs": [
    {
     "name": "stdout",
     "output_type": "stream",
     "text": [
      "Число уникальных стартовых и конечных стоянок\n",
      "759\n",
      "765\n",
      "\n",
      " минимальный возвраст участника 16\n",
      "\n",
      " Самой непопулярной стартовой стоянкой\n",
      "start station name\n",
      "Grand Army Plaza & Central Park S    1928\n",
      "Central Park S & 6 Ave               1909\n",
      "Pershing Square North                1873\n",
      "12 Ave & W 40 St                     1845\n",
      "West St & Chambers St                1835\n",
      "                                     ... \n",
      "NYCBS Depot - GOW                      15\n",
      "Franklin Ave & Empire Blvd             11\n",
      "Railroad Ave & Kay Ave                  9\n",
      "47 Ave & Skillman Ave                   7\n",
      "Eastern Pkwy & Washington Ave           6\n",
      "Name: count, Length: 759, dtype: int64\n",
      "\n",
      " На какой стоянки Наибольшее количество поездок завершается\n",
      "end station name\n",
      "West St & Chambers St     1963\n",
      "12 Ave & W 40 St          1909\n",
      "Pershing Square North     1850\n",
      "Central Park S & 6 Ave    1828\n",
      "E 17 St & Broadway        1804\n",
      "Name: count, dtype: int64\n"
     ]
    }
   ],
   "source": [
    "print('Число уникальных стартовых и конечных стоянок')\n",
    "print(melb_df['start station id'].nunique())\n",
    "print(melb_df['end station id'].nunique())\n",
    "\n",
    "# # melb_df.describe().loc[:, ['start station name','end station name']]\n",
    "\n",
    "# # найти год старта - год раждения min\n",
    "melb_df['starttime'] = pd.to_datetime(melb_df['starttime'], yearfirst=True)\n",
    "melb_df['stoptime']  = pd.to_datetime(melb_df['stoptime'],errors='coerce',  yearfirst=True)\n",
    "min_y=melb_df['starttime'].dt.year.min()\n",
    "\n",
    "# display(melb_df.loc[:,['starttime','stoptime']])\n",
    "print('\\n','минимальный возвраст участника', min_y-melb_df['birth year'].max())\n",
    "print('\\n','Самой непопулярной стартовой стоянкой')\n",
    "print(melb_df['start station name'].value_counts()) # Eastern Pkwy & Washington Ave 6\n",
    "print('\\n','На какой стоянки Наибольшее количество поездок завершается')\n",
    "print(melb_df['end station name'].value_counts().head()) # West St & Chambers St  1963"
   ]
  },
  {
   "cell_type": "markdown",
   "metadata": {},
   "source": [
    "6.8"
   ]
  },
  {
   "cell_type": "code",
   "execution_count": 11,
   "metadata": {},
   "outputs": [
    {
     "name": "stdout",
     "output_type": "stream",
     "text": [
      "759\n",
      "759\n",
      "765\n",
      "765\n",
      "Сколько столбцов 14\n",
      "Сколько столбцов осталось 12\n"
     ]
    }
   ],
   "source": [
    "# melb_df.head()\n",
    "print(melb_df['start station id'].nunique())\n",
    "print(melb_df['start station name'].nunique())\n",
    "print(melb_df['end station id'].nunique())\n",
    "print(melb_df['end station name'].nunique())\n",
    "print('Сколько столбцов',melb_df.shape[1])\n",
    "melb_df.drop(['start station name','end station name'],axis=1,inplace=True)\n",
    "print('Сколько столбцов осталось',melb_df.shape[1])"
   ]
  },
  {
   "cell_type": "markdown",
   "metadata": {},
   "source": [
    "6.9"
   ]
  },
  {
   "cell_type": "code",
   "execution_count": 12,
   "metadata": {},
   "outputs": [],
   "source": [
    "melb_df['age']=min_y-melb_df['birth year']\n",
    "melb_df.drop(['birth year'],axis=1,inplace=True)"
   ]
  },
  {
   "cell_type": "code",
   "execution_count": 13,
   "metadata": {},
   "outputs": [
    {
     "name": "stdout",
     "output_type": "stream",
     "text": [
      "клиенты старше 60: 11837\n"
     ]
    }
   ],
   "source": [
    "age60=melb_df[melb_df['age']>60]['age'].count()\n",
    "print('клиенты старше 60:',age60)"
   ]
  },
  {
   "cell_type": "markdown",
   "metadata": {},
   "source": [
    "6.10"
   ]
  },
  {
   "cell_type": "code",
   "execution_count": 14,
   "metadata": {},
   "outputs": [
    {
     "name": "stdout",
     "output_type": "stream",
     "text": [
      "длилась поездка под индексом 3= 0 days 00:07:16.837000\n"
     ]
    }
   ],
   "source": [
    "# data_time=lambda x: (x.dt.components['minutes']+x.dt.components['hours']*60)\n",
    "melb_df['trip duration']=melb_df['stoptime']-melb_df['starttime']\n",
    "print('длилась поездка под индексом 3=',melb_df.loc[3,'trip duration'])"
   ]
  },
  {
   "cell_type": "code",
   "execution_count": 15,
   "metadata": {},
   "outputs": [
    {
     "data": {
      "text/plain": [
       "Timedelta('0 days 00:07:16.837000')"
      ]
     },
     "execution_count": 15,
     "metadata": {},
     "output_type": "execute_result"
    }
   ],
   "source": [
    "melb_df['starttime'] = pd.to_datetime(melb_df['starttime'])\n",
    "melb_df['stoptime'] = pd.to_datetime(melb_df['stoptime'])\n",
    "melb_df['trip duration'] = (melb_df['stoptime'] - melb_df['starttime'])\n",
    "melb_df.loc[3, 'trip duration']"
   ]
  },
  {
   "cell_type": "markdown",
   "metadata": {},
   "source": [
    "6.11\n",
    "признак-мигалку"
   ]
  },
  {
   "cell_type": "code",
   "execution_count": 16,
   "metadata": {},
   "outputs": [
    {
     "name": "stdout",
     "output_type": "stream",
     "text": [
      "сколько поездок начиналось в выходные 115135\n"
     ]
    }
   ],
   "source": [
    "# weekend=melb_df['starttime'].dt.weekday\n",
    "# melb_df['weekend']=weekend.apply(lambda x: 1 if x>4 else 0)\n",
    "melb_df['weekend']=melb_df['starttime'].dt.weekday.apply(lambda x: 1 if x>4 else 0)\n",
    "# melb_df['weekend'].value_counts()\n",
    "print('сколько поездок начиналось в выходные',melb_df['weekend'].sum())\n",
    "# a=3\n",
    "# x=1 if a>4 else 0\n",
    "# x\n",
    "# melb_df['StreetType'] = street_types.apply(lambda x: x if x in popular_stypes else 'other')\n",
    "# apply(lambda x: 1 if x>4 else 0)\n"
   ]
  },
  {
   "cell_type": "markdown",
   "metadata": {},
   "source": [
    "6.12"
   ]
  },
  {
   "cell_type": "code",
   "execution_count": 19,
   "metadata": {},
   "outputs": [
    {
     "name": "stdout",
     "output_type": "stream",
     "text": [
      "Во сколько раз количество поездок, совершённых днём, больше, чем количество поездок, совёршенных ночью\n",
      "9\n"
     ]
    },
    {
     "data": {
      "text/plain": [
       "time_of_day\n",
       "day        143012\n",
       "morning     95530\n",
       "evening     46373\n",
       "night       15085\n",
       "Name: count, dtype: int64"
      ]
     },
     "execution_count": 19,
     "metadata": {},
     "output_type": "execute_result"
    }
   ],
   "source": [
    "# def hour_dt(x):\n",
    "#     if x<7:          return 'night'\n",
    "#     if x>6 and x<13: return 'morning'\n",
    "#     if x>12 and x<19: return 'day'\n",
    "#     if x>18 and x<23: return 'evening'\n",
    "\n",
    "# melb_df['time_of_day']=melb_df['starttime'].dt.hour.apply(hour_dt)\n",
    "\n",
    "y=['night','morning','day','evening','night']\n",
    "\n",
    "# melb_df['time_of_day']=melb_df['starttime'].dt.hour.apply(lambda x:y[(x-1)//6] if x>0 else y[0])\n",
    "\n",
    "melb_df['time_of_day']=melb_df['starttime'].dt.hour.apply(lambda x:y[(x-1)//6])\n",
    "\n",
    "# day_nig = melb_df[((melb_df['time_of_day']=='night') | (melb_df['time_of_day']=='day'))]['time_of_day']\n",
    "print('Во сколько раз количество поездок, совершённых днём, больше, чем количество поездок, совёршенных ночью')\n",
    "print(round(melb_df['time_of_day'].value_counts()['day']/melb_df['time_of_day'].value_counts()['night']))\n",
    "melb_df['time_of_day'].value_counts()"
   ]
  },
  {
   "cell_type": "code",
   "execution_count": 18,
   "metadata": {},
   "outputs": [
    {
     "name": "stdout",
     "output_type": "stream",
     "text": [
      "0 = 0\n",
      "1 = 0\n",
      "2 = 0\n",
      "3 = 0\n",
      "4 = 0\n",
      "5 = 0\n",
      "6 = 0\n",
      "7 = 1\n",
      "8 = 1\n",
      "9 = 1\n",
      "10 = 1\n",
      "11 = 1\n",
      "12 = 1\n",
      "13 = 2\n",
      "14 = 2\n",
      "15 = 2\n",
      "16 = 2\n",
      "17 = 2\n",
      "18 = 2\n",
      "19 = 3\n",
      "20 = 3\n",
      "21 = 3\n",
      "22 = 3\n",
      "23 = 3\n"
     ]
    }
   ],
   "source": [
    "for i in range(24):\n",
    "    print(i,'=',(i-1)//6 if i>0 else 0)"
   ]
  },
  {
   "cell_type": "markdown",
   "metadata": {},
   "source": [
    "starttime — время начала поездки (дата, время);\n",
    "stoptime — время окончания поездки (дата, время);\n",
    "start station id — идентификатор стартовой стоянки;\n",
    "start station name — название стартовой стоянки;\n",
    "start station latitude, start station longitude — географическая широта и долгота стартовой стоянки;\n",
    "end station id — идентификатор конечной стоянки;\n",
    "end station name — название конечной стоянки;\n",
    "end station latitude, end station longitude — географическая широта и долгота конечной стоянки;\n",
    "bikeid — идентификатор велосипеда;\n",
    "usertype — тип пользователя (Customer — клиент с подпиской на 24 часа или на три дня, Subscriber — подписчик с годовой арендой велосипеда);\n",
    "birth year — год рождения клиента;\n",
    "gender — пол клиента (0 — неизвестный, 1 — мужчина, 2 — женщина)."
   ]
  }
 ],
 "metadata": {
  "kernelspec": {
   "display_name": "Python 3",
   "language": "python",
   "name": "python3"
  },
  "language_info": {
   "codemirror_mode": {
    "name": "ipython",
    "version": 3
   },
   "file_extension": ".py",
   "mimetype": "text/x-python",
   "name": "python",
   "nbconvert_exporter": "python",
   "pygments_lexer": "ipython3",
   "version": "3.13.0"
  },
  "orig_nbformat": 4
 },
 "nbformat": 4,
 "nbformat_minor": 2
}
