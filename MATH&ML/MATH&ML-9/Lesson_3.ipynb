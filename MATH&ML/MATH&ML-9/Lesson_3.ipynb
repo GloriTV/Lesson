{
 "cells": [
  {
   "cell_type": "code",
   "execution_count": 30,
   "metadata": {},
   "outputs": [],
   "source": [
    "import pandas as pd\n",
    "# import numpy as np\n",
    "# # Графика\n",
    "# import matplotlib.pyplot as plt\n",
    "# import seaborn as sns\n",
    "# Деление выборки\n",
    "from sklearn import model_selection\n",
    "\n",
    "from sklearn import linear_model #линейные модели\n",
    "from sklearn import tree #деревья решений\n",
    "from sklearn import ensemble\n",
    "\n",
    "from sklearn import metrics #метрики"
   ]
  },
  {
   "cell_type": "code",
   "execution_count": 16,
   "metadata": {},
   "outputs": [
    {
     "data": {
      "text/html": [
       "<div>\n",
       "<style scoped>\n",
       "    .dataframe tbody tr th:only-of-type {\n",
       "        vertical-align: middle;\n",
       "    }\n",
       "\n",
       "    .dataframe tbody tr th {\n",
       "        vertical-align: top;\n",
       "    }\n",
       "\n",
       "    .dataframe thead th {\n",
       "        text-align: right;\n",
       "    }\n",
       "</style>\n",
       "<table border=\"1\" class=\"dataframe\">\n",
       "  <thead>\n",
       "    <tr style=\"text-align: right;\">\n",
       "      <th></th>\n",
       "      <th>crim_rate</th>\n",
       "      <th>zn</th>\n",
       "      <th>business</th>\n",
       "      <th>river</th>\n",
       "      <th>nit_oxiden</th>\n",
       "      <th>rooms</th>\n",
       "      <th>age</th>\n",
       "      <th>dist</th>\n",
       "      <th>highways_index</th>\n",
       "      <th>tax</th>\n",
       "      <th>pup_per_teaс</th>\n",
       "      <th>lower</th>\n",
       "      <th>target</th>\n",
       "    </tr>\n",
       "  </thead>\n",
       "  <tbody>\n",
       "    <tr>\n",
       "      <th>0</th>\n",
       "      <td>0,00632</td>\n",
       "      <td>18</td>\n",
       "      <td>2,31</td>\n",
       "      <td>0</td>\n",
       "      <td>0,538</td>\n",
       "      <td>6,575</td>\n",
       "      <td>65,2</td>\n",
       "      <td>4,09</td>\n",
       "      <td>1</td>\n",
       "      <td>296</td>\n",
       "      <td>15,3</td>\n",
       "      <td>4,98</td>\n",
       "      <td>24</td>\n",
       "    </tr>\n",
       "    <tr>\n",
       "      <th>1</th>\n",
       "      <td>0,02731</td>\n",
       "      <td>0</td>\n",
       "      <td>7,07</td>\n",
       "      <td>0</td>\n",
       "      <td>0,469</td>\n",
       "      <td>6,421</td>\n",
       "      <td>78,9</td>\n",
       "      <td>4,9671</td>\n",
       "      <td>2</td>\n",
       "      <td>242</td>\n",
       "      <td>17,8</td>\n",
       "      <td>9,14</td>\n",
       "      <td>21,6</td>\n",
       "    </tr>\n",
       "    <tr>\n",
       "      <th>2</th>\n",
       "      <td>0,02729</td>\n",
       "      <td>0</td>\n",
       "      <td>7,07</td>\n",
       "      <td>0</td>\n",
       "      <td>0,469</td>\n",
       "      <td>7,185</td>\n",
       "      <td>61,1</td>\n",
       "      <td>4,9671</td>\n",
       "      <td>2</td>\n",
       "      <td>242</td>\n",
       "      <td>17,8</td>\n",
       "      <td>4,03</td>\n",
       "      <td>34,7</td>\n",
       "    </tr>\n",
       "    <tr>\n",
       "      <th>3</th>\n",
       "      <td>0,03237</td>\n",
       "      <td>0</td>\n",
       "      <td>2,18</td>\n",
       "      <td>0</td>\n",
       "      <td>0,458</td>\n",
       "      <td>6,998</td>\n",
       "      <td>45,8</td>\n",
       "      <td>6,0622</td>\n",
       "      <td>3</td>\n",
       "      <td>222</td>\n",
       "      <td>18,7</td>\n",
       "      <td>2,94</td>\n",
       "      <td>33,4</td>\n",
       "    </tr>\n",
       "    <tr>\n",
       "      <th>4</th>\n",
       "      <td>0,06905</td>\n",
       "      <td>0</td>\n",
       "      <td>2,18</td>\n",
       "      <td>0</td>\n",
       "      <td>0,458</td>\n",
       "      <td>7,147</td>\n",
       "      <td>54,2</td>\n",
       "      <td>6,0622</td>\n",
       "      <td>3</td>\n",
       "      <td>222</td>\n",
       "      <td>18,7</td>\n",
       "      <td>5,33</td>\n",
       "      <td>36,2</td>\n",
       "    </tr>\n",
       "  </tbody>\n",
       "</table>\n",
       "</div>"
      ],
      "text/plain": [
       "  crim_rate  zn business  river nit_oxiden  rooms   age    dist  \\\n",
       "0   0,00632  18     2,31      0      0,538  6,575  65,2    4,09   \n",
       "1   0,02731   0     7,07      0      0,469  6,421  78,9  4,9671   \n",
       "2   0,02729   0     7,07      0      0,469  7,185  61,1  4,9671   \n",
       "3   0,03237   0     2,18      0      0,458  6,998  45,8  6,0622   \n",
       "4   0,06905   0     2,18      0      0,458  7,147  54,2  6,0622   \n",
       "\n",
       "   highways_index  tax pup_per_teaс lower target  \n",
       "0               1  296         15,3  4,98     24  \n",
       "1               2  242         17,8  9,14   21,6  \n",
       "2               2  242         17,8  4,03   34,7  \n",
       "3               3  222         18,7  2,94   33,4  \n",
       "4               3  222         18,7  5,33   36,2  "
      ]
     },
     "execution_count": 16,
     "metadata": {},
     "output_type": "execute_result"
    }
   ],
   "source": [
    "boston_data = pd.read_csv('../../data/boston (1).csv')\n",
    "boston_data.head()"
   ]
  },
  {
   "cell_type": "code",
   "execution_count": 17,
   "metadata": {},
   "outputs": [],
   "source": [
    "for i in boston_data.columns:\n",
    "    if boston_data[i].dtype == 'object':\n",
    "        boston_data[i]=boston_data[i].apply(lambda x: float(str(x).replace(',','.')))"
   ]
  },
  {
   "cell_type": "code",
   "execution_count": 18,
   "metadata": {},
   "outputs": [
    {
     "name": "stdout",
     "output_type": "stream",
     "text": [
      "<class 'pandas.core.frame.DataFrame'>\n",
      "RangeIndex: 506 entries, 0 to 505\n",
      "Data columns (total 13 columns):\n",
      " #   Column          Non-Null Count  Dtype  \n",
      "---  ------          --------------  -----  \n",
      " 0   crim_rate       506 non-null    float64\n",
      " 1   zn              506 non-null    float64\n",
      " 2   business        506 non-null    float64\n",
      " 3   river           506 non-null    int64  \n",
      " 4   nit_oxiden      506 non-null    float64\n",
      " 5   rooms           506 non-null    float64\n",
      " 6   age             506 non-null    float64\n",
      " 7   dist            506 non-null    float64\n",
      " 8   highways_index  506 non-null    int64  \n",
      " 9   tax             506 non-null    int64  \n",
      " 10  pup_per_teaс    506 non-null    float64\n",
      " 11  lower           506 non-null    float64\n",
      " 12  target          506 non-null    float64\n",
      "dtypes: float64(10), int64(3)\n",
      "memory usage: 51.5 KB\n"
     ]
    }
   ],
   "source": [
    "boston_data.info()\n",
    "# boston_data.isnull().sum()"
   ]
  },
  {
   "cell_type": "code",
   "execution_count": 19,
   "metadata": {},
   "outputs": [],
   "source": [
    "X = boston_data.drop('target', axis=1)\n",
    "y = boston_data['target']"
   ]
  },
  {
   "cell_type": "markdown",
   "metadata": {},
   "source": [
    "### Задание 3.4\n",
    "#### 1. Разбейте набор данных на обучающую и тестовую выборку в соотношении 70/30, при разбиении задайте параметр random_state = 13.\n",
    "\n",
    "Какое получилось среднее значение медианных цен на обучающей выборке? Ответ округлите до двух знаков после точки"
   ]
  },
  {
   "cell_type": "code",
   "execution_count": 23,
   "metadata": {},
   "outputs": [
    {
     "name": "stdout",
     "output_type": "stream",
     "text": [
      "Train shape: (354, 12)\n",
      "Test shape: (152, 12)\n",
      "среднее значение медианных цен на обучающей выборке =  22.77\n"
     ]
    }
   ],
   "source": [
    "# Формируем обучающую и тестовую выборки\n",
    "X_train, X_test, y_train, y_test = model_selection.train_test_split(X, y, test_size=0.3, random_state=13) # , stratify=y\n",
    "print('Train shape: {}'.format(X_train.shape))\n",
    "print('Test shape: {}'.format(X_test.shape))\n",
    "print('среднее значение медианных цен на обучающей выборке = ', round(y_train.mean(),2))"
   ]
  },
  {
   "cell_type": "markdown",
   "metadata": {},
   "source": [
    "#### 2. Обучите линейную регрессию с параметрами по умолчанию.\n",
    "\n",
    "В качестве ответа введите ошибку MAE на тестовой выборке. Ответ округлите до двух знаков после точки-разделителя."
   ]
  },
  {
   "cell_type": "code",
   "execution_count": 27,
   "metadata": {},
   "outputs": [
    {
     "name": "stdout",
     "output_type": "stream",
     "text": [
      "MAE на Test: 3.72\n"
     ]
    }
   ],
   "source": [
    "#Создаем объект класса логистическая регрессия\n",
    "lin_reg = linear_model.LinearRegression()\n",
    "#Обучаем модель, минимизируя logloss\n",
    "lin_reg.fit(X_train, y_train)\n",
    "# print(\"accuracy на валидационном наборе: {:.2f}\".format(log_reg.score(X_train, y_train)))\n",
    "# y_train_pred = log_reg.predict(X_train)\n",
    "# acc_le=metrics.f1_score(y_train, y_train_pred)\n",
    "# print('f1_score на Train:: {:.3f}'.format(acc_le))\n",
    "\n",
    "y_test_pred = lin_reg.predict(X_test)\n",
    "acc_le=metrics.mean_absolute_error(y_test, y_test_pred)\n",
    "print('MAE на Test: {:.2f}'.format(acc_le))"
   ]
  },
  {
   "cell_type": "markdown",
   "metadata": {},
   "source": [
    "#### 3. Обучите решающее дерево с параметрами по умолчанию и аргументом random_state = 13.\n",
    "\n",
    "Можно ли, опираясь на результаты, сделать вывод, что алгоритм переобучился?"
   ]
  },
  {
   "cell_type": "code",
   "execution_count": 28,
   "metadata": {},
   "outputs": [
    {
     "name": "stdout",
     "output_type": "stream",
     "text": [
      "Train: 0.000\n",
      "Test: 2.839\n"
     ]
    }
   ],
   "source": [
    "#Создаем объект класса дерево решений\n",
    "dtr = tree.DecisionTreeRegressor(random_state=13)\n",
    "#Обучаем дерево по алгоритму CARTrint\n",
    "dtr.fit(X_train, y_train)\n",
    "#Выводим значения метрики \n",
    "y_train_pred = dtr.predict(X_train)\n",
    "print('Train: {:.3f}'.format(metrics.mean_absolute_error(y_train, y_train_pred)))\n",
    "\n",
    "y_test_pred = dtr.predict(X_test)\n",
    "acc_le=metrics.mean_absolute_error(y_test, y_test_pred)\n",
    "print('Test: {:.3f}'.format(acc_le))"
   ]
  },
  {
   "cell_type": "markdown",
   "metadata": {},
   "source": [
    "#### 4. Обучите четыре случайных леса с числом деревьев 3, 10, 100, 500 и параметром random_state = 13.\n",
    "\n",
    "В качестве ответа введите наименьшую полученную ошибку MAE на тестовой выборке. Ответ округлите до двух знаков после точки-разделителя."
   ]
  },
  {
   "cell_type": "code",
   "execution_count": 35,
   "metadata": {},
   "outputs": [
    {
     "name": "stdout",
     "output_type": "stream",
     "text": [
      "Test: 2.93\n"
     ]
    }
   ],
   "source": [
    "\n",
    "rfr = ensemble.RandomForestRegressor(\n",
    "    random_state=13, \n",
    "    n_estimators=3,\n",
    ")\n",
    "rfr.fit(X_train, y_train)\n",
    "\n",
    "y_test_pred = rfr.predict(X_test)\n",
    "acc_le=metrics.mean_absolute_error(y_test, y_test_pred)\n",
    "print('Test: {:.2f}'.format(acc_le))"
   ]
  },
  {
   "cell_type": "code",
   "execution_count": 36,
   "metadata": {},
   "outputs": [
    {
     "name": "stdout",
     "output_type": "stream",
     "text": [
      "Test: 2.47\n"
     ]
    }
   ],
   "source": [
    "rfr = ensemble.RandomForestRegressor(\n",
    "    random_state=13, \n",
    "    n_estimators=10,\n",
    ")\n",
    "rfr.fit(X_train, y_train)\n",
    "\n",
    "y_test_pred = rfr.predict(X_test)\n",
    "acc_le=metrics.mean_absolute_error(y_test, y_test_pred)\n",
    "print('Test: {:.2f}'.format(acc_le))"
   ]
  },
  {
   "cell_type": "code",
   "execution_count": 37,
   "metadata": {},
   "outputs": [
    {
     "name": "stdout",
     "output_type": "stream",
     "text": [
      "Test: 2.26\n"
     ]
    }
   ],
   "source": [
    "rfr = ensemble.RandomForestRegressor(\n",
    "    random_state=13, \n",
    "    n_estimators=100,\n",
    ")\n",
    "rfr.fit(X_train, y_train)\n",
    "\n",
    "y_test_pred = rfr.predict(X_test)\n",
    "acc_le=metrics.mean_absolute_error(y_test, y_test_pred)\n",
    "print('Test: {:.2f}'.format(acc_le))"
   ]
  },
  {
   "cell_type": "code",
   "execution_count": 38,
   "metadata": {},
   "outputs": [
    {
     "name": "stdout",
     "output_type": "stream",
     "text": [
      "Test: 2.24\n"
     ]
    }
   ],
   "source": [
    "rfr = ensemble.RandomForestRegressor(\n",
    "    random_state=13, \n",
    "    n_estimators=500,\n",
    ")\n",
    "rfr.fit(X_train, y_train)\n",
    "\n",
    "y_test_pred = rfr.predict(X_test)\n",
    "acc_le=metrics.mean_absolute_error(y_test, y_test_pred)\n",
    "print('Test: {:.2f}'.format(acc_le))"
   ]
  }
 ],
 "metadata": {
  "kernelspec": {
   "display_name": "Python 3.8.10 64-bit",
   "language": "python",
   "name": "python3"
  },
  "language_info": {
   "codemirror_mode": {
    "name": "ipython",
    "version": 3
   },
   "file_extension": ".py",
   "mimetype": "text/x-python",
   "name": "python",
   "nbconvert_exporter": "python",
   "pygments_lexer": "ipython3",
   "version": "3.8.10"
  },
  "orig_nbformat": 4,
  "vscode": {
   "interpreter": {
    "hash": "541247ef5e2c485a853fcdfc5770898360c10253d62f064c141db27a35a34903"
   }
  }
 },
 "nbformat": 4,
 "nbformat_minor": 2
}
