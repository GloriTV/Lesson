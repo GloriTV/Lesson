{
 "cells": [
  {
   "cell_type": "code",
   "execution_count": 72,
   "metadata": {},
   "outputs": [],
   "source": [
    "import pandas as pd\n",
    "import numpy as np\n",
    "# Графика\n",
    "import matplotlib.pyplot as plt\n",
    "import seaborn as sns\n",
    "# Деление выборки\n",
    "from sklearn import model_selection\n",
    "\n",
    "from sklearn import linear_model #линейные модели\n",
    "from sklearn import tree #деревья решений\n",
    "from sklearn import ensemble # онсамбли\n",
    "\n",
    "from sklearn import metrics #метрики"
   ]
  },
  {
   "cell_type": "code",
   "execution_count": 42,
   "metadata": {},
   "outputs": [
    {
     "data": {
      "text/html": [
       "<div>\n",
       "<style scoped>\n",
       "    .dataframe tbody tr th:only-of-type {\n",
       "        vertical-align: middle;\n",
       "    }\n",
       "\n",
       "    .dataframe tbody tr th {\n",
       "        vertical-align: top;\n",
       "    }\n",
       "\n",
       "    .dataframe thead th {\n",
       "        text-align: right;\n",
       "    }\n",
       "</style>\n",
       "<table border=\"1\" class=\"dataframe\">\n",
       "  <thead>\n",
       "    <tr style=\"text-align: right;\">\n",
       "      <th></th>\n",
       "      <th>Date</th>\n",
       "      <th>Location</th>\n",
       "      <th>MinTemp</th>\n",
       "      <th>MaxTemp</th>\n",
       "      <th>Rainfall</th>\n",
       "      <th>Evaporation</th>\n",
       "      <th>Sunshine</th>\n",
       "      <th>WindGustDir</th>\n",
       "      <th>WindGustSpeed</th>\n",
       "      <th>WindDir9am</th>\n",
       "      <th>...</th>\n",
       "      <th>Humidity9am</th>\n",
       "      <th>Humidity3pm</th>\n",
       "      <th>Pressure9am</th>\n",
       "      <th>Pressure3pm</th>\n",
       "      <th>Cloud9am</th>\n",
       "      <th>Cloud3pm</th>\n",
       "      <th>Temp9am</th>\n",
       "      <th>Temp3pm</th>\n",
       "      <th>RainToday</th>\n",
       "      <th>RainTomorrow</th>\n",
       "    </tr>\n",
       "  </thead>\n",
       "  <tbody>\n",
       "    <tr>\n",
       "      <th>0</th>\n",
       "      <td>2008-12-01</td>\n",
       "      <td>Albury</td>\n",
       "      <td>13.4</td>\n",
       "      <td>22.9</td>\n",
       "      <td>0.6</td>\n",
       "      <td>NaN</td>\n",
       "      <td>NaN</td>\n",
       "      <td>W</td>\n",
       "      <td>44.0</td>\n",
       "      <td>W</td>\n",
       "      <td>...</td>\n",
       "      <td>71.0</td>\n",
       "      <td>22.0</td>\n",
       "      <td>1007.7</td>\n",
       "      <td>1007.1</td>\n",
       "      <td>8.0</td>\n",
       "      <td>NaN</td>\n",
       "      <td>16.9</td>\n",
       "      <td>21.8</td>\n",
       "      <td>No</td>\n",
       "      <td>No</td>\n",
       "    </tr>\n",
       "    <tr>\n",
       "      <th>1</th>\n",
       "      <td>2008-12-02</td>\n",
       "      <td>Albury</td>\n",
       "      <td>7.4</td>\n",
       "      <td>25.1</td>\n",
       "      <td>0.0</td>\n",
       "      <td>NaN</td>\n",
       "      <td>NaN</td>\n",
       "      <td>WNW</td>\n",
       "      <td>44.0</td>\n",
       "      <td>NNW</td>\n",
       "      <td>...</td>\n",
       "      <td>44.0</td>\n",
       "      <td>25.0</td>\n",
       "      <td>1010.6</td>\n",
       "      <td>1007.8</td>\n",
       "      <td>NaN</td>\n",
       "      <td>NaN</td>\n",
       "      <td>17.2</td>\n",
       "      <td>24.3</td>\n",
       "      <td>No</td>\n",
       "      <td>No</td>\n",
       "    </tr>\n",
       "    <tr>\n",
       "      <th>2</th>\n",
       "      <td>2008-12-03</td>\n",
       "      <td>Albury</td>\n",
       "      <td>12.9</td>\n",
       "      <td>25.7</td>\n",
       "      <td>0.0</td>\n",
       "      <td>NaN</td>\n",
       "      <td>NaN</td>\n",
       "      <td>WSW</td>\n",
       "      <td>46.0</td>\n",
       "      <td>W</td>\n",
       "      <td>...</td>\n",
       "      <td>38.0</td>\n",
       "      <td>30.0</td>\n",
       "      <td>1007.6</td>\n",
       "      <td>1008.7</td>\n",
       "      <td>NaN</td>\n",
       "      <td>2.0</td>\n",
       "      <td>21.0</td>\n",
       "      <td>23.2</td>\n",
       "      <td>No</td>\n",
       "      <td>No</td>\n",
       "    </tr>\n",
       "    <tr>\n",
       "      <th>3</th>\n",
       "      <td>2008-12-04</td>\n",
       "      <td>Albury</td>\n",
       "      <td>9.2</td>\n",
       "      <td>28.0</td>\n",
       "      <td>0.0</td>\n",
       "      <td>NaN</td>\n",
       "      <td>NaN</td>\n",
       "      <td>NE</td>\n",
       "      <td>24.0</td>\n",
       "      <td>SE</td>\n",
       "      <td>...</td>\n",
       "      <td>45.0</td>\n",
       "      <td>16.0</td>\n",
       "      <td>1017.6</td>\n",
       "      <td>1012.8</td>\n",
       "      <td>NaN</td>\n",
       "      <td>NaN</td>\n",
       "      <td>18.1</td>\n",
       "      <td>26.5</td>\n",
       "      <td>No</td>\n",
       "      <td>No</td>\n",
       "    </tr>\n",
       "    <tr>\n",
       "      <th>4</th>\n",
       "      <td>2008-12-05</td>\n",
       "      <td>Albury</td>\n",
       "      <td>17.5</td>\n",
       "      <td>32.3</td>\n",
       "      <td>1.0</td>\n",
       "      <td>NaN</td>\n",
       "      <td>NaN</td>\n",
       "      <td>W</td>\n",
       "      <td>41.0</td>\n",
       "      <td>ENE</td>\n",
       "      <td>...</td>\n",
       "      <td>82.0</td>\n",
       "      <td>33.0</td>\n",
       "      <td>1010.8</td>\n",
       "      <td>1006.0</td>\n",
       "      <td>7.0</td>\n",
       "      <td>8.0</td>\n",
       "      <td>17.8</td>\n",
       "      <td>29.7</td>\n",
       "      <td>No</td>\n",
       "      <td>No</td>\n",
       "    </tr>\n",
       "  </tbody>\n",
       "</table>\n",
       "<p>5 rows × 23 columns</p>\n",
       "</div>"
      ],
      "text/plain": [
       "         Date Location  MinTemp  MaxTemp  Rainfall  Evaporation  Sunshine  \\\n",
       "0  2008-12-01   Albury     13.4     22.9       0.6          NaN       NaN   \n",
       "1  2008-12-02   Albury      7.4     25.1       0.0          NaN       NaN   \n",
       "2  2008-12-03   Albury     12.9     25.7       0.0          NaN       NaN   \n",
       "3  2008-12-04   Albury      9.2     28.0       0.0          NaN       NaN   \n",
       "4  2008-12-05   Albury     17.5     32.3       1.0          NaN       NaN   \n",
       "\n",
       "  WindGustDir  WindGustSpeed WindDir9am  ... Humidity9am  Humidity3pm  \\\n",
       "0           W           44.0          W  ...        71.0         22.0   \n",
       "1         WNW           44.0        NNW  ...        44.0         25.0   \n",
       "2         WSW           46.0          W  ...        38.0         30.0   \n",
       "3          NE           24.0         SE  ...        45.0         16.0   \n",
       "4           W           41.0        ENE  ...        82.0         33.0   \n",
       "\n",
       "   Pressure9am  Pressure3pm  Cloud9am  Cloud3pm  Temp9am  Temp3pm  RainToday  \\\n",
       "0       1007.7       1007.1       8.0       NaN     16.9     21.8         No   \n",
       "1       1010.6       1007.8       NaN       NaN     17.2     24.3         No   \n",
       "2       1007.6       1008.7       NaN       2.0     21.0     23.2         No   \n",
       "3       1017.6       1012.8       NaN       NaN     18.1     26.5         No   \n",
       "4       1010.8       1006.0       7.0       8.0     17.8     29.7         No   \n",
       "\n",
       "   RainTomorrow  \n",
       "0            No  \n",
       "1            No  \n",
       "2            No  \n",
       "3            No  \n",
       "4            No  \n",
       "\n",
       "[5 rows x 23 columns]"
      ]
     },
     "execution_count": 42,
     "metadata": {},
     "output_type": "execute_result"
    }
   ],
   "source": [
    "weather_data = pd.read_csv('../../data/weatherAUS.csv')\n",
    "weather_data.head()"
   ]
  },
  {
   "cell_type": "markdown",
   "metadata": {},
   "source": [
    "* Date — дата, в которую зафиксировано наблюдение;\n",
    "* Location — местонахождение метеорологической станции;\n",
    "* MinTemp — минимальная температура (℃);\n",
    "* MaxTemp — максимальная температура (℃);\n",
    "* Rainfall — количество осадков (дождь) за сутки (мм);\n",
    "* Evaporation — количество испарений до 9 утра (мм);\n",
    "* Sunshine — количество часов в сутках, когда светило солнце;\n",
    "* WindGustDir — направление самого сильного порыва ветра за последние 24 часа;\n",
    "* WindGustSpeed — скорость самого сильного порыва ветра за последние 24 часа;\n",
    "* WindDir9am — направление ветра в 9 утра;\n",
    "* WindDir3pm — направление ветра в 3 часа дня;\n",
    "* WindSpeed9am — скорость ветра в 9 часов утра;\n",
    "* WindSpeed3pm — скорость ветра в 3 часа дня;\n",
    "* Humidity9am — влажность в 9 утра;\n",
    "* Humidity3pm — влажность в 3 часа дня;\n",
    "* Pressure9am — атмосферное давление в 9 утра;\n",
    "* Pressure3pm — атмосферное давление в 3 часа дня;\n",
    "* Cloud9am — часть неба, закрытая облаками, в 9 утра;\n",
    "* Cloud3pm — часть неба, закрытая облаками, в 3 часа дня;\n",
    "* Temp9am — температура в 9 утра;\n",
    "* Temp3pm — температура в 3 часа дня;\n",
    "* RainToday — наличие дождя в этот день;\n",
    "* RainTomorrow — наличие дождя на следующий день."
   ]
  },
  {
   "cell_type": "code",
   "execution_count": 43,
   "metadata": {},
   "outputs": [
    {
     "name": "stdout",
     "output_type": "stream",
     "text": [
      "<class 'pandas.core.frame.DataFrame'>\n",
      "RangeIndex: 145460 entries, 0 to 145459\n",
      "Data columns (total 23 columns):\n",
      " #   Column         Non-Null Count   Dtype  \n",
      "---  ------         --------------   -----  \n",
      " 0   Date           145460 non-null  object \n",
      " 1   Location       145460 non-null  object \n",
      " 2   MinTemp        143975 non-null  float64\n",
      " 3   MaxTemp        144199 non-null  float64\n",
      " 4   Rainfall       142199 non-null  float64\n",
      " 5   Evaporation    82670 non-null   float64\n",
      " 6   Sunshine       75625 non-null   float64\n",
      " 7   WindGustDir    135134 non-null  object \n",
      " 8   WindGustSpeed  135197 non-null  float64\n",
      " 9   WindDir9am     134894 non-null  object \n",
      " 10  WindDir3pm     141232 non-null  object \n",
      " 11  WindSpeed9am   143693 non-null  float64\n",
      " 12  WindSpeed3pm   142398 non-null  float64\n",
      " 13  Humidity9am    142806 non-null  float64\n",
      " 14  Humidity3pm    140953 non-null  float64\n",
      " 15  Pressure9am    130395 non-null  float64\n",
      " 16  Pressure3pm    130432 non-null  float64\n",
      " 17  Cloud9am       89572 non-null   float64\n",
      " 18  Cloud3pm       86102 non-null   float64\n",
      " 19  Temp9am        143693 non-null  float64\n",
      " 20  Temp3pm        141851 non-null  float64\n",
      " 21  RainToday      142199 non-null  object \n",
      " 22  RainTomorrow   142193 non-null  object \n",
      "dtypes: float64(16), object(7)\n",
      "memory usage: 25.5+ MB\n"
     ]
    }
   ],
   "source": [
    "weather_data.info()"
   ]
  },
  {
   "cell_type": "markdown",
   "metadata": {},
   "source": [
    "### Задание 4.1\n",
    "Сколько суммарно пропусков в данных?"
   ]
  },
  {
   "cell_type": "code",
   "execution_count": 44,
   "metadata": {},
   "outputs": [
    {
     "name": "stdout",
     "output_type": "stream",
     "text": [
      "343248 : суммарно пропусков в данных\n"
     ]
    }
   ],
   "source": [
    "print(weather_data.isnull().sum().sum(),': суммарно пропусков в данных')"
   ]
  },
  {
   "cell_type": "markdown",
   "metadata": {},
   "source": [
    "### Задание 4.2\n",
    "В некоторых признаках пропусков более 40 % — удалите такие признаки. Сколько их было?"
   ]
  },
  {
   "cell_type": "code",
   "execution_count": 45,
   "metadata": {},
   "outputs": [
    {
     "name": "stdout",
     "output_type": "stream",
     "text": [
      "В 3 признаках было пропусков более 40 %\n"
     ]
    }
   ],
   "source": [
    "i=weather_data.shape[1]\n",
    "a=weather_data.isnull().mean()*100>40\n",
    "for key, val in a.items():\n",
    "    if val: weather_data = weather_data.drop(key, axis=1)\n",
    "    \n",
    "i -= weather_data.shape[1]\n",
    "print(f'В {i} признаках было пропусков более 40 %')"
   ]
  },
  {
   "cell_type": "markdown",
   "metadata": {},
   "source": [
    "### Задание 4.3\n",
    "Теперь обработаем признаки RainToday и RainTomorrow таким образом, чтобы вместо yes было значение 1, а вместо no — значение 0. Обратите внимание на то, что в признаках RainToday и RainTomorrow присутствуют пропуски, и их трогать не нужно, они должны остаться пропусками. Поэтому обрабатывайте столбцы таким образом, чтобы не видоизменить пропущенные значения.\n",
    "\n",
    "Вычислите среднее арифметическое для преобразованного признака RainToday и запишите его в ответ, предварительно округлив до двух знаков после точки-разделителя."
   ]
  },
  {
   "cell_type": "markdown",
   "metadata": {},
   "source": [
    "```python\n",
    "df.RainToday = df.RainToday.map({'No': 0, 'Yes': 1})\n",
    "df.RainTomorrow = df.RainTomorrow.map({'No': 0, 'Yes': 1})\n",
    "```"
   ]
  },
  {
   "cell_type": "code",
   "execution_count": 46,
   "metadata": {},
   "outputs": [
    {
     "name": "stdout",
     "output_type": "stream",
     "text": [
      "среднее арифметическое для преобразованного признака RainToday = 0.22\n"
     ]
    }
   ],
   "source": [
    "# weather_data['RainToday']=weather_data[(weather_data['RainToday']=='No')|(weather_data['RainToday']=='Yes')]['RainToday'].apply(lambda x: 1 if x==\"Yes\" else 0)\n",
    "weather_data['RainToday']=weather_data['RainToday'].apply(lambda x: 1 if x==\"Yes\" else 0 if x=='No' else x)\n",
    "weather_data['RainTomorrow']=weather_data['RainTomorrow'].apply(lambda x: 1 if x==\"Yes\" else 0 if x=='No' else x)\n",
    "\n",
    "print('среднее арифметическое для преобразованного признака RainToday = {:.2f}'.format(weather_data['RainToday'].mean()))"
   ]
  },
  {
   "cell_type": "markdown",
   "metadata": {},
   "source": [
    "### Задание 4.4\n",
    "Обработайте признак Date таким образом, чтобы выделить в отдельный признак Month (номер месяца). Изначальный признак Date удалите. Определите, какой месяц имеет самую большую часть дождливых дней относительно всех дней месяца. В качестве ответа введите порядковый номер месяца."
   ]
  },
  {
   "cell_type": "code",
   "execution_count": 47,
   "metadata": {},
   "outputs": [
    {
     "name": "stdout",
     "output_type": "stream",
     "text": [
      "месяц 7 имеет самую большую часть дождливых дней относительно всех дней месяца\n"
     ]
    }
   ],
   "source": [
    "weather_data['Date']=pd.to_datetime(weather_data['Date'])\n",
    "weather_data['Month']=weather_data['Date'].dt.month#_name()\n",
    "temp=weather_data.groupby('Month')['RainTomorrow'].mean() # df.groupby('Month').mean(numeric_only=True)\n",
    "temp=temp.sort_values(ascending=False).head(1)\n",
    "\n",
    "print(f'месяц {list(temp.index)[0]} имеет самую большую часть дождливых дней относительно всех дней месяца')\n",
    "\n",
    "weather_data=weather_data.drop('Date', axis=1)"
   ]
  },
  {
   "cell_type": "markdown",
   "metadata": {},
   "source": [
    "### Задание 4.5\n",
    "Обработайте оставшиеся категориальные признаки. С помощью метода get_dummies с настройками по умолчанию создайте dummy-переменные для всех категориальных признаков (их пять), которые есть в данных на этот момент.\n",
    "\n",
    "Кодировку признаков важно выполнить именно в следующем порядке: categoricals = ['Month', 'Location', 'WindGustDir', 'WindDir9am', 'WindDir3pm']. Это необходимо для того, чтобы ваши дальнейшие ответы сходились с нашим решением, так как алгоритм случайного леса, который мы будем использовать в дальнейшем, чувствителен к порядку столбцов. Аргумент categoricals передаётся в функцию pd.get_dummies() с использованием ключевого слова columns, а именно columns=categoricals.\n",
    "\n",
    "Сколько теперь признаков в данных, если считать целевую переменную?"
   ]
  },
  {
   "cell_type": "code",
   "execution_count": 48,
   "metadata": {},
   "outputs": [
    {
     "name": "stdout",
     "output_type": "stream",
     "text": [
      "124  теперь признаков в данных, если считать целевую переменную\n"
     ]
    }
   ],
   "source": [
    "categoricals = ['Month', 'Location', 'WindGustDir', 'WindDir9am', 'WindDir3pm']\n",
    "weather_data=pd.get_dummies(weather_data, columns=categoricals, prefix_sep='_')\n",
    "print(weather_data.shape[1],' теперь признаков в данных, если считать целевую переменную')"
   ]
  },
  {
   "cell_type": "markdown",
   "metadata": {},
   "source": [
    "### Задание 4.6\n",
    "Осталось совсем немного. Удалите все строки, где есть пропуски. Далее разбейте данные на обучающую и тестовую выборки в соотношении 70/30, в качестве значения параметра random_state возьмите число 31.\n",
    "\n",
    "Каково среднее значение целевой переменной на тестовой выборке? Ответ округлите до двух знаков после точки-разделителя."
   ]
  },
  {
   "cell_type": "code",
   "execution_count": 49,
   "metadata": {},
   "outputs": [],
   "source": [
    "weather_data=weather_data.dropna()"
   ]
  },
  {
   "cell_type": "code",
   "execution_count": 50,
   "metadata": {},
   "outputs": [
    {
     "name": "stdout",
     "output_type": "stream",
     "text": [
      "0.23  среднее значение целевой переменной на тестовой выборке\n"
     ]
    }
   ],
   "source": [
    "X = weather_data.drop('RainTomorrow', axis=1)\n",
    "y = weather_data['RainTomorrow']\n",
    "# Формируем обучающую и тестовую выборки\n",
    "X_train, X_test, y_train, y_test = model_selection.train_test_split(X, y, test_size=0.3, random_state=31) # , stratify=y\n",
    "print(round(y_test.mean(),2),' среднее значение целевой переменной на тестовой выборке')"
   ]
  },
  {
   "cell_type": "markdown",
   "metadata": {},
   "source": [
    "### Задание 4.7\n",
    "Теперь давайте вспомним про бутстреп. Он не понадобится нам для решения этой задачи, но будет полезно реализовать его «вручную».\n",
    "\n",
    "Сделайте оценку стандартного отклонения для среднего значения минимальной температуры для обучающей выборки (то есть для среднего значения по признаку MinTemp). Для этого сгенерируйте 1000 случайных выборок из наших данных — каждая из них должна быть такого же объёма, как и обучающая выборка. Для генерации выборки используйте np.random.randint(): сгенерируйте необходимое количество индексов и по ним извлеките соответствующие элементы выборки. Случайность фиксируйте с помощью np.random.seed(31).\n",
    "\n",
    "Для каждой выборки вычислите среднее значение, а после найдите стандартное отклонение для этих значений. Ответ округлите до двух знаков после точки-разделителя."
   ]
  },
  {
   "cell_type": "code",
   "execution_count": 51,
   "metadata": {},
   "outputs": [
    {
     "data": {
      "text/plain": [
       "0.02879072820657669"
      ]
     },
     "execution_count": 51,
     "metadata": {},
     "output_type": "execute_result"
    }
   ],
   "source": [
    "def gbs(data, n):     \n",
    "    inds = np.random.randint(0, len(data), (n, len(data))) #определяем индексы случайным образом\n",
    "    numbers = data[inds] #выбираем значения по индексам\n",
    "    return numbers\n",
    "\n",
    "target = X_train['MinTemp'].values #выбираем целевую переменную\n",
    "np.random.seed(31) #задаём параметр генератора случайных чисел\n",
    "mean_values = [np.mean(x) for x in gbs(target, 1000)] #получаем все средние значения\n",
    "np.std(mean_values) #находим для них стандартное отклонение"
   ]
  },
  {
   "cell_type": "markdown",
   "metadata": {},
   "source": [
    "очень долго\n",
    "```python\n",
    "np.random.seed(31)\n",
    "min_temp=X_train['MinTemp'].values\n",
    "n=X_train.shape[0]\n",
    "temp=np.random.randint(0,n,(1000, n))\n",
    "\n",
    "a=list()\n",
    "for i in range(1000):\n",
    "    b=list()\n",
    "    for j in temp[i]:\n",
    "        b.append(X_train['MinTemp'].iloc[j])\n",
    "    a.append(np.mean(b))\n",
    "    if i%10==0:\n",
    "        print()\n",
    "        print(i,end='')\n",
    "    else:\n",
    "        print('*',end='')\n",
    "        \n",
    "print(round(np.std(a),2))\n",
    "```"
   ]
  },
  {
   "cell_type": "markdown",
   "metadata": {},
   "source": [
    "### Задание 4.8\n",
    "Теперь можно перейти к обучению прогностических моделей. Начнём с того, что построим простейшую логистическую регрессию (без настройки гиперпараметров). Это будет та модель, с качеством которой мы будем сравнивать результаты, полученные далее.\n",
    "\n",
    "В качестве ответа введите значение метрики roc_auc на тестовой выборке. Ответ округлите до двух знаков после точки-разделителя."
   ]
  },
  {
   "cell_type": "code",
   "execution_count": 52,
   "metadata": {},
   "outputs": [
    {
     "name": "stdout",
     "output_type": "stream",
     "text": [
      "roc_auc на Test: 0.73\n"
     ]
    },
    {
     "name": "stderr",
     "output_type": "stream",
     "text": [
      "c:\\Users\\Temnykov\\AppData\\Local\\Programs\\Python\\Python38\\lib\\site-packages\\sklearn\\linear_model\\_logistic.py:460: ConvergenceWarning: lbfgs failed to converge (status=1):\n",
      "STOP: TOTAL NO. of ITERATIONS REACHED LIMIT.\n",
      "\n",
      "Increase the number of iterations (max_iter) or scale the data as shown in:\n",
      "    https://scikit-learn.org/stable/modules/preprocessing.html\n",
      "Please also refer to the documentation for alternative solver options:\n",
      "    https://scikit-learn.org/stable/modules/linear_model.html#logistic-regression\n",
      "  n_iter_i = _check_optimize_result(\n"
     ]
    }
   ],
   "source": [
    "#Создаем объект класса логистическая регрессия\n",
    "log_reg = linear_model.LogisticRegression()\n",
    "#Обучаем модель, минимизируя logloss\n",
    "log_reg.fit(X_train, y_train)\n",
    "\n",
    "y_test_pred = log_reg.predict(X_test)\n",
    "acc_le=metrics.roc_auc_score(y_test, y_test_pred)\n",
    "print('roc_auc на Test: {:.2f}'.format(acc_le))"
   ]
  },
  {
   "cell_type": "markdown",
   "metadata": {},
   "source": [
    "### Задание 4.9\n",
    "0.0/3.0 points (graded)\n",
    "Теперь попробуйте обучить на наших данных другой алгоритм — дерево решений. С помощью GridSearchCV сделайте перебор гиперпараметров по следующей сетке:\n",
    "\n",
    "params = {'max_leaf_nodes': list(range(2, 10)), 'min_samples_split': [2, 3, 4], 'max_depth': [5,7,9,11]}\n",
    "Для параметра кросс-валидации cv задайте значение 3. Для решающего дерева определите параметр random_state=42. Остальные параметры оставьте по умолчанию.\n",
    "\n",
    "#### 1. Вычислите значение roc_auc для решающего дерева с гиперпараметрами, определёнными в качестве оптимальных.\n",
    "Ответ округлите до двух знаков после точки-разделителя."
   ]
  },
  {
   "cell_type": "code",
   "execution_count": 65,
   "metadata": {},
   "outputs": [
    {
     "name": "stdout",
     "output_type": "stream",
     "text": [
      "Fitting 3 folds for each of 96 candidates, totalling 288 fits\n",
      "CPU times: total: 18.1 s\n",
      "Wall time: 39.1 s\n",
      "Наилучшие значения гиперпараметров: {'max_depth': 5, 'max_leaf_nodes': 9, 'min_samples_split': 2} \n",
      "\n",
      "accuracy на тренировочной выборке: 0.79 \n",
      "\n",
      "accuracy на тестовой выборке: 0.79\n"
     ]
    }
   ],
   "source": [
    "params = {'max_leaf_nodes': list(range(2, 10)), 'min_samples_split': [2, 3, 4], 'max_depth': [5,7,9,11]}\n",
    "\n",
    "# Задаём метод кросс-валидации\n",
    "# cv = model_selection.StratifiedKFold(n_splits=3)\n",
    "\n",
    "grid_search_dt = model_selection.GridSearchCV(\n",
    "    estimator=tree.DecisionTreeClassifier(random_state=42), \n",
    "    param_grid=params, # словарь параметров для подбора\n",
    "    verbose=1,# Контролирует детализацию 0, 1, 2, 3\n",
    "    cv=3, # валидация на 5 выборок\n",
    "    n_jobs = -1 # все ядра процессора\n",
    ")  \n",
    "%time grid_search_dt.fit(X_train, y_train) \n",
    "temp=grid_search_dt.best_params_\n",
    "print(\"Наилучшие значения гиперпараметров: {} \\n\".format(temp)) \n",
    "\n",
    "y_pred_train = grid_search_dt.predict(X_train)\n",
    "print('accuracy на тренировочной выборке: {:.2f} \\n'.format(metrics.roc_auc_score(y_pred_train,y_train)))\n",
    "\n",
    "y_pred_test = grid_search_dt.predict(X_test)\n",
    "print('accuracy на тестовой выборке: {:.2f}'.format(metrics.roc_auc_score(y_pred_test, y_test)))"
   ]
  },
  {
   "cell_type": "code",
   "execution_count": 61,
   "metadata": {},
   "outputs": [
    {
     "name": "stdout",
     "output_type": "stream",
     "text": [
      "0.7\n"
     ]
    }
   ],
   "source": [
    "clf = tree.DecisionTreeClassifier(max_depth = temp['max_depth'], max_leaf_nodes = temp['max_leaf_nodes'], min_samples_split = temp['min_samples_split'], random_state=42)\n",
    "clf.fit(X_train, y_train)\n",
    "preds_train = clf.predict(X_train)\n",
    "preds_test = clf.predict(X_test)\n",
    "print(round(metrics.roc_auc_score(y_test, preds_test), 2))"
   ]
  },
  {
   "cell_type": "markdown",
   "metadata": {},
   "source": [
    "### Задание 4.10\n",
    "К сожалению, деревья решений не помогли нам в улучшении качества модели, так что попробуем ещё уменьшить ошибку с помощью ансамблей.\n",
    "\n",
    "Теперь постройте случайный лес, включающий 100 деревьев. Задайте параметр random_state=31. Остальные параметры оставьте по умолчанию.\n",
    "\n",
    "Какой теперь будет метрика roc_auc на тестовой выборке? Ответ округлите до двух знаков после точки-разделителя."
   ]
  },
  {
   "cell_type": "code",
   "execution_count": 63,
   "metadata": {},
   "outputs": [
    {
     "name": "stdout",
     "output_type": "stream",
     "text": [
      "Train: 1.00\n",
      "Test: 0.73\n"
     ]
    }
   ],
   "source": [
    "#Создаем объект класса дерево решений\n",
    "dtc = ensemble.RandomForestClassifier(n_estimators=100,\n",
    "                                      random_state=31)\n",
    "#Обучаем дерево по алгоритму CARTrint\n",
    "dtc.fit(X_train, y_train)\n",
    "#Выводим значения метрики \n",
    "y_train_pred = dtc.predict(X_train)\n",
    "print('Train: {:.2f}'.format(metrics.roc_auc_score(y_train, y_train_pred)))\n",
    "\n",
    "y_test_pred = dtc.predict(X_test)\n",
    "acc_le=metrics.roc_auc_score(y_test, y_test_pred)\n",
    "print('Test: {:.2f}'.format(acc_le))"
   ]
  },
  {
   "cell_type": "markdown",
   "metadata": {},
   "source": [
    "### Задание 4.11\n",
    "1 point possible (graded)\n",
    "Основные параметры, которые отвечают за качество обучения в случайном лесе, следующие:'max_features', 'min_samples_leaf', 'max_depth'.\n",
    "\n",
    "Возьмите случайный лес из 100 деревьев и найдите оптимальную комбинацию этих трёх параметров. Сетка для перебора следующая:\n",
    "\n",
    "{'max_features': [ 4, 5, 6, 7], 'min_samples_leaf': [3, 5, 7, 9, 11], 'max_depth': [5, 10, 15]}\n",
    "Перебор осуществите с помощью GridSearchCV. Для параметра кросс-валидации cv задайте значение 3. Случайности фиксируйте параметром random_state = 31. Остальные значения оставьте по умолчанию.\n",
    "\n",
    "Какое значение roc_auc получилось для оптимальных гиперпараметров?"
   ]
  },
  {
   "cell_type": "code",
   "execution_count": 68,
   "metadata": {},
   "outputs": [
    {
     "name": "stdout",
     "output_type": "stream",
     "text": [
      "Fitting 3 folds for each of 60 candidates, totalling 180 fits\n",
      "CPU times: total: 23.3 s\n",
      "Wall time: 5min 25s\n",
      "Наилучшие значения гиперпараметров: {'max_depth': 15, 'max_features': 7, 'min_samples_leaf': 3} \n",
      "\n",
      "accuracy на тренировочной выборке: 0.88 \n",
      "\n",
      "accuracy на тестовой выборке: 0.82\n"
     ]
    }
   ],
   "source": [
    "params={'max_features': [ 4, 5, 6, 7], 'min_samples_leaf': [3, 5, 7, 9, 11], 'max_depth': [5, 10, 15]}\n",
    "\n",
    "# Задаём метод кросс-валидации\n",
    "# cv = model_selection.StratifiedKFold(n_splits=3)\n",
    "\n",
    "grid_search_rfc = model_selection.GridSearchCV(\n",
    "    estimator=ensemble.RandomForestClassifier(n_estimators=100, random_state=31), \n",
    "    param_grid=params, # словарь параметров для подбора\n",
    "    verbose=2,# Контролирует детализацию 0, 1, 2, 3\n",
    "    cv=3, # валидация на 5 выборок\n",
    "    n_jobs = -1 # все ядра процессора\n",
    ")  \n",
    "%time grid_search_rfc.fit(X_train, y_train) \n",
    "temp=grid_search_rfc.best_params_\n",
    "print(\"Наилучшие значения гиперпараметров: {} \\n\".format(temp)) \n",
    "\n",
    "y_pred_train = grid_search_rfc.predict(X_train)\n",
    "print('accuracy на тренировочной выборке: {:.2f} \\n'.format(metrics.roc_auc_score(y_pred_train,y_train)))\n",
    "\n",
    "y_pred_test = grid_search_rfc.predict(X_test)\n",
    "print('accuracy на тестовой выборке: {:.2f}'.format(metrics.roc_auc_score(y_pred_test, y_test)))"
   ]
  },
  {
   "cell_type": "code",
   "execution_count": 69,
   "metadata": {},
   "outputs": [
    {
     "name": "stdout",
     "output_type": "stream",
     "text": [
      "Train: 0.75\n",
      "Test: 0.70\n"
     ]
    }
   ],
   "source": [
    "#Создаем объект класса дерево решений\n",
    "dtc = ensemble.RandomForestClassifier(max_depth=15, max_features = 7, min_samples_leaf= 3,\n",
    "                                      n_estimators=100,\n",
    "                                      random_state=31)\n",
    "#Обучаем дерево по алгоритму CARTrint\n",
    "dtc.fit(X_train, y_train)\n",
    "#Выводим значения метрики \n",
    "y_train_pred = dtc.predict(X_train)\n",
    "print('Train: {:.2f}'.format(metrics.roc_auc_score(y_train, y_train_pred)))\n",
    "\n",
    "y_test_pred = dtc.predict(X_test)\n",
    "acc_le=metrics.roc_auc_score(y_test, y_test_pred)\n",
    "print('Test: {:.2f}'.format(acc_le))"
   ]
  },
  {
   "cell_type": "markdown",
   "metadata": {},
   "source": [
    "### Задание 4.12\n",
    "Как мы говорили в предыдущем юните, благодаря случайному лесу можно узнать, какие признаки оказывают большее влияние на целевую переменную по сравнению с другими.\n",
    "\n",
    "Оцените значимость признаков. Отметьте три признака, которые дают наибольший вклад в целевую переменную (в каждой колонке находится как минимум один верный вариант ответа):"
   ]
  },
  {
   "cell_type": "code",
   "execution_count": 78,
   "metadata": {},
   "outputs": [
    {
     "data": {
      "text/plain": [
       "Text(0.5, 1.0, 'столбчатую диаграмму коэффициентов значимости каждого из факторов')"
      ]
     },
     "execution_count": 78,
     "metadata": {},
     "output_type": "execute_result"
    },
    {
     "data": {
      "image/png": "[encoded data removed]",
      "text/plain": [
       "<Figure size 1000x500 with 1 Axes>"
      ]
     },
     "metadata": {},
     "output_type": "display_data"
    }
   ],
   "source": [
    "# temp=grid_search_rfc.best_estimator_.feature_importances_\n",
    "temp=dtc.feature_importances_\n",
    "df=pd.DataFrame(temp, index=X.columns)\n",
    "df=df[0].sort_values().tail(10)\n",
    "\n",
    "fig = plt.figure(figsize=(10, 5))\n",
    "fig = sns.barplot(x=df,y=df.index)\n",
    "# plt.xticks(rotation=45)\n",
    "fig.set_title(\"столбчатую диаграмму коэффициентов значимости каждого из факторов\")\n",
    "# plt.show()"
   ]
  },
  {
   "cell_type": "code",
   "execution_count": 80,
   "metadata": {},
   "outputs": [
    {
     "data": {
      "text/html": [
       "<div>\n",
       "<style scoped>\n",
       "    .dataframe tbody tr th:only-of-type {\n",
       "        vertical-align: middle;\n",
       "    }\n",
       "\n",
       "    .dataframe tbody tr th {\n",
       "        vertical-align: top;\n",
       "    }\n",
       "\n",
       "    .dataframe thead th {\n",
       "        text-align: right;\n",
       "    }\n",
       "</style>\n",
       "<table border=\"1\" class=\"dataframe\">\n",
       "  <thead>\n",
       "    <tr style=\"text-align: right;\">\n",
       "      <th></th>\n",
       "      <th>feat</th>\n",
       "      <th>coef</th>\n",
       "    </tr>\n",
       "  </thead>\n",
       "  <tbody>\n",
       "    <tr>\n",
       "      <th>7</th>\n",
       "      <td>Humidity3pm</td>\n",
       "      <td>0.250783</td>\n",
       "    </tr>\n",
       "    <tr>\n",
       "      <th>2</th>\n",
       "      <td>Rainfall</td>\n",
       "      <td>0.079757</td>\n",
       "    </tr>\n",
       "    <tr>\n",
       "      <th>6</th>\n",
       "      <td>Humidity9am</td>\n",
       "      <td>0.070403</td>\n",
       "    </tr>\n",
       "    <tr>\n",
       "      <th>10</th>\n",
       "      <td>Cloud9am</td>\n",
       "      <td>0.067092</td>\n",
       "    </tr>\n",
       "    <tr>\n",
       "      <th>9</th>\n",
       "      <td>Pressure3pm</td>\n",
       "      <td>0.065272</td>\n",
       "    </tr>\n",
       "    <tr>\n",
       "      <th>...</th>\n",
       "      <td>...</td>\n",
       "      <td>...</td>\n",
       "    </tr>\n",
       "    <tr>\n",
       "      <th>50</th>\n",
       "      <td>Location_Newcastle</td>\n",
       "      <td>0.000000</td>\n",
       "    </tr>\n",
       "    <tr>\n",
       "      <th>62</th>\n",
       "      <td>Location_SalmonGums</td>\n",
       "      <td>0.000000</td>\n",
       "    </tr>\n",
       "    <tr>\n",
       "      <th>51</th>\n",
       "      <td>Location_Nhil</td>\n",
       "      <td>0.000000</td>\n",
       "    </tr>\n",
       "    <tr>\n",
       "      <th>52</th>\n",
       "      <td>Location_NorahHead</td>\n",
       "      <td>0.000000</td>\n",
       "    </tr>\n",
       "    <tr>\n",
       "      <th>40</th>\n",
       "      <td>Location_GoldCoast</td>\n",
       "      <td>0.000000</td>\n",
       "    </tr>\n",
       "  </tbody>\n",
       "</table>\n",
       "<p>123 rows × 2 columns</p>\n",
       "</div>"
      ],
      "text/plain": [
       "                   feat      coef\n",
       "7           Humidity3pm  0.250783\n",
       "2              Rainfall  0.079757\n",
       "6           Humidity9am  0.070403\n",
       "10             Cloud9am  0.067092\n",
       "9           Pressure3pm  0.065272\n",
       "..                  ...       ...\n",
       "50   Location_Newcastle  0.000000\n",
       "62  Location_SalmonGums  0.000000\n",
       "51        Location_Nhil  0.000000\n",
       "52   Location_NorahHead  0.000000\n",
       "40   Location_GoldCoast  0.000000\n",
       "\n",
       "[123 rows x 2 columns]"
      ]
     },
     "execution_count": 80,
     "metadata": {},
     "output_type": "execute_result"
    }
   ],
   "source": [
    "feature_names = [x for x in weather_data if x != 'RainTomorrow']\n",
    "pd.DataFrame({'feat': feature_names,\n",
    "              'coef': dtc.feature_importances_}).sort_values(by='coef', ascending=False)"
   ]
  },
  {
   "cell_type": "code",
   "execution_count": 81,
   "metadata": {},
   "outputs": [
    {
     "data": {
      "text/plain": [
       "['MinTemp',\n",
       " 'MaxTemp',\n",
       " 'Rainfall',\n",
       " 'WindGustSpeed',\n",
       " 'WindSpeed9am',\n",
       " 'WindSpeed3pm',\n",
       " 'Humidity9am',\n",
       " 'Humidity3pm',\n",
       " 'Pressure9am',\n",
       " 'Pressure3pm',\n",
       " 'Cloud9am',\n",
       " 'Temp9am',\n",
       " 'Temp3pm',\n",
       " 'RainToday',\n",
       " 'Month_1',\n",
       " 'Month_2',\n",
       " 'Month_3',\n",
       " 'Month_4',\n",
       " 'Month_5',\n",
       " 'Month_6',\n",
       " 'Month_7',\n",
       " 'Month_8',\n",
       " 'Month_9',\n",
       " 'Month_10',\n",
       " 'Month_11',\n",
       " 'Month_12',\n",
       " 'Location_Adelaide',\n",
       " 'Location_Albany',\n",
       " 'Location_Albury',\n",
       " 'Location_AliceSprings',\n",
       " 'Location_BadgerysCreek',\n",
       " 'Location_Ballarat',\n",
       " 'Location_Bendigo',\n",
       " 'Location_Brisbane',\n",
       " 'Location_Cairns',\n",
       " 'Location_Canberra',\n",
       " 'Location_Cobar',\n",
       " 'Location_CoffsHarbour',\n",
       " 'Location_Dartmoor',\n",
       " 'Location_Darwin',\n",
       " 'Location_GoldCoast',\n",
       " 'Location_Hobart',\n",
       " 'Location_Katherine',\n",
       " 'Location_Launceston',\n",
       " 'Location_Melbourne',\n",
       " 'Location_MelbourneAirport',\n",
       " 'Location_Mildura',\n",
       " 'Location_Moree',\n",
       " 'Location_MountGambier',\n",
       " 'Location_MountGinini',\n",
       " 'Location_Newcastle',\n",
       " 'Location_Nhil',\n",
       " 'Location_NorahHead',\n",
       " 'Location_NorfolkIsland',\n",
       " 'Location_Nuriootpa',\n",
       " 'Location_PearceRAAF',\n",
       " 'Location_Penrith',\n",
       " 'Location_Perth',\n",
       " 'Location_PerthAirport',\n",
       " 'Location_Portland',\n",
       " 'Location_Richmond',\n",
       " 'Location_Sale',\n",
       " 'Location_SalmonGums',\n",
       " 'Location_Sydney',\n",
       " 'Location_SydneyAirport',\n",
       " 'Location_Townsville',\n",
       " 'Location_Tuggeranong',\n",
       " 'Location_Uluru',\n",
       " 'Location_WaggaWagga',\n",
       " 'Location_Walpole',\n",
       " 'Location_Watsonia',\n",
       " 'Location_Williamtown',\n",
       " 'Location_Witchcliffe',\n",
       " 'Location_Wollongong',\n",
       " 'Location_Woomera',\n",
       " 'WindGustDir_E',\n",
       " 'WindGustDir_ENE',\n",
       " 'WindGustDir_ESE',\n",
       " 'WindGustDir_N',\n",
       " 'WindGustDir_NE',\n",
       " 'WindGustDir_NNE',\n",
       " 'WindGustDir_NNW',\n",
       " 'WindGustDir_NW',\n",
       " 'WindGustDir_S',\n",
       " 'WindGustDir_SE',\n",
       " 'WindGustDir_SSE',\n",
       " 'WindGustDir_SSW',\n",
       " 'WindGustDir_SW',\n",
       " 'WindGustDir_W',\n",
       " 'WindGustDir_WNW',\n",
       " 'WindGustDir_WSW',\n",
       " 'WindDir9am_E',\n",
       " 'WindDir9am_ENE',\n",
       " 'WindDir9am_ESE',\n",
       " 'WindDir9am_N',\n",
       " 'WindDir9am_NE',\n",
       " 'WindDir9am_NNE',\n",
       " 'WindDir9am_NNW',\n",
       " 'WindDir9am_NW',\n",
       " 'WindDir9am_S',\n",
       " 'WindDir9am_SE',\n",
       " 'WindDir9am_SSE',\n",
       " 'WindDir9am_SSW',\n",
       " 'WindDir9am_SW',\n",
       " 'WindDir9am_W',\n",
       " 'WindDir9am_WNW',\n",
       " 'WindDir9am_WSW',\n",
       " 'WindDir3pm_E',\n",
       " 'WindDir3pm_ENE',\n",
       " 'WindDir3pm_ESE',\n",
       " 'WindDir3pm_N',\n",
       " 'WindDir3pm_NE',\n",
       " 'WindDir3pm_NNE',\n",
       " 'WindDir3pm_NNW',\n",
       " 'WindDir3pm_NW',\n",
       " 'WindDir3pm_S',\n",
       " 'WindDir3pm_SE',\n",
       " 'WindDir3pm_SSE',\n",
       " 'WindDir3pm_SSW',\n",
       " 'WindDir3pm_SW',\n",
       " 'WindDir3pm_W',\n",
       " 'WindDir3pm_WNW',\n",
       " 'WindDir3pm_WSW']"
      ]
     },
     "execution_count": 81,
     "metadata": {},
     "output_type": "execute_result"
    }
   ],
   "source": [
    "feature_names"
   ]
  }
 ],
 "metadata": {
  "kernelspec": {
   "display_name": "Python 3.8.10 64-bit",
   "language": "python",
   "name": "python3"
  },
  "language_info": {
   "codemirror_mode": {
    "name": "ipython",
    "version": 3
   },
   "file_extension": ".py",
   "mimetype": "text/x-python",
   "name": "python",
   "nbconvert_exporter": "python",
   "pygments_lexer": "ipython3",
   "version": "3.8.10"
  },
  "orig_nbformat": 4,
  "vscode": {
   "interpreter": {
    "hash": "541247ef5e2c485a853fcdfc5770898360c10253d62f064c141db27a35a34903"
   }
  }
 },
 "nbformat": 4,
 "nbformat_minor": 2
}
