{
 "cells": [
  {
   "cell_type": "code",
   "execution_count": 1,
   "metadata": {},
   "outputs": [],
   "source": [
    "A = {'ID453', 'ID312', 'ID41', 'ID3', 'ID500', 'ID920', 'ID36', 'ID27'}\n",
    "B = {'ID41', 'ID36', 'ID27', 'ID124', 'ID7', 'ID501', 'ID91' }"
   ]
  },
  {
   "cell_type": "markdown",
   "metadata": {},
   "source": [
    "### ОБЪЕДИНЕНИЕ МНОЖЕСТВ\n",
    "+ union()\n",
    "\n",
    "$C = A \\cup B$"
   ]
  },
  {
   "cell_type": "code",
   "execution_count": 2,
   "metadata": {},
   "outputs": [
    {
     "name": "stdout",
     "output_type": "stream",
     "text": [
      "{'ID124', 'ID453', 'ID41', 'ID920', 'ID91', 'ID501', 'ID27', 'ID7', 'ID500', 'ID36', 'ID312', 'ID3'}\n"
     ]
    }
   ],
   "source": [
    "union_AB = A.union(B)\n",
    "print(union_AB)\n",
    "#{'ID500', 'ID27', 'ID41', 'ID3', 'ID501', 'ID453', 'ID312', 'ID124', 'ID920', 'ID91', 'ID7', 'ID36'}"
   ]
  },
  {
   "cell_type": "markdown",
   "metadata": {},
   "source": [
    "Метод union() можно заменить простой вертикальной чертой:"
   ]
  },
  {
   "cell_type": "code",
   "execution_count": 3,
   "metadata": {},
   "outputs": [
    {
     "name": "stdout",
     "output_type": "stream",
     "text": [
      "{'ID124', 'ID453', 'ID41', 'ID920', 'ID91', 'ID501', 'ID27', 'ID7', 'ID500', 'ID36', 'ID312', 'ID3'}\n"
     ]
    }
   ],
   "source": [
    "union_AB = A | B\n",
    "print(union_AB)\n",
    "#{'ID500', 'ID27', 'ID41', 'ID3', 'ID501', 'ID453', 'ID312', 'ID124', 'ID920', 'ID91', 'ID7', 'ID36'}"
   ]
  },
  {
   "cell_type": "markdown",
   "metadata": {},
   "source": [
    "### ПЕРЕСЕЧЕНИЕ МНОЖЕСТВ\n",
    "+ intersection()\n",
    "\n",
    "$C = A \\cap B$\n"
   ]
  },
  {
   "cell_type": "code",
   "execution_count": 4,
   "metadata": {},
   "outputs": [
    {
     "name": "stdout",
     "output_type": "stream",
     "text": [
      "{'ID36', 'ID41', 'ID27'}\n"
     ]
    }
   ],
   "source": [
    "inter_AB = A.intersection(B)\n",
    "print(inter_AB)\n",
    "#{'ID27', 'ID41', 'ID36'}"
   ]
  },
  {
   "cell_type": "markdown",
   "metadata": {},
   "source": [
    "Также мы можем заменить метод intersection() на амперсанд (&) — результат будет идентичным:"
   ]
  },
  {
   "cell_type": "code",
   "execution_count": 5,
   "metadata": {},
   "outputs": [
    {
     "name": "stdout",
     "output_type": "stream",
     "text": [
      "{'ID36', 'ID41', 'ID27'}\n"
     ]
    }
   ],
   "source": [
    "inter_AB = A & B\n",
    "print(inter_AB)\n",
    "#{'ID27', 'ID41', 'ID36'}"
   ]
  },
  {
   "cell_type": "markdown",
   "metadata": {},
   "source": [
    "### РАЗНОСТЬ МНОЖЕСТВ\n",
    "+ difference()\n",
    "\n",
    "C = A \\ B"
   ]
  },
  {
   "cell_type": "code",
   "execution_count": 6,
   "metadata": {},
   "outputs": [
    {
     "name": "stdout",
     "output_type": "stream",
     "text": [
      "{'ID453', 'ID920', 'ID500', 'ID312', 'ID3'}\n"
     ]
    }
   ],
   "source": [
    "diff_AB = A.difference(B)\n",
    "print(diff_AB)\n",
    "#{'ID500', 'ID3', 'ID453', 'ID312', 'ID920'}"
   ]
  },
  {
   "cell_type": "markdown",
   "metadata": {},
   "source": [
    "Здесь также есть вариант замены метода символом — в данном случае это знак «минус»:"
   ]
  },
  {
   "cell_type": "code",
   "execution_count": 7,
   "metadata": {},
   "outputs": [
    {
     "name": "stdout",
     "output_type": "stream",
     "text": [
      "{'ID453', 'ID920', 'ID500', 'ID312', 'ID3'}\n"
     ]
    }
   ],
   "source": [
    "diff_AB = A - B\n",
    "print(diff_AB)\n",
    "#{'ID500', 'ID3', 'ID453', 'ID312', 'ID920'}"
   ]
  },
  {
   "cell_type": "code",
   "execution_count": 8,
   "metadata": {},
   "outputs": [
    {
     "name": "stdout",
     "output_type": "stream",
     "text": [
      "{'ID124', 'ID91', 'ID501', 'ID7'}\n"
     ]
    }
   ],
   "source": [
    "diff_BA = B - A \n",
    "print(diff_BA)\n",
    "#{'ID124', 'ID7', 'ID501', 'ID91'}"
   ]
  },
  {
   "cell_type": "markdown",
   "metadata": {},
   "source": [
    "### СИММЕТРИЧЕСКАЯ РАЗНОСТЬ\n",
    "+ symmetric_difference() или оператор ^\n",
    "\n",
    "$C = A \\Delta B$"
   ]
  },
  {
   "cell_type": "code",
   "execution_count": 9,
   "metadata": {},
   "outputs": [
    {
     "name": "stdout",
     "output_type": "stream",
     "text": [
      "{'ID124', 'ID453', 'ID501', 'ID500', 'ID312', 'ID920', 'ID91', 'ID7', 'ID3'}\n",
      "{'ID124', 'ID453', 'ID501', 'ID500', 'ID312', 'ID920', 'ID91', 'ID7', 'ID3'}\n"
     ]
    }
   ],
   "source": [
    "symmAB = A.symmetric_difference(B)\n",
    "print(symmAB)\n",
    "#{ID124', 'ID91', 'ID7', 'ID312', 'ID500', 'ID453', 'ID3', 'ID501', 'ID920'}\n",
    "\n",
    "\n",
    "symmAB = A ^ B\n",
    "print(symmAB)\n",
    "#{ID124', 'ID91', 'ID7', 'ID312', 'ID500', 'ID453', 'ID3', 'ID501', 'ID920'}"
   ]
  },
  {
   "cell_type": "markdown",
   "metadata": {},
   "source": [
    "## Библиотека Sympy"
   ]
  },
  {
   "cell_type": "code",
   "execution_count": 19,
   "metadata": {},
   "outputs": [],
   "source": [
    "# !pip install sympy"
   ]
  },
  {
   "cell_type": "code",
   "execution_count": 15,
   "metadata": {},
   "outputs": [
    {
     "data": {
      "text/latex": [
       "$\\displaystyle 2 \\sqrt{3}$"
      ],
      "text/plain": [
       "2*sqrt(3)"
      ]
     },
     "execution_count": 15,
     "metadata": {},
     "output_type": "execute_result"
    }
   ],
   "source": [
    "# import sympy\n",
    "# sympy.sqrt(12)"
   ]
  },
  {
   "cell_type": "code",
   "execution_count": 14,
   "metadata": {},
   "outputs": [
    {
     "data": {
      "text/latex": [
       "$\\displaystyle \\left\\{1, 3, 7, 9, 10\\right\\}$"
      ],
      "text/plain": [
       "{1, 3, 7, 9, 10}"
      ]
     },
     "execution_count": 14,
     "metadata": {},
     "output_type": "execute_result"
    }
   ],
   "source": [
    "from sympy import FiniteSet, Union\n",
    "l1 = [1, 3, 7, 10] \n",
    "l2 = [9, 7, 1] \n",
    "a = FiniteSet(*l1) \n",
    "b = FiniteSet(*l2) \n",
    "Union(a, b)"
   ]
  },
  {
   "cell_type": "code",
   "execution_count": 16,
   "metadata": {},
   "outputs": [
    {
     "data": {
      "text/latex": [
       "$\\displaystyle \\left\\{x\\; \\middle|\\; x \\in \\left[2, 9\\right] \\wedge x^{2} - 5 x = 0 \\right\\}$"
      ],
      "text/plain": [
       "ConditionSet(x, Eq(x**2 - 5*x, 0), Interval(2, 9))"
      ]
     },
     "execution_count": 16,
     "metadata": {},
     "output_type": "execute_result"
    }
   ],
   "source": [
    "from sympy import ConditionSet, Eq, Symbol, Interval\n",
    "x=Symbol('x')\n",
    "s=ConditionSet(x, Eq(x**2-5*x,0), Interval(2,9))\n",
    "s"
   ]
  },
  {
   "cell_type": "markdown",
   "metadata": {},
   "source": [
    "### Условие для заданий 2.6-2.8\n",
    "\n",
    "Представьте, что вы являетесь куратором образовательной программы, на которой будет два вебинара: по программированию и по машинному обучению.\n",
    "\n",
    "На вебинар по программированию записались потенциальные слушатели со следующими электронными адресами:\n",
    "\n",
    "bennet@xyz.com\n",
    "darcy@abc.com\n",
    "margaret@xyz.com\n",
    "pa@hhh.com\n",
    "marimari@xyz.com\n",
    "mallika@yahoo.com\n",
    "abc@xyz.com\n",
    "0071235@gmail.ru\n",
    "\n",
    "На вебинар по машинному обучению записались потенциальные слушатели со следующими электронными адресами:\n",
    "\n",
    "marimari@xyz.com\n",
    "darcy@abc.com\n",
    "0071235@gmail.ru\n",
    "darcy@abc.com\n",
    "petr44@xyz.com\n",
    "katrin@ya.com\n",
    "\n",
    "Оформите множества в Python для обоих списков слушателей."
   ]
  },
  {
   "cell_type": "code",
   "execution_count": 17,
   "metadata": {},
   "outputs": [],
   "source": [
    "prog={'bennet@xyz.com','darcy@abc.com','margaret@xyz.com','pa@hhh.com','marimari@xyz.com','mallika@yahoo.com','abc@xyz.com','0071235@gmail.ru'}\n",
    "ML={'marimari@xyz.com','darcy@abc.com','0071235@gmail.ru','darcy@abc.com','petr44@xyz.com','katrin@ya.com'}"
   ]
  },
  {
   "cell_type": "markdown",
   "metadata": {},
   "source": [
    "### Задание 2.6\n",
    "С помощью операций множеств в Python определите, сколько слушателей записалось на оба вебинара"
   ]
  },
  {
   "cell_type": "markdown",
   "metadata": {},
   "source": [
    "$C = A \\cup B$"
   ]
  },
  {
   "cell_type": "code",
   "execution_count": 20,
   "metadata": {},
   "outputs": [
    {
     "name": "stdout",
     "output_type": "stream",
     "text": [
      "3  слушателей записалось на оба вебинара\n"
     ]
    }
   ],
   "source": [
    "print(len(prog & ML),' слушателей записалось на оба вебинара')"
   ]
  },
  {
   "cell_type": "markdown",
   "metadata": {},
   "source": [
    "### Задание 2.7\n",
    "Сколько человек заинтересованы в посещении хотя бы одного вебинара?"
   ]
  },
  {
   "cell_type": "markdown",
   "metadata": {},
   "source": [
    "$C = A \\cap B$"
   ]
  },
  {
   "cell_type": "code",
   "execution_count": 23,
   "metadata": {},
   "outputs": [
    {
     "name": "stdout",
     "output_type": "stream",
     "text": [
      "10  посещении хотя бы одного вебинара\n"
     ]
    }
   ],
   "source": [
    "print(len(prog | ML),' посещении хотя бы одного вебинара')"
   ]
  },
  {
   "cell_type": "markdown",
   "metadata": {},
   "source": [
    "### Задание 2.8\n",
    "Сколько человек заинтересованы в посещении только одного вебинара из двух?"
   ]
  },
  {
   "cell_type": "markdown",
   "metadata": {},
   "source": [
    "$C = A \\Delta B$"
   ]
  },
  {
   "cell_type": "code",
   "execution_count": 24,
   "metadata": {},
   "outputs": [
    {
     "name": "stdout",
     "output_type": "stream",
     "text": [
      "7  заинтересованы в посещении только одного вебинара из двух\n"
     ]
    }
   ],
   "source": [
    "print(len(prog ^ ML),' заинтересованы в посещении только одного вебинара из двух')"
   ]
  }
 ],
 "metadata": {
  "kernelspec": {
   "display_name": "Python 3.8.10 64-bit",
   "language": "python",
   "name": "python3"
  },
  "language_info": {
   "codemirror_mode": {
    "name": "ipython",
    "version": 3
   },
   "file_extension": ".py",
   "mimetype": "text/x-python",
   "name": "python",
   "nbconvert_exporter": "python",
   "pygments_lexer": "ipython3",
   "version": "3.8.10"
  },
  "orig_nbformat": 4,
  "vscode": {
   "interpreter": {
    "hash": "541247ef5e2c485a853fcdfc5770898360c10253d62f064c141db27a35a34903"
   }
  }
 },
 "nbformat": 4,
 "nbformat_minor": 2
}
