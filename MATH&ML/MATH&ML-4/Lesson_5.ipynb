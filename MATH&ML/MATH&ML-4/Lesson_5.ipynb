{
 "cells": [
  {
   "cell_type": "markdown",
   "metadata": {},
   "source": [
    "$$y'(x_0) = \\frac{1}{2 \\sqrt{x}} |_{x = x_{0}} = \\frac{1}{2 \\cdot 1} = \\frac{1}{2}$$"
   ]
  },
  {
   "cell_type": "markdown",
   "metadata": {},
   "source": [
    "Как это получили\n",
    "$y = x^n$ $=>$ $y' = n \\cdot x^{n-1}$\n",
    "\n",
    "$x_0=1$\n",
    "\n",
    "$=>$ $x=1$,\n",
    "\n",
    "$n=\\sqrt{}=0.5= \\frac{1}{2}$\n",
    "\n",
    "$$ y= \\frac{1}{2} * 1^{\\frac{1}{2}-1}=>\\frac{1}{2} * 1^{-\\frac{1}{2}}=>\\frac{1}{2} * \\frac{1}{1^{\\frac{1}{2}}}=>\\frac{1*1}{2*1^{\\frac{1}{2}}}=>\\frac{1}{2*1}=\\frac{1}{2}$$"
   ]
  },
  {
   "cell_type": "markdown",
   "metadata": {},
   "source": [
    "### Задание 5.5\n",
    "\n",
    "Найдите $(\\sqrt[4]{x})'|_{x_0 = 1}$:"
   ]
  },
  {
   "cell_type": "markdown",
   "metadata": {},
   "source": [
    "$y = x^n$ $=>$ $y' = n \\cdot x^{n-1}$\n",
    "\n",
    "$x_0=1$ $=>$ $x=1$\n",
    "\n",
    "$n=\\sqrt[4]{}=0.25= \\frac{1}{4}$\n",
    "\n",
    "$$y=\\frac{1}{4} * 1^{\\frac{1}{4}-1}=>\\frac{1}{4} * 1^{-\\frac{3}{4}}=>\\frac{1}{4} * \\frac{1}{1^{\\frac{3}{4}}}=>\\frac{1*1}{4*1^{\\frac{3}{4}}}=>\\frac{1}{4*1}=\\frac{1}{4}=0.25$$"
   ]
  },
  {
   "cell_type": "markdown",
   "metadata": {},
   "source": [
    "### Задание 5.9\n",
    "Известно, что $\\sqrt{9} = 3$. При помощи линеаризации найдите приближённые значения $\\sqrt{10}$ и $\\sqrt{8}$.\n",
    "\n",
    "Ответ округлите до двух знаков после точки-разделителя."
   ]
  },
  {
   "cell_type": "markdown",
   "metadata": {},
   "source": [
    "$y = x^n$ $=>$ $y' = n \\cdot x^{n-1}$\n",
    "\n",
    "$x_0=9$ $=>$ $x=9$,\n",
    "\n",
    "$n=\\sqrt{}=0.5= \\frac{1}{2}$\n",
    "\n",
    "$$ y= \\frac{1}{2} * 9^{\\frac{1}{2}-1}=>\\frac{1}{2} * 9^{-\\frac{1}{2}}=>\\frac{1}{2} * \\frac{1}{9^{\\frac{1}{2}}}=>\\frac{1*1}{2*9^{\\frac{1}{2}}}=>\\frac{1}{2*3}=\\frac{1}{6}=0.1666666=0.17$$\n",
    "\n",
    "$$y(10)=\\sqrt{10} \\approx y_{0}+\\left.\\left(x_{1}-x_{0}\\right) y^{\\prime}\\right|_{x=x_{0}}=3+1 \\cdot \\frac{1}{6}=3.17$$\n",
    "$$y(8)=\\sqrt{8} \\approx y_{0}+\\left.\\left(x_{1}-x_{0}\\right) y^{\\prime}\\right|_{x=x_{0}}=3-1 \\cdot \\frac{1}{6}=2.83$$"
   ]
  },
  {
   "cell_type": "markdown",
   "metadata": {},
   "source": [
    "### Задание 5.10\n",
    "Рассмотрим функцию $y = f(x) = ln(x)$. Известно, что $ln(1) = 0$. Вычислите приближённое значение $ln(1.02)$, используя линеаризацию\n",
    "$$y_1 = y_0 + y'(x_0) \\Delta x$$"
   ]
  },
  {
   "cell_type": "markdown",
   "metadata": {},
   "source": [
    "$ y = ln \\ x $ $ => $ $ y' = \\frac{1}{x}$\n",
    "\n",
    "$ y_0=$ln(1) = 0 $\n",
    "\n",
    "$ x_0=1 $\n",
    "\n",
    "$ x_1=1.02 $\n",
    "\n",
    "$ y'(x_0) = \\frac{1}{x_0}= \\frac{1}{1}=1 $\n",
    "\n",
    "$ \\Delta x = x_1-x_0 = 1.02 - 1 = 0.02 $\n",
    "\n",
    "$$y_1 = y_0 + y'(x_0) \\Delta x = 0 + 1*0.02=0.02$$"
   ]
  }
 ],
 "metadata": {
  "kernelspec": {
   "display_name": "Python 3.8.10 64-bit",
   "language": "python",
   "name": "python3"
  },
  "language_info": {
   "name": "python",
   "version": "3.8.10"
  },
  "orig_nbformat": 4,
  "vscode": {
   "interpreter": {
    "hash": "541247ef5e2c485a853fcdfc5770898360c10253d62f064c141db27a35a34903"
   }
  }
 },
 "nbformat": 4,
 "nbformat_minor": 2
}
