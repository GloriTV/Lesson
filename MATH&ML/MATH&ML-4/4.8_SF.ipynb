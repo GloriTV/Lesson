{
 "cells": [
  {
   "cell_type": "markdown",
   "id": "f468bf1e",
   "metadata": {},
   "source": [
    "## Область определения"
   ]
  },
  {
   "cell_type": "code",
   "execution_count": 1,
   "id": "c95eac41",
   "metadata": {},
   "outputs": [
    {
     "data": {
      "text/latex": [
       "$\\displaystyle \\left(-\\infty, -1\\right) \\cup \\left(-1, 1\\right) \\cup \\left(1, \\infty\\right)$"
      ],
      "text/plain": [
       "Union(Interval.open(-oo, -1), Interval.open(-1, 1), Interval.open(1, oo))"
      ]
     },
     "execution_count": 1,
     "metadata": {},
     "output_type": "execute_result"
    }
   ],
   "source": [
    "from sympy import Symbol, S\n",
    "from sympy.calculus.util import continuous_domain \n",
    "x = Symbol(\"x\") \n",
    "f = (x**3)/(x**2-1) \n",
    "continuous_domain(f, x, S.Reals)\n"
   ]
  },
  {
   "cell_type": "markdown",
   "id": "3def5ae7",
   "metadata": {},
   "source": [
    "## Область значений функции"
   ]
  },
  {
   "cell_type": "code",
   "execution_count": 2,
   "id": "84f388ff",
   "metadata": {},
   "outputs": [
    {
     "data": {
      "text/latex": [
       "$\\displaystyle \\left(-\\infty, \\infty\\right)$"
      ],
      "text/plain": [
       "Interval(-oo, oo)"
      ]
     },
     "execution_count": 2,
     "metadata": {},
     "output_type": "execute_result"
    }
   ],
   "source": [
    "from sympy import Symbol, S\n",
    "from sympy.calculus.util import function_range\n",
    "x = Symbol(\"x\") \n",
    "f = (x**3)/(x**2-1) \n",
    "function_range(f, x, S.Reals)\n"
   ]
  },
  {
   "cell_type": "markdown",
   "id": "39726364",
   "metadata": {},
   "source": [
    "## Нахождение точек пересечения с осями координат"
   ]
  },
  {
   "cell_type": "code",
   "execution_count": 3,
   "id": "c484f33f",
   "metadata": {},
   "outputs": [
    {
     "data": {
      "text/latex": [
       "$\\displaystyle \\left\\{0\\right\\}$"
      ],
      "text/plain": [
       "{0}"
      ]
     },
     "execution_count": 3,
     "metadata": {},
     "output_type": "execute_result"
    }
   ],
   "source": [
    "from sympy import solveset, Eq\n",
    "f = (x**3)/(x**2-1) \n",
    "solveset(Eq(f, 0), x)"
   ]
  },
  {
   "cell_type": "code",
   "execution_count": 4,
   "id": "a11f173f",
   "metadata": {},
   "outputs": [
    {
     "data": {
      "text/latex": [
       "$\\displaystyle 0$"
      ],
      "text/plain": [
       "0"
      ]
     },
     "execution_count": 4,
     "metadata": {},
     "output_type": "execute_result"
    }
   ],
   "source": [
    "x = Symbol(\"x\")\n",
    "f = (x**3)/(x**2-1)\n",
    "f.subs(x, 0)"
   ]
  },
  {
   "cell_type": "markdown",
   "id": "14d60350",
   "metadata": {},
   "source": [
    "## Нахождение производной"
   ]
  },
  {
   "cell_type": "code",
   "execution_count": 5,
   "id": "749f70c3",
   "metadata": {},
   "outputs": [
    {
     "data": {
      "text/latex": [
       "$\\displaystyle - \\frac{2 x^{4}}{\\left(x^{2} - 1\\right)^{2}} + \\frac{3 x^{2}}{x^{2} - 1}$"
      ],
      "text/plain": [
       "-2*x**4/(x**2 - 1)**2 + 3*x**2/(x**2 - 1)"
      ]
     },
     "execution_count": 5,
     "metadata": {},
     "output_type": "execute_result"
    }
   ],
   "source": [
    "import sympy\n",
    "from sympy import diff\n",
    "x = sympy.Symbol(\"x\")\n",
    "expr = (x**3)/(x**2-1)\n",
    "expr.diff(x)\n"
   ]
  },
  {
   "cell_type": "code",
   "execution_count": 6,
   "id": "7d1093f9",
   "metadata": {},
   "outputs": [
    {
     "data": {
      "text/latex": [
       "$\\displaystyle \\left\\{0, - \\sqrt{3}, \\sqrt{3}\\right\\}$"
      ],
      "text/plain": [
       "{0, -sqrt(3), sqrt(3)}"
      ]
     },
     "execution_count": 6,
     "metadata": {},
     "output_type": "execute_result"
    }
   ],
   "source": [
    "y = expr.diff(x)\n",
    "solveset(Eq(y, 0), x)"
   ]
  },
  {
   "cell_type": "markdown",
   "id": "10d568f8",
   "metadata": {},
   "source": [
    "## Нахождение второй производной"
   ]
  },
  {
   "cell_type": "code",
   "execution_count": 7,
   "id": "cfebc61b",
   "metadata": {},
   "outputs": [
    {
     "data": {
      "text/latex": [
       "$\\displaystyle \\frac{2 x \\left(\\frac{x^{2} \\left(\\frac{4 x^{2}}{x^{2} - 1} - 1\\right)}{x^{2} - 1} - \\frac{6 x^{2}}{x^{2} - 1} + 3\\right)}{x^{2} - 1}$"
      ],
      "text/plain": [
       "2*x*(x**2*(4*x**2/(x**2 - 1) - 1)/(x**2 - 1) - 6*x**2/(x**2 - 1) + 3)/(x**2 - 1)"
      ]
     },
     "execution_count": 7,
     "metadata": {},
     "output_type": "execute_result"
    }
   ],
   "source": [
    "import sympy\n",
    "from sympy import diff\n",
    "x = sympy.Symbol(\"x\")\n",
    "expr = (x**3)/(x**2-1)\n",
    "expr.diff(x,2)"
   ]
  },
  {
   "cell_type": "code",
   "execution_count": 8,
   "id": "31d8a7c8",
   "metadata": {},
   "outputs": [
    {
     "data": {
      "text/latex": [
       "$\\displaystyle \\left\\{0, - \\sqrt{3} i, \\sqrt{3} i\\right\\}$"
      ],
      "text/plain": [
       "{0, -sqrt(3)*I, sqrt(3)*I}"
      ]
     },
     "execution_count": 8,
     "metadata": {},
     "output_type": "execute_result"
    }
   ],
   "source": [
    "y = expr.diff(x,2)\n",
    "solveset(Eq(y, 0), x)"
   ]
  },
  {
   "cell_type": "markdown",
   "id": "fc9a293e",
   "metadata": {},
   "source": [
    "## Нахождение асимптот"
   ]
  },
  {
   "cell_type": "code",
   "execution_count": 9,
   "id": "9015fba6",
   "metadata": {},
   "outputs": [
    {
     "data": {
      "text/latex": [
       "$\\displaystyle \\infty$"
      ],
      "text/plain": [
       "oo"
      ]
     },
     "execution_count": 9,
     "metadata": {},
     "output_type": "execute_result"
    }
   ],
   "source": [
    "from sympy import Symbol, limit, oo\n",
    "x = Symbol(\"x\")\n",
    "f = (x**3)/(x**2-1)\n",
    "limit(f,x,oo)\n"
   ]
  },
  {
   "cell_type": "code",
   "execution_count": 10,
   "id": "ad626e7c",
   "metadata": {},
   "outputs": [
    {
     "data": {
      "text/latex": [
       "$\\displaystyle \\infty$"
      ],
      "text/plain": [
       "oo"
      ]
     },
     "execution_count": 10,
     "metadata": {},
     "output_type": "execute_result"
    }
   ],
   "source": [
    "from sympy import Symbol, limit, oo\n",
    "x = Symbol(\"x\")\n",
    "f = (x**3)/(x**2-1)\n",
    "limit(f,x,1)\n"
   ]
  },
  {
   "cell_type": "code",
   "execution_count": 11,
   "id": "13913fbf",
   "metadata": {},
   "outputs": [
    {
     "data": {
      "text/latex": [
       "$\\displaystyle \\infty$"
      ],
      "text/plain": [
       "oo"
      ]
     },
     "execution_count": 11,
     "metadata": {},
     "output_type": "execute_result"
    }
   ],
   "source": [
    "from sympy import Symbol, limit, oo\n",
    "x = Symbol(\"x\")\n",
    "f = (x**3)/(x**2-1)\n",
    "limit(f,x,-1)\n"
   ]
  },
  {
   "cell_type": "code",
   "execution_count": 12,
   "id": "dfb2adc9",
   "metadata": {},
   "outputs": [
    {
     "data": {
      "text/latex": [
       "$\\displaystyle 1$"
      ],
      "text/plain": [
       "1"
      ]
     },
     "execution_count": 12,
     "metadata": {},
     "output_type": "execute_result"
    }
   ],
   "source": [
    "from sympy import Symbol, limit, oo\n",
    "x = Symbol(\"x\")\n",
    "f = (x**3)/((x**2-1)*x)\n",
    "limit(f,x,oo)\n"
   ]
  },
  {
   "cell_type": "code",
   "execution_count": 13,
   "id": "1ed7d557",
   "metadata": {},
   "outputs": [
    {
     "data": {
      "text/latex": [
       "$\\displaystyle 0$"
      ],
      "text/plain": [
       "0"
      ]
     },
     "execution_count": 13,
     "metadata": {},
     "output_type": "execute_result"
    }
   ],
   "source": [
    "from sympy import Symbol, limit, oo\n",
    "x = Symbol(\"x\")\n",
    "f = (x**3)/((x**2-1)) - 1*x\n",
    "limit(f,x,oo)\n"
   ]
  },
  {
   "cell_type": "markdown",
   "id": "1b1b4c54",
   "metadata": {},
   "source": [
    "## Условие для заданий 8.1-8.11\n",
    "\n",
    "Исследуемая функция: $y = \\frac{x^3}{2(x+5)^2}$."
   ]
  },
  {
   "cell_type": "markdown",
   "id": "ad44f28e",
   "metadata": {},
   "source": [
    "> Библиотеки уже подключены"
   ]
  },
  {
   "cell_type": "markdown",
   "id": "72bdae30",
   "metadata": {},
   "source": [
    "### Задание 8.1\n",
    "Найдите область определения функции:"
   ]
  },
  {
   "cell_type": "markdown",
   "id": "2c121b6c",
   "metadata": {},
   "source": [
    ">Входящии значения X"
   ]
  },
  {
   "cell_type": "code",
   "execution_count": 15,
   "id": "23f4c70f",
   "metadata": {},
   "outputs": [
    {
     "data": {
      "text/latex": [
       "$\\displaystyle \\left(-\\infty, -5\\right) \\cup \\left(-5, \\infty\\right)$"
      ],
      "text/plain": [
       "Union(Interval.open(-oo, -5), Interval.open(-5, oo))"
      ]
     },
     "execution_count": 15,
     "metadata": {},
     "output_type": "execute_result"
    }
   ],
   "source": [
    "f = (x**3)/(2*(x+5)**2 )\n",
    "continuous_domain(f, x, S.Reals)"
   ]
  },
  {
   "cell_type": "markdown",
   "id": "8fffcde6",
   "metadata": {},
   "source": [
    "### Задание 8.2\n",
    "Найдите область значений функции:"
   ]
  },
  {
   "cell_type": "markdown",
   "id": "a9d3be6d",
   "metadata": {},
   "source": [
    ">Получаемые значения Y"
   ]
  },
  {
   "cell_type": "code",
   "execution_count": 16,
   "id": "6ef208bd",
   "metadata": {},
   "outputs": [
    {
     "data": {
      "text/latex": [
       "$\\displaystyle \\left(-\\infty, \\infty\\right)$"
      ],
      "text/plain": [
       "Interval(-oo, oo)"
      ]
     },
     "execution_count": 16,
     "metadata": {},
     "output_type": "execute_result"
    }
   ],
   "source": [
    "function_range(f, x, S.Reals)"
   ]
  },
  {
   "cell_type": "markdown",
   "id": "206ae903",
   "metadata": {},
   "source": [
    "### Задание 8.3\n",
    "Исследуйте функцию на чётность. Какой она является?"
   ]
  },
  {
   "cell_type": "markdown",
   "id": "179cff19",
   "metadata": {},
   "source": [
    "$$y = \\frac{x^3}{2(x+5)^2}$$\n",
    "$$f(-x)=-f(x)$$\n",
    "$$\\frac{(-x)^3}{2((-x)+5)^2}=/=-\\frac{x^3}{2(x+5)^2}$$\n",
    "Ни четная так как $x^3$ не даст сименрию отнасительно оси $y$\n",
    "\n",
    "Ни нечетная так как $((-x)+5)^2$=/=$(x+5)^2$ допустим $x=1 => ((-1)+5)^2=16=/=36=(1+5)^2$ она не симетрична\n",
    ">Ни четная и ни нечетная"
   ]
  },
  {
   "cell_type": "markdown",
   "id": "1ea464df",
   "metadata": {},
   "source": [
    "### Задание 8.4\n",
    "В какой точке график пересекает ось абсцисс? В качестве ответа введите координату по х."
   ]
  },
  {
   "cell_type": "code",
   "execution_count": 17,
   "id": "c86da0cd",
   "metadata": {},
   "outputs": [
    {
     "data": {
      "text/latex": [
       "$\\displaystyle \\left\\{0\\right\\}$"
      ],
      "text/plain": [
       "{0}"
      ]
     },
     "execution_count": 17,
     "metadata": {},
     "output_type": "execute_result"
    }
   ],
   "source": [
    "solveset(Eq(f, 0), x)"
   ]
  },
  {
   "cell_type": "markdown",
   "id": "e7e59ee7",
   "metadata": {},
   "source": [
    "### Задание 8.5\n",
    "В какой точке график пересекает ось ординат? В качестве ответа введите координату по y."
   ]
  },
  {
   "cell_type": "code",
   "execution_count": 18,
   "id": "dc71bf2a",
   "metadata": {},
   "outputs": [
    {
     "data": {
      "text/latex": [
       "$\\displaystyle 0$"
      ],
      "text/plain": [
       "0"
      ]
     },
     "execution_count": 18,
     "metadata": {},
     "output_type": "execute_result"
    }
   ],
   "source": [
    "f.subs(x,0)"
   ]
  },
  {
   "cell_type": "markdown",
   "id": "4e97445b",
   "metadata": {},
   "source": [
    "### Задание 8.6\n",
    "Найдите производную от функции:"
   ]
  },
  {
   "cell_type": "code",
   "execution_count": 26,
   "id": "3e2785ae",
   "metadata": {},
   "outputs": [
    {
     "data": {
      "text/latex": [
       "$\\displaystyle - \\frac{x^{3}}{\\left(x + 5\\right)^{3}} + \\frac{3 x^{2}}{2 \\left(x + 5\\right)^{2}}$"
      ],
      "text/plain": [
       "-x**3/(x + 5)**3 + 3*x**2/(2*(x + 5)**2)"
      ]
     },
     "execution_count": 26,
     "metadata": {},
     "output_type": "execute_result"
    }
   ],
   "source": [
    "f.diff(x)"
   ]
  },
  {
   "cell_type": "markdown",
   "id": "bec02bc2",
   "metadata": {},
   "source": [
    "$$ - \\frac{x^3}{(x + 5)^3} + \\frac {3x^2}{2(x + 5)^2}$$\n",
    "Наименьший Общий Множитель $(x + 5)^3$ и $2(x + 5)^2$ равняется $2(x + 5)^3$\n",
    "$$ \\frac {-x^3*2+3x^2*(x + 5)}{2(x + 5)^3}$$\n",
    "Упростим $-x^3*2+3x^2*(x + 5)=-2x^3+3x^3+15x^2=x^3+15x^2=x^2(x+15)$\n",
    "$$\\frac{x^2 (x+15)}{2(x+5)^3}$$"
   ]
  },
  {
   "cell_type": "markdown",
   "id": "83daf951",
   "metadata": {},
   "source": [
    "### Задание 8.7\n",
    "Найдите точку максимума. Если её нет, введите в качестве ответа слово нет."
   ]
  },
  {
   "cell_type": "code",
   "execution_count": 33,
   "id": "624d3a29",
   "metadata": {},
   "outputs": [
    {
     "data": {
      "text/latex": [
       "$\\displaystyle \\left\\{-15, 0\\right\\}$"
      ],
      "text/plain": [
       "{-15, 0}"
      ]
     },
     "execution_count": 33,
     "metadata": {},
     "output_type": "execute_result"
    }
   ],
   "source": [
    "y = f.diff(x)\n",
    "solveset(Eq(y, 0), x)"
   ]
  },
  {
   "cell_type": "markdown",
   "id": "e821442a",
   "metadata": {},
   "source": [
    "### Задание 8.9\n",
    "Найдите области возрастания функции:"
   ]
  },
  {
   "cell_type": "code",
   "execution_count": 41,
   "id": "e343f2d6",
   "metadata": {},
   "outputs": [
    {
     "data": {
      "text/latex": [
       "$\\displaystyle \\frac{128}{1331}$"
      ],
      "text/plain": [
       "128/1331"
      ]
     },
     "metadata": {},
     "output_type": "display_data"
    },
    {
     "data": {
      "text/latex": [
       "$\\displaystyle -162$"
      ],
      "text/plain": [
       "-162"
      ]
     },
     "metadata": {},
     "output_type": "display_data"
    },
    {
     "data": {
      "text/latex": [
       "$\\displaystyle 88$"
      ],
      "text/plain": [
       "88"
      ]
     },
     "metadata": {},
     "output_type": "display_data"
    },
    {
     "data": {
      "text/latex": [
       "$\\displaystyle \\frac{7}{64}$"
      ],
      "text/plain": [
       "7/64"
      ]
     },
     "metadata": {},
     "output_type": "display_data"
    },
    {
     "data": {
      "text/latex": [
       "$\\displaystyle \\frac{1}{27}$"
      ],
      "text/plain": [
       "1/27"
      ]
     },
     "metadata": {},
     "output_type": "display_data"
    },
    {
     "data": {
      "text/latex": [
       "$\\displaystyle \\frac{3968}{9261}$"
      ],
      "text/plain": [
       "3968/9261"
      ]
     },
     "metadata": {},
     "output_type": "display_data"
    }
   ],
   "source": [
    "display(y.subs(x,-16))\n",
    "display(y.subs(x,-6))\n",
    "display(y.subs(x,-4))\n",
    "display(y.subs(x,-1))\n",
    "display(y.subs(x,1))\n",
    "display(y.subs(x,16))"
   ]
  },
  {
   "cell_type": "markdown",
   "id": "87cc42fb",
   "metadata": {},
   "source": [
    "$+(-15)-(-5)+(0)+(oo)$"
   ]
  },
  {
   "cell_type": "markdown",
   "id": "88b733db",
   "metadata": {},
   "source": [
    "### Задание 8.10\n",
    "Вычислите вторую производную функции:"
   ]
  },
  {
   "cell_type": "code",
   "execution_count": 36,
   "id": "e7e9bef2",
   "metadata": {},
   "outputs": [
    {
     "data": {
      "text/latex": [
       "$\\displaystyle \\frac{3 x \\left(\\frac{x^{2}}{\\left(x + 5\\right)^{2}} - \\frac{2 x}{x + 5} + 1\\right)}{\\left(x + 5\\right)^{2}}$"
      ],
      "text/plain": [
       "3*x*(x**2/(x + 5)**2 - 2*x/(x + 5) + 1)/(x + 5)**2"
      ]
     },
     "execution_count": 36,
     "metadata": {},
     "output_type": "execute_result"
    }
   ],
   "source": [
    "f.diff(x,2)"
   ]
  },
  {
   "cell_type": "markdown",
   "id": "46bc0033",
   "metadata": {},
   "source": [
    "$$\\frac{3x(\\frac{x^2}{(x+5)^2}-\\frac{2x}{x+5}+1)}{(x+5)^2}$$\n",
    "$$\\frac{x^2}{(x+5)^2}-\\frac{2x}{x+5}=\\frac{x^2-2x(x+5)}{(x+5)^2}=\\frac{x^2-2x^2-10x}{(x+5)^2}=\\frac{-x^2-10x}{(x+5)^2}$$\n",
    "$$\\frac{-x^2-10x}{(x+5)^2}+1=\\frac{-x^2-10x}{(x+5)^2}+\\frac{(x+5)^2}{(x+5)^2}=\\frac{-x^2-10x+(x+5)^2}{(x+5)^2}$$\n",
    "$(x+5)^2=(x+5)(x+5)=x^2+5x+5x+25=x^2+10x+25$\n",
    "$$\\frac{-x^2-10x+x^2+10x+25}{(x+5)^2}=\\frac{25}{(x+5)^2}$$\n",
    "$a\\left(\\frac{b}{c}\\right)=\\frac{a}{1}*\\frac{b}{c}=\\frac{a*b}{1*c}=\\frac{a*b}{c}$\n",
    "$$3x \\left(\\frac{25}{(x+5)^2} \\right)=\\frac{3x*25}{(x+5)^2}=\\frac{75x}{(x+5)^2}$$\n",
    "$\\frac{\\frac{a}{b}}{c}=\\frac{a}{b*c}$\n",
    "$$\\frac{\\frac{75x}{(x+5)^2}}{(x+5)^2}=\\frac{75x}{(x+5)^2*(x+5)^2}=\\frac{75x}{(x+5)^4}$$\n"
   ]
  },
  {
   "cell_type": "markdown",
   "id": "5a9acc62",
   "metadata": {},
   "source": [
    "### Задание 8.11\n",
    "На каком(-их) интервале(-ах) функция выпукла вверх?"
   ]
  },
  {
   "cell_type": "code",
   "execution_count": 55,
   "id": "282d572b",
   "metadata": {},
   "outputs": [
    {
     "data": {
      "text/latex": [
       "$\\displaystyle \\infty$"
      ],
      "text/plain": [
       "oo"
      ]
     },
     "execution_count": 55,
     "metadata": {},
     "output_type": "execute_result"
    }
   ],
   "source": [
    "limit(f,x,oo)"
   ]
  },
  {
   "cell_type": "markdown",
   "id": "d99ca04c",
   "metadata": {},
   "source": [
    "Получаем  — значит, горизонтальной асимптоты нет (по сути, здесь мы всегда получаем значение k для функции y=k)"
   ]
  },
  {
   "cell_type": "code",
   "execution_count": 57,
   "id": "900c4f13",
   "metadata": {},
   "outputs": [
    {
     "data": {
      "text/latex": [
       "$\\displaystyle -\\infty$"
      ],
      "text/plain": [
       "-oo"
      ]
     },
     "execution_count": 57,
     "metadata": {},
     "output_type": "execute_result"
    }
   ],
   "source": [
    "limit(f,x,-5)"
   ]
  },
  {
   "cell_type": "code",
   "execution_count": 58,
   "id": "0c97bece",
   "metadata": {},
   "outputs": [
    {
     "data": {
      "text/latex": [
       "$\\displaystyle \\frac{1}{2}$"
      ],
      "text/plain": [
       "1/2"
      ]
     },
     "execution_count": 58,
     "metadata": {},
     "output_type": "execute_result"
    }
   ],
   "source": [
    "f = (x**3)/((2*(x+5)**2 )*x)\n",
    "limit(f,x,oo)"
   ]
  },
  {
   "cell_type": "code",
   "execution_count": 60,
   "id": "bb38ab4a",
   "metadata": {},
   "outputs": [
    {
     "data": {
      "text/latex": [
       "$\\displaystyle \\infty$"
      ],
      "text/plain": [
       "oo"
      ]
     },
     "execution_count": 60,
     "metadata": {},
     "output_type": "execute_result"
    }
   ],
   "source": [
    "f = (x**3)/((x**2-1)) - 0.5*x\n",
    "limit(f,x,oo)"
   ]
  }
 ],
 "metadata": {
  "kernelspec": {
   "display_name": "Python 3.8.10 64-bit",
   "language": "python",
   "name": "python3"
  },
  "language_info": {
   "codemirror_mode": {
    "name": "ipython",
    "version": 3
   },
   "file_extension": ".py",
   "mimetype": "text/x-python",
   "name": "python",
   "nbconvert_exporter": "python",
   "pygments_lexer": "ipython3",
   "version": "3.8.10"
  },
  "vscode": {
   "interpreter": {
    "hash": "541247ef5e2c485a853fcdfc5770898360c10253d62f064c141db27a35a34903"
   }
  }
 },
 "nbformat": 4,
 "nbformat_minor": 5
}
