{
 "cells": [
  {
   "cell_type": "markdown",
   "metadata": {},
   "source": [
    "### Задание 6.3\n",
    "Найдите расстояние между кластерами $A$ с точками $(4,0)$ и $(5,1)$ и $B$ c точками $(-2, -3)$ и $(-3,-3)$, используя евклидово расстояние и метод средней связи. Ответ округлите до одного знака после точки-разделителя."
   ]
  },
  {
   "cell_type": "code",
   "execution_count": 1,
   "metadata": {},
   "outputs": [
    {
     "data": {
      "text/plain": [
       "7.8"
      ]
     },
     "execution_count": 1,
     "metadata": {},
     "output_type": "execute_result"
    }
   ],
   "source": [
    "import numpy as np\n",
    "def efclid(x,y):\n",
    "    return np.sqrt((x[0]-y[0])**2+(x[1]-y[1])**2)\n",
    "\n",
    "A=np.array([[4, 0], [5, 1]])\n",
    "B=np.array([[-2, -3], [-3, -3]])\n",
    "\n",
    "round((efclid(A[0], B[0])+efclid(A[0], B[1])+efclid(A[1], B[0])+efclid(A[1], B[1]))/4, 1)\n"
   ]
  }
 ],
 "metadata": {
  "kernelspec": {
   "display_name": "Python 3.8.10 64-bit",
   "language": "python",
   "name": "python3"
  },
  "language_info": {
   "codemirror_mode": {
    "name": "ipython",
    "version": 3
   },
   "file_extension": ".py",
   "mimetype": "text/x-python",
   "name": "python",
   "nbconvert_exporter": "python",
   "pygments_lexer": "ipython3",
   "version": "3.8.10"
  },
  "orig_nbformat": 4,
  "vscode": {
   "interpreter": {
    "hash": "541247ef5e2c485a853fcdfc5770898360c10253d62f064c141db27a35a34903"
   }
  }
 },
 "nbformat": 4,
 "nbformat_minor": 2
}
