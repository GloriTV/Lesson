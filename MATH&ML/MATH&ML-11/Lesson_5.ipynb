{
 "cells": [
  {
   "cell_type": "markdown",
   "metadata": {},
   "source": [
    "### 1. Стандартизировать данные."
   ]
  },
  {
   "cell_type": "code",
   "execution_count": 2,
   "metadata": {},
   "outputs": [
    {
     "data": {
      "text/html": [
       "<div>\n",
       "<style scoped>\n",
       "    .dataframe tbody tr th:only-of-type {\n",
       "        vertical-align: middle;\n",
       "    }\n",
       "\n",
       "    .dataframe tbody tr th {\n",
       "        vertical-align: top;\n",
       "    }\n",
       "\n",
       "    .dataframe thead th {\n",
       "        text-align: right;\n",
       "    }\n",
       "</style>\n",
       "<table border=\"1\" class=\"dataframe\">\n",
       "  <thead>\n",
       "    <tr style=\"text-align: right;\">\n",
       "      <th></th>\n",
       "      <th>x1</th>\n",
       "      <th>x2</th>\n",
       "      <th>x3</th>\n",
       "      <th>x4</th>\n",
       "    </tr>\n",
       "  </thead>\n",
       "  <tbody>\n",
       "    <tr>\n",
       "      <th>0</th>\n",
       "      <td>-1.000000</td>\n",
       "      <td>-0.632456</td>\n",
       "      <td>0.000000</td>\n",
       "      <td>0.260623</td>\n",
       "    </tr>\n",
       "    <tr>\n",
       "      <th>1</th>\n",
       "      <td>0.333333</td>\n",
       "      <td>1.264911</td>\n",
       "      <td>1.732051</td>\n",
       "      <td>1.563740</td>\n",
       "    </tr>\n",
       "    <tr>\n",
       "      <th>2</th>\n",
       "      <td>-1.000000</td>\n",
       "      <td>0.632456</td>\n",
       "      <td>-0.577350</td>\n",
       "      <td>-0.173749</td>\n",
       "    </tr>\n",
       "    <tr>\n",
       "      <th>3</th>\n",
       "      <td>0.333333</td>\n",
       "      <td>0.000000</td>\n",
       "      <td>-0.577350</td>\n",
       "      <td>-1.042493</td>\n",
       "    </tr>\n",
       "    <tr>\n",
       "      <th>4</th>\n",
       "      <td>1.333333</td>\n",
       "      <td>-1.264911</td>\n",
       "      <td>-0.577350</td>\n",
       "      <td>-0.608121</td>\n",
       "    </tr>\n",
       "  </tbody>\n",
       "</table>\n",
       "</div>"
      ],
      "text/plain": [
       "         x1        x2        x3        x4\n",
       "0 -1.000000 -0.632456  0.000000  0.260623\n",
       "1  0.333333  1.264911  1.732051  1.563740\n",
       "2 -1.000000  0.632456 -0.577350 -0.173749\n",
       "3  0.333333  0.000000 -0.577350 -1.042493\n",
       "4  1.333333 -1.264911 -0.577350 -0.608121"
      ]
     },
     "execution_count": 2,
     "metadata": {},
     "output_type": "execute_result"
    }
   ],
   "source": [
    "import numpy as np\n",
    "import pandas as pd\n",
    "A = np.matrix([[1,2,3,4],\n",
    "               [5,5,6,7],\n",
    "               [1,4,2,3],\n",
    "               [5,3,2,1],\n",
    "               [8,1,2,2]])\n",
    "\n",
    "df = pd.DataFrame(A,columns  = ['x1','x2','x3','x4'])\n",
    "df_std  = (df - df.mean()) / (df.std())\n",
    "df_std"
   ]
  },
  {
   "cell_type": "markdown",
   "metadata": {},
   "source": [
    "### 2. Рассчитать ковариационную матрицу для объектов"
   ]
  },
  {
   "cell_type": "code",
   "execution_count": 3,
   "metadata": {},
   "outputs": [
    {
     "data": {
      "text/plain": [
       "array([[ 1.        , -0.31622777,  0.04811252, -0.18098843],\n",
       "       [-0.31622777,  1.        ,  0.63900965,  0.61812254],\n",
       "       [ 0.04811252,  0.63900965,  1.        ,  0.94044349],\n",
       "       [-0.18098843,  0.61812254,  0.94044349,  1.        ]])"
      ]
     },
     "execution_count": 3,
     "metadata": {},
     "output_type": "execute_result"
    }
   ],
   "source": [
    "cov_mat = np.cov(df_std.T)\n",
    "cov_mat"
   ]
  },
  {
   "cell_type": "markdown",
   "metadata": {},
   "source": [
    "### 3. Рассчитать собственные значения и собственные векторы для ковариационной матрицы."
   ]
  },
  {
   "cell_type": "markdown",
   "metadata": {},
   "source": [
    "### 4. Отсортировать собственные значения и соответствующие им собственные векторы."
   ]
  },
  {
   "cell_type": "code",
   "execution_count": 4,
   "metadata": {},
   "outputs": [
    {
     "data": {
      "text/plain": [
       "array([2.51579324, 1.0652885 , 0.39388704, 0.02503121])"
      ]
     },
     "metadata": {},
     "output_type": "display_data"
    },
    {
     "data": {
      "text/plain": [
       "array([[ 0.16195986, -0.91705888, -0.30707099,  0.19616173],\n",
       "       [-0.52404813,  0.20692161, -0.81731886,  0.12061043],\n",
       "       [-0.58589647, -0.3205394 ,  0.1882497 , -0.72009851],\n",
       "       [-0.59654663, -0.11593512,  0.44973251,  0.65454704]])"
      ]
     },
     "metadata": {},
     "output_type": "display_data"
    }
   ],
   "source": [
    "eigen_val, eigen_vectors = np.linalg.eig(cov_mat)\n",
    "display(eigen_val)\n",
    "display(eigen_vectors)"
   ]
  },
  {
   "cell_type": "markdown",
   "metadata": {},
   "source": [
    "### 5. Выбрать  наибольших собственных значений и сформировать матрицу соответствующих собственных векторов."
   ]
  },
  {
   "cell_type": "code",
   "execution_count": 10,
   "metadata": {},
   "outputs": [
    {
     "data": {
      "text/plain": [
       "array([[ 0.16195986, -0.91705888],\n",
       "       [-0.52404813,  0.20692161],\n",
       "       [-0.58589647, -0.3205394 ],\n",
       "       [-0.59654663, -0.11593512]])"
      ]
     },
     "metadata": {},
     "output_type": "display_data"
    }
   ],
   "source": [
    "w=eigen_vectors[:,0:2]\n",
    "display(w)"
   ]
  },
  {
   "cell_type": "markdown",
   "metadata": {},
   "source": [
    "### 6. Преобразовать исходные данные, умножив матрицу данных на матрицу отобранных собственных векторов."
   ]
  },
  {
   "cell_type": "code",
   "execution_count": 12,
   "metadata": {},
   "outputs": [
    {
     "data": {
      "text/html": [
       "<div>\n",
       "<style scoped>\n",
       "    .dataframe tbody tr th:only-of-type {\n",
       "        vertical-align: middle;\n",
       "    }\n",
       "\n",
       "    .dataframe tbody tr th {\n",
       "        vertical-align: top;\n",
       "    }\n",
       "\n",
       "    .dataframe thead th {\n",
       "        text-align: right;\n",
       "    }\n",
       "</style>\n",
       "<table border=\"1\" class=\"dataframe\">\n",
       "  <thead>\n",
       "    <tr style=\"text-align: right;\">\n",
       "      <th></th>\n",
       "      <th>0</th>\n",
       "      <th>1</th>\n",
       "    </tr>\n",
       "  </thead>\n",
       "  <tbody>\n",
       "    <tr>\n",
       "      <th>0</th>\n",
       "      <td>0.014003</td>\n",
       "      <td>0.755975</td>\n",
       "    </tr>\n",
       "    <tr>\n",
       "      <th>1</th>\n",
       "      <td>-2.556534</td>\n",
       "      <td>-0.780432</td>\n",
       "    </tr>\n",
       "    <tr>\n",
       "      <th>2</th>\n",
       "      <td>-0.051480</td>\n",
       "      <td>1.253135</td>\n",
       "    </tr>\n",
       "    <tr>\n",
       "      <th>3</th>\n",
       "      <td>1.014150</td>\n",
       "      <td>0.000239</td>\n",
       "    </tr>\n",
       "    <tr>\n",
       "      <th>4</th>\n",
       "      <td>1.579861</td>\n",
       "      <td>-1.228917</td>\n",
       "    </tr>\n",
       "  </tbody>\n",
       "</table>\n",
       "</div>"
      ],
      "text/plain": [
       "          0         1\n",
       "0  0.014003  0.755975\n",
       "1 -2.556534 -0.780432\n",
       "2 -0.051480  1.253135\n",
       "3  1.014150  0.000239\n",
       "4  1.579861 -1.228917"
      ]
     },
     "execution_count": 12,
     "metadata": {},
     "output_type": "execute_result"
    }
   ],
   "source": [
    "df_std@w"
   ]
  },
  {
   "cell_type": "markdown",
   "metadata": {},
   "source": [
    ">В параметр n_components в качестве значения можно передать количество необходимых компонентов или минимально допустимую объяснённую дисперсию в виде десятичной дроби. Например, если нам нужно столько компонент, чтобы они объясняли не менее 90 % разброса данных, то мы запишем n_components = 0.9."
   ]
  },
  {
   "cell_type": "markdown",
   "metadata": {},
   "source": [
    "## AUTO"
   ]
  },
  {
   "cell_type": "code",
   "execution_count": 14,
   "metadata": {},
   "outputs": [
    {
     "data": {
      "text/plain": [
       "array([[-1.40033078e-02,  7.55974765e-01],\n",
       "       [ 2.55653399e+00, -7.80431775e-01],\n",
       "       [ 5.14801919e-02,  1.25313470e+00],\n",
       "       [-1.01415002e+00,  2.38808310e-04],\n",
       "       [-1.57986086e+00, -1.22891650e+00]])"
      ]
     },
     "execution_count": 14,
     "metadata": {},
     "output_type": "execute_result"
    }
   ],
   "source": [
    "#импортируем нужный алгоритм\n",
    "\n",
    "from sklearn.decomposition import PCA\n",
    "#определяем метод главных компонент с двумя компонентами\n",
    "pca = PCA(n_components=2)\n",
    "#обучаем алгоритм на наших данных\n",
    "principalComponents = pca.fit_transform(df_std)\n",
    "principalComponents"
   ]
  },
  {
   "cell_type": "markdown",
   "metadata": {},
   "source": [
    "### Задание 5.1\n",
    "Найдите матрицу ковариаций для векторов $(3, 4, 1)$ и $(1, 6, 2)$. В качестве ответа укажите сумму всех значений матрицы, округлённую до двух знаков после точки-разделителя."
   ]
  },
  {
   "cell_type": "code",
   "execution_count": 26,
   "metadata": {},
   "outputs": [
    {
     "data": {
      "text/html": [
       "<div>\n",
       "<style scoped>\n",
       "    .dataframe tbody tr th:only-of-type {\n",
       "        vertical-align: middle;\n",
       "    }\n",
       "\n",
       "    .dataframe tbody tr th {\n",
       "        vertical-align: top;\n",
       "    }\n",
       "\n",
       "    .dataframe thead th {\n",
       "        text-align: right;\n",
       "    }\n",
       "</style>\n",
       "<table border=\"1\" class=\"dataframe\">\n",
       "  <thead>\n",
       "    <tr style=\"text-align: right;\">\n",
       "      <th></th>\n",
       "      <th>x1</th>\n",
       "      <th>x2</th>\n",
       "      <th>x3</th>\n",
       "    </tr>\n",
       "  </thead>\n",
       "  <tbody>\n",
       "    <tr>\n",
       "      <th>0</th>\n",
       "      <td>0.707107</td>\n",
       "      <td>-0.707107</td>\n",
       "      <td>-0.707107</td>\n",
       "    </tr>\n",
       "    <tr>\n",
       "      <th>1</th>\n",
       "      <td>-0.707107</td>\n",
       "      <td>0.707107</td>\n",
       "      <td>0.707107</td>\n",
       "    </tr>\n",
       "  </tbody>\n",
       "</table>\n",
       "</div>"
      ],
      "text/plain": [
       "         x1        x2        x3\n",
       "0  0.707107 -0.707107 -0.707107\n",
       "1 -0.707107  0.707107  0.707107"
      ]
     },
     "execution_count": 26,
     "metadata": {},
     "output_type": "execute_result"
    }
   ],
   "source": [
    "A = np.matrix([[3,1],\n",
    "               [4,6],\n",
    "               [1,2]])\n",
    "\n",
    "df = pd.DataFrame(A.T,columns  = ['x1','x2','x3'])\n",
    "df_std  = (df - df.mean()) / (df.std())\n",
    "df_std"
   ]
  },
  {
   "cell_type": "code",
   "execution_count": 28,
   "metadata": {},
   "outputs": [
    {
     "data": {
      "text/plain": [
       "14.33"
      ]
     },
     "execution_count": 28,
     "metadata": {},
     "output_type": "execute_result"
    }
   ],
   "source": [
    "cov_mat = np.cov(df)\n",
    "cov_mat.sum().round(2)"
   ]
  },
  {
   "cell_type": "code",
   "execution_count": 24,
   "metadata": {},
   "outputs": [
    {
     "data": {
      "text/plain": [
       "14.333333333333332"
      ]
     },
     "execution_count": 24,
     "metadata": {},
     "output_type": "execute_result"
    }
   ],
   "source": [
    "np.cov(np.array([3,4,1]),np.array([1,6,2])).sum()"
   ]
  },
  {
   "cell_type": "markdown",
   "metadata": {},
   "source": [
    "### Задание 5.4\n",
    "1 point possible (graded)\n",
    "Дана матрица признаков:\n",
    "```python\n",
    "A = np.matrix([[8,7,2,9],\n",
    "               [1,3,6,3],\n",
    "               [7,2,0,3],\n",
    "               [10,3,1,1],\n",
    "               [8,1,3,4]])\n",
    "```\n",
    "Какое минимальное количество главных компонент надо выделить, чтобы сохранить информацию о как минимум 90 % разброса данных?"
   ]
  },
  {
   "cell_type": "markdown",
   "metadata": {},
   "source": []
  },
  {
   "cell_type": "code",
   "execution_count": 29,
   "metadata": {},
   "outputs": [
    {
     "data": {
      "text/plain": [
       "array([[-1.61145254,  1.76368007,  0.01320928],\n",
       "       [ 2.08441051,  1.01724955, -0.24417084],\n",
       "       [-0.29568142, -0.95946326, -0.05272576],\n",
       "       [-0.50390826, -1.24373821, -0.50808763],\n",
       "       [ 0.3266317 , -0.57772816,  0.79177495]])"
      ]
     },
     "execution_count": 29,
     "metadata": {},
     "output_type": "execute_result"
    }
   ],
   "source": [
    "A = np.matrix([[8,7,2,9],\n",
    "               [1,3,6,3],\n",
    "               [7,2,0,3],\n",
    "               [10,3,1,1],\n",
    "               [8,1,3,4]])\n",
    "\n",
    "df = pd.DataFrame(A,columns  = ['x1','x2','x3','x4'])\n",
    "df_std  = (df - df.mean()) / (df.std())\n",
    "df_std\n",
    "\n",
    "#определяем метод главных компонент с двумя компонентами\n",
    "pca = PCA(n_components=0.9)\n",
    "#обучаем алгоритм на наших данных\n",
    "principalComponents = pca.fit_transform(df_std)\n",
    "principalComponents"
   ]
  }
 ],
 "metadata": {
  "kernelspec": {
   "display_name": "Python 3.8.10 64-bit",
   "language": "python",
   "name": "python3"
  },
  "language_info": {
   "codemirror_mode": {
    "name": "ipython",
    "version": 3
   },
   "file_extension": ".py",
   "mimetype": "text/x-python",
   "name": "python",
   "nbconvert_exporter": "python",
   "pygments_lexer": "ipython3",
   "version": "3.8.10"
  },
  "orig_nbformat": 4,
  "vscode": {
   "interpreter": {
    "hash": "541247ef5e2c485a853fcdfc5770898360c10253d62f064c141db27a35a34903"
   }
  }
 },
 "nbformat": 4,
 "nbformat_minor": 2
}
