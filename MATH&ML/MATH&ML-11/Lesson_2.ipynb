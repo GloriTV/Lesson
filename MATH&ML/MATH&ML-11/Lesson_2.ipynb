{
 "cells": [
  {
   "cell_type": "code",
   "execution_count": 1,
   "metadata": {},
   "outputs": [],
   "source": [
    "from sklearn.cluster import KMeans\n",
    "from sklearn.metrics import silhouette_score # импортируем метрику силуэт"
   ]
  },
  {
   "cell_type": "code",
   "execution_count": null,
   "metadata": {},
   "outputs": [],
   "source": [
    "#определяем алгоритм кластеризации\n",
    "km = KMeans(n_clusters=3, random_state=42)\n",
    "#обучаем его на наших данных\n",
    "km.fit_predict(X)\n",
    "#вычисляем значение коэффициента силуэта\n",
    "score = silhouette_score(X, km.labels_, metric='euclidean')"
   ]
  },
  {
   "cell_type": "markdown",
   "metadata": {},
   "source": [
    ">Значение коэффициента силуэта всегда находится в диапазоне [−1,1].\n",
    "\n",
    ">* Значение близко к −1: объекты в кластерах разрознены, и в целом кластерную структуру не удалось выделить.\n",
    ">* Значение близко к 0: кластеры пересекаются друг с другом.\n",
    ">* Значение близко к 1: чёткая кластерная структура с «плотными», отделёнными друг от друга кластерами."
   ]
  },
  {
   "cell_type": "markdown",
   "metadata": {},
   "source": [
    "## Индекс Калински — Харабаса\n",
    "#### calinski_harabasz_score():"
   ]
  },
  {
   "cell_type": "code",
   "execution_count": null,
   "metadata": {},
   "outputs": [],
   "source": [
    "from sklearn.metrics import calinski_harabasz_score\n",
    "\n",
    "#определяем алгоритм кластеризации\n",
    "km = KMeans(n_clusters=3, random_state=42)\n",
    "#обучаем его на наших данных\n",
    "km.fit_predict(X)\n",
    "#вычисляем значение коэффициента Калински — Харабаса\n",
    "score = calinski_harabasz_score(X, km.labels_)"
   ]
  },
  {
   "cell_type": "markdown",
   "metadata": {},
   "source": [
    "## Индекс Дэвиса — Болдина\n",
    "#### davies_bouldin_score():"
   ]
  },
  {
   "cell_type": "markdown",
   "metadata": {},
   "source": [
    ">Давайте разберёмся, как интерпретировать значение коэффициента Дэвиса — Болдина. Индекс показывает среднюю «схожесть» между кластерами, и 0 — это минимально возможное значение. Разумеется, так как мы хотим, чтобы кластеры были максимально различными (т. е. имели низкую схожесть), мы должны пытаться достичь как можно более маленького значения."
   ]
  },
  {
   "cell_type": "code",
   "execution_count": null,
   "metadata": {},
   "outputs": [],
   "source": [
    "from sklearn.metrics import davies_bouldin_score\n",
    "\n",
    "#определяем алгоритм кластеризации\n",
    "km = KMeans(n_clusters=3, random_state=42)\n",
    "#обучаем его на наших данных\n",
    "km.fit_predict(X)\n",
    "#вычисляем значение коэффициента Дэвиса — Болдина\n",
    "score = davies_bouldin_score(X, km.labels_)"
   ]
  }
 ],
 "metadata": {
  "kernelspec": {
   "display_name": "Python 3.8.10 64-bit",
   "language": "python",
   "name": "python3"
  },
  "language_info": {
   "codemirror_mode": {
    "name": "ipython",
    "version": 3
   },
   "file_extension": ".py",
   "mimetype": "text/x-python",
   "name": "python",
   "nbconvert_exporter": "python",
   "pygments_lexer": "ipython3",
   "version": "3.8.10"
  },
  "orig_nbformat": 4,
  "vscode": {
   "interpreter": {
    "hash": "541247ef5e2c485a853fcdfc5770898360c10253d62f064c141db27a35a34903"
   }
  }
 },
 "nbformat": 4,
 "nbformat_minor": 2
}
