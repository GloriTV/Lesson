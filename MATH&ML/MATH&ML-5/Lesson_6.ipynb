{
 "cells": [
  {
   "cell_type": "markdown",
   "metadata": {},
   "source": [
    "## градиент"
   ]
  },
  {
   "cell_type": "code",
   "execution_count": 2,
   "metadata": {},
   "outputs": [],
   "source": [
    "import numpy as np"
   ]
  },
  {
   "cell_type": "markdown",
   "metadata": {},
   "source": [
    "Зададим массив, для которого хотим найти градиент, и вычислим его:"
   ]
  },
  {
   "cell_type": "code",
   "execution_count": 3,
   "metadata": {},
   "outputs": [
    {
     "data": {
      "text/plain": [
       "array([ 4. ,  5.5,  8. , 11. , 12. , 11. ])"
      ]
     },
     "execution_count": 3,
     "metadata": {},
     "output_type": "execute_result"
    }
   ],
   "source": [
    "f = np.array([3, 7, 14, 23, 36, 47], dtype=float)\n",
    " \n",
    "np.gradient(f)\n",
    "\n",
    "# array([ 4. ,  5.5,  8. , 11. , 12. , 11. ])"
   ]
  },
  {
   "cell_type": "markdown",
   "metadata": {},
   "source": [
    "Если специально не определять аргумент varargs, то его значение равно 1, так что на границах вектора мы получаем обычную разность для соседних элементов массива:"
   ]
  },
  {
   "cell_type": "code",
   "execution_count": 4,
   "metadata": {},
   "outputs": [
    {
     "name": "stdout",
     "output_type": "stream",
     "text": [
      "4.0 11.0\n"
     ]
    }
   ],
   "source": [
    "print(f[1] - f[0], f[-1] - f[-2])\n",
    "\n",
    "# (4.0, 11.0)"
   ]
  },
  {
   "cell_type": "markdown",
   "metadata": {},
   "source": [
    "А вот внутри вектора для каждого элемента мы считаем разность его соседних значений, но уже поделённую на 2:"
   ]
  },
  {
   "cell_type": "code",
   "execution_count": 5,
   "metadata": {},
   "outputs": [
    {
     "data": {
      "text/plain": [
       "12.0"
      ]
     },
     "execution_count": 5,
     "metadata": {},
     "output_type": "execute_result"
    }
   ],
   "source": [
    "(f[2] - f[0])/2 # 5.5\n",
    "(f[3] - f[1])/2 # 8.0\n",
    "(f[4] - f[2])/2 # 11.0\n",
    "(f[5] - f[3])/2 # 12.0"
   ]
  },
  {
   "cell_type": "markdown",
   "metadata": {},
   "source": [
    "Шаг можно варьировать. При его изменении вычисления реализуются так же, но деление происходит на величину обычного шага у края и удвоенную величину шага для элементов внутри вектора:"
   ]
  },
  {
   "cell_type": "code",
   "execution_count": 7,
   "metadata": {},
   "outputs": [
    {
     "name": "stdout",
     "output_type": "stream",
     "text": [
      "[2.   2.75 4.   5.5  6.   5.5 ]\n",
      "2.75\n",
      "4.0\n",
      "5.5\n",
      "6.0\n"
     ]
    }
   ],
   "source": [
    "print(np.gradient(f, 2))\n",
    "# array([2.  , 2.75, 4.  , 5.5 , 6.  , 5.5 ])\n",
    "\n",
    "for i in range(1, len(f) - 1):\n",
    "    print((f[i + 1] - f[i - 1])/(2*2))\n",
    "#2.75\n",
    "#4.0\n",
    "#5.5\n",
    "#6.0"
   ]
  },
  {
   "cell_type": "markdown",
   "metadata": {},
   "source": [
    "### Задание 6.5\n",
    "$$f(a,b) = (5 − a − 2b)^2$$\n",
    "1. Вычислите $\\overrightarrow{grad} f|_{M(1,1)}$:"
   ]
  },
  {
   "cell_type": "code",
   "execution_count": 26,
   "metadata": {},
   "outputs": [
    {
     "name": "stdout",
     "output_type": "stream",
     "text": [
      "f_a: 2*a + 4*b - 10\n",
      "f_b: 4*a + 8*b - 20\n",
      "f_a m: -4\n",
      "f_b m: -8\n"
     ]
    }
   ],
   "source": [
    "import sympy\n",
    "from sympy import *\n",
    "m_a=1\n",
    "m_b=1\n",
    "a, b = symbols('a b')\n",
    "f=(5-a-2*b)**2\n",
    "f_a=f.diff(a)\n",
    "print('f_a:',f_a)\n",
    "f_b=f.diff(b)\n",
    "print('f_b:',f_b)\n",
    "\n",
    "print('f_a m:',f_a.subs({a:m_a, b:m_b}))\n",
    "print('f_b m:',f_b.subs({a:m_a, b:m_b}))"
   ]
  },
  {
   "cell_type": "markdown",
   "metadata": {},
   "source": [
    "### Решение\n",
    "$$\\frac{\\partial f}{\\partial a} = 2*a + 4*b - 10 \\ \\ \\frac{\\partial f}{\\partial b} = 4a + 8b - 20$$\n",
    "$$\\nabla f = \\left ( \\frac{\\partial f}{\\partial a}, \\frac{\\partial f}{\\partial b} \\right ) = (2a + 4b - 10,\\ 4a + 8b - 20)$$\n",
    "$$\\overrightarrow{grad} f = \\left ( \\frac{\\partial f}{\\partial a}, \\frac{\\partial f}{\\partial b} \\right ) = (2a + 4b - 10,\\ 4a + 8b - 20)$$\n",
    "$$\\overrightarrow{grad} f|_M = (2a + 4b - 10,\\ 4a + 8b - 20)|_{a=1,b=1} = (-4,-8)"
   ]
  },
  {
   "cell_type": "markdown",
   "metadata": {},
   "source": [
    "2. Сколько решений имеет СЛАУ $\\overrightarrow{grad} f = \\overrightarrow{0}$?"
   ]
  },
  {
   "cell_type": "code",
   "execution_count": 31,
   "metadata": {},
   "outputs": [
    {
     "data": {
      "text/plain": [
       "{a: 5 - 2*b}"
      ]
     },
     "execution_count": 31,
     "metadata": {},
     "output_type": "execute_result"
    }
   ],
   "source": [
    "solve([f_a, f_b],[a,b])"
   ]
  },
  {
   "cell_type": "markdown",
   "metadata": {},
   "source": [
    "a: 5 - 2*b означает что $a=5 - 2*b$ из этого вытекает если $b=0\\ 5-2*0=5$ $\\ a=5$ или $b=1\\ 5-2*1=3$ $\\ a=3$, а если $b=oo$ тогда  $f=5-2*oo$ \n",
    "\n",
    "значит ответов бесконечно много"
   ]
  },
  {
   "cell_type": "markdown",
   "metadata": {},
   "source": [
    "3. В каких точках  $\\overrightarrow{grad} f = \\overrightarrow{0}$? Отметьте все подходящие варианты ответов:"
   ]
  },
  {
   "cell_type": "code",
   "execution_count": 34,
   "metadata": {},
   "outputs": [
    {
     "name": "stdout",
     "output_type": "stream",
     "text": [
      "[1 2]True\n",
      "[1 3]False\n",
      "[0 0]False\n",
      "[5 0]True\n"
     ]
    }
   ],
   "source": [
    "q=np.array([[1,2],[1,3],[0,0],[5,0]])\n",
    "for i in q:\n",
    "    print(i,end='')\n",
    "    print(i[0]==5-2*i[1])"
   ]
  },
  {
   "cell_type": "markdown",
   "metadata": {},
   "source": [
    "### Задание 6.6\n",
    "$L_2$-loss функция имеет вид $L = (2.1 − w_0 − w_1)^2 +(2.9 − w_0 − 3w_1)^2 +(4.1 − w_0 − 5w_1)^2$.\n",
    "1. Сколько решений имеет СЛАУ $\\overrightarrow{grad} L = \\overrightarrow{0}$?\n",
    "2. Вычислите точку, в которой $\\overrightarrow{grad} L = \\overrightarrow{0}$. Ответ округлите до двух знаков после точки-разделителя."
   ]
  },
  {
   "cell_type": "code",
   "execution_count": 39,
   "metadata": {},
   "outputs": [
    {
     "name": "stdout",
     "output_type": "stream",
     "text": [
      "f_0: 6.0*w_0 + 18.0*w_1 - 18.2\n",
      "f_1: 18.0*w_0 + 70.0*w_1 - 62.6\n"
     ]
    },
    {
     "data": {
      "text/plain": [
       "{w_0: 1.53333333333333, w_1: 0.500000000000000}"
      ]
     },
     "execution_count": 39,
     "metadata": {},
     "output_type": "execute_result"
    }
   ],
   "source": [
    "w_0, w_1 = symbols('w_0 w_1')\n",
    "L=(2.1-w_0-w_1)**2+(2.9-w_0-3*w_1)**2+(4.1-w_0-5*w_1)**2\n",
    "f_0=L.diff(w_0)\n",
    "print('f_0:',f_0)\n",
    "f_1=L.diff(w_1)\n",
    "print('f_1:',f_1)\n",
    "\n",
    "solve([f_0, f_1],[w_0,w_1])"
   ]
  },
  {
   "cell_type": "markdown",
   "metadata": {},
   "source": [
    "Задание 6.7\n",
    "Пусть дан одномерный массив f = np.array([8, 2, 8, 3, 5, 6, 5, 15]).\n",
    "\n",
    "Вычислите градиент массива $f$, увеличив шаг сетки в семь раз, и укажите значение седьмого элемента массива получившихся градиентов $f$ (порядок элементов начинается с 0)."
   ]
  },
  {
   "cell_type": "code",
   "execution_count": 42,
   "metadata": {},
   "outputs": [
    {
     "name": "stdout",
     "output_type": "stream",
     "text": [
      "1.4285714285714286\n"
     ]
    }
   ],
   "source": [
    "f = np.array([8, 2, 8, 3, 5, 6, 5, 15])\n",
    "print(np.gradient(f, 7)[7])"
   ]
  }
 ],
 "metadata": {
  "kernelspec": {
   "display_name": "Python 3.8.10 64-bit",
   "language": "python",
   "name": "python3"
  },
  "language_info": {
   "codemirror_mode": {
    "name": "ipython",
    "version": 3
   },
   "file_extension": ".py",
   "mimetype": "text/x-python",
   "name": "python",
   "nbconvert_exporter": "python",
   "pygments_lexer": "ipython3",
   "version": "3.8.10"
  },
  "orig_nbformat": 4,
  "vscode": {
   "interpreter": {
    "hash": "541247ef5e2c485a853fcdfc5770898360c10253d62f064c141db27a35a34903"
   }
  }
 },
 "nbformat": 4,
 "nbformat_minor": 2
}
