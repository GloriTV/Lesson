{
 "cells": [
  {
   "cell_type": "code",
   "execution_count": 53,
   "metadata": {},
   "outputs": [],
   "source": [
    "import sympy\n",
    "from sympy import diff, Symbol, solveset, Eq, log"
   ]
  },
  {
   "cell_type": "markdown",
   "metadata": {},
   "source": [
    "### Задание 1.1\n",
    "Представьте, что вы изучаете функцию потерь для прогностической модели. Вы выяснили, что она записывается следующим образом:\n",
    "$$f(x) = x^3 + 4x - 5$$\n",
    "Для того чтобы минимизировать функцию, необходима производная. Найдите её в точке 1."
   ]
  },
  {
   "cell_type": "code",
   "execution_count": 3,
   "metadata": {},
   "outputs": [
    {
     "data": {
      "text/latex": [
       "$\\displaystyle 3 x^{2} + 4$"
      ],
      "text/plain": [
       "3*x**2 + 4"
      ]
     },
     "metadata": {},
     "output_type": "display_data"
    },
    {
     "data": {
      "text/latex": [
       "$\\displaystyle 7$"
      ],
      "text/plain": [
       "7"
      ]
     },
     "metadata": {},
     "output_type": "display_data"
    }
   ],
   "source": [
    "x = sympy.Symbol(\"x\")\n",
    "expr = x**3+4*x-5\n",
    "temp=expr.diff(x)\n",
    "display(temp)\n",
    "\n",
    "display(temp.subs(x,1))\n"
   ]
  },
  {
   "cell_type": "markdown",
   "metadata": {},
   "source": [
    "### Задание 1.2\n",
    "Найдите вторую производную от функции $f(x) = x^3 + 4x - 5$ в точке 1."
   ]
  },
  {
   "cell_type": "code",
   "execution_count": 4,
   "metadata": {},
   "outputs": [
    {
     "data": {
      "text/latex": [
       "$\\displaystyle 6 x$"
      ],
      "text/plain": [
       "6*x"
      ]
     },
     "metadata": {},
     "output_type": "display_data"
    },
    {
     "data": {
      "text/latex": [
       "$\\displaystyle 6$"
      ],
      "text/plain": [
       "6"
      ]
     },
     "metadata": {},
     "output_type": "display_data"
    }
   ],
   "source": [
    "temp=expr.diff(x,2)\n",
    "display(temp)\n",
    "\n",
    "display(temp.subs(x,1))"
   ]
  },
  {
   "cell_type": "markdown",
   "metadata": {},
   "source": [
    "### Задание 1.3\n",
    "Найдите экстремум функции $y = x^2 -5x + 4$. В качестве ответа запишите точку экстремума (координату по оси х)"
   ]
  },
  {
   "cell_type": "code",
   "execution_count": 9,
   "metadata": {},
   "outputs": [
    {
     "data": {
      "text/latex": [
       "$\\displaystyle 2 x - 5$"
      ],
      "text/plain": [
       "2*x - 5"
      ]
     },
     "metadata": {},
     "output_type": "display_data"
    },
    {
     "data": {
      "text/latex": [
       "$\\displaystyle \\left\\{\\frac{5}{2}\\right\\}$"
      ],
      "text/plain": [
       "{5/2}"
      ]
     },
     "metadata": {},
     "output_type": "display_data"
    }
   ],
   "source": [
    "expr=x**2-5*x+4\n",
    "temp=expr.diff(x)\n",
    "display(temp)\n",
    "display(solveset(Eq(temp, 0), x))"
   ]
  },
  {
   "cell_type": "markdown",
   "metadata": {},
   "source": [
    "### Задание 1.4\n",
    "Найдите область убывания функции $y = x^3 - 6x^2 + 2$:\n"
   ]
  },
  {
   "cell_type": "code",
   "execution_count": 11,
   "metadata": {},
   "outputs": [
    {
     "data": {
      "text/latex": [
       "$\\displaystyle 3 x^{2} - 12 x$"
      ],
      "text/plain": [
       "3*x**2 - 12*x"
      ]
     },
     "metadata": {},
     "output_type": "display_data"
    },
    {
     "data": {
      "text/latex": [
       "$\\displaystyle \\left\\{0, 4\\right\\}$"
      ],
      "text/plain": [
       "{0, 4}"
      ]
     },
     "metadata": {},
     "output_type": "display_data"
    },
    {
     "data": {
      "text/latex": [
       "$\\displaystyle 15$"
      ],
      "text/plain": [
       "15"
      ]
     },
     "metadata": {},
     "output_type": "display_data"
    },
    {
     "data": {
      "text/latex": [
       "$\\displaystyle -9$"
      ],
      "text/plain": [
       "-9"
      ]
     },
     "metadata": {},
     "output_type": "display_data"
    },
    {
     "data": {
      "text/latex": [
       "$\\displaystyle 15$"
      ],
      "text/plain": [
       "15"
      ]
     },
     "metadata": {},
     "output_type": "display_data"
    }
   ],
   "source": [
    "expr=x**3-6*x**2+2\n",
    "temp=expr.diff(x)\n",
    "display(temp)\n",
    "display(solveset(Eq(temp, 0), x))\n",
    "display(temp.subs(x,-1))\n",
    "display(temp.subs(x,1))\n",
    "display(temp.subs(x,5))"
   ]
  },
  {
   "cell_type": "markdown",
   "metadata": {},
   "source": [
    "| Таблицы | Круто | |\n",
    "|----------|:-------------:|------:|\n",
    "| столбец 1 | выровнен по левому краю | 1600 долларов |\n",
    "| столбец 2 | выровнен по центру | 12 долларов |\n",
    "| столбец 3 | выровнен по правому краю | 1 доллар"
   ]
  },
  {
   "cell_type": "markdown",
   "metadata": {},
   "source": [
    "### Задание 1.7\n",
    "Пусть у нас есть реальные и предсказанные значения в некоторой прогностической модели:\n",
    "\n",
    "|   Реальные    |  6  |  7  |  6  |  4  |  5  |  6  |  8  |\n",
    "|---------------|-----|-----|-----|-----|-----|-----|-----|\n",
    "| Предсказанные\t| 6.4 |\t7.1 | 5.9 | 4.2 | 5.2 | 6.2 | 7.5 |\n",
    "\n",
    "Найдите значение метрики $L^2$-loss:"
   ]
  },
  {
   "cell_type": "markdown",
   "metadata": {},
   "source": [
    "$$L^2 LossFunction = \\sum_{i=1}^{n} (y_{true} - y_{predicted})^2$$"
   ]
  },
  {
   "cell_type": "code",
   "execution_count": 4,
   "metadata": {},
   "outputs": [
    {
     "data": {
      "text/plain": [
       "0.55"
      ]
     },
     "execution_count": 4,
     "metadata": {},
     "output_type": "execute_result"
    }
   ],
   "source": [
    "import numpy as np\n",
    "y_true=np.array([6,7,6,4,5,6,8])\n",
    "y_predicted=np.array([6.4,7.1,5.9,4.2,5.2,6.2,7.5])\n",
    "round(sum((y_true-y_predicted)**2),2)\n"
   ]
  },
  {
   "cell_type": "markdown",
   "metadata": {},
   "source": [
    "### Задание 1.8\n",
    "$f(x,y) = \\sqrt{x^2 + y^2}$\n",
    "\n",
    "1. Вычислите $f(2,1)$. Ответ округлите до второго знака после точки-разделителя.\n"
   ]
  },
  {
   "cell_type": "code",
   "execution_count": 54,
   "metadata": {},
   "outputs": [
    {
     "data": {
      "text/latex": [
       "$\\displaystyle 2.24$"
      ],
      "text/plain": [
       "2.24"
      ]
     },
     "execution_count": 54,
     "metadata": {},
     "output_type": "execute_result"
    }
   ],
   "source": [
    "from sympy import S, sqrt, exp\n",
    "a=2\n",
    "b=1\n",
    "x = sympy.Symbol(\"x\")\n",
    "y = sympy.Symbol(\"y\")\n",
    "expr = sqrt(x**2+y**2)\n",
    "round(expr.subs([(x,a),(y,b)]),2)\n"
   ]
  },
  {
   "cell_type": "markdown",
   "metadata": {},
   "source": [
    "2. Найдите $E_f$:"
   ]
  },
  {
   "cell_type": "code",
   "execution_count": 56,
   "metadata": {},
   "outputs": [
    {
     "data": {
      "text/latex": [
       "$\\displaystyle \\left[0, \\infty\\right)$"
      ],
      "text/plain": [
       "Interval(0, oo)"
      ]
     },
     "execution_count": 56,
     "metadata": {},
     "output_type": "execute_result"
    }
   ],
   "source": [
    "from sympy.calculus.util import function_range\n",
    "f = (x**2)\n",
    " \n",
    "function_range(f, x, S.Reals)"
   ]
  },
  {
   "cell_type": "markdown",
   "metadata": {},
   "source": [
    "### Задание 1.9\n",
    "$f(x_1, x_2, x_3) = \\frac{1}{1 + e^{-2(x_1 + x_2 + x_3)}}$\n",
    "\n",
    "1. $E_f$ равна:"
   ]
  },
  {
   "cell_type": "code",
   "execution_count": 57,
   "metadata": {},
   "outputs": [
    {
     "data": {
      "text/latex": [
       "$\\displaystyle \\left(0, 1\\right)$"
      ],
      "text/plain": [
       "Interval.open(0, 1)"
      ]
     },
     "execution_count": 57,
     "metadata": {},
     "output_type": "execute_result"
    }
   ],
   "source": [
    "f = 1/(1+exp(-2*x))\n",
    " \n",
    "function_range(f, x, S.Reals)"
   ]
  },
  {
   "cell_type": "markdown",
   "metadata": {},
   "source": [
    "2. Вычислите f(1,1,0). Ответ округлите до второго знака после точки-разделителя."
   ]
  },
  {
   "cell_type": "code",
   "execution_count": 63,
   "metadata": {},
   "outputs": [
    {
     "data": {
      "text/latex": [
       "$\\displaystyle \\frac{1}{e^{-4} + 1}$"
      ],
      "text/plain": [
       "1/(exp(-4) + 1)"
      ]
     },
     "metadata": {},
     "output_type": "display_data"
    },
    {
     "name": "stdout",
     "output_type": "stream",
     "text": [
      "0.98\n"
     ]
    }
   ],
   "source": [
    "x_list=np.array([1,1,0])\n",
    "display(f.subs(x,(sum(x_list))))\n",
    "print(round(1/(np.exp(-4)+1),2))"
   ]
  },
  {
   "cell_type": "markdown",
   "metadata": {},
   "source": [
    "2. Вычислите f(0.1,0.3,0.6). Ответ округлите до второго знака после точки-разделителя."
   ]
  },
  {
   "cell_type": "code",
   "execution_count": 64,
   "metadata": {},
   "outputs": [
    {
     "data": {
      "text/latex": [
       "$\\displaystyle 0.880797077977882$"
      ],
      "text/plain": [
       "0.880797077977882"
      ]
     },
     "metadata": {},
     "output_type": "display_data"
    }
   ],
   "source": [
    "x_list=np.array([0.1,0.3,0.6])\n",
    "display(f.subs(x,(sum(x_list))))"
   ]
  },
  {
   "cell_type": "code",
   "execution_count": 68,
   "metadata": {},
   "outputs": [
    {
     "data": {
      "image/png": "[encoded data removed]",
      "text/plain": [
       "<Figure size 640x480 with 1 Axes>"
      ]
     },
     "metadata": {},
     "output_type": "display_data"
    },
    {
     "data": {
      "text/plain": [
       "<sympy.plotting.backends.matplotlibbackend.matplotlib.MatplotlibBackend at 0x2dd29be0>"
      ]
     },
     "execution_count": 68,
     "metadata": {},
     "output_type": "execute_result"
    }
   ],
   "source": [
    "from sympy.plotting import plot \n",
    "from sympy import * \n",
    "x = Symbol('x') \n",
    "plot((x**2), line_color='red')"
   ]
  },
  {
   "cell_type": "code",
   "execution_count": 47,
   "metadata": {},
   "outputs": [
    {
     "data": {
      "image/png": "[encoded data removed]",
      "text/plain": [
       "<Figure size 640x480 with 1 Axes>"
      ]
     },
     "metadata": {},
     "output_type": "display_data"
    }
   ],
   "source": [
    "import sympy as sp\n",
    "import matplotlib.pyplot as plt\n",
    "import numpy as np\n",
    "\n",
    "\n",
    "# Создание символьной переменной\n",
    "x = sp.symbols('x')\n",
    "\n",
    "\n",
    "# Определение функции с использованием SymPy\n",
    "y_expr = sp.sin(x) / x\n",
    "\n",
    "\n",
    "# Преобразование в функцию, пригодную для использования с библиотекой Matplotlib\n",
    "y_func = sp.lambdify(x, y_expr, 'numpy')\n",
    "\n",
    "\n",
    "# Генерация значений x от -10 до 10\n",
    "x_values = np.linspace(-10, 10, 400)\n",
    "# Вычисление соответствующих значений y\n",
    "y_values = y_func(x_values)\n",
    "\n",
    "\n",
    "# Построение графика с использованием Matplotlib\n",
    "plt.plot(x_values, y_values, label=r'$\\frac{\\sin(x)}{x}$')\n",
    "plt.xlabel('x')\n",
    "plt.ylabel('y')\n",
    "plt.title('График функции $y = \\\\frac{\\\\sin(x)}{x}$')\n",
    "plt.axhline(0, color='black', linewidth=0.5)\n",
    "plt.axvline(0, color='black', linewidth=0.5)\n",
    "plt.grid(color='gray', linestyle='--', linewidth=0.5)\n",
    "plt.legend()\n",
    "plt.show()"
   ]
  }
 ],
 "metadata": {
  "kernelspec": {
   "display_name": "Python 3.8.10 64-bit",
   "language": "python",
   "name": "python3"
  },
  "language_info": {
   "codemirror_mode": {
    "name": "ipython",
    "version": 3
   },
   "file_extension": ".py",
   "mimetype": "text/x-python",
   "name": "python",
   "nbconvert_exporter": "python",
   "pygments_lexer": "ipython3",
   "version": "3.8.10"
  },
  "orig_nbformat": 4,
  "vscode": {
   "interpreter": {
    "hash": "541247ef5e2c485a853fcdfc5770898360c10253d62f064c141db27a35a34903"
   }
  }
 },
 "nbformat": 4,
 "nbformat_minor": 2
}
