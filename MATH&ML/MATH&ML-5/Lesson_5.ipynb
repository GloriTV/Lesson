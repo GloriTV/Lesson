{
 "cells": [
  {
   "cell_type": "markdown",
   "metadata": {},
   "source": [
    "### Задание 5.1\n",
    "Найдите экстремумы функции $f(x,y) = 4x + 3y$ на множестве, заданном уравнением $x^2 + y^2 = 1$.\n",
    "\n",
    "В качестве ответа впишите значения функции в точках максимума и минимума."
   ]
  },
  {
   "cell_type": "markdown",
   "metadata": {},
   "source": [
    "$$L(x, \\lambda) = f(x) + \\sum_{i=1}^{m} \\lambda_i \\phi_i (x)$$"
   ]
  },
  {
   "cell_type": "markdown",
   "metadata": {},
   "source": [
    "$$L(x,y, \\lambda) =4x+3y+\\lambda(x^2+y^2-1)$$\n",
    "$$f'_x=2 \\lambda x+4$$\n",
    "$$f'_y=2 \\lambda y+3$$\n",
    "$$f'_ \\lambda =x^2+y^2+1$$\n",
    "$$\\left\\{\n",
    "    \\begin{matrix}\n",
    "    2 \\lambda x+4 = 0 \\\\\n",
    "    2 \\lambda y+3 = 0 \\\\\n",
    "    x^2 + y^2 - 1 = 0\n",
    "    \\end{matrix}\n",
    "\\right.$$\n",
    "\n",
    "$$\\left\\{\n",
    "    \\begin{matrix}\n",
    "    2 \\lambda x = -4 \\\\\n",
    "    2 \\lambda y = -3 \\\\\n",
    "    x^2 + y^2 -1 = 0\n",
    "    \\end{matrix}\n",
    "\\right.$$\n",
    "$2 \\lambda x = -4 => x=- \\frac{4}{2 \\lambda} => x=- \\frac{2}{\\lambda}$\n",
    "\n",
    "$2 \\lambda y = -3 => y=- \\frac{3}{2 \\lambda}$\n",
    "\n",
    "$=>$\n",
    "\n",
    "$ x^2 + y^2 -1 = 0 => \\left(- \\frac{2}{\\lambda} \\right)^2+\\left(- \\frac{3}{2 \\lambda} \\right)^2 -1 = 0 \n",
    "=> \\frac{4}{\\lambda^2} +\\frac{9}{4 \\lambda^2} -1 =0 \n",
    "=> \\frac{16+9}{4 \\lambda^2} -1 =0 \n",
    "=> \\frac{25}{4 \\lambda^2} -1 =0\n",
    "=> \\frac{25}{4 \\lambda^2} -\\frac{4 \\lambda^2}{4 \\lambda^2} =0\n",
    "=> \\frac{25 - 4 \\lambda^2}{4 \\lambda^2} =0$\n",
    "\n",
    "$=> 25 - 4 \\lambda^2 =0\n",
    "=> 25 = 4 \\lambda^2\n",
    "=> \\lambda^2=\\frac{25}{4}\n",
    "=> \\lambda=\\pm \\frac{5}{2}$\n",
    "$$ \\lambda _1= \\frac{5}{2}$$\n",
    "$$ \\lambda _2= - \\frac{5}{2}$$\n",
    "$ \\lambda _1= \\frac{5}{2} =>\n",
    "\\left\\{    \\begin{matrix}    2 \\frac{5}{2} x_1 = -4 \\\\    2 \\frac{5}{2} y_1 = -3     \\end{matrix} \\right. =>\n",
    "\\left\\{    \\begin{matrix}    5 x_1 = -4 \\\\    5 y_1 = -3     \\end{matrix} \\right. =>\n",
    "\\left\\{    \\begin{matrix}    x_1 = - \\frac{4}{5} \\\\ y_1 = - \\frac{3}{5}    \\end{matrix} \\right.$\n",
    "\n",
    "$ \\lambda _2=- \\frac{5}{2} =>\n",
    "\\left\\{    \\begin{matrix}    2 \\left(-\\frac{5}{2} \\right) x_2 = -4 \\\\    2 \\left( -\\frac{5}{2} \\right) y_2 = -3     \\end{matrix} \\right. =>\n",
    "\\left\\{    \\begin{matrix}    -5 x_2 = -4 \\\\    -5 y_2 = -3     \\end{matrix} \\right. =>\n",
    "\\left\\{    \\begin{matrix}    x_2 =  \\frac{4}{5} \\\\ y_2 =  \\frac{3}{5}    \\end{matrix} \\right.$\n",
    "\n",
    "$$f(x,y) = 4x + 3y$$\n",
    "$$\\left\\{    \\begin{matrix}    x_1 = - \\frac{4}{5} \\\\ y_1 = - \\frac{3}{5}    \\end{matrix} \\right.$$\n",
    "$4\\left(- \\frac{4}{5} \\right) + 3\\left(- \\frac{3}{5}\\right)=- \\frac{16}{5}- \\frac{9}{5}=- \\frac{25}{5}=-5$\n",
    "$$\\left\\{    \\begin{matrix}    x_2 =  \\frac{4}{5} \\\\ y_2 =  \\frac{3}{5}    \\end{matrix} \\right.$$\n",
    "$4 \\frac{4}{5} + 3 \\frac{3}{5}= \\frac{16}{5}+ \\frac{9}{5}= \\frac{25}{5}=5$"
   ]
  },
  {
   "cell_type": "code",
   "execution_count": 7,
   "metadata": {},
   "outputs": [],
   "source": [
    "import sympy\n",
    "from sympy import * # diff, Symbol, solveset, Eq, symbols"
   ]
  },
  {
   "cell_type": "code",
   "execution_count": 18,
   "metadata": {},
   "outputs": [
    {
     "data": {
      "text/latex": [
       "$\\displaystyle 2 a x + 4$"
      ],
      "text/plain": [
       "2*a*x + 4"
      ]
     },
     "metadata": {},
     "output_type": "display_data"
    },
    {
     "data": {
      "text/latex": [
       "$\\displaystyle 2 a y + 3$"
      ],
      "text/plain": [
       "2*a*y + 3"
      ]
     },
     "metadata": {},
     "output_type": "display_data"
    },
    {
     "data": {
      "text/latex": [
       "$\\displaystyle x^{2} + y^{2} - 1$"
      ],
      "text/plain": [
       "x**2 + y**2 - 1"
      ]
     },
     "metadata": {},
     "output_type": "display_data"
    },
    {
     "name": "stdout",
     "output_type": "stream",
     "text": [
      "[(4/5, 3/5, -5/2), (-4/5, -3/5, 5/2)]\n",
      "5.0\n",
      "-5.0\n"
     ]
    }
   ],
   "source": [
    "a, x, y = symbols('a x y', real=True)\n",
    "f=4*x+3*y+a*(x**2+y**2-1)\n",
    "# f=4*x+3*y+a*x**2+a*y**2-a\n",
    "f_x=f.diff(x)\n",
    "f_y=f.diff(y)\n",
    "f_a=f.diff(a)\n",
    "display(f_x, f_y, f_a)\n",
    "\n",
    "sols = solve([f_x, f_y, f_a],x,y,a)\n",
    "print(sols)\n",
    "# print('Стационарная точка M(x,y):\\n',float(sols[x]),',',float(sols[y]))\n",
    "for i in sols:\n",
    "    print(4*float(i[0])+3*float(i[1]))"
   ]
  },
  {
   "cell_type": "code",
   "execution_count": 17,
   "metadata": {},
   "outputs": [
    {
     "name": "stdout",
     "output_type": "stream",
     "text": [
      "Функция Лагранжа :\n",
      "  3*a**2 + a + 5*b**2 + 4*b + w*(a + b - 200)\n",
      "df/da = 6*a + w + 1 = 0\n",
      "df/db = 10*b + w + 4 = 0\n",
      "df/dw = a + b - 200 = 0\n",
      "Стационарная точка M(x,y):\n",
      " 125.1875 , 74.8125\n"
     ]
    },
    {
     "data": {
      "text/plain": [
       "{a: 2003/16, b: 1197/16, w: -6017/8}"
      ]
     },
     "execution_count": 17,
     "metadata": {},
     "output_type": "execute_result"
    }
   ],
   "source": [
    "from sympy import *\n",
    "a,b,w=symbols(' a b w' )\n",
    "g = 3*a**2 + a + 4*b + 5*b**2\n",
    "print('Целевая функция для аргументов a и b :\\n f = ', g)\n",
    "q = a + b - 200\n",
    "print('Функция ограничений: ', q,'= 0')\n",
    "f = 3*a**2 + a + 4*b + 5*b**2 + w*(a + b - 200)\n",
    "print('Функция Лагранжа :\\n ',f)\n",
    "fa = f.diff(a)\n",
    "print('df/da =',fa,'= 0')\n",
    "fb = f.diff(b)\n",
    "print('df/db =',fb,'= 0')\n",
    "fw = f.diff(w)\n",
    "print('df/dw =',fw,'= 0')\n",
    "sols = solve([fa,fb,fw],a,b,w)\n",
    "print('Стационарная точка M(x,y):\\n',float(sols[a]),',',float(sols[b]))\n",
    "\n",
    "#Целевая функция для аргументов a и b :\n",
    "#f =  3*a**2 + a + 5*b**2 + 4*b\n",
    "#Функция ограничений:  a + b - 200 = 0\n",
    "#Функция Лагранжа :\n",
    "#3*a**2 + a + 5*b**2 + 4*b + w*(a + b - 200)\n",
    "#df/da = 6*a + w + 1 = 0\n",
    "#df/db = 10*b + w + 4 = 0\n",
    "#df/dw = a + b - 200 = 0\n",
    "#Стационарная точка M(x,y):\n",
    "#125.1875 , 74.8125\n",
    "sols"
   ]
  },
  {
   "cell_type": "markdown",
   "metadata": {},
   "source": [
    "### Задание 5.3\n",
    "Представьте, что вы решаете задачу классификации методом опорных векторов и хотите оценить расстояние от объекта до разделяющей прямой с помощью метода Лагранжа. Если объект имеет координаты $(2;1)$, а прямая задана уравнением $x+y = 1$, то каким будет квадрат расстояния от этого объекта до прямой?"
   ]
  },
  {
   "cell_type": "markdown",
   "metadata": {},
   "source": [
    "$$\\sqrt{x^2+y^2}$$\n",
    "$$\\sqrt{(x-2)^2+(y-1)^2}$$\n",
    "и квадрат расстояния от этого объекта до прямой\n",
    "$$(\\sqrt{(x-2)^2+(y-1)^2})^2$$"
   ]
  },
  {
   "cell_type": "code",
   "execution_count": 46,
   "metadata": {},
   "outputs": [
    {
     "name": "stdout",
     "output_type": "stream",
     "text": [
      "Функция Лагранжа :\n",
      "  w*(x + y - 1) + ((x - 2)**2 + (y - 1)**2)**0.5\n",
      "df/da = w + (1.0*x - 2.0)/((x - 2)**2 + (y - 1)**2)**0.5 = 0\n",
      "df/db = w + (1.0*y - 1.0)/((x - 2)**2 + (y - 1)**2)**0.5 = 0\n",
      "df/dw = x + y - 1 = 0\n",
      "[(1.00000000000000, 0.0, 0.707106781186548)]\n",
      "1.41421356237310\n",
      "2.00000000000000\n"
     ]
    }
   ],
   "source": [
    "x,y,w=symbols(' x y w' )\n",
    "g = ((x-2)**2+(y-1)**2)**(0.5)\n",
    "f = ((x-2)**2+(y-1)**2)**0.5+w*(x+y-1)\n",
    "print('Функция Лагранжа :\\n ',f)\n",
    "fx = f.diff(x)\n",
    "print('df/da =',fx,'= 0')\n",
    "fy = f.diff(y)\n",
    "print('df/db =',fy,'= 0')\n",
    "fw = f.diff(w)\n",
    "print('df/dw =',fw,'= 0')\n",
    "sols = solve([fx,fy,fw],x,y,w)\n",
    "# print('Стационарная точка M(x,y):\\n',float(sols[a]),',',float(sols[b]))\n",
    "print(sols)\n",
    "temp=g.subs({x:sols[0][0], y:sols[0][1]})\n",
    "print(temp)\n",
    "print(temp**2)"
   ]
  },
  {
   "cell_type": "markdown",
   "metadata": {},
   "source": [
    "### Задание 5.4\n",
    "Прямоугольный параллелепипед имеет объём $1 \\ м^3$. Чему равна минимальная площадь его поверхности?"
   ]
  },
  {
   "cell_type": "code",
   "execution_count": 38,
   "metadata": {},
   "outputs": [
    {
     "name": "stdout",
     "output_type": "stream",
     "text": [
      "(1, 1, 1, -4)\n",
      "6\n"
     ]
    }
   ],
   "source": [
    "a,b,c,w=symbols('a b c w')\n",
    "g = 2*(a*b + a*c + b*c)\n",
    "\n",
    "L = 2*(a*b + a*c + b*c) + w*(a*b*c - 1)\n",
    "\n",
    "L_a = L.diff(a)\n",
    "L_b = L.diff(b)\n",
    "L_c = L.diff(c)\n",
    "L_w = L.diff(w)\n",
    "temp=solve([L_a, L_b, L_c, L_w], a, b, c, w)[0]\n",
    "print(temp)\n",
    "print(g.subs({a:temp[0], b:temp[1], c:temp[2]}))"
   ]
  },
  {
   "cell_type": "markdown",
   "metadata": {},
   "source": [
    "$$\\displaystyle \\max_{ 2x_1 + 2x_2 = 20 \\  \\ x_1 \\geq 6} \\ x_1 x_2$$\n",
    "$$\\widetilde{x}^2_1$$"
   ]
  },
  {
   "cell_type": "code",
   "execution_count": 47,
   "metadata": {},
   "outputs": [
    {
     "name": "stdout",
     "output_type": "stream",
     "text": [
      "[(6, 4, 0, 6, 2)]\n"
     ]
    }
   ],
   "source": [
    "# Импортируем все необходимые функции из библиотеки SymPy\n",
    "from sympy import init_printing, solve, symbols\n",
    "\n",
    "# Подключаем аккуратный вывод формул\n",
    "init_printing()\n",
    "\n",
    "# Создаём переменные\n",
    "x1, x2, x1_tilde, lambda1, lambda2 = symbols(\n",
    "    \"x_1 x_2 xtilde_2 \\lambda_1 \\lambda_2\", real=True\n",
    ")\n",
    "\n",
    "# Пишем систему уравнений для переменных\n",
    "dLdx1 = -x2 + lambda1 - lambda2\n",
    "dLdx2 = -x1 + lambda1\n",
    "dLdx1_tilde = 2 * lambda2 * x1_tilde\n",
    "dLdlambda1 = x1 + x2 - 10\n",
    "dLdlambda2 = -x1 + 6 + x1_tilde**2\n",
    "\n",
    "# Решаем систему уравнений с помощью функции solve\n",
    "solution = solve(\n",
    "    [dLdx1, dLdx2, dLdx1_tilde, dLdlambda1, dLdlambda2],\n",
    "    x1,\n",
    "    x2,\n",
    "    x1_tilde,\n",
    "    lambda1,\n",
    "    lambda2,\n",
    ")\n",
    "\n",
    "print(solution)"
   ]
  },
  {
   "cell_type": "markdown",
   "metadata": {},
   "source": [
    "### Задание 5.6\n",
    "Сколько переменных будет у функции Лагранжа задачи $min \\ x^2+2xy+y^2$  при условии $5≤x≤8; x+y=2$?"
   ]
  },
  {
   "cell_type": "markdown",
   "metadata": {},
   "source": [
    "$$f=x**2+2*x*y+y**2$$\n",
    "$$f_{\\lambda 1}=\\lambda _1(x+y-2) $$\n",
    "$$f_{\\lambda 2}=\\lambda _2(5+x-\\widetilde{x}^2)$$\n",
    "$$x \\ y \\ \\lambda _1 \\ \\lambda _2 \\ \\widetilde{x}^2$$\n",
    ">Одна переменная лагранжа — на условие-равенство, две переменных, которые мы ищем, и по одной переменной — на каждое условие-неравенство.\n",
    "\n"
   ]
  }
 ],
 "metadata": {
  "kernelspec": {
   "display_name": "Python 3.8.10 64-bit",
   "language": "python",
   "name": "python3"
  },
  "language_info": {
   "codemirror_mode": {
    "name": "ipython",
    "version": 3
   },
   "file_extension": ".py",
   "mimetype": "text/x-python",
   "name": "python",
   "nbconvert_exporter": "python",
   "pygments_lexer": "ipython3",
   "version": "3.8.10"
  },
  "orig_nbformat": 4,
  "vscode": {
   "interpreter": {
    "hash": "541247ef5e2c485a853fcdfc5770898360c10253d62f064c141db27a35a34903"
   }
  }
 },
 "nbformat": 4,
 "nbformat_minor": 2
}
