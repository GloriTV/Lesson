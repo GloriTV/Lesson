{
 "cells": [
  {
   "cell_type": "markdown",
   "metadata": {},
   "source": [
    "### Задание 2.1\n",
    "Каким будет значение производной этой функции в точке $(3;2)$, если мы ищем производную по $x$?"
   ]
  },
  {
   "cell_type": "markdown",
   "metadata": {},
   "source": [
    "$$x^2 \\cdot 2^3 = x^2 \\cdot 8$$"
   ]
  },
  {
   "cell_type": "code",
   "execution_count": 3,
   "metadata": {},
   "outputs": [
    {
     "name": "stdout",
     "output_type": "stream",
     "text": [
      "48\n"
     ]
    },
    {
     "data": {
      "text/latex": [
       "$\\displaystyle 8 x^{2}$"
      ],
      "text/plain": [
       "8*x**2"
      ]
     },
     "metadata": {},
     "output_type": "display_data"
    },
    {
     "data": {
      "text/latex": [
       "$\\displaystyle 16 x$"
      ],
      "text/plain": [
       "16*x"
      ]
     },
     "metadata": {},
     "output_type": "display_data"
    },
    {
     "data": {
      "text/latex": [
       "$\\displaystyle 48$"
      ],
      "text/plain": [
       "48"
      ]
     },
     "execution_count": 3,
     "metadata": {},
     "output_type": "execute_result"
    }
   ],
   "source": [
    "import sympy\n",
    "from sympy import diff, Symbol, solveset, Eq, log\n",
    "x_0=3\n",
    "print(16*x_0)\n",
    "x = sympy.Symbol(\"x\")\n",
    "expr = x**2*2**3\n",
    "display(expr)\n",
    "temp=expr.diff(x)\n",
    "display(temp)\n",
    "temp.subs(x,x_0)\n"
   ]
  },
  {
   "cell_type": "code",
   "execution_count": 5,
   "metadata": {},
   "outputs": [
    {
     "data": {
      "text/latex": [
       "$\\displaystyle a^{8} + 5 a b - a \\cos{\\left(c \\right)} + b c^{2}$"
      ],
      "text/plain": [
       "a**8 + 5*a*b - a*cos(c) + b*c**2"
      ]
     },
     "metadata": {},
     "output_type": "display_data"
    },
    {
     "data": {
      "text/latex": [
       "$\\displaystyle 8 a^{7} + 5 b - \\cos{\\left(c \\right)}$"
      ],
      "text/plain": [
       "8*a**7 + 5*b - cos(c)"
      ]
     },
     "metadata": {},
     "output_type": "display_data"
    },
    {
     "name": "stdout",
     "output_type": "stream",
     "text": [
      "8*a**7 + 5*b - cos(c)\n"
     ]
    }
   ],
   "source": [
    "from sympy import symbols, cos, diff\n",
    "\n",
    "a, b, c = symbols('a b c', real=True)\n",
    "f = 5*a*b - a*cos(c) + a**8 + c**2*b\n",
    "display(f)\n",
    "display(diff(f, a))\n",
    "print(diff(f, a))"
   ]
  },
  {
   "cell_type": "markdown",
   "metadata": {},
   "source": [
    "### Задание 2.2\n",
    "$$f(a,b,x) = 2ax + b^2$$\n",
    "1. Запись f'_a означает...\n",
    "2. $f'_a =$\n"
   ]
  },
  {
   "cell_type": "code",
   "execution_count": 6,
   "metadata": {},
   "outputs": [
    {
     "data": {
      "text/latex": [
       "$\\displaystyle 2 a x + b^{2}$"
      ],
      "text/plain": [
       "2*a*x + b**2"
      ]
     },
     "metadata": {},
     "output_type": "display_data"
    },
    {
     "data": {
      "text/latex": [
       "$\\displaystyle 2 x$"
      ],
      "text/plain": [
       "2*x"
      ]
     },
     "metadata": {},
     "output_type": "display_data"
    }
   ],
   "source": [
    "a, b, x = symbols('a b x', real=True)\n",
    "f = 2*a*x+b**2\n",
    "display(f)\n",
    "display(diff(f, a))"
   ]
  },
  {
   "cell_type": "markdown",
   "metadata": {},
   "source": [
    "3. Запись $f''_{aa}$ означает..."
   ]
  },
  {
   "cell_type": "code",
   "execution_count": 7,
   "metadata": {},
   "outputs": [
    {
     "data": {
      "text/latex": [
       "$\\displaystyle 0$"
      ],
      "text/plain": [
       "0"
      ]
     },
     "metadata": {},
     "output_type": "display_data"
    }
   ],
   "source": [
    "display(diff(f, a, 2))"
   ]
  },
  {
   "cell_type": "markdown",
   "metadata": {},
   "source": [
    "### Задание 2.3\n",
    "$$f(x,y) = x^2 − y^2$$\n",
    "1. Чему равны частные производные $f(x,y)$?"
   ]
  },
  {
   "cell_type": "code",
   "execution_count": 8,
   "metadata": {},
   "outputs": [
    {
     "data": {
      "text/latex": [
       "$\\displaystyle x^{2} - y^{2}$"
      ],
      "text/plain": [
       "x**2 - y**2"
      ]
     },
     "metadata": {},
     "output_type": "display_data"
    },
    {
     "data": {
      "text/latex": [
       "$\\displaystyle 2 x$"
      ],
      "text/plain": [
       "2*x"
      ]
     },
     "metadata": {},
     "output_type": "display_data"
    },
    {
     "data": {
      "text/latex": [
       "$\\displaystyle - 2 y$"
      ],
      "text/plain": [
       "-2*y"
      ]
     },
     "metadata": {},
     "output_type": "display_data"
    }
   ],
   "source": [
    "y, x = symbols('y x', real=True)\n",
    "f = x**2-y**2\n",
    "display(f)\n",
    "display(diff(f, x))\n",
    "display(diff(f, y))"
   ]
  },
  {
   "cell_type": "markdown",
   "metadata": {},
   "source": [
    "2. Вычислите частные производные в точке $M(−2,−1)$:"
   ]
  },
  {
   "cell_type": "code",
   "execution_count": 10,
   "metadata": {},
   "outputs": [
    {
     "data": {
      "text/latex": [
       "$\\displaystyle -4$"
      ],
      "text/plain": [
       "-4"
      ]
     },
     "metadata": {},
     "output_type": "display_data"
    },
    {
     "data": {
      "text/latex": [
       "$\\displaystyle 2$"
      ],
      "text/plain": [
       "2"
      ]
     },
     "metadata": {},
     "output_type": "display_data"
    }
   ],
   "source": [
    "x_0=-2\n",
    "y_0=-1\n",
    "display(diff(f, x).subs(x,x_0))\n",
    "display(diff(f, y).subs(y,y_0))"
   ]
  },
  {
   "cell_type": "markdown",
   "metadata": {},
   "source": [
    "### Задание 2.4\n",
    "$$f(a,b) = (5 − a − 2b)^2$$"
   ]
  },
  {
   "cell_type": "markdown",
   "metadata": {},
   "source": [
    "2. Найдите частные производные:"
   ]
  },
  {
   "cell_type": "code",
   "execution_count": 11,
   "metadata": {},
   "outputs": [
    {
     "data": {
      "text/latex": [
       "$\\displaystyle \\left(- a - 2 b + 5\\right)^{2}$"
      ],
      "text/plain": [
       "(-a - 2*b + 5)**2"
      ]
     },
     "metadata": {},
     "output_type": "display_data"
    },
    {
     "data": {
      "text/latex": [
       "$\\displaystyle 2 a + 4 b - 10$"
      ],
      "text/plain": [
       "2*a + 4*b - 10"
      ]
     },
     "metadata": {},
     "output_type": "display_data"
    },
    {
     "data": {
      "text/latex": [
       "$\\displaystyle 4 a + 8 b - 20$"
      ],
      "text/plain": [
       "4*a + 8*b - 20"
      ]
     },
     "metadata": {},
     "output_type": "display_data"
    }
   ],
   "source": [
    "a, b = symbols('a b', real=True)\n",
    "f = (5-a-2*b)**2\n",
    "display(f)\n",
    "display(diff(f, a))\n",
    "display(diff(f, b))"
   ]
  },
  {
   "cell_type": "markdown",
   "metadata": {},
   "source": [
    "### Задание 2.5\n",
    "2 points possible (graded)\n",
    "Вычислите частные производные для функции $u = x^2 + 3xy + 4y^2$ в точке $(1,1)$."
   ]
  },
  {
   "cell_type": "code",
   "execution_count": 18,
   "metadata": {},
   "outputs": [
    {
     "data": {
      "text/latex": [
       "$\\displaystyle x^{2} + 3 x y + 4 y^{2}$"
      ],
      "text/plain": [
       "x**2 + 3*x*y + 4*y**2"
      ]
     },
     "metadata": {},
     "output_type": "display_data"
    },
    {
     "name": "stdout",
     "output_type": "stream",
     "text": [
      "x\n"
     ]
    },
    {
     "data": {
      "text/latex": [
       "$\\displaystyle 5$"
      ],
      "text/plain": [
       "5"
      ]
     },
     "metadata": {},
     "output_type": "display_data"
    },
    {
     "name": "stdout",
     "output_type": "stream",
     "text": [
      "y\n"
     ]
    },
    {
     "data": {
      "text/latex": [
       "$\\displaystyle 11$"
      ],
      "text/plain": [
       "11"
      ]
     },
     "metadata": {},
     "output_type": "display_data"
    }
   ],
   "source": [
    "x_0, y_0 = 1, 1\n",
    "x, y = symbols('x y', real=True)\n",
    "f = x**2+3*x*y+4*y**2\n",
    "display(f)\n",
    "print('x')\n",
    "display(diff(f, x).subs([(x,x_0),(y,y_0)]))\n",
    "print('y')\n",
    "display(diff(f, y).subs([(x,x_0),(y,y_0)]))"
   ]
  },
  {
   "cell_type": "markdown",
   "metadata": {},
   "source": [
    "### Задание 2.6\n",
    "Найдите частные производные для функции $u = y \\ sin \\ x + sin \\ y$. Отметьте производную по $y$:"
   ]
  },
  {
   "cell_type": "code",
   "execution_count": 19,
   "metadata": {},
   "outputs": [
    {
     "data": {
      "text/latex": [
       "$\\displaystyle y \\sin{\\left(x \\right)} + \\sin{\\left(y \\right)}$"
      ],
      "text/plain": [
       "y*sin(x) + sin(y)"
      ]
     },
     "metadata": {},
     "output_type": "display_data"
    },
    {
     "data": {
      "text/latex": [
       "$\\displaystyle \\sin{\\left(x \\right)} + \\cos{\\left(y \\right)}$"
      ],
      "text/plain": [
       "sin(x) + cos(y)"
      ]
     },
     "metadata": {},
     "output_type": "display_data"
    }
   ],
   "source": [
    "from sympy import sin\n",
    "x, y = symbols('x y', real=True)\n",
    "f = y*sin(x)+sin(y)\n",
    "display(f)\n",
    "display(diff(f, y))"
   ]
  }
 ],
 "metadata": {
  "kernelspec": {
   "display_name": "Python 3.8.10 64-bit",
   "language": "python",
   "name": "python3"
  },
  "language_info": {
   "codemirror_mode": {
    "name": "ipython",
    "version": 3
   },
   "file_extension": ".py",
   "mimetype": "text/x-python",
   "name": "python",
   "nbconvert_exporter": "python",
   "pygments_lexer": "ipython3",
   "version": "3.8.10"
  },
  "orig_nbformat": 4,
  "vscode": {
   "interpreter": {
    "hash": "541247ef5e2c485a853fcdfc5770898360c10253d62f064c141db27a35a34903"
   }
  }
 },
 "nbformat": 4,
 "nbformat_minor": 2
}
