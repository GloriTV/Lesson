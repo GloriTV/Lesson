{
 "cells": [
  {
   "cell_type": "code",
   "execution_count": 1,
   "metadata": {},
   "outputs": [],
   "source": [
    "import numpy as np\n",
    "import sympy\n",
    "from sympy import diff, Symbol, solveset, Eq, symbols, exp"
   ]
  },
  {
   "cell_type": "markdown",
   "metadata": {},
   "source": [
    "### Задание 3.1\n",
    "Найдите экстремумы для функции $f(x) = -2x^3 -3x^2 + 12x - 4$. В качестве ответа запишите точку минимума:"
   ]
  },
  {
   "cell_type": "code",
   "execution_count": 2,
   "metadata": {},
   "outputs": [
    {
     "data": {
      "text/latex": [
       "$\\displaystyle - 2 x^{3} - 3 x^{2} + 12 x - 4$"
      ],
      "text/plain": [
       "-2*x**3 - 3*x**2 + 12*x - 4"
      ]
     },
     "metadata": {},
     "output_type": "display_data"
    },
    {
     "data": {
      "text/latex": [
       "$\\displaystyle - 6 x^{2} - 6 x + 12$"
      ],
      "text/plain": [
       "-6*x**2 - 6*x + 12"
      ]
     },
     "metadata": {},
     "output_type": "display_data"
    },
    {
     "data": {
      "text/latex": [
       "$\\displaystyle -2$"
      ],
      "text/plain": [
       "-2"
      ]
     },
     "metadata": {},
     "output_type": "display_data"
    }
   ],
   "source": [
    "x = Symbol('x')\n",
    "f=-2*x**3-3*x**2+12*x-4\n",
    "display(f)\n",
    "temp=f.diff(x)\n",
    "display(temp)\n",
    "display(min(solveset(Eq(temp, 0), x)))\n",
    "\n",
    "# temp=f.diff(x,2)\n",
    "# display(temp)\n",
    "# print(temp.subs(x,-2))\n",
    "# print(temp.subs(x,1))\n",
    "# display(solveset(Eq(temp, 0), x))"
   ]
  },
  {
   "cell_type": "markdown",
   "metadata": {},
   "source": [
    "$$f(x,y) = x^2 - 10x + y^2 -12y + 71$$"
   ]
  },
  {
   "cell_type": "code",
   "execution_count": 3,
   "metadata": {},
   "outputs": [
    {
     "data": {
      "text/latex": [
       "$\\displaystyle x^{2} - 10 x + y^{2} - 12 y + 71$"
      ],
      "text/plain": [
       "x**2 - 10*x + y**2 - 12*y + 71"
      ]
     },
     "metadata": {},
     "output_type": "display_data"
    },
    {
     "name": "stdout",
     "output_type": "stream",
     "text": [
      "Этап 1\n",
      "На первом этапе необходимо найти частные производные этой функции:\n"
     ]
    },
    {
     "data": {
      "text/plain": [
       "\"f'_x\""
      ]
     },
     "metadata": {},
     "output_type": "display_data"
    },
    {
     "data": {
      "text/latex": [
       "$\\displaystyle 2 x - 10$"
      ],
      "text/plain": [
       "2*x - 10"
      ]
     },
     "metadata": {},
     "output_type": "display_data"
    },
    {
     "data": {
      "text/plain": [
       "\"f'_y\""
      ]
     },
     "metadata": {},
     "output_type": "display_data"
    },
    {
     "data": {
      "text/latex": [
       "$\\displaystyle 2 y - 12$"
      ],
      "text/plain": [
       "2*y - 12"
      ]
     },
     "metadata": {},
     "output_type": "display_data"
    },
    {
     "name": "stdout",
     "output_type": "stream",
     "text": [
      "Этап 2\n",
      "На втором этапе мы находим точки, в которых эти производные принимают нулевые значения:\n",
      "x_0= {5}\n",
      "y_0= {6}\n",
      "Этап 3\n",
      "Наконец, переходим к третьему шагу — определению того, чем будет являться стационарная точка.\n"
     ]
    },
    {
     "data": {
      "text/plain": [
       "array([[2, 0],\n",
       "       [0, 2]], dtype=object)"
      ]
     },
     "metadata": {},
     "output_type": "display_data"
    },
    {
     "name": "stdout",
     "output_type": "stream",
     "text": [
      "2 > 0\n",
      "4.0 > 0\n"
     ]
    }
   ],
   "source": [
    "x, y = symbols('x y', real=True)\n",
    "f=x**2-10*x+y**2-12*y+71\n",
    "display(f)\n",
    "\n",
    "print('Этап 1')\n",
    "print('На первом этапе необходимо найти частные производные этой функции:')\n",
    "f_x=f.diff(x)\n",
    "f_y=f.diff(y)\n",
    "\n",
    "display('f\\'_x',f_x)\n",
    "display('f\\'_y',f_y)\n",
    "\n",
    "print('Этап 2')\n",
    "print('На втором этапе мы находим точки, в которых эти производные принимают нулевые значения:')\n",
    "x_0=solveset(Eq(f_x, 0), x)\n",
    "y_0=solveset(Eq(f_y, 0), y)\n",
    "print('x_0=',x_0)\n",
    "print('y_0=',y_0)\n",
    "\n",
    "print('Этап 3')\n",
    "print('Наконец, переходим к третьему шагу — определению того, чем будет являться стационарная точка.')\n",
    "f_xx=f_x=f_x.diff(x)\n",
    "f_xy=f_x=f_x.diff(y)\n",
    "f_yx=f_x=f_y.diff(x)\n",
    "f_yy=f_x=f_y.diff(y)\n",
    "\n",
    "A=np.array([[f_xx,f_xy],[f_yx,f_yy]])\n",
    "display(A)\n",
    "A=np.array([[2,0],[0,2]])\n",
    "print(A[0,0],'> 0')\n",
    "# print('Определитель матрицы :\\n',np.linalg.det(A))\n",
    "print(np.linalg.det(A),\"> 0\")"
   ]
  },
  {
   "cell_type": "markdown",
   "metadata": {},
   "source": [
    "### Задание 3.2\n",
    "Найдите матрицу Гессе для функции $f(x,y) = e^x + 5y^3 x$:"
   ]
  },
  {
   "cell_type": "code",
   "execution_count": 4,
   "metadata": {},
   "outputs": [
    {
     "data": {
      "text/latex": [
       "$\\displaystyle 5 x y^{3} + e^{x}$"
      ],
      "text/plain": [
       "5*x*y**3 + exp(x)"
      ]
     },
     "metadata": {},
     "output_type": "display_data"
    },
    {
     "name": "stdout",
     "output_type": "stream",
     "text": [
      "Этап 1\n",
      "На первом этапе необходимо найти частные производные этой функции:\n"
     ]
    },
    {
     "data": {
      "text/plain": [
       "\"f'_x\""
      ]
     },
     "metadata": {},
     "output_type": "display_data"
    },
    {
     "data": {
      "text/latex": [
       "$\\displaystyle 5 y^{3} + e^{x}$"
      ],
      "text/plain": [
       "5*y**3 + exp(x)"
      ]
     },
     "metadata": {},
     "output_type": "display_data"
    },
    {
     "data": {
      "text/plain": [
       "\"f'_y\""
      ]
     },
     "metadata": {},
     "output_type": "display_data"
    },
    {
     "data": {
      "text/latex": [
       "$\\displaystyle 15 x y^{2}$"
      ],
      "text/plain": [
       "15*x*y**2"
      ]
     },
     "metadata": {},
     "output_type": "display_data"
    },
    {
     "name": "stdout",
     "output_type": "stream",
     "text": [
      "Этап 3\n",
      "Наконец, переходим к третьему шагу — определению того, чем будет являться стационарная точка.\n"
     ]
    },
    {
     "data": {
      "text/plain": [
       "array([[exp(x), 0],\n",
       "       [15*y**2, 30*x*y]], dtype=object)"
      ]
     },
     "metadata": {},
     "output_type": "display_data"
    }
   ],
   "source": [
    "x, y = symbols('x y', real=True)\n",
    "f=exp(x)+5*y**3*x\n",
    "display(f)\n",
    "\n",
    "print('Этап 1')\n",
    "print('На первом этапе необходимо найти частные производные этой функции:')\n",
    "f_x=f.diff(x)\n",
    "f_y=f.diff(y)\n",
    "\n",
    "display('f\\'_x',f_x)\n",
    "display('f\\'_y',f_y)\n",
    "\n",
    "print('Этап 3')\n",
    "print('Наконец, переходим к третьему шагу — определению того, чем будет являться стационарная точка.')\n",
    "f_xx=f_x=f_x.diff(x)\n",
    "f_xy=f_x=f_x.diff(y)\n",
    "f_yx=f_x=f_y.diff(x)\n",
    "f_yy=f_x=f_y.diff(y)\n",
    "\n",
    "A=np.array([[f_xx,f_xy],[f_yx,f_yy]])\n",
    "display(A)"
   ]
  },
  {
   "cell_type": "markdown",
   "metadata": {},
   "source": [
    "### Пример № 1\n",
    "\n",
    "Исследовать на экстремумы функцию $f(x) = -x^2 + 6x - 2y^2 + 4y$."
   ]
  },
  {
   "cell_type": "code",
   "execution_count": 7,
   "metadata": {},
   "outputs": [
    {
     "data": {
      "text/latex": [
       "$\\displaystyle - x^{2} + 6 x - 2 y^{2} + 4 y$"
      ],
      "text/plain": [
       "-x**2 + 6*x - 2*y**2 + 4*y"
      ]
     },
     "metadata": {},
     "output_type": "display_data"
    },
    {
     "name": "stdout",
     "output_type": "stream",
     "text": [
      "Этап 1\n",
      "На первом этапе необходимо найти частные производные этой функции:\n"
     ]
    },
    {
     "data": {
      "text/plain": [
       "\"f'_x\""
      ]
     },
     "metadata": {},
     "output_type": "display_data"
    },
    {
     "data": {
      "text/latex": [
       "$\\displaystyle 6 - 2 x$"
      ],
      "text/plain": [
       "6 - 2*x"
      ]
     },
     "metadata": {},
     "output_type": "display_data"
    },
    {
     "data": {
      "text/plain": [
       "\"f'_y\""
      ]
     },
     "metadata": {},
     "output_type": "display_data"
    },
    {
     "data": {
      "text/latex": [
       "$\\displaystyle 4 - 4 y$"
      ],
      "text/plain": [
       "4 - 4*y"
      ]
     },
     "metadata": {},
     "output_type": "display_data"
    },
    {
     "name": "stdout",
     "output_type": "stream",
     "text": [
      "Этап 2\n",
      "На втором этапе мы находим точки, в которых эти производные принимают нулевые значения:\n",
      "x_0= {3}\n",
      "y_0= {1}\n",
      "Этап 3\n",
      "Наконец, переходим к третьему шагу — определению того, чем будет являться стационарная точка.\n"
     ]
    },
    {
     "data": {
      "text/plain": [
       "array([[-2, 0],\n",
       "       [0, -4]], dtype=object)"
      ]
     },
     "metadata": {},
     "output_type": "display_data"
    },
    {
     "name": "stdout",
     "output_type": "stream",
     "text": [
      "[-2. -4.]\n",
      "-2.0 < 0  значит функция идет в верх\n",
      "-4.0 < 0  значит функция идет в верх\n"
     ]
    }
   ],
   "source": [
    "x, y = symbols('x y', real=True)\n",
    "f=-x**2+6*x-2*y**2+4*y\n",
    "display(f)\n",
    "\n",
    "print('Этап 1')\n",
    "print('На первом этапе необходимо найти частные производные этой функции:')\n",
    "f_x=f.diff(x)\n",
    "f_y=f.diff(y)\n",
    "\n",
    "display('f\\'_x',f_x)\n",
    "display('f\\'_y',f_y)\n",
    "\n",
    "print('Этап 2')\n",
    "print('На втором этапе мы находим точки, в которых эти производные принимают нулевые значения:')\n",
    "x_0=solveset(Eq(f_x, 0), x)\n",
    "y_0=solveset(Eq(f_y, 0), y)\n",
    "print('x_0=',x_0)\n",
    "print('y_0=',y_0)\n",
    "\n",
    "print('Этап 3')\n",
    "print('Наконец, переходим к третьему шагу — определению того, чем будет являться стационарная точка.')\n",
    "f_xx=f_x=f_x.diff(x)\n",
    "f_xy=f_x=f_x.diff(y)\n",
    "f_yx=f_x=f_y.diff(x)\n",
    "f_yy=f_x=f_y.diff(y)\n",
    "\n",
    "A=np.array([[f_xx,f_xy],[f_yx,f_yy]])\n",
    "display(A)\n",
    "\n",
    "A=np.float_(A)\n",
    "temp=np.linalg.eig(A)[0]\n",
    "print(temp)\n",
    "print(temp[0],'< 0  значит функция идет в верх')\n",
    "print(temp[1],'< 0  значит функция идет в верх')"
   ]
  },
  {
   "cell_type": "markdown",
   "metadata": {},
   "source": [
    "### Пример № 2\n",
    "\n",
    "Найти экстремумы для функции $z = x^3 + 3xy^2 -15x - 12y + 1$."
   ]
  },
  {
   "cell_type": "code",
   "execution_count": 33,
   "metadata": {},
   "outputs": [
    {
     "data": {
      "text/latex": [
       "$\\displaystyle x^{3} + 3 x y^{2} - 15 x - 12 y + 1$"
      ],
      "text/plain": [
       "x**3 + 3*x*y**2 - 15*x - 12*y + 1"
      ]
     },
     "metadata": {},
     "output_type": "display_data"
    },
    {
     "name": "stdout",
     "output_type": "stream",
     "text": [
      "Этап 1\n",
      "На первом этапе необходимо найти частные производные этой функции:\n"
     ]
    },
    {
     "data": {
      "text/plain": [
       "\"f'_x\""
      ]
     },
     "metadata": {},
     "output_type": "display_data"
    },
    {
     "data": {
      "text/latex": [
       "$\\displaystyle 3 x^{2} + 3 y^{2} - 15$"
      ],
      "text/plain": [
       "3*x**2 + 3*y**2 - 15"
      ]
     },
     "metadata": {},
     "output_type": "display_data"
    },
    {
     "data": {
      "text/plain": [
       "\"f'_y\""
      ]
     },
     "metadata": {},
     "output_type": "display_data"
    },
    {
     "data": {
      "text/latex": [
       "$\\displaystyle 6 x y - 12$"
      ],
      "text/plain": [
       "6*x*y - 12"
      ]
     },
     "metadata": {},
     "output_type": "display_data"
    },
    {
     "name": "stdout",
     "output_type": "stream",
     "text": [
      "Этап 3\n",
      "Наконец, переходим к третьему шагу — определению того, чем будет являться стационарная точка.\n"
     ]
    },
    {
     "data": {
      "text/plain": [
       "array([[6*x, 0],\n",
       "       [6*y, 6*x]], dtype=object)"
      ]
     },
     "metadata": {},
     "output_type": "display_data"
    },
    {
     "name": "stdout",
     "output_type": "stream",
     "text": [
      "Этап 2\n",
      "На втором этапе мы находим точки, в которых эти производные принимают нулевые значения:\n"
     ]
    }
   ],
   "source": [
    "x, y = symbols('x y', real=True)\n",
    "f=x**3+3*x*y**2-15*x-12*y+1\n",
    "display(f)\n",
    "\n",
    "print('Этап 1')\n",
    "print('На первом этапе необходимо найти частные производные этой функции:')\n",
    "f_x=f.diff(x)\n",
    "f_y=f.diff(y)\n",
    "\n",
    "display('f\\'_x',f_x)\n",
    "display('f\\'_y',f_y)\n",
    "\n",
    "print('Этап 3')\n",
    "print('Наконец, переходим к третьему шагу — определению того, чем будет являться стационарная точка.')\n",
    "f_xx=f_x=f_x.diff(x)\n",
    "f_xy=f_x=f_x.diff(y)\n",
    "f_yx=f_x=f_y.diff(x)\n",
    "f_yy=f_x=f_y.diff(y)\n",
    "\n",
    "A=np.array([[f_xx,f_xy],[f_yx,f_yy]])\n",
    "display(A)\n",
    "\n",
    "print('Этап 2')\n",
    "print('На втором этапе мы находим точки, в которых эти производные принимают нулевые значения:')\n",
    "# x_0=solveset(Eq(f_x, 0), x)\n",
    "# y_0=solveset(Eq(f_y, 0), y)\n",
    "# display('x_0=',x_0)\n",
    "# display('y_0=',y_0)"
   ]
  },
  {
   "cell_type": "code",
   "execution_count": 34,
   "metadata": {},
   "outputs": [
    {
     "data": {
      "text/plain": [
       "[(-2, -1), (-1, -2), (1, 2), (2, 1)]"
      ]
     },
     "execution_count": 34,
     "metadata": {},
     "output_type": "execute_result"
    }
   ],
   "source": [
    "from sympy import *\n",
    " \n",
    "# x, y = symbols('x, y')\n",
    "eq1 = Eq(3*x**2+3*y**2-15,0)\n",
    "eq2 = Eq(6*x*y-12, 0)\n",
    " \n",
    "sol = solve([eq1, eq2], [x, y])\n",
    "sol"
   ]
  },
  {
   "cell_type": "code",
   "execution_count": 36,
   "metadata": {},
   "outputs": [
    {
     "name": "stdout",
     "output_type": "stream",
     "text": [
      "(-2, -1)\n",
      "[ -6. -18.]\n",
      "-6.000000000000001 < 0  значит функция идет в верх\n",
      "-18.0 < 0  значит функция идет в верх\n",
      "(-1, -2)\n",
      "[  6. -18.]\n",
      "5.999999999999998 > 0  значит функция идет в низ\n",
      "-18.000000000000004 < 0  значит функция идет в верх\n",
      "(1, 2)\n",
      "[18. -6.]\n",
      "18.0 > 0  значит функция идет в низ\n",
      "-6.0000000000000036 < 0  значит функция идет в верх\n",
      "(2, 1)\n",
      "[18.  6.]\n",
      "18.0 > 0  значит функция идет в низ\n",
      "5.999999999999998 > 0  значит функция идет в низ\n"
     ]
    }
   ],
   "source": [
    "for i in sol:\n",
    "    A=np.array([[f_xx.subs([(x,i[0]),(y,i[1])]),f_yx.subs([(x,i[0]),(y,i[1])])],[f_yx.subs([(x,i[0]),(y,i[1])]),f_yy.subs([(x,i[0]),(y,i[1])])]])\n",
    "    # display(A)\n",
    "    A=np.float_(A)\n",
    "    print(i)\n",
    "    A=np.float_(A)\n",
    "    temp=np.linalg.eig(A)[0]\n",
    "    print(temp)\n",
    "    for q in temp:\n",
    "        if q > 0 : print(q,'> 0  значит функция идет в низ')\n",
    "        else:      print(q,'< 0  значит функция идет в верх')"
   ]
  },
  {
   "cell_type": "markdown",
   "metadata": {},
   "source": [
    "### Задание 3.4\n",
    "Найдите экстремумы функции $z = 4x^2 - 6xy -34x + 5y^2 + 42y + 7$."
   ]
  },
  {
   "cell_type": "code",
   "execution_count": 9,
   "metadata": {},
   "outputs": [
    {
     "data": {
      "text/latex": [
       "$\\displaystyle 4 x^{2} - 6 x y - 34 x + 5 y^{2} + 42 y + 7$"
      ],
      "text/plain": [
       "4*x**2 - 6*x*y - 34*x + 5*y**2 + 42*y + 7"
      ]
     },
     "metadata": {},
     "output_type": "display_data"
    },
    {
     "name": "stdout",
     "output_type": "stream",
     "text": [
      "Этап 1\n",
      "На первом этапе необходимо найти частные производные этой функции:\n"
     ]
    },
    {
     "data": {
      "text/plain": [
       "\"f'_x\""
      ]
     },
     "metadata": {},
     "output_type": "display_data"
    },
    {
     "data": {
      "text/latex": [
       "$\\displaystyle 8 x - 6 y - 34$"
      ],
      "text/plain": [
       "8*x - 6*y - 34"
      ]
     },
     "metadata": {},
     "output_type": "display_data"
    },
    {
     "data": {
      "text/plain": [
       "\"f'_y\""
      ]
     },
     "metadata": {},
     "output_type": "display_data"
    },
    {
     "data": {
      "text/latex": [
       "$\\displaystyle - 6 x + 10 y + 42$"
      ],
      "text/plain": [
       "-6*x + 10*y + 42"
      ]
     },
     "metadata": {},
     "output_type": "display_data"
    },
    {
     "name": "stdout",
     "output_type": "stream",
     "text": [
      "Этап 2\n"
     ]
    },
    {
     "data": {
      "text/plain": [
       "{x: 2, y: -3}"
      ]
     },
     "metadata": {},
     "output_type": "display_data"
    }
   ],
   "source": [
    "x, y = symbols('x y', real=True)\n",
    "f=4*x**2-6*x*y-34*x+5*y**2+42*y+7\n",
    "display(f)\n",
    "\n",
    "print('Этап 1')\n",
    "print('На первом этапе необходимо найти частные производные этой функции:')\n",
    "f_x=f.diff(x)\n",
    "f_y=f.diff(y)\n",
    "\n",
    "display('f\\'_x',f_x)\n",
    "display('f\\'_y',f_y)\n",
    "\n",
    "print('Этап 2')\n",
    "# (2,-3)\n",
    "\n",
    "eq1 = Eq(f_x,0)\n",
    "eq2 = Eq(f_y, 0)\n",
    "sol = solve([eq1, eq2], [x, y])\n",
    "display(sol)"
   ]
  },
  {
   "cell_type": "markdown",
   "metadata": {},
   "source": [
    "### Задание 3.5\n",
    "Вычислите матрицу Гессе для функции $f(x,y) = x^3 - 2xy - y^6$ в точке $(1,2)$ и найдите её определитель:"
   ]
  },
  {
   "cell_type": "code",
   "execution_count": 15,
   "metadata": {},
   "outputs": [
    {
     "data": {
      "text/latex": [
       "$\\displaystyle x^{3} - 2 x y - y^{6}$"
      ],
      "text/plain": [
       "x**3 - 2*x*y - y**6"
      ]
     },
     "metadata": {},
     "output_type": "display_data"
    },
    {
     "name": "stdout",
     "output_type": "stream",
     "text": [
      "Этап 1\n",
      "На первом этапе необходимо найти частные производные этой функции:\n"
     ]
    },
    {
     "data": {
      "text/plain": [
       "\"f'_x\""
      ]
     },
     "metadata": {},
     "output_type": "display_data"
    },
    {
     "data": {
      "text/latex": [
       "$\\displaystyle 3 x^{2} - 2 y$"
      ],
      "text/plain": [
       "3*x**2 - 2*y"
      ]
     },
     "metadata": {},
     "output_type": "display_data"
    },
    {
     "data": {
      "text/plain": [
       "\"f'_y\""
      ]
     },
     "metadata": {},
     "output_type": "display_data"
    },
    {
     "data": {
      "text/latex": [
       "$\\displaystyle - 2 x - 6 y^{5}$"
      ],
      "text/plain": [
       "-2*x - 6*y**5"
      ]
     },
     "metadata": {},
     "output_type": "display_data"
    },
    {
     "name": "stdout",
     "output_type": "stream",
     "text": [
      "Этап 3\n",
      "Наконец, переходим к третьему шагу — определению того, чем будет являться стационарная точка.\n"
     ]
    },
    {
     "data": {
      "text/plain": [
       "array([[6*x, 0],\n",
       "       [-2, -30*y**4]], dtype=object)"
      ]
     },
     "metadata": {},
     "output_type": "display_data"
    },
    {
     "name": "stdout",
     "output_type": "stream",
     "text": [
      "Определитель матрицы :\n",
      " -2884.0\n"
     ]
    }
   ],
   "source": [
    "x_0, y_0 = 1, 2\n",
    "x, y = symbols('x y', real=True)\n",
    "f=x**3-2*x*y-y**6\n",
    "display(f)\n",
    "\n",
    "print('Этап 1')\n",
    "print('На первом этапе необходимо найти частные производные этой функции:')\n",
    "f_x=f.diff(x)\n",
    "f_y=f.diff(y)\n",
    "\n",
    "display('f\\'_x',f_x)\n",
    "display('f\\'_y',f_y)\n",
    "\n",
    "print('Этап 3')\n",
    "print('Наконец, переходим к третьему шагу — определению того, чем будет являться стационарная точка.')\n",
    "f_xx=f_x=f_x.diff(x)\n",
    "f_xy=f_x=f_x.diff(y)\n",
    "f_yx=f_x=f_y.diff(x)\n",
    "f_yy=f_x=f_y.diff(y)\n",
    "\n",
    "A=np.array([[f_xx,f_xy],[f_yx,f_yy]])\n",
    "display(A)\n",
    "A=np.array([[f_xx.subs([(x,x_0),(y,y_0)]),f_yx.subs([(x,x_0),(y,y_0)])],[f_yx.subs([(x,x_0),(y,y_0)]),f_yy.subs([(x,x_0),(y,y_0)])]])\n",
    "A=np.float_(A)\n",
    "A\n",
    "print('Определитель матрицы :\\n',np.linalg.det(A).round())\n"
   ]
  },
  {
   "cell_type": "markdown",
   "metadata": {},
   "source": [
    "### Задание 3.9\n",
    "Найдите экстремумы функции $z = x^3 + y^3 - 3xy$."
   ]
  },
  {
   "cell_type": "code",
   "execution_count": 26,
   "metadata": {},
   "outputs": [
    {
     "data": {
      "text/latex": [
       "$\\displaystyle x^{3} - 3 x y + y^{3}$"
      ],
      "text/plain": [
       "x**3 - 3*x*y + y**3"
      ]
     },
     "metadata": {},
     "output_type": "display_data"
    },
    {
     "name": "stdout",
     "output_type": "stream",
     "text": [
      "Этап 1\n"
     ]
    },
    {
     "data": {
      "text/plain": [
       "\"f'_x\""
      ]
     },
     "metadata": {},
     "output_type": "display_data"
    },
    {
     "data": {
      "text/latex": [
       "$\\displaystyle 3 x^{2} - 3 y$"
      ],
      "text/plain": [
       "3*x**2 - 3*y"
      ]
     },
     "metadata": {},
     "output_type": "display_data"
    },
    {
     "data": {
      "text/plain": [
       "\"f'_y\""
      ]
     },
     "metadata": {},
     "output_type": "display_data"
    },
    {
     "data": {
      "text/latex": [
       "$\\displaystyle - 3 x + 3 y^{2}$"
      ],
      "text/plain": [
       "-3*x + 3*y**2"
      ]
     },
     "metadata": {},
     "output_type": "display_data"
    },
    {
     "name": "stdout",
     "output_type": "stream",
     "text": [
      "Этап 2\n"
     ]
    },
    {
     "data": {
      "text/plain": [
       "[(0, 0), (1, 1)]"
      ]
     },
     "metadata": {},
     "output_type": "display_data"
    },
    {
     "name": "stdout",
     "output_type": "stream",
     "text": [
      "Этап 3\n"
     ]
    },
    {
     "data": {
      "text/plain": [
       "array([[6*x, 0],\n",
       "       [-3, 6*y]], dtype=object)"
      ]
     },
     "metadata": {},
     "output_type": "display_data"
    },
    {
     "name": "stdout",
     "output_type": "stream",
     "text": [
      "(0, 0)\n",
      "[ 3. -3.]\n",
      "2.9999999999999996 > 0  значит функция идет в низ\n",
      "-3.000000000000001 < 0  значит функция идет в верх\n",
      "(1, 1)\n",
      "[9. 3.]\n",
      "9.0 > 0  значит функция идет в низ\n",
      "2.999999999999999 > 0  значит функция идет в низ\n"
     ]
    }
   ],
   "source": [
    "x, y = symbols('x y', real=True)\n",
    "f=x**3+y**3-3*x*y\n",
    "display(f)\n",
    "\n",
    "print('Этап 1')\n",
    "# print('На первом этапе необходимо найти частные производные этой функции:')\n",
    "f_x=f.diff(x)\n",
    "f_y=f.diff(y)\n",
    "\n",
    "display('f\\'_x',f_x)\n",
    "display('f\\'_y',f_y)\n",
    "\n",
    "print('Этап 2')\n",
    "eq1 = Eq(f_x, 0)\n",
    "eq2 = Eq(f_y, 0)\n",
    " \n",
    "sol = solve([eq1, eq2], [x, y])\n",
    "display(sol)\n",
    "\n",
    "print('Этап 3')\n",
    "# print('Наконец, переходим к третьему шагу — определению того, чем будет являться стационарная точка.')\n",
    "f_xx=f_x=f_x.diff(x)\n",
    "f_xy=f_x=f_x.diff(y)\n",
    "f_yx=f_x=f_y.diff(x)\n",
    "f_yy=f_x=f_y.diff(y)\n",
    "\n",
    "A=np.array([[f_xx,f_xy],[f_yx,f_yy]])\n",
    "display(A)\n",
    "for i in sol:\n",
    "    A=np.array([[f_xx.subs([(x,i[0]),(y,i[1])]),f_yx.subs([(x,i[0]),(y,i[1])])],[f_yx.subs([(x,i[0]),(y,i[1])]),f_yy.subs([(x,i[0]),(y,i[1])])]])\n",
    "    A=np.float_(A)\n",
    "    print(i)\n",
    "    A=np.float_(A)\n",
    "    temp=np.linalg.eig(A)[0]\n",
    "    print(temp)\n",
    "    for q in temp:\n",
    "        if q > 0 : print(q,'> 0  значит функция идет в низ')\n",
    "        else:      print(q,'< 0  значит функция идет в верх')\n",
    "    "
   ]
  }
 ],
 "metadata": {
  "kernelspec": {
   "display_name": "Python 3.8.10 64-bit",
   "language": "python",
   "name": "python3"
  },
  "language_info": {
   "codemirror_mode": {
    "name": "ipython",
    "version": 3
   },
   "file_extension": ".py",
   "mimetype": "text/x-python",
   "name": "python",
   "nbconvert_exporter": "python",
   "pygments_lexer": "ipython3",
   "version": "3.8.10"
  },
  "orig_nbformat": 4,
  "vscode": {
   "interpreter": {
    "hash": "541247ef5e2c485a853fcdfc5770898360c10253d62f064c141db27a35a34903"
   }
  }
 },
 "nbformat": 4,
 "nbformat_minor": 2
}
