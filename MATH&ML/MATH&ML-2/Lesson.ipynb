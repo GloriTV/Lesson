{
 "cells": [
  {
   "cell_type": "code",
   "execution_count": 2,
   "metadata": {},
   "outputs": [],
   "source": [
    "import numpy as np"
   ]
  },
  {
   "cell_type": "markdown",
   "metadata": {},
   "source": [
    "### Задание 1.1\n",
    "Найдите скалярное произведение векторов:"
   ]
  },
  {
   "cell_type": "code",
   "execution_count": 3,
   "metadata": {},
   "outputs": [
    {
     "name": "stdout",
     "output_type": "stream",
     "text": [
      "v1\n",
      " [-1  2 -7  9] \n",
      "V2\n",
      " [ 2  8  2 -1]\n",
      "скалярное произведение векторов: -9\n"
     ]
    }
   ],
   "source": [
    "v1=np.array([-1,2,-7,9])\n",
    "v2=np.array([2,8,2,-1])\n",
    "print('v1\\n',v1,'\\nV2\\n',v2)\n",
    "print('скалярное произведение векторов:',v1@v2)\n",
    "# v1@v2=-1*2+2*8+(-7)*2+9*(-1)=-2+16-14-9=-9"
   ]
  },
  {
   "cell_type": "markdown",
   "metadata": {},
   "source": [
    "### Задание 1.4\n",
    "Задана матрица\n",
    "\n",
    "Найдите матрицу Грама A.T*A."
   ]
  },
  {
   "cell_type": "code",
   "execution_count": 4,
   "metadata": {},
   "outputs": [
    {
     "name": "stdout",
     "output_type": "stream",
     "text": [
      "A\n",
      " [[1 1]\n",
      " [1 2]]\n",
      "матрицу Грама:\n",
      " [[2 3]\n",
      " [3 5]]\n"
     ]
    }
   ],
   "source": [
    "A=np.array([[1,1],[1,2]])\n",
    "print('A\\n',A)\n",
    "print('матрицу Грама:\\n',A.T@A)"
   ]
  },
  {
   "cell_type": "code",
   "execution_count": 5,
   "metadata": {},
   "outputs": [
    {
     "name": "stdout",
     "output_type": "stream",
     "text": [
      "A\n",
      " [[1 1]\n",
      " [0 0]]\n",
      "0.0\n",
      "rk(A):\n",
      " 1\n"
     ]
    }
   ],
   "source": [
    "A=np.array([[1,1],[0,0]])\n",
    "print('A\\n',A)\n",
    "print(np.linalg.det(A))\n",
    "print('rk(A):\\n',np.linalg.matrix_rank(A))\n"
   ]
  },
  {
   "cell_type": "markdown",
   "metadata": {},
   "source": [
    "### Задание 1.6\n",
    "Вычислите обратную матрицу , если:"
   ]
  },
  {
   "cell_type": "code",
   "execution_count": 6,
   "metadata": {},
   "outputs": [
    {
     "name": "stdout",
     "output_type": "stream",
     "text": [
      "A\n",
      " [[1 2]\n",
      " [3 7]]\n",
      "0.9999999999999991\n",
      "rk(A):\n",
      " 2\n",
      "A inversed:\n",
      " [[ 7. -2.]\n",
      " [-3.  1.]]\n"
     ]
    },
    {
     "data": {
      "text/plain": [
       "array([[ 1.00000000e+00,  0.00000000e+00],\n",
       "       [-3.55271368e-15,  1.00000000e+00]])"
      ]
     },
     "execution_count": 6,
     "metadata": {},
     "output_type": "execute_result"
    }
   ],
   "source": [
    "A=np.array([[1,2],[3,7]])\n",
    "print('A\\n',A)\n",
    "print(np.linalg.det(A))\n",
    "print('rk(A):\\n',np.linalg.matrix_rank(A))\n",
    "print('A inversed:\\n',np.linalg.inv(A))\n",
    "A@np.linalg.inv(A)"
   ]
  },
  {
   "cell_type": "markdown",
   "metadata": {},
   "source": [
    "### Задание 1.7\n",
    "Найдите ранг матрицы системы, составленной из векторов:"
   ]
  },
  {
   "cell_type": "code",
   "execution_count": 7,
   "metadata": {},
   "outputs": [
    {
     "name": "stdout",
     "output_type": "stream",
     "text": [
      "A\n",
      " [[ 2 10 -2]\n",
      " [ 3  2 -2]\n",
      " [ 8 14 -6]]\n",
      "rk(A):\n",
      " 2\n"
     ]
    }
   ],
   "source": [
    "v1=np.array([2,10,-2])\n",
    "v2=np.array([3,2,-2])\n",
    "v3=np.array([8,14,-6])\n",
    "A=np.array([v1, v2, v3])\n",
    "print('A\\n',A)\n",
    "print('rk(A):\\n',np.linalg.matrix_rank(A))\n"
   ]
  },
  {
   "cell_type": "markdown",
   "metadata": {},
   "source": [
    "### Задание 1.8\n",
    "\n",
    "Определите линейную (не)зависимость системы векторов:"
   ]
  },
  {
   "cell_type": "markdown",
   "metadata": {},
   "source": [
    "\n",
    "Получили ступенчатую матрицу. Ранг матрицы (количество ступенек) равно rk(A)=2.\n",
    "\n",
    "Ранг не равен количеству исходных векторов, а значит все векторы являются линейно зависимыми"
   ]
  },
  {
   "cell_type": "markdown",
   "metadata": {},
   "source": [
    "https://www.dmitrymakarov.ru/python/jupyter-notebook-14-02/\n",
    "\n",
    "$e^{i\\pi} + 1 = 0$\n",
    "\n",
    "\\begin{equation}\n",
    "e^x=\\sum_{i=0}^\\infty \\frac{1}{i!}x^i\n",
    "\\end{equation}\n",
    "\n",
    "$$ \\hat{y} = \\theta_0 + \\theta_1 x_1 + \\theta_2 x_2 + \\ \\ ... \\ \\ + \\\\ \\theta_n x_n $$\n",
    "\n",
    "$$\n",
    "\\left(\\frac{1}{2}\\right) \\qquad (\\frac{1}{2})\n",
    "$$\n",
    "\n",
    "$$\n",
    "\\big( \\Big( \\bigg( \\Bigg( \\\\\n",
    "\\big] \\Big] \\bigg] \\Bigg] \\\\\n",
    "\\big\\{ \\Big\\{ \\bigg\\{ \\Bigg\\{\n",
    "$$\n",
    "\n",
    "$$\n",
    "\\left\\{\n",
    "    \\begin{matrix}\n",
    "    4x  + 3y = 20 \\\\\n",
    "    -5x + 9y = 26\n",
    "    \\end{matrix}\n",
    "\\right.\n",
    "$$\n",
    "\n",
    "$$ (A \\mid \\vec{b})=\\left(\\begin{array}{cc|c} 1 & 1 & 1 \\\\ 1 & 2 & 2 \\\\ 1 & 1 & 12 \\end{array}\\right) $$"
   ]
  },
  {
   "cell_type": "markdown",
   "metadata": {},
   "source": [
    "### Задание 1.9\n",
    "\n",
    "Сколько нетривиальных решений имеет представленная ниже система уравнений?\n",
    "\n",
    "$$\n",
    "\\left\\{\n",
    "    \\begin{matrix}\n",
    "    10w_1  + 2w_2 = 0 \\\\\n",
    "    5w_1 + w_2 = 0\n",
    "    \\end{matrix}\n",
    "\\right.\n",
    "$$"
   ]
  },
  {
   "cell_type": "code",
   "execution_count": 8,
   "metadata": {},
   "outputs": [
    {
     "name": "stdout",
     "output_type": "stream",
     "text": [
      "A\n",
      " [[ 5 10]\n",
      " [ 1  2]]\n",
      "rk(A):\n",
      " 1\n"
     ]
    }
   ],
   "source": [
    "A=np.array([[5,10],[1,2]])\n",
    "print('A\\n',A)\n",
    "print('rk(A):\\n',np.linalg.matrix_rank(A))"
   ]
  },
  {
   "cell_type": "markdown",
   "metadata": {},
   "source": [
    "Перед нами однородная СЛАУ. Такие СЛАУ имеют только два случая решений:\n",
    "\n",
    "* Бесконечное множество решений, если уравнения являются пропорциональными другу, то есть ранг матрицы системы  меньше количества A неизвестных.\n",
    "* Не имеет решений, если уравнения не являются пропорциональными, то есть ранг матрицы системы A равен количеству неизвестных.\n",
    "\n",
    "Видно, что уравнения в нашей системе пропорциональны друг другу: если умножить первое на 2, получится второе уравнение, а значит одно из них можно убрать. Тогда останется только одно уравнение на две неизвестных:\n",
    "$$ 5w_1 + w_2 = 0 $$\n",
    "Таким образом, количество неизвестных (2) больше, чем количество линейно независимых уравнений, или ранг матрицы (1), а значит система имеет бесконечное множество решений"
   ]
  },
  {
   "cell_type": "markdown",
   "metadata": {},
   "source": [
    "### Задание 1.10\n",
    "Запишите СЛАУ в матричном виде и классифицируйте её:\n",
    "\n",
    "$$\n",
    "\\left\\{\n",
    "    \\begin{matrix}\n",
    "    5w_1  + w_2 + 3w_1 = 1 \\\\\n",
    "    2w_2 + 8w_3 = 10 \\\\\n",
    "    10w_1 + 2w_3 = 0\n",
    "    \\end{matrix}\n",
    "\\right.\n",
    "$$"
   ]
  },
  {
   "cell_type": "markdown",
   "metadata": {},
   "source": [
    "$$\n",
    "\\left\\{\n",
    "    \\begin{matrix}\n",
    "    5w_1  + w_2 + 3w_1 = 1 \\\\\n",
    "    0.2w_2 + 0.8w_3 = 1 \\\\\n",
    "    10w_1 + 2w_3 = 0\n",
    "    \\end{matrix}\n",
    "\\right.\n",
    "$$"
   ]
  },
  {
   "cell_type": "code",
   "execution_count": 9,
   "metadata": {},
   "outputs": [
    {
     "name": "stdout",
     "output_type": "stream",
     "text": [
      "rk(A):\n",
      " 2\n",
      "rk(B):\n",
      " 2\n"
     ]
    },
    {
     "data": {
      "text/plain": [
       "array([[ 4,  7, -1,  7],\n",
       "       [-4,  2,  5,  3],\n",
       "       [ 0,  9,  4, 10]])"
      ]
     },
     "execution_count": 9,
     "metadata": {},
     "output_type": "execute_result"
    }
   ],
   "source": [
    "A=np.array([[4,7,-1],[-4,2,5],[0,9,4]])\n",
    "B=np.array([[4,7,-1,7],[-4,2,5,3],[0,9,4,10]])\n",
    "print('rk(A):\\n',np.linalg.matrix_rank(A))\n",
    "print('rk(B):\\n',np.linalg.matrix_rank(B))\n",
    "B"
   ]
  },
  {
   "cell_type": "markdown",
   "metadata": {},
   "source": [
    "$\n",
    "\\left\\{\n",
    "    \\begin{matrix}\n",
    "    w_1 + w_2 = 1 \\\\\n",
    "    w_1 + 2w_2 = 2 \\\\\n",
    "    w_1 + w_2 = 12\n",
    "    \\end{matrix}\n",
    "\\right.\n",
    "$ =>\n",
    "$ (A \\mid \\vec{b})=\\left (\\begin{array}{cc|c} 1 & 1 & 1 \\\\ 1 & 2 & 2 \\\\ 1 & 1 & 12 \\end{array}\\right) $\n",
    "\n",
    "$ A =\\left(\\begin{array}{cc} 1 & 1 \\\\ 1 & 2\\\\ 1 & 1 \\end{array}\\right) $\n",
    "\n",
    "$ \\vec{b} = ( 1 , 2 , 12 )^T $\n",
    "\n",
    "$$ e = b - \\hat{b} $$\n",
    "\n",
    "$$ G = A.T * A  =>\n",
    "G = \\left(\\begin{array}{ccc} 1 & 1 & 1 \\\\ 1 & 2 & 1 \\end{array}\\right) \n",
    "* \\left(\\begin{array}{cc} 1 & 1 \\\\ 1 & 2\\\\ 1 & 1 \\end{array}\\right)\n",
    "= \\left(\\begin{array}{cc} 3 & 4 \\\\ 4 & 6 \\end{array}\\right) $$\n",
    "\n",
    "Находим определитель матрицы $ (A^{T}A) $\n",
    "'Определитель матрицы Грама'\n",
    "$$ det(A^T A) = 3 \\cdot 6 - 4 \\cdot 4 = 2 $$\n",
    "$ x=2 $ будет в знаменателе\n",
    "\n",
    "Находим обратную матрицу $(A^{T}A)^{-1}$\n",
    "\n",
    "$$ (A^{T}A)^{-1} = \\left(\\begin{array}{cc} 3 & 4 \\\\ 4 & 6 \\end{array}\\right) ^{-1} \n",
    "= \\frac{1}{x = 2} * \\left(\\begin{array}{cc} 6 & -4 \\\\ -4 & 3 \\end{array}\\right) \n",
    "= \\left(\\begin{array}{cc} 3 & -2 \\\\ -2 & 1.5 \\end{array}\\right) $$\n",
    "$$ (A^{T}A)^{-1} = \\left(\\begin{array}{cc} 3 & 4 \\\\ 4 & 6 \\end{array}\\right) ^{-1} \n",
    "= \\frac{1}{2} * \\left(\\begin{array}{cc} 6 & -4 \\\\ -4 & 3 \\end{array}\\right) \n",
    "= \\left(\\begin{array}{cc} 3 & -2 \\\\ -2 & 1.5 \\end{array}\\right) $$\n",
    "\n",
    "$$ A * \\vec{b} = \\left(\\begin{array}{ccc} 1 & 1 & 1 \\\\ 1 & 2 & 1 \\end{array}\\right)\n",
    " *  \\left(\\begin{array}{c} 1 \\\\ 2\\\\ 12 \\end{array}\\right) \n",
    " = \\left(\\begin{array}{c} 15 \\\\ 17 \\end{array}\\right)$$\n",
    "\n",
    "$$ \\left(\\begin{array}{c} \\hat{w} \\\\ \\hat{w} \\end{array}\\right)\n",
    "= \\left(\\begin{array}{cc} 3 & -2 \\\\ -2 & 1.5 \\end{array}\\right) \n",
    "* \\left(\\begin{array}{c} 15 \\\\ 17 \\end{array}\\right)\n",
    "= \\left(\\begin{array}{c} 11 \\\\ -4.5 \\end{array}\\right)$$\n",
    "\n",
    "$$ \\hat{b} = \\hat{w_1} * A_1 + \\hat{w_2} * A_2\n",
    "= 11 * \\left(\\begin{array}{c} 1 \\\\ 1 \\\\ 1 \\end{array}\\right) \n",
    "-4.5 * \\left(\\begin{array}{c} 1 \\\\ 2 \\\\ 1 \\end{array}\\right) \n",
    "= \\left(\\begin{array}{c} 6.5 \\\\ 2 \\\\ 6.5 \\end{array}\\right)$$\n",
    "\n",
    "$$ e = b - \\hat{b} = \\left(\\begin{array}{c} 1 \\\\ 2 \\\\ 12 \\end{array}\\right)\n",
    "- \\left(\\begin{array}{c} 6.5 \\\\ 2 \\\\ 6.5 \\end{array}\\right)\n",
    "= \\left(\\begin{array}{c} -5.5 \\\\ 0 \\\\ 5.5 \\end{array}\\right)$$\n",
    "\n",
    "Убедимся, что данный вектор действительно ортогонален столбцам матрицы А. Для этого найдём их скалярные произведения:\n",
    "$$ (e,A_1)= e^T*A_1= (-5.5, 0, 5.5) * \\left(\\begin{array}{c} 1 \\\\ 1 \\\\ 1 \\end{array}\\right) = 0 $$\n",
    "$$ (e,A_2)= e^T*A_2= (-5.5, 0, 5.5) * \\left(\\begin{array}{c} 1 \\\\ 2 \\\\ 1 \\end{array}\\right) = 0 $$"
   ]
  },
  {
   "cell_type": "code",
   "execution_count": 10,
   "metadata": {},
   "outputs": [
    {
     "name": "stdout",
     "output_type": "stream",
     "text": [
      "A\n",
      " [[1 1]\n",
      " [1 2]\n",
      " [1 1]]\n",
      "\n",
      "A.T\n",
      " [[1 1 1]\n",
      " [1 2 1]]\n",
      "\n",
      "A.T*A\n",
      " [[3 4]\n",
      " [4 6]]\n",
      "Определитель матрицы Грама:\n",
      " 2.0\n",
      "\n",
      "B inversed:\n",
      " [[ 3.  -2. ]\n",
      " [-2.   1.5]]\n",
      "\n",
      "A.T*b\n",
      " [15 17]\n",
      "\n",
      "B_inv*q\n",
      " [11.  -4.5]\n",
      "[6.5 2.  6.5]\n",
      "e [-5.5  0.   5.5]\n"
     ]
    }
   ],
   "source": [
    "A=np.array([[1,1],[1,2],[1,1]])\n",
    "At=A.T\n",
    "b=np.array([1,2,12])\n",
    "print(\"A\\n\",A)\n",
    "print(\"\\nA.T\\n\",At)\n",
    "B=(At@A)\n",
    "print(\"\\nA.T*A\\n\",B)\n",
    "print('Определитель матрицы Грама:\\n',np.linalg.det(B))\n",
    "\n",
    "B_inv=np.linalg.inv(B).round(3)\n",
    "# B_inv=np.array([[13.5,1],[1,3]])\n",
    "print('\\nB inversed:\\n',B_inv)\n",
    "q=At@b\n",
    "print(\"\\nA.T*b\\n\",q)\n",
    "w=B_inv@q\n",
    "print(\"\\nB_inv*q\\n\",w)\n",
    "r=At[0]*w[0]+At[1]*w[1]\n",
    "print(r)\n",
    "e=b-r\n",
    "print('e',e)"
   ]
  },
  {
   "cell_type": "markdown",
   "metadata": {},
   "source": [
    "### Задание 2.9\n",
    "Вычислите вектор ошибок  для приближённого решения системы уравнений:\n",
    "\n",
    "$$ \\left(\\begin{array}{c} \\hat{w} \\\\ \\hat{w} \\end{array}\\right)\n",
    "= \\left(\\begin{array}{c} 1 \\\\ 1 \\end{array}\\right) \n",
    "\\left\\{\n",
    "    \\begin{matrix}\n",
    "    w_1 - 5w_2 = 1 \\\\\n",
    "    2w_1 + w_2 = 2 \\\\\n",
    "    w_1 + w_2 = 2\n",
    "    \\end{matrix}\n",
    "\\right.$$\n",
    "\n",
    "$ A =\\left(\\begin{array}{cc} 1 & -5 \\\\ 2 & 1 \\\\ 1 & 1 \\end{array}\\right) $\n",
    "\n",
    "$ \\vec{b} = ( 1 , 2 , 2 )^T $\n",
    "\n",
    "$ \\hat{w_1} = (1, 1)$\n",
    "\n",
    "$ \\hat{b} = \\hat{w_1} * A_1 + \\hat{w_2} * A_2 $\n",
    "\n",
    "$$ e= \\vec{b} - A * \\hat{w} => \\left(\\begin{array}{c} 1 \\\\ 2 \\\\ 2 \\end{array}\\right) \n",
    "- \\left(\\begin{array}{cc} 1 & -5 \\\\ 2 & 1 \\\\ 1 & 1 \\end{array}\\right)\n",
    " * \\left(\\begin{array}{c} 1 \\\\ 1 \\end{array}\\right) \n",
    " = \\left(\\begin{array}{c} 1 \\\\ 2 \\\\ 2 \\end{array}\\right) \n",
    " - \\left(\\begin{array}{c} -4 \\\\ 3 \\\\ 2 \\end{array}\\right)\n",
    " = \\left(\\begin{array}{c} 5 \\\\ -1 \\\\ 0 \\end{array}\\right)$$"
   ]
  },
  {
   "cell_type": "code",
   "execution_count": 11,
   "metadata": {},
   "outputs": [
    {
     "data": {
      "text/plain": [
       "array([ 5, -1,  0])"
      ]
     },
     "execution_count": 11,
     "metadata": {},
     "output_type": "execute_result"
    }
   ],
   "source": [
    "A=np.array([[1,-5],[2,1],[1,1]])\n",
    "b=np.array([1,2,2])\n",
    "w=np.array([1,1])\n",
    "b-A@w"
   ]
  },
  {
   "cell_type": "markdown",
   "metadata": {},
   "source": [
    "### Задание 2.11\n",
    "Найдите $ OLS $ -оценку для коэффициентов $w_1$, $w_2$ СЛАУ:\n",
    "$$ \\left\\{\n",
    "    \\begin{matrix}\n",
    "    w_1 + 2w_2 = 1 \\\\\n",
    "    -3w_1 + w_2 = 4 \\\\\n",
    "    w_1 + 2w_2 = 5 \\\\\n",
    "    w_1 + w_2 = 0\n",
    "    \\end{matrix}\n",
    "\\right.$$\n"
   ]
  },
  {
   "cell_type": "markdown",
   "metadata": {},
   "source": [
    "$ A =\\left(\\begin{array}{cc} 1 & 2 \\\\ -3 & 1 \\\\ 1 & 2 \\\\ 1 & -1 \\end{array}\\right) $ \n",
    "\n",
    "$ \\vec{b} = ( 1 , 4 , 5 , 0)^T $\n",
    "\n",
    "$$ G=A^T*A $$"
   ]
  },
  {
   "cell_type": "code",
   "execution_count": 12,
   "metadata": {},
   "outputs": [
    {
     "name": "stdout",
     "output_type": "stream",
     "text": [
      "[[12  0]\n",
      " [ 0 10]]\n"
     ]
    }
   ],
   "source": [
    "A=np.array([[1,2],[-3,1],[1,2],[1,-1]])\n",
    "b=np.array([1,4,5,0])\n",
    "At=A.T\n",
    "G=At@A\n",
    "print(G)"
   ]
  },
  {
   "cell_type": "markdown",
   "metadata": {},
   "source": [
    "$$ G^{ -1}$$"
   ]
  },
  {
   "cell_type": "code",
   "execution_count": 13,
   "metadata": {},
   "outputs": [
    {
     "data": {
      "text/plain": [
       "array([[0.08333333, 0.        ],\n",
       "       [0.        , 0.1       ]])"
      ]
     },
     "execution_count": 13,
     "metadata": {},
     "output_type": "execute_result"
    }
   ],
   "source": [
    "G_inv=np.linalg.inv(G)\n",
    "G_inv"
   ]
  },
  {
   "cell_type": "markdown",
   "metadata": {},
   "source": [
    "$$ A^{T} \\vec{b} $$"
   ]
  },
  {
   "cell_type": "code",
   "execution_count": 14,
   "metadata": {},
   "outputs": [
    {
     "data": {
      "text/plain": [
       "array([-6, 16])"
      ]
     },
     "execution_count": 14,
     "metadata": {},
     "output_type": "execute_result"
    }
   ],
   "source": [
    "q=At@b\n",
    "q"
   ]
  },
  {
   "cell_type": "markdown",
   "metadata": {},
   "source": [
    "$$ \\vec{w}= G^{-1}*(A^{T} \\vec{b})$$"
   ]
  },
  {
   "cell_type": "code",
   "execution_count": 15,
   "metadata": {},
   "outputs": [
    {
     "data": {
      "text/plain": [
       "array([-0.5,  1.6])"
      ]
     },
     "execution_count": 15,
     "metadata": {},
     "output_type": "execute_result"
    }
   ],
   "source": [
    "G_inv@q"
   ]
  },
  {
   "cell_type": "markdown",
   "metadata": {},
   "source": [
    "$$ \\left\\{\n",
    "    \\begin{matrix}\n",
    "    16w_1 - 4w_2 = 5 \\\\\n",
    "    3w_1 - w_2 = 2 \\\\\n",
    "    \\end{matrix}\n",
    "\\right.$$"
   ]
  },
  {
   "cell_type": "code",
   "execution_count": 18,
   "metadata": {},
   "outputs": [
    {
     "name": "stdout",
     "output_type": "stream",
     "text": [
      "A\n",
      " [[16 -4]\n",
      " [ 3 -1]]\n",
      "\n",
      "A.T\n",
      " [[16  3]\n",
      " [-4 -1]]\n",
      "\n",
      "A.T*A\n",
      " [[265 -67]\n",
      " [-67  17]]\n",
      "Определитель матрицы Грама:\n",
      " 15.999999999999991\n",
      "\n",
      "B inversed:\n",
      " [[ 1.0625  4.1875]\n",
      " [ 4.1875 16.5625]]\n",
      "\n",
      "A.T*b\n",
      " [ 86 -22]\n",
      "\n",
      "B_inv*q\n",
      " [-0.75 -4.25]\n",
      "[5. 2.]\n",
      "e [0. 0.]\n"
     ]
    }
   ],
   "source": [
    "A=np.array([[16,-4],[3,-1]])\n",
    "b=np.array([5,2])\n",
    "At=A.T\n",
    "print(\"A\\n\",A)\n",
    "print(\"\\nA.T\\n\",At)\n",
    "B=(At@A)\n",
    "print(\"\\nA.T*A\\n\",B)\n",
    "print('Определитель матрицы Грама:\\n',np.linalg.det(B))\n",
    "B_inv=np.linalg.inv(B)\n",
    "print('\\nB inversed:\\n',B_inv)\n",
    "q=At@b\n",
    "print(\"\\nA.T*b\\n\",q)\n",
    "w=B_inv@q\n",
    "print(\"\\nB_inv*q\\n\",w)\n",
    "r=At[0]*w[0]+At[1]*w[1]\n",
    "print(r)\n",
    "e=b-r\n",
    "print('e',e)"
   ]
  }
 ],
 "metadata": {
  "kernelspec": {
   "display_name": "Python 3.8.10 64-bit",
   "language": "python",
   "name": "python3"
  },
  "language_info": {
   "codemirror_mode": {
    "name": "ipython",
    "version": 3
   },
   "file_extension": ".py",
   "mimetype": "text/x-python",
   "name": "python",
   "nbconvert_exporter": "python",
   "pygments_lexer": "ipython3",
   "version": "3.8.10"
  },
  "orig_nbformat": 4,
  "vscode": {
   "interpreter": {
    "hash": "541247ef5e2c485a853fcdfc5770898360c10253d62f064c141db27a35a34903"
   }
  }
 },
 "nbformat": 4,
 "nbformat_minor": 2
}
