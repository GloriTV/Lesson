{
 "cells": [
  {
   "cell_type": "markdown",
   "metadata": {},
   "source": [
    "### Задание 3.7\n",
    "\n",
    "Какие события будут независимыми при подбрасывании идеального (равностороннего) кубика?"
   ]
  },
  {
   "cell_type": "code",
   "execution_count": 53,
   "metadata": {},
   "outputs": [
    {
     "name": "stdout",
     "output_type": "stream",
     "text": [
      "A «Выпало чётное число очков» и «Выпало нечётное число очков»\n",
      "False\n",
      "B «Выпало чётное число очков» и «Выпало не больше 2 очков»\n",
      "True\n",
      "C «Выпало чётное число очков» и «Выпало количество очков, большее или равное 3»\n",
      "True\n",
      "D «Выпало чётное число очков» и «Выпало количество очков, большее или равное 2»\n",
      "False\n"
     ]
    }
   ],
   "source": [
    "def raw(a,b):\n",
    "    a=set(a)\n",
    "    b=set(b)\n",
    "    p=1/6\n",
    "    x=(len(a)*p)*(len(b)*p)\n",
    "    y=len(a&b)*p\n",
    "    return x==y\n",
    "\n",
    "print('A «Выпало чётное число очков» и «Выпало нечётное число очков»')\n",
    "print(raw([2,4,6],[1,3,5]))\n",
    "print('B «Выпало чётное число очков» и «Выпало не больше 2 очков»')\n",
    "print(raw([2,4,6],[1,2]))\n",
    "print('C «Выпало чётное число очков» и «Выпало количество очков, большее или равное 3»')\n",
    "print(raw([2,4,6],[3,4,5,6]))\n",
    "print('D «Выпало чётное число очков» и «Выпало количество очков, большее или равное 2»')\n",
    "print(raw([2,4,6],[2,3,4,5,6]))"
   ]
  },
  {
   "cell_type": "code",
   "execution_count": 54,
   "metadata": {},
   "outputs": [
    {
     "name": "stdout",
     "output_type": "stream",
     "text": [
      "a 35.50000000000364\n",
      "b 3297.5\n"
     ]
    }
   ],
   "source": [
    "import numpy as np\n",
    "DV = lambda x,p:sum(x**2*p)-(sum(x*p)**2)\n",
    "\n",
    "a=np.array([89, 90, 93, 98, 100, 102, 102, 103, 105, 105, 106, 107])\n",
    "b=np.array([56, 122, 56, 85, 160, 98, 102, 218, 23, 180, 42, 58])\n",
    "p=np.ones(12)*1/12\n",
    "\n",
    "E_x=sum(a*p)\n",
    "E_xx=sum(a**2*p)\n",
    "print('a',E_xx-(E_x**2))\n",
    "print('b',DV(b,p))"
   ]
  },
  {
   "cell_type": "code",
   "execution_count": 55,
   "metadata": {},
   "outputs": [
    {
     "name": "stdout",
     "output_type": "stream",
     "text": [
      "0.56\n"
     ]
    },
    {
     "data": {
      "text/plain": [
       "0.56"
      ]
     },
     "execution_count": 55,
     "metadata": {},
     "output_type": "execute_result"
    }
   ],
   "source": [
    "import numpy as np\n",
    "a=[-1, 0, 1, 3]\n",
    "p=[0.05, 0.8, 0.1, 0.05]\n",
    "\n",
    "\n",
    "a=np.array(a)\n",
    "p=np.array(p)\n",
    "\n",
    "E_x=sum(a*p)\n",
    "E_xx=sum(a**2*p)\n",
    "print(E_xx-E_x**2)\n",
    "DV(a,p)"
   ]
  },
  {
   "cell_type": "markdown",
   "metadata": {},
   "source": [
    "### Задание 7.7\n",
    "Случайная величина задана таблицей:"
   ]
  },
  {
   "cell_type": "code",
   "execution_count": 56,
   "metadata": {},
   "outputs": [
    {
     "name": "stdout",
     "output_type": "stream",
     "text": [
      "1.04 стандартное отклонение \n"
     ]
    }
   ],
   "source": [
    "a=np.array([-1, 0, 1, 2])\n",
    "p=np.array([0.5, 0.2, 0.2, 0.1])\n",
    "print(round(np.sqrt(DV(a,p)),2),'стандартное отклонение ')"
   ]
  },
  {
   "cell_type": "markdown",
   "metadata": {},
   "source": [
    "# Равномерное распределение"
   ]
  },
  {
   "cell_type": "markdown",
   "metadata": {},
   "source": [
    "Для равномерного распределения уже известны математическое ожидание\n",
    "$$EX = \\frac{N+1}{2}$$\n",
    "и стандартное отклонение\n",
    "$$\\sigma_X = \\sqrt{\\frac{N^2 - 1}{12}}$$"
   ]
  },
  {
   "cell_type": "markdown",
   "metadata": {},
   "source": [
    "numpy и функцию randint() из библиотеки scipy, предназначенную для моделирования равномерного дискретного распределения:"
   ]
  },
  {
   "cell_type": "code",
   "execution_count": 57,
   "metadata": {},
   "outputs": [],
   "source": [
    "import numpy as np\n",
    "from scipy.stats import randint"
   ]
  },
  {
   "cell_type": "code",
   "execution_count": 58,
   "metadata": {},
   "outputs": [],
   "source": [
    "# Задаём возможные значения случайной величины\n",
    "x = np.arange(1, 7) # array([1, 2, 3, 4, 5, 6])\n",
    "# Задаём интервал, на котором будут распределяться наши вероятности\n",
    "disc_uni_dist = randint(1, 7)\n",
    "# Вычисляем вероятности выпадения каждого значения случайной величины\n",
    "pmf = disc_uni_dist.pmf(x)"
   ]
  },
  {
   "cell_type": "markdown",
   "metadata": {},
   "source": [
    "Получаем вероятности для каждого из шести значений:"
   ]
  },
  {
   "cell_type": "code",
   "execution_count": 59,
   "metadata": {},
   "outputs": [
    {
     "data": {
      "text/plain": [
       "array([0.16666667, 0.16666667, 0.16666667, 0.16666667, 0.16666667,\n",
       "       0.16666667])"
      ]
     },
     "execution_count": 59,
     "metadata": {},
     "output_type": "execute_result"
    }
   ],
   "source": [
    "pmf"
   ]
  },
  {
   "cell_type": "markdown",
   "metadata": {},
   "source": [
    "Также мы можем найти кумулятивную вероятность для распределения, то есть для каждого  вероятность того, что случайная величина примет значение  или меньше"
   ]
  },
  {
   "cell_type": "code",
   "execution_count": 60,
   "metadata": {},
   "outputs": [
    {
     "name": "stdout",
     "output_type": "stream",
     "text": [
      "[0.16666667 0.33333333 0.5        0.66666667 0.83333333 1.        ]\n"
     ]
    }
   ],
   "source": [
    "# Рассчитаем кумулятивную вероятность\n",
    "cdf = disc_uni_dist.cdf(x)\n",
    "\n",
    "print(cdf)"
   ]
  },
  {
   "cell_type": "markdown",
   "metadata": {},
   "source": [
    "### Пример\n",
    "\n",
    "Вы участвуете в розыгрыше бесплатного места на новый курс по Data Science. Вы знаете, что участников 250.\n",
    "\n",
    "Какова вероятность, что на курс попадёт кто-то из первых пятидесяти зарегистрировавшихся?"
   ]
  },
  {
   "cell_type": "code",
   "execution_count": 61,
   "metadata": {},
   "outputs": [
    {
     "name": "stdout",
     "output_type": "stream",
     "text": [
      "0-50 0.2\n",
      "0-51:100 [0.204 0.208 0.212 0.216 0.22  0.224 0.228 0.232 0.236 0.24  0.244 0.248\n",
      " 0.252 0.256 0.26  0.264 0.268 0.272 0.276 0.28  0.284 0.288 0.292 0.296\n",
      " 0.3   0.304 0.308 0.312 0.316 0.32  0.324 0.328 0.332 0.336 0.34  0.344\n",
      " 0.348 0.352 0.356 0.36  0.364 0.368 0.372 0.376 0.38  0.384 0.388 0.392\n",
      " 0.396]\n"
     ]
    }
   ],
   "source": [
    "# Задаём возможные значения случайной величины\n",
    "x = np.arange(1, 251)\n",
    "# Задаём интервал, на котором будут распределяться наши вероятности\n",
    "disc_uni_dist = randint(1, 251)\n",
    "# Вычисляем вероятности выпадения каждого значения случайной величины\n",
    "cdf = disc_uni_dist.cdf(x)\n",
    "# Ищем вероятность того, что на курс попадёт кто-то из первых 50 зарегистрировавшихся\n",
    "print('0-50',cdf[49])\n",
    "print('0-51:100',cdf[50:99])"
   ]
  },
  {
   "cell_type": "markdown",
   "metadata": {},
   "source": [
    "# Распределение Бернулли"
   ]
  },
  {
   "cell_type": "markdown",
   "metadata": {},
   "source": [
    "$$P(X = x)= \\left\\{\\begin{matrix} p & x = 1\\\\ 1 - p & x = 0 \\\\ \\end{matrix}\\right.$$\n",
    "Для этого распределения также известны математическое ожидание\n",
    "$$EX = 1 \\cdot p + 0 \\cdot (1-p) = p$$\n",
    "и стандартное отклонение\n",
    "$$\\sigma_X = \\sqrt{p(1-p)}$$"
   ]
  },
  {
   "cell_type": "markdown",
   "metadata": {},
   "source": [
    "С помощью специальной функции bernoulli.rvs() из библиотеки scipy мы можем смоделировать распределение Бернулли и, например, увидеть ожидаемое соотношение попаданий и промахов для решённой задачи, если будет сделано 500 выстрелов:"
   ]
  },
  {
   "cell_type": "code",
   "execution_count": 62,
   "metadata": {},
   "outputs": [
    {
     "name": "stderr",
     "output_type": "stream",
     "text": [
      "c:\\Users\\Temnykov\\AppData\\Local\\Programs\\Python\\Python38\\lib\\site-packages\\seaborn\\axisgrid.py:118: UserWarning: The figure layout has changed to tight\n",
      "  self._figure.tight_layout(*args, **kwargs)\n"
     ]
    },
    {
     "data": {
      "text/plain": [
       "<seaborn.axisgrid.FacetGrid at 0x2e58ffa0>"
      ]
     },
     "execution_count": 62,
     "metadata": {},
     "output_type": "execute_result"
    },
    {
     "data": {
      "image/png": "[encoded data removed]",
      "text/plain": [
       "<Figure size 500x500 with 1 Axes>"
      ]
     },
     "metadata": {},
     "output_type": "display_data"
    }
   ],
   "source": [
    "from scipy.stats import bernoulli\n",
    "import seaborn as sns\n",
    "\n",
    "data = bernoulli.rvs(size=500, p=0.6)\n",
    "ax = sns.displot(data, kde=False, color='dodgerblue')\n",
    "ax.set(xlabel='Значение случайной величины', ylabel='Частота')"
   ]
  },
  {
   "cell_type": "markdown",
   "metadata": {},
   "source": [
    "Также можно вывести количество неудач и попаданий в нашей модели:"
   ]
  },
  {
   "cell_type": "code",
   "execution_count": 63,
   "metadata": {},
   "outputs": [
    {
     "name": "stdout",
     "output_type": "stream",
     "text": [
      "[[  0 219]\n",
      " [  1 281]]\n"
     ]
    }
   ],
   "source": [
    "unique, counts = np.unique(data, return_counts=True)\n",
    "print(np.asarray((unique, counts)).T)"
   ]
  },
  {
   "cell_type": "markdown",
   "metadata": {},
   "source": [
    "# Биномиальное распределение"
   ]
  },
  {
   "cell_type": "markdown",
   "metadata": {},
   "source": [
    "$$P(X = k) = \\begin{pmatrix} n \\\\ k \\end{pmatrix} p^k (1-p)^{n-k}$$\n",
    "$\\begin{pmatrix} n \\\\ k \\end{pmatrix}$ называют биномиальным коэффициентом, и он вычисляется следующим образом\n",
    "$$\\frac{n!}{k! (n-k)!}$$\n",
    "Математическое ожидание биномиального распределения равно:\n",
    "$$EX = np$$\n",
    "Стандартное отклонение:\n",
    "$$\\sigma_X = \\sqrt{np (1-p)}$$"
   ]
  },
  {
   "cell_type": "markdown",
   "metadata": {},
   "source": [
    "### Пример\n",
    "Производитель гаджетов знает, что 20 % производимых им товаров — бракованные.\n",
    "\n",
    "Если он производит десять изделий в день, какова вероятность того, что не более двух из них бракованные?"
   ]
  },
  {
   "cell_type": "markdown",
   "metadata": {},
   "source": [
    "$$\\begin{pmatrix} 10 \\\\ 8 \\end{pmatrix} (0.8)^8 (0.2)^2 + \\begin{pmatrix} 10 \\\\ 9 \\end{pmatrix} (0.8)^9 (0.2)^1 + \\begin{pmatrix} 10 \\\\ 10 \\end{pmatrix} (0.8)^{10} \\approx 0.678$$"
   ]
  },
  {
   "cell_type": "code",
   "execution_count": 18,
   "metadata": {},
   "outputs": [
    {
     "name": "stdout",
     "output_type": "stream",
     "text": [
      "0.6777995264\n",
      "0.6777995264\n"
     ]
    }
   ],
   "source": [
    "import scipy\n",
    "\n",
    "print(scipy.stats.binom.pmf(8,10,0.8)+scipy.stats.binom.pmf(9,10,0.8)+scipy.stats.binom.pmf(10,10,0.8))\n",
    "\n",
    "result=0\n",
    "for i in range(8,11):\n",
    "    result+=scipy.stats.binom.pmf(i,10,0.8)\n",
    "print(result)"
   ]
  },
  {
   "cell_type": "markdown",
   "metadata": {},
   "source": [
    "Как и для распределения Бернулли, для биномиального распределения можно смоделировать какое-то количество попыток и получить результат. Например, можно смоделировать биноминальное распределение с параметром p = 0.5 и количеством испытаний, равным 10, и реализовать 1000 попыток:"
   ]
  },
  {
   "cell_type": "code",
   "execution_count": 65,
   "metadata": {},
   "outputs": [
    {
     "name": "stderr",
     "output_type": "stream",
     "text": [
      "c:\\Users\\Temnykov\\AppData\\Local\\Programs\\Python\\Python38\\lib\\site-packages\\seaborn\\axisgrid.py:118: UserWarning: The figure layout has changed to tight\n",
      "  self._figure.tight_layout(*args, **kwargs)\n"
     ]
    },
    {
     "data": {
      "text/plain": [
       "<seaborn.axisgrid.FacetGrid at 0x323ec850>"
      ]
     },
     "execution_count": 65,
     "metadata": {},
     "output_type": "execute_result"
    },
    {
     "data": {
      "image/png": "[encoded data removed]",
      "text/plain": [
       "<Figure size 500x500 with 1 Axes>"
      ]
     },
     "metadata": {},
     "output_type": "display_data"
    }
   ],
   "source": [
    "from numpy import random\n",
    "import seaborn as sns\n",
    "\n",
    "data = random.binomial(n=10, p=0.5, size=1000)\n",
    "ax = sns.displot(data, kde=False, color='dodgerblue')\n",
    "ax.set(xlabel='Значение случайной величины', ylabel='Частота')"
   ]
  },
  {
   "cell_type": "markdown",
   "metadata": {},
   "source": [
    "Можно видеть, что чаще всего можно наблюдать пять успешных исходов."
   ]
  },
  {
   "cell_type": "markdown",
   "metadata": {},
   "source": [
    "# Распределение Пуассона"
   ]
  },
  {
   "cell_type": "markdown",
   "metadata": {},
   "source": [
    "В распределении Пуассона значение случайной величины может быть любым неотрицательным числом.  Случайная величина будет обладать следующими характеристиками:\n",
    "$$EX  = \\lambda$$\n",
    "$$\\sigma_X = \\sqrt{\\lambda},$$\n",
    "где $\\lambda$ — ожидаемое число событий за период времени.\n",
    "\n",
    "Чтобы рассчитать вероятность того, что за период времени произойдёт  событий, можно пользоваться следующей формулой:\n",
    "$$P(X = k) = \\frac{\\lambda^k e^{- \\lambda}}{k!}$$"
   ]
  },
  {
   "cell_type": "code",
   "execution_count": 66,
   "metadata": {},
   "outputs": [
    {
     "data": {
      "text/plain": [
       "0.17082685848611215"
      ]
     },
     "execution_count": 66,
     "metadata": {},
     "output_type": "execute_result"
    }
   ],
   "source": [
    "import scipy\n",
    "\n",
    "scipy.stats.distributions.poisson.pmf(5, 4.5)"
   ]
  },
  {
   "cell_type": "code",
   "execution_count": 6,
   "metadata": {},
   "outputs": [
    {
     "name": "stderr",
     "output_type": "stream",
     "text": [
      "c:\\Users\\Temnykov\\AppData\\Local\\Programs\\Python\\Python38\\lib\\site-packages\\seaborn\\axisgrid.py:118: UserWarning: The figure layout has changed to tight\n",
      "  self._figure.tight_layout(*args, **kwargs)\n"
     ]
    },
    {
     "data": {
      "text/plain": [
       "<seaborn.axisgrid.FacetGrid at 0x6503340>"
      ]
     },
     "execution_count": 6,
     "metadata": {},
     "output_type": "execute_result"
    },
    {
     "data": {
      "image/png": "[encoded data removed]",
      "text/plain": [
       "<Figure size 500x500 with 1 Axes>"
      ]
     },
     "metadata": {},
     "output_type": "display_data"
    }
   ],
   "source": [
    "from numpy import random\n",
    "import seaborn as sns\n",
    "\n",
    "data = random.poisson(lam=3, size=1000)\n",
    "ax = sns.displot(data, kde=False, color='dodgerblue')\n",
    "ax.set(xlabel='Значение случайной величины', ylabel='Частота')"
   ]
  },
  {
   "cell_type": "markdown",
   "metadata": {},
   "source": [
    "### Задание 8.3\n",
    "Вы стреляете по мишени. Вероятность набрать максимальное количество очков составляет 7 %. В этом случае вы выиграете плюшевого медведя стоимостью 5000 рублей. Если наберёте меньше максимума, то не выиграете ничего.\n",
    "\n",
    "Сколько должен стоить билет, чтобы обеспечить игру, в которой выигрыш равен вашим ожидаемым затратам и ожидаемым затратам продавца?"
   ]
  },
  {
   "cell_type": "code",
   "execution_count": 68,
   "metadata": {},
   "outputs": [
    {
     "name": "stdout",
     "output_type": "stream",
     "text": [
      "350.00000000000006  стоить билет\n"
     ]
    }
   ],
   "source": [
    "p=0.07\n",
    "s=5000\n",
    "\n",
    "print(s*p+0*(1-p),' стоить билет')"
   ]
  },
  {
   "cell_type": "markdown",
   "metadata": {},
   "source": [
    "### Задание 8.4\n",
    "Вы купили 85 лотерейных билетов. Для каждого из них вероятность выигрыша составляет 0.001.\n",
    "\n",
    "Найдите математическое ожидание для количества выигрышных билетов."
   ]
  },
  {
   "cell_type": "code",
   "execution_count": 69,
   "metadata": {},
   "outputs": [
    {
     "name": "stdout",
     "output_type": "stream",
     "text": [
      "0.085  математическое ожидание для количества выигрышных билетов\n"
     ]
    }
   ],
   "source": [
    "k=85\n",
    "p=0.001\n",
    "print(k*p,' математическое ожидание для количества выигрышных билетов')"
   ]
  },
  {
   "cell_type": "markdown",
   "metadata": {},
   "source": [
    "### Задание 8.5\n",
    "Иван Петрович 20 лет живёт в доме, в котором 30 лифтов и одна кнопка для их вызова. За это время он провёл много измерений и предполагает, что если нажать на кнопку, то количество лифтов, пришедших за минуту, подчиняется распределению Пуассона, с $\\lambda=2$. Это значит, что:"
   ]
  },
  {
   "cell_type": "markdown",
   "metadata": {},
   "source": [
    "$$EX  = \\lambda$$"
   ]
  },
  {
   "cell_type": "code",
   "execution_count": 2,
   "metadata": {},
   "outputs": [
    {
     "name": "stderr",
     "output_type": "stream",
     "text": [
      "c:\\Users\\Temnykov\\AppData\\Local\\Programs\\Python\\Python38\\lib\\site-packages\\seaborn\\axisgrid.py:118: UserWarning: The figure layout has changed to tight\n",
      "  self._figure.tight_layout(*args, **kwargs)\n"
     ]
    },
    {
     "name": "stdout",
     "output_type": "stream",
     "text": [
      "Это значит, что: в среднем приходит 2 лифта за минуту\n"
     ]
    },
    {
     "data": {
      "image/png": "[encoded data removed]",
      "text/plain": [
       "<Figure size 500x500 with 1 Axes>"
      ]
     },
     "metadata": {},
     "output_type": "display_data"
    }
   ],
   "source": [
    "from numpy import random\n",
    "# import numpy as np\n",
    "import seaborn as sns\n",
    "# import pandas as pd\n",
    "yeur=20*356*24\n",
    "alf=2\n",
    "k=30\n",
    "\n",
    "data = random.poisson(lam=alf, size=1000)\n",
    "ax = sns.displot(data, kde=False, color='dodgerblue')\n",
    "ax.set(xlabel='Значение случайной величины', ylabel='Частота')\n",
    "\n",
    "print(f'Это значит, что: в среднем приходит {alf} лифта за минуту')\n"
   ]
  },
  {
   "cell_type": "markdown",
   "metadata": {},
   "source": [
    "### Задание 8.6\n",
    "Сеть ресторанов быстрого питания проводит акцию, в рамках которой в одной из четырёх коробок картофеля фри лежит купон на бесплатную коробку картофеля фри. Предположим, что где-то продаётся 100 таких коробок в день. Пусть $x$ равно количеству выигранных купонов за день.\n",
    "\n",
    "Найдите среднее значение и стандартное отклонение для $x$. Если результат дробное число, округлите ответ до одного знака после точки-разделителя."
   ]
  },
  {
   "cell_type": "markdown",
   "metadata": {},
   "source": [
    "Биномиальное распределение\n",
    "$$EX = np$$\n",
    "$$\\sigma_X = \\sqrt{np (1-p)}$$"
   ]
  },
  {
   "cell_type": "code",
   "execution_count": 71,
   "metadata": {},
   "outputs": [
    {
     "name": "stdout",
     "output_type": "stream",
     "text": [
      "среднее значение = 25.0\n",
      "стандартное отклонение = 4.3\n"
     ]
    }
   ],
   "source": [
    "n=100\n",
    "p=1/4 # 1 прриз на 4 коробки\n",
    "print('среднее значение =',n*p)\n",
    "print('стандартное отклонение =',round(np.sqrt(n*p*(1-p)),1))"
   ]
  },
  {
   "cell_type": "markdown",
   "metadata": {},
   "source": [
    "### Задание 8.7\n",
    "Пассажиры прибывают на вокзал со средней скоростью $\\lambda=4$ человека в минуту.\n",
    "\n",
    "Если количество пассажиров, приезжающих на вокзал, подчиняется распределению Пуассона, какова приблизительная вероятность того, что 16 пассажиров приедут на вокзал в конкретный четырёхминутный период? Округлите ответ до трёх знаков после точки-разделителя."
   ]
  },
  {
   "cell_type": "code",
   "execution_count": 72,
   "metadata": {},
   "outputs": [
    {
     "name": "stdout",
     "output_type": "stream",
     "text": [
      "приблизительная вероятность = 0.099\n"
     ]
    }
   ],
   "source": [
    "lam=4 # 4 человек в минуту\n",
    "n=16\n",
    "s=4\n",
    "print('приблизительная вероятность =',round(scipy.stats.distributions.poisson.pmf(n, lam*s),3))"
   ]
  },
  {
   "cell_type": "markdown",
   "metadata": {},
   "source": [
    "# Равномерное распределение"
   ]
  },
  {
   "cell_type": "markdown",
   "metadata": {},
   "source": [
    "$$ EX = \\frac{a+b}{2} $$\n",
    "$$ \\sigma_X = \\frac{b-a}{\\sqrt{12}} $$"
   ]
  },
  {
   "cell_type": "markdown",
   "metadata": {},
   "source": [
    "Мы можем с помощью Python смоделировать случайную величину c таким распределением и визуализировать плотность её распределения. К примеру, сформируем выборку объёмом 10000 для распределения с параметрами  и :"
   ]
  },
  {
   "cell_type": "code",
   "execution_count": 73,
   "metadata": {},
   "outputs": [
    {
     "name": "stderr",
     "output_type": "stream",
     "text": [
      "c:\\Users\\Temnykov\\AppData\\Local\\Programs\\Python\\Python38\\lib\\site-packages\\seaborn\\axisgrid.py:118: UserWarning: The figure layout has changed to tight\n",
      "  self._figure.tight_layout(*args, **kwargs)\n"
     ]
    },
    {
     "data": {
      "text/plain": [
       "<seaborn.axisgrid.FacetGrid at 0x2e54d580>"
      ]
     },
     "execution_count": 73,
     "metadata": {},
     "output_type": "execute_result"
    },
    {
     "data": {
      "image/png": "[encoded data removed]",
      "text/plain": [
       "<Figure size 500x500 with 1 Axes>"
      ]
     },
     "metadata": {},
     "output_type": "display_data"
    }
   ],
   "source": [
    "from scipy.stats import uniform\n",
    "import seaborn as sns\n",
    "\n",
    "data = uniform.rvs(size=10000, loc=10, scale=30)\n",
    "ax = sns.displot(data, kde=True, bins=50)\n",
    "ax.set(xlabel='Равномерное распределение', ylabel='Плотность')"
   ]
  },
  {
   "cell_type": "markdown",
   "metadata": {},
   "source": [
    "# Нормальное распределение"
   ]
  },
  {
   "cell_type": "markdown",
   "metadata": {},
   "source": [
    "стандартное отклонение\n",
    "$$X \\sim Normal (\\mu, \\sigma^2)$$\n",
    "Плотность нормального распределения задаётся формулой:\n",
    "$$f(x) = \\frac{1}{\\sigma \\sqrt{2 \\pi}} e^{- \\frac{(x - \\mu)^2}{2 \\sigma^2}}$$"
   ]
  },
  {
   "cell_type": "code",
   "execution_count": 74,
   "metadata": {},
   "outputs": [
    {
     "name": "stderr",
     "output_type": "stream",
     "text": [
      "c:\\Users\\Temnykov\\AppData\\Local\\Programs\\Python\\Python38\\lib\\site-packages\\seaborn\\axisgrid.py:118: UserWarning: The figure layout has changed to tight\n",
      "  self._figure.tight_layout(*args, **kwargs)\n"
     ]
    },
    {
     "data": {
      "text/plain": [
       "<seaborn.axisgrid.FacetGrid at 0x33843610>"
      ]
     },
     "execution_count": 74,
     "metadata": {},
     "output_type": "execute_result"
    },
    {
     "data": {
      "image/png": "[encoded data removed]",
      "text/plain": [
       "<Figure size 500x500 with 1 Axes>"
      ]
     },
     "metadata": {},
     "output_type": "display_data"
    }
   ],
   "source": [
    "from scipy.stats import norm\n",
    "import seaborn as sns\n",
    "\n",
    "data = norm.rvs(size=10000, loc=4, scale=5)\n",
    "ax = sns.displot(data, kde=True, bins=50)\n",
    "ax.set(xlabel='Нормальное распределение', ylabel='Плотность')"
   ]
  },
  {
   "cell_type": "code",
   "execution_count": 75,
   "metadata": {},
   "outputs": [
    {
     "name": "stdout",
     "output_type": "stream",
     "text": [
      "[[93 44]\n",
      " [ 4  2]\n",
      " [36  1]\n",
      " [14 29]\n",
      " [78 21]]\n",
      "[[ 1.37243726  1.50201177]\n",
      " [-1.17229016 -1.06239857]\n",
      " [-0.25733199 -1.12345596]\n",
      " [-0.88636573  0.58615094]\n",
      " [ 0.94355062  0.09769182]]\n"
     ]
    }
   ],
   "source": [
    "from numpy import asarray\n",
    "from sklearn.preprocessing import StandardScaler\n",
    "data = asarray([[93, 44],\n",
    "                [4, 2],\n",
    "                [36, 1],\n",
    "                [14, 29],\n",
    "                [78, 21]])\n",
    "print(data)\n",
    "scaler = StandardScaler()\n",
    "scaled = scaler.fit_transform(data)\n",
    "print(scaled)"
   ]
  },
  {
   "cell_type": "markdown",
   "metadata": {},
   "source": [
    "# Экспоненциальное распределение"
   ]
  },
  {
   "cell_type": "markdown",
   "metadata": {},
   "source": [
    "Плотность экспоненциального распределения задаётся следующей формулой:\n",
    "$$f(x) = \\left\\{\\begin{matrix} 0, & x < 0 \\\\ \\lambda e^{- \\lambda x}, & x \\geq 0 \\\\ \\end{matrix}\\right.$$\n",
    "В качестве параметра $\\lambda$ здесь берётся ожидаемое число событий за единицу времени"
   ]
  },
  {
   "cell_type": "markdown",
   "metadata": {},
   "source": [
    "Математическое ожидание для этого распределения вычисляется по следующей формуле:\n",
    "$$EX =  1/ \\lambda$$\n",
    "Стандартное отклонение можно найти ровно так же:\n",
    "$$\\sigma_X =  1/ \\lambda$$\n",
    "Вероятность того, что значение случайной величины будет не больше \\(x\\), равна:\n",
    "$$1 - e^{- \\lambda x}$$"
   ]
  },
  {
   "cell_type": "code",
   "execution_count": 1,
   "metadata": {},
   "outputs": [
    {
     "name": "stderr",
     "output_type": "stream",
     "text": [
      "c:\\Users\\Temnykov\\AppData\\Local\\Programs\\Python\\Python38\\lib\\site-packages\\seaborn\\axisgrid.py:118: UserWarning: The figure layout has changed to tight\n",
      "  self._figure.tight_layout(*args, **kwargs)\n"
     ]
    },
    {
     "data": {
      "text/plain": [
       "<seaborn.axisgrid.FacetGrid at 0x7ac2fa0>"
      ]
     },
     "execution_count": 1,
     "metadata": {},
     "output_type": "execute_result"
    },
    {
     "data": {
      "image/png": "[encoded data removed]",
      "text/plain": [
       "<Figure size 500x500 with 1 Axes>"
      ]
     },
     "metadata": {},
     "output_type": "display_data"
    }
   ],
   "source": [
    "from scipy.stats import expon\n",
    "import seaborn as sns\n",
    "\n",
    "data = expon.rvs(scale=1, loc=0, size=1000)\n",
    "ax = sns.displot(data, kde=True, bins=50)\n",
    "ax.set(xlabel='Экспоненциальное распределение', ylabel='Плотность')"
   ]
  },
  {
   "cell_type": "markdown",
   "metadata": {},
   "source": [
    "Дней=15\n",
    "\n",
    "В качестве параметра распределения здесь используется $\\lambda = 1 / дней $ тогда $\\lambda = 1/15$\n",
    "\n",
    "X<10  тогда задаём X=10\n",
    "\n",
    "$$P(X < 10) = 1 - e^{- \\lambda * X} = 1 - e^{- \\lambda * 10} = 0.4865$$\n"
   ]
  },
  {
   "cell_type": "markdown",
   "metadata": {},
   "source": [
    "### Задание 9.3\n",
    "Иван Петрович 20 лет живёт в доме, в котором 30 лифтов и одна кнопка для их вызова. За это время он выявил, что если нажать на кнопку, то количество лифтов, пришедших за минуту, подчиняется экспоненциальному распределению с $\\lambda = 2$. Это значит, что..."
   ]
  },
  {
   "cell_type": "markdown",
   "metadata": {},
   "source": [
    "$$EX =  1/ \\lambda$$"
   ]
  },
  {
   "cell_type": "code",
   "execution_count": 3,
   "metadata": {},
   "outputs": [
    {
     "name": "stderr",
     "output_type": "stream",
     "text": [
      "c:\\Users\\Temnykov\\AppData\\Local\\Programs\\Python\\Python38\\lib\\site-packages\\seaborn\\axisgrid.py:118: UserWarning: The figure layout has changed to tight\n",
      "  self._figure.tight_layout(*args, **kwargs)\n"
     ]
    },
    {
     "name": "stdout",
     "output_type": "stream",
     "text": [
      "Это значит, что в среднем лифт приходится ждать 0.5\n"
     ]
    },
    {
     "data": {
      "image/png": "[encoded data removed]",
      "text/plain": [
       "<Figure size 500x500 with 1 Axes>"
      ]
     },
     "metadata": {},
     "output_type": "display_data"
    }
   ],
   "source": [
    "year=20\n",
    "alf=2\n",
    "k= 30\n",
    "\n",
    "# import numpy as np\n",
    "from scipy.stats import expon\n",
    "import seaborn as sns\n",
    "\n",
    "data = expon.rvs(scale=alf, loc=0, size=k*year)\n",
    "ax = sns.displot(data, kde=True, bins=50)\n",
    "ax.set(xlabel='Экспоненциальное распределение', ylabel='Плотность')\n",
    "\n",
    "print(f'Это значит, что в среднем лифт приходится ждать {1/alf}' )"
   ]
  },
  {
   "cell_type": "markdown",
   "metadata": {},
   "source": [
    "### Задание 9.4\n",
    "В среднем новый холодильник служит 10 лет. Предположим, что продолжительность времени службы распределена экспоненциально."
   ]
  },
  {
   "cell_type": "markdown",
   "metadata": {},
   "source": [
    "Лет=10\n",
    "\n",
    "В качестве параметра распределения здесь используется $\\lambda = 1 / Лет $ тогда $\\lambda = 1/10$\n",
    "1. Какова вероятность того, что холодильник прослужит более 7 лет?\n",
    "+ X>7  тогда задаём X=7 от 7 до максимума $$1-(1-e^{- \\lambda * X})$$\n",
    "+ а если X<7  тогда задаём X=7 $$1-e^{- \\lambda * X}$$\n",
    "\n",
    "$$P(X > 7) = 1-(1-e^{- \\lambda * X}) = 1-(1-e^{- \\lambda * 7}) = 0.497$$"
   ]
  },
  {
   "cell_type": "markdown",
   "metadata": {},
   "source": [
    "2. Какова вероятность того, что устройство прослужит от 9 до 11 лет?\n",
    "+ $X_1>9$  тогда задаём $X_1=9$ $$1-(1-e^{- \\lambda * X_1})$$\n",
    "    * но мы ограничены $X_2<11$ \n",
    "\n",
    "+ $X_2<11$  тогда задаём $X_2=9$ $$1-e^{- \\lambda * X_2}$$\n",
    "\n",
    "$$P(9 < X < 11) = (1-e^{- \\lambda * X_2})-(1-e^{- \\lambda * X_1}) =( 1-e^{- \\lambda * 11}) - (1-e^{- \\lambda * 9}) = $$"
   ]
  },
  {
   "cell_type": "code",
   "execution_count": 66,
   "metadata": {},
   "outputs": [
    {
     "name": "stdout",
     "output_type": "stream",
     "text": [
      "0.497 = вероятность того, что холодильник прослужит более 7 лет\n",
      "0.074  = вероятность того, что устройство прослужит от 9 до 11 лет\n"
     ]
    }
   ],
   "source": [
    "import numpy as np\n",
    "year=10\n",
    "x=7\n",
    "alf=1/year\n",
    "\n",
    "print(round(1-(1-np.e**(-1*alf*x)),3), '= вероятность того, что холодильник прослужит более 7 лет')\n",
    "print(round((1-np.e**(-1*alf*11))-(1-np.e**(-1*alf*9)),3),' = вероятность того, что устройство прослужит от 9 до 11 лет')"
   ]
  },
  {
   "cell_type": "markdown",
   "metadata": {},
   "source": [
    "### Задание 10.1\n",
    "В вашем офисе стоят два автомата, с кофе и с чаем. Вероятность того, что к концу дня ваши коллеги выпьют весь кофе, равна $0.2$. Для чая соответствующая вероятность равна $0.3$.\n",
    "\n",
    "Найдите вероятность того, что хотя бы в одном из автоматов закончится напиток.\n",
    "\n",
    "Считайте, что напитки заканчиваются независимо друг от друга."
   ]
  },
  {
   "cell_type": "markdown",
   "metadata": {},
   "source": [
    "1. Закончились и кофе, и чай;\n",
    "2. Закончился только чай, но не кофе;\n",
    "3. Закончился только кофе, но не чай.\n",
    "$$0.2*0.3 + 0.8*0.3 + 0.2*0.7 = 0.44$$"
   ]
  },
  {
   "cell_type": "markdown",
   "metadata": {},
   "source": [
    "### Задание 10.2\n",
    "Вы находитесь на благотворительном мероприятии и приобрели один билет для участия в розыгрыше.\n",
    "\n",
    "Вам сообщают, что на мероприятии будет 200 человек (включая вас), и примерно $\\frac{3}{4}$ участников мероприятия приобрели билеты на розыгрыш. Из этих людей равное количество купило один, два и три билета соответственно.\n",
    "\n",
    "Если основываться на этих оценках и предполагать, что победитель будет только один, какова вероятность того, что вы выиграете? Ответ округлите до трёх знаков после точки-разделителя."
   ]
  },
  {
   "cell_type": "markdown",
   "metadata": {},
   "source": [
    "$200/\\frac{3}{4}= 150$ участвуют в розыгрыше\n",
    "\n",
    "$150/\\frac{1}{3}= 50$ приобрели 1 билет\n",
    "\n",
    "$150/\\frac{1}{3}= 50$ приобрели 2 билет\n",
    "\n",
    "$150/\\frac{1}{3}= 50$ приобрели 3 билет\n",
    "\n",
    "$50*1+50*2+50*3=50+100+150=300$ всего билетоd\n",
    "\n",
    "$1/300=0.003$ наш билет по отношению к остальным"
   ]
  },
  {
   "cell_type": "markdown",
   "metadata": {},
   "source": [
    "### Задание 10.4\n",
    "Согласно прогнозу погоды на завтра, с вероятностью 50 % будет дождь в Пекине, с вероятностью 30 % — в Рио-де-Жанейро и с вероятностью 20 % — в Найроби.\n",
    "\n",
    "Какова вероятность того, что завтра ни в одном из трёх указанных городов не будет дождя?\n",
    "\n",
    "Поскольку эти три города находятся далеко друг от друга, предположим, что случаи дождя в этих городах независимы."
   ]
  },
  {
   "cell_type": "markdown",
   "metadata": {},
   "source": [
    "$(1-0,5)*(1-0,3)*(1-0,2)=0.5*0.7*0.8=0,28$"
   ]
  }
 ],
 "metadata": {
  "kernelspec": {
   "display_name": "Python 3.8.10 64-bit",
   "language": "python",
   "name": "python3"
  },
  "language_info": {
   "codemirror_mode": {
    "name": "ipython",
    "version": 3
   },
   "file_extension": ".py",
   "mimetype": "text/x-python",
   "name": "python",
   "nbconvert_exporter": "python",
   "pygments_lexer": "ipython3",
   "version": "3.8.10"
  },
  "orig_nbformat": 4,
  "vscode": {
   "interpreter": {
    "hash": "541247ef5e2c485a853fcdfc5770898360c10253d62f064c141db27a35a34903"
   }
  }
 },
 "nbformat": 4,
 "nbformat_minor": 2
}
