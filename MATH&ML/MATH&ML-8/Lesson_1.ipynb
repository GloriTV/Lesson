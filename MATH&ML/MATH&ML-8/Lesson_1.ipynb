{
 "cells": [
  {
   "cell_type": "markdown",
   "metadata": {},
   "source": [
    "### Задание 1.4\n",
    "Задана функция $f(x_1,\\ x_2)$:\n",
    "$$f(x_1,\\ x_2)=\\frac{1}{5}(x_1+x_2{-18)}^2+\\frac{1}{8}(x_2-x_1)$$\n",
    "Найдите значение функции в точке $x=(x_1,\\ x_2)=(5,\\ 13)$."
   ]
  },
  {
   "cell_type": "code",
   "execution_count": 4,
   "metadata": {},
   "outputs": [
    {
     "data": {
      "text/latex": [
       "$\\displaystyle - 0.125 x_{1} + 0.125 x_{2} + 0.2 \\left(x_{1} + x_{2} - 18\\right)^{2}$"
      ],
      "text/plain": [
       "-0.125*x_1 + 0.125*x_2 + 0.2*(x_1 + x_2 - 18)**2"
      ]
     },
     "metadata": {},
     "output_type": "display_data"
    },
    {
     "name": "stdout",
     "output_type": "stream",
     "text": [
      "значение функции f(x1, x2) в точке (5, 13)= 1.00000000000000\n"
     ]
    }
   ],
   "source": [
    "import sympy\n",
    "from sympy import symbols\n",
    "\n",
    "\n",
    "x_1, x_2  = symbols('x_1 x_2', real=True)\n",
    "f=1/5*(x_1+x_2-18)**2+1/8*(x_2-x_1)\n",
    "display(f)\n",
    "x1=5\n",
    "x2=13\n",
    "print('значение функции f(x1, x2) в точке (5, 13) =',f.subs({x_1: x1, x_2:x2}))"
   ]
  },
  {
   "cell_type": "markdown",
   "metadata": {},
   "source": [
    "### Задание 1.5\n",
    "Найдите композицию функций $(g\\ o\\ f)(x)$, если $f(x)=ln(x^2)$, $g(x)=\\frac{1}{x}$:"
   ]
  },
  {
   "cell_type": "code",
   "execution_count": 10,
   "metadata": {},
   "outputs": [
    {
     "data": {
      "text/latex": [
       "$\\displaystyle \\log{\\left(x^{2} \\right)}$"
      ],
      "text/plain": [
       "log(x**2)"
      ]
     },
     "metadata": {},
     "output_type": "display_data"
    },
    {
     "data": {
      "text/latex": [
       "$\\displaystyle \\frac{1}{x}$"
      ],
      "text/plain": [
       "1/x"
      ]
     },
     "metadata": {},
     "output_type": "display_data"
    },
    {
     "data": {
      "text/latex": [
       "$\\displaystyle \\frac{1}{\\log{\\left(x^{2} \\right)}}$"
      ],
      "text/plain": [
       "1/log(x**2)"
      ]
     },
     "metadata": {},
     "output_type": "display_data"
    }
   ],
   "source": [
    "import sympy\n",
    "from sympy import Symbol\n",
    "\n",
    "x = Symbol('x')\n",
    "\n",
    "f=sympy.ln(x**2)\n",
    "display(f)\n",
    "g=1/x\n",
    "display(g)\n",
    "display(g.subs(x,f))"
   ]
  },
  {
   "cell_type": "markdown",
   "metadata": {},
   "source": [
    "### Задание 1.8\n",
    "В коробке лежит 10 красных, 20 синих и 15 зелёных шариков.\n",
    "\n",
    "Чему равна вероятность вслепую вытянуть зелёный шар?"
   ]
  },
  {
   "cell_type": "code",
   "execution_count": 12,
   "metadata": {},
   "outputs": [
    {
     "name": "stdout",
     "output_type": "stream",
     "text": [
      "вероятность вслепую вытянуть зелёный шар =  0.33\n"
     ]
    }
   ],
   "source": [
    "r=10\n",
    "b=20\n",
    "z=15\n",
    "summ=r+b+z #=45\n",
    "P_z=z/45 #=0.33\n",
    "print('вероятность вслепую вытянуть зелёный шар = ',round( P_z,2))"
   ]
  },
  {
   "cell_type": "markdown",
   "metadata": {},
   "source": [
    "### Задание 1.9\n",
    "Была построена модель машинного обучения, которая решает задачу классификации файлов на безопасные (класс 0) и вирусные (класс 1). После валидации модели на 100 наблюдениях была получена следующая матрица ошибок:\n",
    "\n",
    "Здесь $y$ — истинные классы файлов в валидационной выборке, а $ \\hat{y}$ — предсказания модели.\n",
    "\n",
    "|   | $\\hat{y}=0$ | $\\hat{y}=1$ |\n",
    "|---:|:---:|:---:|\n",
    "| $y=0$ | 73 | 13 |\n",
    "| $y=1$ | 4 | 10|\n",
    "\n",
    "Рассчитайте условную вероятность того, что файл является вирусным, при условии, что модель посчитала файл вирусным: $P(y=1|\\ \\hat{y}=1)$. Иначе говоря, рассчитайте метрику precision для обученной модели. "
   ]
  },
  {
   "cell_type": "code",
   "execution_count": 15,
   "metadata": {},
   "outputs": [
    {
     "name": "stdout",
     "output_type": "stream",
     "text": [
      "метрику precision для обученной модели =  0.43\n"
     ]
    }
   ],
   "source": [
    "y1_1=10\n",
    "y1_0=13\n",
    "y1=y1_1+y1_0\n",
    "print('метрику precision для обученной модели = ',round(y1_1/y1,2))"
   ]
  }
 ],
 "metadata": {
  "kernelspec": {
   "display_name": "Python 3.8.10 64-bit",
   "language": "python",
   "name": "python3"
  },
  "language_info": {
   "codemirror_mode": {
    "name": "ipython",
    "version": 3
   },
   "file_extension": ".py",
   "mimetype": "text/x-python",
   "name": "python",
   "nbconvert_exporter": "python",
   "pygments_lexer": "ipython3",
   "version": "3.8.10"
  },
  "orig_nbformat": 4,
  "vscode": {
   "interpreter": {
    "hash": "541247ef5e2c485a853fcdfc5770898360c10253d62f064c141db27a35a34903"
   }
  }
 },
 "nbformat": 4,
 "nbformat_minor": 2
}
