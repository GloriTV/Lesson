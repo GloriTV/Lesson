{
 "cells": [
  {
   "cell_type": "code",
   "execution_count": 1,
   "metadata": {},
   "outputs": [],
   "source": [
    "import pandas as pd\n",
    "\n",
    "# # загрузка\n",
    "# ratings1 = pd.read_csv('data/ratings1.csv', sep=',')\n",
    "# ratings2 = pd.read_csv('data/ratings2.csv', sep=',')\n",
    "# dates = pd.read_csv('data/dates.csv', sep=',')\n",
    "# movies = pd.read_csv('data/movies.csv', sep=',')#, index_col='movieId')\n",
    "\n",
    "# # объединение 1 с 2 по столбцам\n",
    "# ratings = pd.concat([ratings1, ratings2],ignore_index=True)\n",
    "\n",
    "# # Удаление дублеката\n",
    "# ratings = ratings.drop_duplicates(ignore_index=True)\n",
    "\n",
    "# # объединение 1-2 с 3 по строкам\n",
    "# ratings_dates = pd.concat([ratings, dates], axis=1)\n",
    "\n",
    "# # объединение 1-3 с 4 по индексов филимов\n",
    "# merged2 = ratings_dates.merge(\n",
    "#     movies,\n",
    "#     on='movieId',\n",
    "#     how='outer'\n",
    "# )\n",
    "# # print('Число строк в таблице merged2: ', merged2.shape[0])\n",
    "# # display(merged2.tail())"
   ]
  },
  {
   "cell_type": "code",
   "execution_count": 5,
   "metadata": {},
   "outputs": [],
   "source": [
    "ratings_movies = pd.read_csv('../data/ratings_movies.csv', sep=',')\n",
    "# ratings_movies"
   ]
  },
  {
   "cell_type": "markdown",
   "metadata": {},
   "source": [
    "Для решения задач нам понадобится выделить из признака title год выпуска фильма. Для этого напишем функцию get_year_release(arg)"
   ]
  },
  {
   "cell_type": "code",
   "execution_count": 6,
   "metadata": {},
   "outputs": [],
   "source": [
    "#библиотека для регулярных выражений\n",
    "import re \n",
    "def get_year_release(arg):\n",
    "    #находим все слова по шаблону \"(DDDD)\"\n",
    "    candidates = re.findall(r'\\(\\d{4}\\)', arg) \n",
    "    # проверяем число вхождений\n",
    "    if len(candidates) > 0:\n",
    "        #если число вхождений больше 0,\n",
    "\t#очищаем строку от знаков \"(\" и \")\"\n",
    "        year = candidates[0].replace('(', '')\n",
    "        year = year.replace(')', '')\n",
    "        return int(year)\n",
    "    else:\n",
    "        #если год не указан, возвращаем None\n",
    "        return None"
   ]
  },
  {
   "cell_type": "code",
   "execution_count": 7,
   "metadata": {},
   "outputs": [
    {
     "name": "stdout",
     "output_type": "stream",
     "text": [
      "Количество пустых строк : 18\n",
      "Kоличество уникальных дат: 106\n",
      "year_release\n",
      "1995.0    6144\n",
      "1994.0    5296\n",
      "1999.0    4536\n",
      "1996.0    4509\n",
      "2000.0    4268\n",
      "          ... \n",
      "1903.0       2\n",
      "1908.0       1\n",
      "1917.0       1\n",
      "1915.0       1\n",
      "1919.0       1\n",
      "Name: count, Length: 106, dtype: int64\n"
     ]
    }
   ],
   "source": [
    "ratings_movies['year_release']=ratings_movies['title'].apply(get_year_release)\n",
    "print('Количество пустых строк :', ratings_movies['year_release'].isnull().sum ())\n",
    "print('Kоличество уникальных дат:',ratings_movies['year_release'].nunique())\n",
    "print(ratings_movies['year_release'].value_counts())"
   ]
  },
  {
   "cell_type": "markdown",
   "metadata": {},
   "source": [
    "8.2"
   ]
  },
  {
   "cell_type": "code",
   "execution_count": 8,
   "metadata": {},
   "outputs": [
    {
     "name": "stdout",
     "output_type": "stream",
     "text": [
      "Какой фильм, выпущенный в 1999 году, получил наименьшую среднюю оценку зрителей\n"
     ]
    },
    {
     "data": {
      "text/plain": [
       "title\n",
       "Bloodsport: The Dark Kumite (1999)    0.5\n",
       "Name: rating, dtype: float64"
      ]
     },
     "execution_count": 8,
     "metadata": {},
     "output_type": "execute_result"
    }
   ],
   "source": [
    "print('Какой фильм, выпущенный в 1999 году, получил наименьшую среднюю оценку зрителей')\n",
    "mask_year=ratings_movies['year_release']==1999\n",
    "temp=ratings_movies[mask_year]\n",
    "\n",
    "# групируем  фильм   рейтинг   средний    сортировка\n",
    "temp.groupby('title')['rating'].mean().sort_values().head(1)"
   ]
  },
  {
   "cell_type": "markdown",
   "metadata": {},
   "source": [
    "8.3"
   ]
  },
  {
   "cell_type": "markdown",
   "metadata": {},
   "source": [
    "Какое сочетание жанров фильмов (genres), выпущенных в 2010 году, получило наименьшую среднюю оценку (rating)?"
   ]
  },
  {
   "cell_type": "code",
   "execution_count": 9,
   "metadata": {},
   "outputs": [
    {
     "data": {
      "text/plain": [
       "genres\n",
       "Action|Sci-Fi    1.0\n",
       "Name: rating, dtype: float64"
      ]
     },
     "execution_count": 9,
     "metadata": {},
     "output_type": "execute_result"
    }
   ],
   "source": [
    "mask_year=ratings_movies['year_release']==2010\n",
    "temp=ratings_movies[mask_year]\n",
    "\n",
    "temp.groupby('genres')['rating'].mean().sort_values().head(1)"
   ]
  },
  {
   "cell_type": "markdown",
   "metadata": {},
   "source": [
    "8.4"
   ]
  },
  {
   "cell_type": "markdown",
   "metadata": {},
   "source": [
    "Какой пользователь (userId) посмотрел наибольшее количество различных (уникальных) комбинаций жанров (genres) фильмов? В качестве ответа запишите идентификатор этого пользователя."
   ]
  },
  {
   "cell_type": "code",
   "execution_count": 10,
   "metadata": {},
   "outputs": [
    {
     "data": {
      "text/plain": [
       "userId\n",
       "599    524\n",
       "Name: genres, dtype: int64"
      ]
     },
     "execution_count": 10,
     "metadata": {},
     "output_type": "execute_result"
    }
   ],
   "source": [
    "ratings_movies.groupby('userId')['genres'].nunique().sort_values(ascending=False).head(1)"
   ]
  },
  {
   "cell_type": "markdown",
   "metadata": {},
   "source": [
    "8.5"
   ]
  },
  {
   "cell_type": "markdown",
   "metadata": {},
   "source": [
    "Найдите пользователя, который выставил наименьшее количество оценок, но его средняя оценка фильмам наибольшая."
   ]
  },
  {
   "cell_type": "code",
   "execution_count": 11,
   "metadata": {},
   "outputs": [
    {
     "data": {
      "text/html": [
       "<div>\n",
       "<style scoped>\n",
       "    .dataframe tbody tr th:only-of-type {\n",
       "        vertical-align: middle;\n",
       "    }\n",
       "\n",
       "    .dataframe tbody tr th {\n",
       "        vertical-align: top;\n",
       "    }\n",
       "\n",
       "    .dataframe thead th {\n",
       "        text-align: right;\n",
       "    }\n",
       "</style>\n",
       "<table border=\"1\" class=\"dataframe\">\n",
       "  <thead>\n",
       "    <tr style=\"text-align: right;\">\n",
       "      <th></th>\n",
       "      <th>count</th>\n",
       "      <th>mean</th>\n",
       "    </tr>\n",
       "    <tr>\n",
       "      <th>userId</th>\n",
       "      <th></th>\n",
       "      <th></th>\n",
       "    </tr>\n",
       "  </thead>\n",
       "  <tbody>\n",
       "    <tr>\n",
       "      <th>53</th>\n",
       "      <td>20</td>\n",
       "      <td>5.0</td>\n",
       "    </tr>\n",
       "    <tr>\n",
       "      <th>595</th>\n",
       "      <td>20</td>\n",
       "      <td>4.2</td>\n",
       "    </tr>\n",
       "    <tr>\n",
       "      <th>189</th>\n",
       "      <td>20</td>\n",
       "      <td>4.1</td>\n",
       "    </tr>\n",
       "  </tbody>\n",
       "</table>\n",
       "</div>"
      ],
      "text/plain": [
       "        count  mean\n",
       "userId             \n",
       "53         20   5.0\n",
       "595        20   4.2\n",
       "189        20   4.1"
      ]
     },
     "execution_count": 11,
     "metadata": {},
     "output_type": "execute_result"
    }
   ],
   "source": [
    "ratings_movies.groupby('userId')['rating'].agg(\n",
    "    ['count', 'mean']\n",
    "    ).sort_values(by=['count', 'mean'],ascending=[True,False]).head(3)\n"
   ]
  },
  {
   "cell_type": "markdown",
   "metadata": {},
   "source": [
    "8.6"
   ]
  },
  {
   "cell_type": "markdown",
   "metadata": {},
   "source": [
    "Найдите сочетание жанров (genres) за 2018 год, которое имеет наибольший средний рейтинг (среднее по столбцу rating), и при этом число выставленных ему оценок (количество значений в столбце rating) больше 10."
   ]
  },
  {
   "cell_type": "code",
   "execution_count": 12,
   "metadata": {},
   "outputs": [
    {
     "data": {
      "text/html": [
       "<div>\n",
       "<style scoped>\n",
       "    .dataframe tbody tr th:only-of-type {\n",
       "        vertical-align: middle;\n",
       "    }\n",
       "\n",
       "    .dataframe tbody tr th {\n",
       "        vertical-align: top;\n",
       "    }\n",
       "\n",
       "    .dataframe thead th {\n",
       "        text-align: right;\n",
       "    }\n",
       "</style>\n",
       "<table border=\"1\" class=\"dataframe\">\n",
       "  <thead>\n",
       "    <tr style=\"text-align: right;\">\n",
       "      <th></th>\n",
       "      <th>count</th>\n",
       "      <th>mean</th>\n",
       "    </tr>\n",
       "    <tr>\n",
       "      <th>genres</th>\n",
       "      <th></th>\n",
       "      <th></th>\n",
       "    </tr>\n",
       "  </thead>\n",
       "  <tbody>\n",
       "    <tr>\n",
       "      <th>Action|Adventure|Sci-Fi</th>\n",
       "      <td>14</td>\n",
       "      <td>3.928571</td>\n",
       "    </tr>\n",
       "    <tr>\n",
       "      <th>Action|Comedy|Sci-Fi</th>\n",
       "      <td>12</td>\n",
       "      <td>3.875000</td>\n",
       "    </tr>\n",
       "  </tbody>\n",
       "</table>\n",
       "</div>"
      ],
      "text/plain": [
       "                         count      mean\n",
       "genres                                  \n",
       "Action|Adventure|Sci-Fi     14  3.928571\n",
       "Action|Comedy|Sci-Fi        12  3.875000"
      ]
     },
     "execution_count": 12,
     "metadata": {},
     "output_type": "execute_result"
    }
   ],
   "source": [
    "temp=ratings_movies[ratings_movies['year_release']==2018]\n",
    "\n",
    "temp2=temp.groupby('genres')['rating'].agg(\n",
    "    ['count', 'mean']\n",
    "    )\n",
    "\n",
    "temp2[temp2['count']>10].sort_values(by='mean',ascending= False)#.head(3)"
   ]
  },
  {
   "cell_type": "markdown",
   "metadata": {},
   "source": [
    "8.7"
   ]
  },
  {
   "cell_type": "code",
   "execution_count": 13,
   "metadata": {},
   "outputs": [
    {
     "name": "stdout",
     "output_type": "stream",
     "text": [
      "За весь период (с 1996 по 2018 год) сочетание жанров Action|Adventure ни разу не получало среднюю оценку ниже 3\n",
      "3.0\n",
      "\n",
      " Среди сочетаний жанров, получивших наивысшую среднюю оценку в 2018 году, есть сочетание Animation|Children|Mystery\n",
      "наивысшая оценка 2018\n",
      "genres\n",
      "Adventure|Children|Comedy|Fantasy|Mystery    5.0\n",
      "Name: 2018, dtype: float64\n",
      "когда Animation|Children|Mystery имел наивысшею оценку\n",
      "year_rating\n",
      "2018    5\n",
      "Name: Animation|Children|Mystery, dtype: int64\n"
     ]
    },
    {
     "data": {
      "image/png": "[encoded data removed]",
      "text/plain": [
       "<Figure size 640x480 with 1 Axes>"
      ]
     },
     "metadata": {},
     "output_type": "display_data"
    }
   ],
   "source": [
    "ratings_movies['date']=pd.to_datetime(ratings_movies['date'],yearfirst=True)\n",
    "ratings_movies['year_rating']=ratings_movies['date'].dt.year\n",
    "\n",
    "temp=ratings_movies.pivot_table(\n",
    "    values='rating',   # Значения скоторыми производим операции\n",
    "    index='genres',    # название строк и групировка по значению\n",
    "    columns='year_rating',   # название столбцов и групировка по значению\n",
    "    fill_value=0      # пропуски в таблице на значение 0\n",
    "    #aggfunc=['median', 'mean']         # функция по умолчанию mean()\n",
    "    \n",
    ").round()             # Округляем вывод данных\n",
    "\n",
    "temp2=ratings_movies.pivot_table(\n",
    "    values='rating',   # Значения скоторыми производим операции\n",
    "    index='year_rating',    # название строк и групировка по значению\n",
    "    columns='genres',   # название столбцов и групировка по значению\n",
    "    fill_value=0      # пропуски в таблице на значение 0\n",
    "    #aggfunc=['median', 'mean']         # функция по умолчанию mean()\n",
    "    \n",
    ").round()             # Округляем вывод данных\n",
    "\n",
    "print('За весь период (с 1996 по 2018 год) сочетание жанров Action|Adventure ни разу не получало среднюю оценку ниже 3')\n",
    "print(temp2['Action|Adventure'].min())\n",
    "# print('\\n Наилучшую оценку жанр Action|Adventure|Animation|Children|Comedy|IMAX получил в 2010 году.')\n",
    "# print(temp2['Action|Adventure|Animation|Children|Comedy|IMAX'].sort_values(ascending=False))\n",
    "print('\\n Среди сочетаний жанров, получивших наивысшую среднюю оценку в 2018 году, есть сочетание Animation|Children|Mystery')\n",
    "print('наивысшая оценка 2018')\n",
    "print(temp[2018].sort_values(ascending=False).head(1))\n",
    "print('когда Animation|Children|Mystery имел наивысшею оценку')\n",
    "print(temp2['Animation|Children|Mystery'].sort_values(ascending=False).head(1))\n",
    "# print('Для жанра Comedy прослеживается тенденция падения рейтинга с каждым годом (с 1996 по 2018)')\n",
    "# temp2['Comedy'].sort_values()\n",
    "temp2=ratings_movies[ratings_movies['genres']=='Comedy']\n",
    "\n",
    "grouped_cases = temp2.groupby('date')['rating'].mean().round()\n",
    "grouped_cases.plot(\n",
    "    kind='line',\n",
    "    # kind='hist',\n",
    "#     figsize=(10, 6),\n",
    "#     title='Распределение ежедневной заболеваемости',\n",
    "#     grid = True,\n",
    "    color = 'blue',#'black',\n",
    "    lw=3\n",
    "    # bins=20\n",
    ");\n",
    "# grouped_cases.plot(\n",
    "#     kind='line',    #тип визуализации. Основные типы\n",
    "#     figsize=(12, 4),# размер графика (кортеж из ширины и высоты в дюймах)\n",
    "#     title='Ежедневная заболеваемость во времени',#название графика\n",
    "#     grid = True,    #отображение сетки (по умолчанию False)\n",
    "#     color='red',\n",
    "#     lw=3\n",
    "# );\n"
   ]
  },
  {
   "cell_type": "markdown",
   "metadata": {},
   "source": [
    "8.8"
   ]
  },
  {
   "cell_type": "code",
   "execution_count": 14,
   "metadata": {},
   "outputs": [
    {
     "name": "stdout",
     "output_type": "stream",
     "text": [
      "(18, 9)\n",
      "(14, 4)\n",
      "[47, 51, 53, 71, 74, 86, 91, 103, 104, 124, 137, 138, 139, 140]\n",
      "[103, 86, 104, 104, 104, 103, 124, 91, 103, 104, 74, 53, 137, 47, 71, 86, 51, 666]\n"
     ]
    }
   ],
   "source": [
    "# загрузка\n",
    "orders = pd.read_csv('../data/orders.csv', sep=';')\n",
    "products = pd.read_csv('../data/products.csv', sep=';')\n",
    "print(orders.shape)\n",
    "# display(orders.head(6))\n",
    "print(products.shape)\n",
    "print(list(products['Product_ID']))\n",
    "print(list(orders['ID товара']))"
   ]
  },
  {
   "cell_type": "code",
   "execution_count": 15,
   "metadata": {},
   "outputs": [
    {
     "name": "stdout",
     "output_type": "stream",
     "text": [
      "Число строк в таблице merged2:  18\n"
     ]
    },
    {
     "data": {
      "text/html": [
       "<div>\n",
       "<style scoped>\n",
       "    .dataframe tbody tr th:only-of-type {\n",
       "        vertical-align: middle;\n",
       "    }\n",
       "\n",
       "    .dataframe tbody tr th {\n",
       "        vertical-align: top;\n",
       "    }\n",
       "\n",
       "    .dataframe thead th {\n",
       "        text-align: right;\n",
       "    }\n",
       "</style>\n",
       "<table border=\"1\" class=\"dataframe\">\n",
       "  <thead>\n",
       "    <tr style=\"text-align: right;\">\n",
       "      <th></th>\n",
       "      <th>Дата создания</th>\n",
       "      <th>Order ID</th>\n",
       "      <th>ID Покупателя</th>\n",
       "      <th>Статус</th>\n",
       "      <th>Оплачен</th>\n",
       "      <th>Отменен</th>\n",
       "      <th>Отгружен</th>\n",
       "      <th>ID товара</th>\n",
       "      <th>Количество</th>\n",
       "      <th>Name</th>\n",
       "      <th>Price</th>\n",
       "      <th>CURRENCY</th>\n",
       "    </tr>\n",
       "  </thead>\n",
       "  <tbody>\n",
       "    <tr>\n",
       "      <th>13</th>\n",
       "      <td>08.11.2019 08:36:21</td>\n",
       "      <td>2</td>\n",
       "      <td>7</td>\n",
       "      <td>Выполнен</td>\n",
       "      <td>Да</td>\n",
       "      <td>Нет</td>\n",
       "      <td>Да</td>\n",
       "      <td>47</td>\n",
       "      <td>1</td>\n",
       "      <td>Шатны Полосатый рейс</td>\n",
       "      <td>2999.0</td>\n",
       "      <td>RUR</td>\n",
       "    </tr>\n",
       "    <tr>\n",
       "      <th>14</th>\n",
       "      <td>08.11.2019 08:36:20</td>\n",
       "      <td>1</td>\n",
       "      <td>5</td>\n",
       "      <td>Оплачен, формируется к отправке</td>\n",
       "      <td>Да</td>\n",
       "      <td>Нет</td>\n",
       "      <td>Нет</td>\n",
       "      <td>71</td>\n",
       "      <td>1</td>\n",
       "      <td>Платье Ночная Жизнь</td>\n",
       "      <td>7999.0</td>\n",
       "      <td>RUR</td>\n",
       "    </tr>\n",
       "    <tr>\n",
       "      <th>15</th>\n",
       "      <td>08.11.2019 08:36:20</td>\n",
       "      <td>1</td>\n",
       "      <td>5</td>\n",
       "      <td>Оплачен, формируется к отправке</td>\n",
       "      <td>Да</td>\n",
       "      <td>Нет</td>\n",
       "      <td>Нет</td>\n",
       "      <td>86</td>\n",
       "      <td>1</td>\n",
       "      <td>Носки Простые, муж</td>\n",
       "      <td>45.0</td>\n",
       "      <td>RUR</td>\n",
       "    </tr>\n",
       "    <tr>\n",
       "      <th>16</th>\n",
       "      <td>08.11.2019 08:36:20</td>\n",
       "      <td>1</td>\n",
       "      <td>5</td>\n",
       "      <td>Оплачен, формируется к отправке</td>\n",
       "      <td>Да</td>\n",
       "      <td>Нет</td>\n",
       "      <td>Нет</td>\n",
       "      <td>51</td>\n",
       "      <td>1</td>\n",
       "      <td>Платье Аленький цветочек</td>\n",
       "      <td>4999.0</td>\n",
       "      <td>RUR</td>\n",
       "    </tr>\n",
       "    <tr>\n",
       "      <th>17</th>\n",
       "      <td>01.01.2001 00:00:00</td>\n",
       "      <td>0</td>\n",
       "      <td>1</td>\n",
       "      <td>Оплачен, формируется к отправке</td>\n",
       "      <td>Да</td>\n",
       "      <td>Нет</td>\n",
       "      <td>Нет</td>\n",
       "      <td>666</td>\n",
       "      <td>1</td>\n",
       "      <td>NaN</td>\n",
       "      <td>NaN</td>\n",
       "      <td>NaN</td>\n",
       "    </tr>\n",
       "  </tbody>\n",
       "</table>\n",
       "</div>"
      ],
      "text/plain": [
       "          Дата создания  Order ID  ID Покупателя  \\\n",
       "13  08.11.2019 08:36:21         2              7   \n",
       "14  08.11.2019 08:36:20         1              5   \n",
       "15  08.11.2019 08:36:20         1              5   \n",
       "16  08.11.2019 08:36:20         1              5   \n",
       "17  01.01.2001 00:00:00         0              1   \n",
       "\n",
       "                             Статус Оплачен Отменен Отгружен  ID товара  \\\n",
       "13                         Выполнен      Да     Нет       Да         47   \n",
       "14  Оплачен, формируется к отправке      Да     Нет      Нет         71   \n",
       "15  Оплачен, формируется к отправке      Да     Нет      Нет         86   \n",
       "16  Оплачен, формируется к отправке      Да     Нет      Нет         51   \n",
       "17  Оплачен, формируется к отправке      Да     Нет      Нет        666   \n",
       "\n",
       "    Количество                      Name   Price CURRENCY  \n",
       "13           1      Шатны Полосатый рейс  2999.0      RUR  \n",
       "14           1       Платье Ночная Жизнь  7999.0      RUR  \n",
       "15           1        Носки Простые, муж    45.0      RUR  \n",
       "16           1  Платье Аленький цветочек  4999.0      RUR  \n",
       "17           1                       NaN     NaN      NaN  "
      ]
     },
     "metadata": {},
     "output_type": "display_data"
    }
   ],
   "source": [
    "orders_products = orders.join(\n",
    "    products.set_index('Product_ID'),\n",
    "    on='ID товара',\n",
    "    how='left'\n",
    ")\n",
    "# orders_products = orders.merge(\n",
    "#     products,\n",
    "#     on='Product_ID',\n",
    "#     how='outer'\n",
    "# )\n",
    "print('Число строк в таблице merged2: ', orders_products.shape[0])\n",
    "display(orders_products.tail())"
   ]
  },
  {
   "cell_type": "markdown",
   "metadata": {},
   "source": [
    "8.9"
   ]
  },
  {
   "cell_type": "markdown",
   "metadata": {},
   "source": [
    "На какой товар была произведена отмена?"
   ]
  },
  {
   "cell_type": "code",
   "execution_count": 16,
   "metadata": {},
   "outputs": [
    {
     "data": {
      "text/plain": [
       "6    Носки беговые Camino\n",
       "Name: Name, dtype: object"
      ]
     },
     "execution_count": 16,
     "metadata": {},
     "output_type": "execute_result"
    }
   ],
   "source": [
    "orders_products[orders_products['Отменен']=='Да']['Name']"
   ]
  },
  {
   "cell_type": "markdown",
   "metadata": {},
   "source": [
    "8.10"
   ]
  },
  {
   "cell_type": "markdown",
   "metadata": {},
   "source": [
    "Какой покупатель принёс наибольшую суммарную прибыль интернет-магазину за указанный период?"
   ]
  },
  {
   "cell_type": "code",
   "execution_count": 17,
   "metadata": {},
   "outputs": [
    {
     "data": {
      "text/plain": [
       "ID Покупателя\n",
       "7    17096.0\n",
       "5    13043.0\n",
       "8     1344.0\n",
       "1        0.0\n",
       "Name: suss_pr, dtype: float64"
      ]
     },
     "execution_count": 17,
     "metadata": {},
     "output_type": "execute_result"
    }
   ],
   "source": [
    "orders_products['suss_pr']=orders_products['Количество']*orders_products['Price']\n",
    "temp=orders_products[orders_products['Оплачен']=='Да']\n",
    "temp.groupby('ID Покупателя')['suss_pr'].sum().sort_values(ascending=False)"
   ]
  }
 ],
 "metadata": {
  "kernelspec": {
   "display_name": "Python 3.8.10 64-bit",
   "language": "python",
   "name": "python3"
  },
  "language_info": {
   "codemirror_mode": {
    "name": "ipython",
    "version": 3
   },
   "file_extension": ".py",
   "mimetype": "text/x-python",
   "name": "python",
   "nbconvert_exporter": "python",
   "pygments_lexer": "ipython3",
   "version": "3.8.10"
  },
  "orig_nbformat": 4,
  "vscode": {
   "interpreter": {
    "hash": "541247ef5e2c485a853fcdfc5770898360c10253d62f064c141db27a35a34903"
   }
  }
 },
 "nbformat": 4,
 "nbformat_minor": 2
}
