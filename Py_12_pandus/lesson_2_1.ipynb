{
 "cells": [
  {
   "cell_type": "code",
   "execution_count": 47,
   "metadata": {},
   "outputs": [],
   "source": [
    "import pandas as pd\n",
    "melb_df = pd.read_csv('data/melb_data.csv', sep=',')#,index_col=0)\n",
    "# не читить строки skiprows= skiprows=1\n",
    "# читить столбцы usecols=\n",
    "# melb_df.head() \n",
    "# melb_df.shape\n",
    "# melb_df.info()\n",
    "# melb_df.columns\n",
    "# melb_df['Date'].value_counts()"
   ]
  },
  {
   "cell_type": "markdown",
   "metadata": {},
   "source": [
    "подготовка"
   ]
  },
  {
   "cell_type": "code",
   "execution_count": 48,
   "metadata": {},
   "outputs": [],
   "source": [
    "# Удаление строк и столбцов в таблице отвечает метод drop()\n",
    "melb_df.drop(['index','Coordinates'],axis=1,inplace=True,    errors='ignore')\n",
    "# Перевели в дату\n",
    "melb_df['Date']=pd.to_datetime(melb_df['Date'],dayfirst=True,errors='ignore')\n",
    "# изменили тип переменных\n",
    "melb_df['Car'] = melb_df['Car'].astype('int64')\n",
    "melb_df['Bedroom'] = melb_df['Bedroom'].astype('int64')\n",
    "melb_df['Bathroom'] = melb_df['Bathroom'].astype('int64')\n",
    "melb_df['Propertycount'] = melb_df['Propertycount'].astype('int64')\n",
    "melb_df['YearBuilt'] = melb_df['YearBuilt'].astype('int64')\n",
    "# сумма комнат+спален+ванных комнат\n",
    "total_rooms = melb_df['Rooms'] + melb_df['Bedroom'] + melb_df['Bathroom']\n",
    "# средняя площадь конаты       полщадь здания / сумма комнат+спален+ванных комнат\n",
    "melb_df['MeanRoomsSquare']= melb_df['BuildingArea'] / total_rooms\n",
    "# соотношения площади здания к площади участка\n",
    "diff_area = melb_df['BuildingArea'] - melb_df['Landsize']\n",
    "sum_area = melb_df['BuildingArea'] + melb_df['Landsize']\n",
    "melb_df['AreaRatio'] = diff_area/sum_area\n",
    "# номер месяц продажи\n",
    "melb_df['MonthSale'] = melb_df['Date'].dt.month\n",
    "# номер дня недели продажи\n",
    "melb_df['WeekdaySale'] = melb_df['Date'].dt.weekday+1\n",
    "#«признак-мигалку» выходного дня\n",
    "melb_df['Weekend'] = melb_df['WeekdaySale'].apply(lambda x: 1 if x>5 else 0)\n",
    "# заменили признак года постройки здания\n",
    "melb_df['AgeBuilding'] = melb_df['Date'].dt.year - melb_df['YearBuilt']\n",
    "melb_df.drop('YearBuilt', axis=1 ,inplace=True, errors='ignore')\n"
   ]
  },
  {
   "cell_type": "code",
   "execution_count": 49,
   "metadata": {},
   "outputs": [],
   "source": [
    "# признак подтипа улицы\n",
    "\n",
    "# На вход данной функции поступает строка с адресом.\n",
    "def get_street_type(address):\n",
    "# Создаём список географических пометок exclude_list.\n",
    "    exclude_list = ['N', 'S', 'W', 'E']\n",
    "# Метод split() разбивает строку на слова по пробелу.\n",
    "# В результате получаем список слов в строке и заносим его в переменную address_list.\n",
    "    address_list = address.split(' ')\n",
    "# Обрезаем список, оставляя в нём только последний элемент,\n",
    "# потенциальный подтип улицы, и заносим в переменную street_type.\n",
    "    street_type = address_list[-1]\n",
    "# Делаем проверку на то, что полученный подтип является географической пометкой.\n",
    "# Для этого проверяем его на наличие в списке exclude_list.\n",
    "    if street_type in exclude_list:\n",
    "# Если переменная street_type является географической пометкой,\n",
    "# переопределяем её на второй элемент с конца списка address_list.\n",
    "        street_type = address_list[-2]\n",
    "# Возвращаем переменную street_type, в которой хранится подтип улицы.\n",
    "    return street_type\n",
    "\n",
    "street_types = melb_df['Address'].apply(get_street_type)\n",
    "\n",
    "exclude_dict = {'Avenue':'Av', 'Boulevard':'Bvd', 'Parade':'Pde',\n",
    "                    'Crescent':'Ct','Strand':'St','Grove':'Gr'}\n",
    "\n",
    "street_types = street_types.apply(lambda x:exclude_dict[x] if x in exclude_dict else x)\n",
    "\n",
    "popular_stypes =street_types.value_counts().nlargest(10).index\n",
    "\n",
    "melb_df['StreetType'] = street_types.apply(lambda x: x if x in popular_stypes else 'other')\n",
    "melb_df = melb_df.drop('Address', axis=1, errors='ignore')\n",
    "\n",
    "# уменьшили число уникальных наименований агентств по недвижимости\n",
    "popular_stypes =melb_df['SellerG'].value_counts().nlargest(49).index\n",
    "melb_df['SellerG'] = melb_df['SellerG'].apply(lambda x: x if x in popular_stypes else 'other')\n",
    "\n",
    "# уменьшили число уникальных наименований число пригородов\n",
    "popular_stypes =melb_df['Suburb'].value_counts().nlargest(119).index\n",
    "melb_df['Suburb'] = melb_df['Suburb'].apply(lambda x: x if x in popular_stypes else 'other')\n",
    "\n",
    "# выделили категориальные признаки и преобразовали их в тип данных\n",
    "cols_to_exclude = ['Date', 'Rooms', 'Bedroom', 'Bathroom', 'Car'] # список столбцов, которые мы не берём во внимание\n",
    "max_unique_count = 150 # задаём максимальное число уникальных категорий\n",
    "for col in melb_df.columns: # цикл по именам столбцов\n",
    "    if melb_df[col].nunique() < max_unique_count and col not in cols_to_exclude: # проверяем условие\n",
    "        melb_df[col] = melb_df[col].astype('category') # преобразуем тип столбца\n",
    " \n",
    "# заменили сокращённые названия категорий признака типа объекта       \n",
    "melb_df['Type'] = melb_df['Type'].cat.rename_categories({\n",
    "    'u': 'unit',\n",
    "    't': 'townhouse',\n",
    "    'h': 'house'\n",
    "})\n",
    "\n",
    "# melb_df['Suburb'].value_counts()\n",
    "# melb_df.nunique()        \n",
    "# melb_df.head(1)\n",
    "# melb_df.info()"
   ]
  },
  {
   "cell_type": "markdown",
   "metadata": {},
   "source": [
    ".count()\tКоличество непустых значений\n",
    ".mean()\tСреднее значение\n",
    ".min()\tМинимальное значение\n",
    ".max()\tМаксимальное значение\n",
    ".var()\tДисперсия\n",
    ".std()\tСтандартное отклонение\n",
    ".sum()\tСумма\n",
    ".quantile(x)\tКвантиль уровня x\n",
    ".nunique()\tЧисло уникальных значений\n",
    ".moda()  Самое частое значение\n",
    ".median() Медиана"
   ]
  },
  {
   "cell_type": "markdown",
   "metadata": {},
   "source": [
    "index — номер строки\n",
    "Suburb — наименование пригорода\n",
    "Address — адрес\n",
    "Rooms — количество комнат в помещении\n",
    "Type — тип здания (h — дом, коттедж, вилла, терраса; u — блочный, дуплексный дом; t — таунхаус)\n",
    "Price — цена помещения\n",
    "Method — метод продажи \n",
    "SellerG — риэлторская компания\n",
    "Date — дата продажи (в формате день/месяц/год)\n",
    "Distance — расстояния до объекта от центра Мельбурна \n",
    "Postcode — почтовый индекс\n",
    "Bedroom — количество спален\n",
    "Bathroom — количество ванных комнат\n",
    "Car — количество парковочных мест\n",
    "Landsize — площадь прилегающей территории\n",
    "BuildingArea — площадь здания\n",
    "YearBuilt — год постройки\n",
    "CouncilArea — региональное управление\n",
    "Lattitude — географическая широта\n",
    "Longitude — географическая долгота\n",
    "Regionname — наименование района Мельбурна\n",
    "Propertycount — количество объектов недвижимости в районе, выставленных на продажу\n",
    "Coordinates — широта и долгота, объединённые в кортеж"
   ]
  },
  {
   "cell_type": "code",
   "execution_count": 51,
   "metadata": {},
   "outputs": [
    {
     "data": {
      "text/plain": [
       "MonthSale\n",
       "5     2029\n",
       "7     1982\n",
       "9     1845\n",
       "6     1830\n",
       "8     1550\n",
       "11    1114\n",
       "4      949\n",
       "3      678\n",
       "12     607\n",
       "10     551\n",
       "2      443\n",
       "1        2\n",
       "Name: count, dtype: int64"
      ]
     },
     "execution_count": 51,
     "metadata": {},
     "output_type": "execute_result"
    }
   ],
   "source": [
    "# display(melb_df.info())\n",
    "# melb_df.describe()\n",
    "melb_df.head()\n",
    "melb_df['MonthSale'].value_counts()"
   ]
  }
 ],
 "metadata": {
  "kernelspec": {
   "display_name": "Python 3",
   "language": "python",
   "name": "python3"
  },
  "language_info": {
   "codemirror_mode": {
    "name": "ipython",
    "version": 3
   },
   "file_extension": ".py",
   "mimetype": "text/x-python",
   "name": "python",
   "nbconvert_exporter": "python",
   "pygments_lexer": "ipython3",
   "version": "3.13.0"
  },
  "orig_nbformat": 4
 },
 "nbformat": 4,
 "nbformat_minor": 2
}
