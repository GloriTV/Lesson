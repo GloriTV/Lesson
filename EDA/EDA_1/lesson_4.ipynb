{
 "cells": [
  {
   "cell_type": "code",
   "execution_count": 2,
   "metadata": {},
   "outputs": [],
   "source": [
    "import pandas as pd\n",
    "data = pd.read_csv('../data/wine.csv')"
   ]
  },
  {
   "cell_type": "markdown",
   "metadata": {},
   "source": [
    "* shape\n",
    "* .head()\n",
    "\n",
    "* info()\n",
    "* describe()\n",
    "\n",
    "* value_counts() (normalize=True)\n",
    "* isnull().sum ()\n",
    "\n",
    "* .count()\tКоличество непустых значений\n",
    "* .mean()\tСреднее значение\n",
    "* .min()\tМинимальное значение\n",
    "* .max()\tМаксимальное значение\n",
    "* .var()\tДисперсия\n",
    "* .std()\tСтандартное отклонение\n",
    "* .sum()\tСумма\n",
    "* .quantile(x)\tКвантиль уровня x\n",
    "* .nunique()\tЧисло уникальных значений\n",
    "* .mode()  Самое частое значение\n",
    "* .median() Медиана"
   ]
  },
  {
   "cell_type": "markdown",
   "metadata": {},
   "source": [
    "4.1"
   ]
  },
  {
   "cell_type": "code",
   "execution_count": 5,
   "metadata": {},
   "outputs": [
    {
     "data": {
      "text/plain": [
       "19"
      ]
     },
     "execution_count": 5,
     "metadata": {},
     "output_type": "execute_result"
    }
   ],
   "source": [
    "data['taster_name'].nunique()"
   ]
  },
  {
   "cell_type": "markdown",
   "metadata": {},
   "source": [
    "4.2"
   ]
  },
  {
   "cell_type": "code",
   "execution_count": 7,
   "metadata": {},
   "outputs": [
    {
     "data": {
      "text/plain": [
       "3300.0"
      ]
     },
     "execution_count": 7,
     "metadata": {},
     "output_type": "execute_result"
    }
   ],
   "source": [
    "data.price.max() # data['price'].max()\n"
   ]
  }
 ],
 "metadata": {
  "kernelspec": {
   "display_name": "Python 3",
   "language": "python",
   "name": "python3"
  },
  "language_info": {
   "codemirror_mode": {
    "name": "ipython",
    "version": 3
   },
   "file_extension": ".py",
   "mimetype": "text/x-python",
   "name": "python",
   "nbconvert_exporter": "python",
   "pygments_lexer": "ipython3",
   "version": "3.13.0"
  },
  "orig_nbformat": 4
 },
 "nbformat": 4,
 "nbformat_minor": 2
}
