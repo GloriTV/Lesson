{
 "cells": [
  {
   "cell_type": "code",
   "execution_count": 1,
   "metadata": {},
   "outputs": [],
   "source": [
    "import pandas as pd\n",
    "\n",
    "# Загружаем специальный инструмент для разбивки:  \n",
    "from sklearn.model_selection import train_test_split  \n",
    "\n",
    "from sklearn.feature_selection import chi2 # хи-квадрат\n",
    "\n",
    "import numpy as np"
   ]
  },
  {
   "cell_type": "code",
   "execution_count": 2,
   "metadata": {},
   "outputs": [
    {
     "data": {
      "text/html": [
       "<div>\n",
       "<style scoped>\n",
       "    .dataframe tbody tr th:only-of-type {\n",
       "        vertical-align: middle;\n",
       "    }\n",
       "\n",
       "    .dataframe tbody tr th {\n",
       "        vertical-align: top;\n",
       "    }\n",
       "\n",
       "    .dataframe thead th {\n",
       "        text-align: right;\n",
       "    }\n",
       "</style>\n",
       "<table border=\"1\" class=\"dataframe\">\n",
       "  <thead>\n",
       "    <tr style=\"text-align: right;\">\n",
       "      <th></th>\n",
       "      <th>hotel_address</th>\n",
       "      <th>additional_number_of_scoring</th>\n",
       "      <th>review_date</th>\n",
       "      <th>average_score</th>\n",
       "      <th>hotel_name</th>\n",
       "      <th>reviewer_nationality</th>\n",
       "      <th>negative_review</th>\n",
       "      <th>review_total_negative_word_counts</th>\n",
       "      <th>total_number_of_reviews</th>\n",
       "      <th>positive_review</th>\n",
       "      <th>review_total_positive_word_counts</th>\n",
       "      <th>total_number_of_reviews_reviewer_has_given</th>\n",
       "      <th>reviewer_score</th>\n",
       "      <th>tags</th>\n",
       "      <th>days_since_review</th>\n",
       "      <th>lat</th>\n",
       "      <th>lng</th>\n",
       "    </tr>\n",
       "  </thead>\n",
       "  <tbody>\n",
       "    <tr>\n",
       "      <th>0</th>\n",
       "      <td>Stratton Street Mayfair Westminster Borough Lo...</td>\n",
       "      <td>581</td>\n",
       "      <td>2/19/2016</td>\n",
       "      <td>8.4</td>\n",
       "      <td>The May Fair Hotel</td>\n",
       "      <td>United Kingdom</td>\n",
       "      <td>Leaving</td>\n",
       "      <td>3</td>\n",
       "      <td>1994</td>\n",
       "      <td>Staff were amazing</td>\n",
       "      <td>4</td>\n",
       "      <td>7</td>\n",
       "      <td>10.0</td>\n",
       "      <td>[' Leisure trip ', ' Couple ', ' Studio Suite ...</td>\n",
       "      <td>531 day</td>\n",
       "      <td>51.507894</td>\n",
       "      <td>-0.143671</td>\n",
       "    </tr>\n",
       "    <tr>\n",
       "      <th>1</th>\n",
       "      <td>130 134 Southampton Row Camden London WC1B 5AF...</td>\n",
       "      <td>299</td>\n",
       "      <td>1/12/2017</td>\n",
       "      <td>8.3</td>\n",
       "      <td>Mercure London Bloomsbury Hotel</td>\n",
       "      <td>United Kingdom</td>\n",
       "      <td>poor breakfast</td>\n",
       "      <td>3</td>\n",
       "      <td>1361</td>\n",
       "      <td>location</td>\n",
       "      <td>2</td>\n",
       "      <td>14</td>\n",
       "      <td>6.3</td>\n",
       "      <td>[' Business trip ', ' Couple ', ' Standard Dou...</td>\n",
       "      <td>203 day</td>\n",
       "      <td>51.521009</td>\n",
       "      <td>-0.123097</td>\n",
       "    </tr>\n",
       "    <tr>\n",
       "      <th>2</th>\n",
       "      <td>151 bis Rue de Rennes 6th arr 75006 Paris France</td>\n",
       "      <td>32</td>\n",
       "      <td>10/18/2016</td>\n",
       "      <td>8.9</td>\n",
       "      <td>Legend Saint Germain by Elegancia</td>\n",
       "      <td>China</td>\n",
       "      <td>No kettle in room</td>\n",
       "      <td>6</td>\n",
       "      <td>406</td>\n",
       "      <td>No Positive</td>\n",
       "      <td>0</td>\n",
       "      <td>14</td>\n",
       "      <td>7.5</td>\n",
       "      <td>[' Leisure trip ', ' Solo traveler ', ' Modern...</td>\n",
       "      <td>289 day</td>\n",
       "      <td>48.845377</td>\n",
       "      <td>2.325643</td>\n",
       "    </tr>\n",
       "  </tbody>\n",
       "</table>\n",
       "</div>"
      ],
      "text/plain": [
       "                                       hotel_address  \\\n",
       "0  Stratton Street Mayfair Westminster Borough Lo...   \n",
       "1  130 134 Southampton Row Camden London WC1B 5AF...   \n",
       "2   151 bis Rue de Rennes 6th arr 75006 Paris France   \n",
       "\n",
       "   additional_number_of_scoring review_date  average_score  \\\n",
       "0                           581   2/19/2016            8.4   \n",
       "1                           299   1/12/2017            8.3   \n",
       "2                            32  10/18/2016            8.9   \n",
       "\n",
       "                          hotel_name reviewer_nationality  \\\n",
       "0                 The May Fair Hotel      United Kingdom    \n",
       "1    Mercure London Bloomsbury Hotel      United Kingdom    \n",
       "2  Legend Saint Germain by Elegancia               China    \n",
       "\n",
       "       negative_review  review_total_negative_word_counts  \\\n",
       "0             Leaving                                   3   \n",
       "1       poor breakfast                                  3   \n",
       "2   No kettle in room                                   6   \n",
       "\n",
       "   total_number_of_reviews      positive_review  \\\n",
       "0                     1994   Staff were amazing   \n",
       "1                     1361             location   \n",
       "2                      406          No Positive   \n",
       "\n",
       "   review_total_positive_word_counts  \\\n",
       "0                                  4   \n",
       "1                                  2   \n",
       "2                                  0   \n",
       "\n",
       "   total_number_of_reviews_reviewer_has_given  reviewer_score  \\\n",
       "0                                           7            10.0   \n",
       "1                                          14             6.3   \n",
       "2                                          14             7.5   \n",
       "\n",
       "                                                tags days_since_review  \\\n",
       "0  [' Leisure trip ', ' Couple ', ' Studio Suite ...           531 day   \n",
       "1  [' Business trip ', ' Couple ', ' Standard Dou...           203 day   \n",
       "2  [' Leisure trip ', ' Solo traveler ', ' Modern...           289 day   \n",
       "\n",
       "         lat       lng  \n",
       "0  51.507894 -0.143671  \n",
       "1  51.521009 -0.123097  \n",
       "2  48.845377  2.325643  "
      ]
     },
     "execution_count": 2,
     "metadata": {},
     "output_type": "execute_result"
    }
   ],
   "source": [
    "hotels = pd.read_csv('../data/hotels.csv')\n",
    "hotels.head(3)"
   ]
  },
  {
   "cell_type": "markdown",
   "metadata": {},
   "source": [
    "# Нужны преобразования"
   ]
  },
  {
   "cell_type": "markdown",
   "metadata": {},
   "source": [
    "### 1) Пропуски"
   ]
  },
  {
   "cell_type": "code",
   "execution_count": 3,
   "metadata": {},
   "outputs": [
    {
     "data": {
      "text/plain": [
       "(386803, 17)"
      ]
     },
     "execution_count": 3,
     "metadata": {},
     "output_type": "execute_result"
    }
   ],
   "source": [
    "list_address={'20 Rue De La Ga t 14th arr 75014 Paris France':[48.838331, 2.330948],\n",
    " '23 Rue Damr mont 18th arr 75018 Paris France':[48.856663, 2.351556],\n",
    " '4 rue de la P pini re 8th arr 75008 Paris France':[44.222128, 8.410980],\n",
    " 'Bail n 4 6 Eixample 08010 Barcelona Spain':[41.396133, 1.655829],\n",
    " 'Sep lveda 180 Eixample 08011 Barcelona Spain':[41.391510, 2.155331],\n",
    " 'Pau Clar s 122 Eixample 08009 Barcelona Spain':[41.504994, 2.245959],\n",
    " 'Savoyenstra e 2 16 Ottakring 1160 Vienna Austria':[48.209410, 16.323834],\n",
    " 'Gr nentorgasse 30 09 Alsergrund 1090 Vienna Austria':[48.222139, 16.357513],\n",
    " 'Hasenauerstra e 12 19 D bling 1190 Vienna Austria':[48.778035, 15.655650],\n",
    " 'Josefst dter Stra e 10 12 08 Josefstadt 1080 Vienna Austria':[48.210918, 16.347119],\n",
    " 'Josefst dter Stra e 22 08 Josefstadt 1080 Vienna Austria':[48.210918, 16.347119],\n",
    " 'Landstra er G rtel 5 03 Landstra e 1030 Vienna Austria':[48.188405, 16.383052],\n",
    " 'Paragonstra e 1 11 Simmering 1110 Vienna Austria':[48.176599, 16.413999],\n",
    " 'Sieveringer Stra e 4 19 D bling 1190 Vienna Austria':[48.245935, 16.341397],\n",
    " 'Taborstra e 8 A 02 Leopoldstadt 1020 Vienna Austria':[48.218213, 16.394110],\n",
    " 'W hringer Stra e 12 09 Alsergrund 1090 Vienna Austria':[48.225182, 16.358573],\n",
    " 'W hringer Stra e 33 35 09 Alsergrund 1090 Vienna Austria':[48.225182, 16.358573]}\n",
    "\n",
    "for a in list_address:\n",
    "    hotels.loc[hotels['hotel_address']==a,'lat']=list_address[a][0]\n",
    "    hotels.loc[hotels['hotel_address']==a,'lng']=list_address[a][1]\n",
    "    # list_temp.loc[:,'lat']=list_address[a][0]\n",
    "\n",
    "hotels.shape     "
   ]
  },
  {
   "cell_type": "code",
   "execution_count": 4,
   "metadata": {},
   "outputs": [],
   "source": [
    "# print('Проверка пропусков')\n",
    "# display(hotels.isnull().sum().sort_values(ascending=False)) # Проверка пропусков"
   ]
  },
  {
   "cell_type": "code",
   "execution_count": 5,
   "metadata": {},
   "outputs": [],
   "source": [
    "# #создаем словарь имя столбца: число(признак) на который надо заменить пропуски\n",
    "# values = {\n",
    "#     'lng': hotels['lng'].median(),\n",
    "#     'lat': hotels['lat'].median()\n",
    "# }\n",
    "# #заполняем пропуски в соответствии с заявленным словарем\n",
    "# # hotels = hotels.fillna(values)\n",
    "# # hotels = hotels.fillna(0)"
   ]
  },
  {
   "cell_type": "markdown",
   "metadata": {},
   "source": [
    "Создаём словарь и с помощью словаря восполняем пропуски "
   ]
  },
  {
   "cell_type": "code",
   "execution_count": 6,
   "metadata": {},
   "outputs": [],
   "source": [
    "# d_list={}\n",
    "# list_nan=set()\n",
    "# n=0\n",
    "# def address(data):\n",
    "#     b_list=[]\n",
    "#     global n\n",
    "#     a=data['hotel_address']\n",
    "#     b=data['lng']\n",
    "#     if a in d_list:\n",
    "#         b_list=d_list[a]\n",
    "#         if (not np.isnan(b)) and (b!=b_list[0]):\n",
    "#             b_list.append(b)\n",
    "#             d_list[a]=b_list\n",
    "#             n+=1                  \n",
    "#     else:\n",
    "#         if not np.isnan(b):\n",
    "#            d_list[a]=[b]\n",
    "           \n",
    "# def address_nan(data):\n",
    "#     global n\n",
    "#     a=data['hotel_address']\n",
    "#     b=data['lng']\n",
    "#     if np.isnan(b):\n",
    "#         if a in d_list:\n",
    "#             return d_list[a][0]\n",
    "#         else:\n",
    "#             list_nan.add(a)\n",
    "#             n+=1\n",
    "#     return b\n",
    "        \n",
    "\n",
    "    \n",
    "# hotels.apply(address, axis=1)\n",
    "# print('Количество разных адресов',n)\n",
    "# print(len(list_nan))\n",
    "# list_nan=set()\n",
    "# hotels['lng']=hotels.apply(address_nan , axis=1)\n",
    "# print(len(list_nan))"
   ]
  },
  {
   "cell_type": "code",
   "execution_count": 7,
   "metadata": {},
   "outputs": [],
   "source": [
    "# from ydata_profiling import ProfileReport\n",
    "# profile = ProfileReport(hotels, title=\"Pandas Profiling Report\")\n",
    "\n",
    "# profile"
   ]
  },
  {
   "cell_type": "markdown",
   "metadata": {},
   "source": [
    "### 2) НОВЫЕ ПРИЗНАКИ"
   ]
  },
  {
   "cell_type": "code",
   "execution_count": 8,
   "metadata": {},
   "outputs": [],
   "source": [
    "# https://apps.skillfactory.ru/learning/course/course-v1:SkillFactory+DST-3.0+28FEB2021/block-v1:SkillFactory+DST-3.0+28FEB2021+type@sequential+block@4fe35f98b58b4459a29dd30badebf2d6/block-v1:SkillFactory+DST-3.0+28FEB2021+type@vertical+block@50a5911d6e7f43d2ac47907d02631c4e\n",
    "\n",
    "# hotels['days'] = hotels['days_since_review'].str.findall(r'\\d+').str.get(0)\n",
    "# hotels.drop('days_since_review', axis = 1, inplace=True)\n",
    "# hotels['days']=hotels['days'].astype(int)"
   ]
  },
  {
   "cell_type": "code",
   "execution_count": 9,
   "metadata": {},
   "outputs": [],
   "source": [
    "# hotels['No Negative']=0\n",
    "# hotels.loc[hotels['negative_review']  == 'No Negative','No Negative']=1\n",
    "# hotels.drop('negative_review', axis = 1, inplace=True)\n",
    "\n",
    "# hotels['No Positive']=1\n",
    "# hotels.loc[hotels['positive_review']  == 'No Positive','No Positive']=0\n",
    "# hotels.drop('positive_review', axis = 1, inplace=True)\n",
    "\n",
    "# hotels.shape\n",
    "# # print(hotels[hotels['negative_review']  == 'No Negative'].shape[0])\n",
    "# # print(hotels[hotels['positive_review']  == 'No Positive'].shape[0])"
   ]
  },
  {
   "cell_type": "code",
   "execution_count": 10,
   "metadata": {},
   "outputs": [],
   "source": [
    "# delet_list=[\"'\",'[',']']\n",
    "# dec_lict={}\n",
    "\n",
    "# for index in hotels['tags']:#.unique():\n",
    "#     for a in delet_list:\n",
    "#         index=index.replace(a,\"\")\n",
    "    \n",
    "#     for a in index.split(', '):\n",
    "#         if a in dec_lict:\n",
    "#             dec_lict[a]+=1\n",
    "#         else:\n",
    "#             dec_lict[a]=1\n",
    "   \n",
    "# list_tags=sorted(dec_lict, key=dec_lict.get, reverse=True)[:10]\n",
    "\n",
    "\n",
    "# for index in list_tags:\n",
    "#     hotels[index]=0\n",
    "#     hotels.loc[hotels['tags'].str.contains(index),index]=1\n",
    "\n",
    "# hotels.drop('tags', axis = 1, inplace=True)\n",
    "\n",
    "# hotels.shape\n",
    "# # for i in list_tags:\n",
    "# #     print(f'\"{i}\" : {dec_lict[i]}')"
   ]
  },
  {
   "cell_type": "code",
   "execution_count": 11,
   "metadata": {},
   "outputs": [],
   "source": [
    "# delet_list=['The ','by ','Inn ']\n",
    "# dec_lict={}\n",
    "\n",
    "# for inde in hotels['hotel_name']:\n",
    "#     for a in delet_list:\n",
    "#         inde=inde.replace(a,\"\")\n",
    "        \n",
    "#     for a in inde.split(' '):\n",
    "#         if a in dec_lict:\n",
    "#             dec_lict[a]+=1\n",
    "#         else:\n",
    "#             dec_lict[a]=1\n",
    "   \n",
    "# list_tags=sorted(dec_lict, key=dec_lict.get, reverse=True)[:10]\n",
    "\n",
    "# for index in list_tags:\n",
    "#     hotels[index]=0\n",
    "#     hotels.loc[hotels['hotel_name'].str.contains(index),index]=1\n",
    "\n",
    "# hotels.drop('hotel_name', axis = 1, inplace=True)\n",
    "\n",
    "# hotels.shape\n",
    "# # for i in a:\n",
    "# #     print(f'\"{i}\" : {dec_lict[i]}')"
   ]
  },
  {
   "cell_type": "code",
   "execution_count": 12,
   "metadata": {},
   "outputs": [],
   "source": [
    "# delet_list=['The ','by ','Inn ']\n",
    "# dec_lict={}\n",
    "\n",
    "# for index in hotels['hotel_address']:\n",
    "#     # for a in delet_list:\n",
    "#     #     index=index.replace(a,\"\")\n",
    "        \n",
    "#     for a in index.split(' '):\n",
    "#         if a in dec_lict:\n",
    "#             dec_lict[a]+=1\n",
    "#         else:\n",
    "#             dec_lict[a]=1\n",
    "   \n",
    "# list_tags=sorted(dec_lict, key=dec_lict.get, reverse=True)[:10]\n",
    "    \n",
    "# for index in list_tags:\n",
    "#     hotels[index]=0\n",
    "#     hotels.loc[hotels['hotel_address'].str.contains(index),index]=1\n",
    "\n",
    "# hotels.drop('hotel_address', axis = 1, inplace=True)\n",
    "\n",
    "# hotels.shape"
   ]
  },
  {
   "cell_type": "code",
   "execution_count": 13,
   "metadata": {},
   "outputs": [],
   "source": [
    "# # hotels['reviewer_nationality'].value_counts().head(10)\n",
    "# dec_lict={}\n",
    "\n",
    "# for index in hotels['reviewer_nationality']:\n",
    "#     # for a in delet_list:\n",
    "#     #     index=index.replace(a,\"\")\n",
    "        \n",
    "#     for a in index.split(' '):\n",
    "#         if a in dec_lict:\n",
    "#             dec_lict[a]+=1\n",
    "#         else:\n",
    "#             dec_lict[a]=1\n",
    "   \n",
    "# list_tags=sorted(dec_lict, key=dec_lict.get, reverse=True)[:10]\n",
    "    \n",
    "# for index in list_tags:\n",
    "#     hotels[index]=0\n",
    "#     hotels.loc[hotels['reviewer_nationality'].str.contains(index),index]=1\n",
    "\n",
    "# hotels.drop('reviewer_nationality', axis = 1, inplace=True)\n",
    "\n",
    "# hotels.shape"
   ]
  },
  {
   "cell_type": "code",
   "execution_count": 14,
   "metadata": {},
   "outputs": [],
   "source": [
    "# hotels['review_date']=pd.to_datetime(hotels['review_date'])\n",
    "# hotels['year']=hotels['review_date'].dt.year\n",
    "# # print(hotels['year'].value_counts())\n",
    "# hotels['quarter']=hotels['review_date'].dt.quarter\n",
    "# # print(hotels['quarter'].value_counts())\n",
    "# hotels['month']=hotels['review_date'].dt.month\n",
    "# # print(hotels['month'].value_counts())\n",
    "# hotels['weekday']=hotels['review_date'].dt.weekday\n",
    "# # print(hotels['weekday'].value_counts())\n",
    "# hotels.drop('review_date', axis = 1, inplace=True)\n",
    "# print(hotels.shape)\n",
    "# hotels.info()"
   ]
  },
  {
   "cell_type": "code",
   "execution_count": 15,
   "metadata": {},
   "outputs": [],
   "source": [
    "# delet_list=['hotel_name','tags','days_since_review','hotel_address','negative_review','positive_review','reviewer_nationality']\n",
    "# a=[]\n",
    "# for i in hotels.columns:\n",
    "#     if hotels[i].dtype == object:\n",
    "#         if not i in delet_list:\n",
    "#             a.append(i)\n",
    "        \n",
    "# hotels[a].nunique()"
   ]
  },
  {
   "cell_type": "markdown",
   "metadata": {},
   "source": [
    "'review_date'"
   ]
  },
  {
   "cell_type": "code",
   "execution_count": 16,
   "metadata": {},
   "outputs": [],
   "source": [
    "hotels_c=hotels.copy()\n",
    "\n",
    "# убираем признаки которые еще не успели обработать, \n",
    "# модель на признаках с dtypes \"object\" обучаться не будет, просто выберим их и удалим\n",
    "object_columns = [s for s in hotels.columns if hotels[s].dtypes == 'object']\n",
    "hotels.drop(object_columns, axis = 1, inplace=True)\n",
    "\n",
    "# заполняем пропуски самым простым способом\n",
    "# hotels = hotels.fillna(0)"
   ]
  },
  {
   "cell_type": "code",
   "execution_count": 17,
   "metadata": {},
   "outputs": [],
   "source": [
    "# Разбиваем датафрейм на части, необходимые для обучения и тестирования модели  \n",
    "# Х - данные с информацией об отелях, у - целевая переменная (рейтинги отелей)  \n",
    "X = hotels.drop(['reviewer_score'], axis = 1)  \n",
    "y = hotels['reviewer_score'] "
   ]
  },
  {
   "cell_type": "markdown",
   "metadata": {},
   "source": [
    "+ * hotel_address — адрес отеля;\n",
    "+ * review_date — дата, когда рецензент разместил соответствующий отзыв;\n",
    "+ + average_score — средний балл отеля, рассчитанный на основе последнего комментария за последний год;\n",
    "+ * hotel_name — название отеля;\n",
    "+ * reviewer_nationality — страна рецензента;\n",
    "+ * negative_review — отрицательный отзыв, который рецензент дал отелю;\n",
    "+ - review_total_negative_word_counts — общее количество слов в отрицательном отзыв;\n",
    "+ * positive_review — положительный отзыв, который рецензент дал отелю;\n",
    "+ - review_total_positive_word_counts — общее количество слов в положительном отзыве.\n",
    "+ + reviewer_score — оценка, которую рецензент поставил отелю на основе своего опыта;\n",
    "+ - total_number_of_reviews_reviewer_has_given — количество отзывов, которые рецензенты дали в прошлом;\n",
    "+ - total_number_of_reviews — общее количество действительных отзывов об отеле;\n",
    "+ * tags — теги, которые рецензент дал отелю;\n",
    "+ * days_since_review — количество дней между датой проверки и датой очистки;\n",
    "+ + additional_number_of_scoring — есть также некоторые гости, которые просто поставили оценку сервису, но не оставили отзыв. Это число указывает, сколько там действительных оценок без проверки.\n",
    "+ + lat — географическая широта отеля;\n",
    "+ + lng — географическая долгота отеля."
   ]
  },
  {
   "cell_type": "code",
   "execution_count": 18,
   "metadata": {},
   "outputs": [
    {
     "name": "stdout",
     "output_type": "stream",
     "text": [
      "Название колонок с числовыми данными\n",
      "additional_number_of_scoring\n",
      "average_score\n",
      "review_total_negative_word_counts\n",
      "total_number_of_reviews\n",
      "review_total_positive_word_counts\n",
      "total_number_of_reviews_reviewer_has_given\n",
      "reviewer_score\n",
      "lat\n",
      "lng\n"
     ]
    }
   ],
   "source": [
    "print('Название колонок с числовыми данными')\n",
    "a=[]\n",
    "for i in hotels.columns:\n",
    "    if not hotels[i].dtype == object:\n",
    "        a.append(i)\n",
    "        print(i)\n",
    "        \n",
    "# print(a)"
   ]
  },
  {
   "cell_type": "code",
   "execution_count": 19,
   "metadata": {},
   "outputs": [],
   "source": [
    "# additional_number_of_scoring\n",
    "# average_score\n",
    "# review_total_negative_word_counts\n",
    "# total_number_of_reviews\n",
    "# review_total_positive_word_counts\n",
    "# total_number_of_reviews_reviewer_has_given\n",
    "# reviewer_score\n",
    "# lat\n",
    "# lng\n",
    "\n",
    "# непрерывные признаки\n",
    "num_cols = ['total_number_of_reviews', 'review_total_negative_word_counts','review_total_positive_word_counts'\n",
    "            ,'total_number_of_reviews','total_number_of_reviews_reviewer_has_given']\n",
    "\n",
    "# категориальные признаки\n",
    "cat_cols = ['average_score','additional_number_of_scoring', 'lat']#'reviewer_score','lng'"
   ]
  },
  {
   "cell_type": "code",
   "execution_count": 20,
   "metadata": {},
   "outputs": [
    {
     "data": {
      "text/html": [
       "<div>\n",
       "<style scoped>\n",
       "    .dataframe tbody tr th:only-of-type {\n",
       "        vertical-align: middle;\n",
       "    }\n",
       "\n",
       "    .dataframe tbody tr th {\n",
       "        vertical-align: top;\n",
       "    }\n",
       "\n",
       "    .dataframe thead th {\n",
       "        text-align: right;\n",
       "    }\n",
       "</style>\n",
       "<table border=\"1\" class=\"dataframe\">\n",
       "  <thead>\n",
       "    <tr style=\"text-align: right;\">\n",
       "      <th></th>\n",
       "      <th>average_score</th>\n",
       "      <th>additional_number_of_scoring</th>\n",
       "      <th>lat</th>\n",
       "    </tr>\n",
       "  </thead>\n",
       "  <tbody>\n",
       "    <tr>\n",
       "      <th>0</th>\n",
       "      <td>8.4</td>\n",
       "      <td>581</td>\n",
       "      <td>51.507894</td>\n",
       "    </tr>\n",
       "    <tr>\n",
       "      <th>1</th>\n",
       "      <td>8.3</td>\n",
       "      <td>299</td>\n",
       "      <td>51.521009</td>\n",
       "    </tr>\n",
       "    <tr>\n",
       "      <th>2</th>\n",
       "      <td>8.9</td>\n",
       "      <td>32</td>\n",
       "      <td>48.845377</td>\n",
       "    </tr>\n",
       "  </tbody>\n",
       "</table>\n",
       "</div>"
      ],
      "text/plain": [
       "   average_score  additional_number_of_scoring        lat\n",
       "0            8.4                           581  51.507894\n",
       "1            8.3                           299  51.521009\n",
       "2            8.9                            32  48.845377"
      ]
     },
     "execution_count": 20,
     "metadata": {},
     "output_type": "execute_result"
    }
   ],
   "source": [
    "# display(hotels[num_cols].head(3))\n",
    "hotels[cat_cols].head(3)\n",
    "# hotels['reviewer_score'].value_counts()"
   ]
  },
  {
   "cell_type": "markdown",
   "metadata": {},
   "source": [
    "# ?"
   ]
  },
  {
   "cell_type": "code",
   "execution_count": 21,
   "metadata": {},
   "outputs": [
    {
     "data": {
      "text/plain": [
       "<Axes: >"
      ]
     },
     "execution_count": 21,
     "metadata": {},
     "output_type": "execute_result"
    },
    {
     "data": {
      "image/png": "[encoded data removed]",
      "text/plain": [
       "<Figure size 640x480 with 1 Axes>"
      ]
     },
     "metadata": {},
     "output_type": "display_data"
    }
   ],
   "source": [
    "y=y.astype('int')\n",
    "\n",
    "\n",
    "imp_cat = pd.Series(chi2(X[cat_cols], y)[0], index=cat_cols)\n",
    "imp_cat.sort_values(inplace = True)\n",
    "imp_cat.plot(kind = 'barh')"
   ]
  },
  {
   "cell_type": "code",
   "execution_count": 22,
   "metadata": {},
   "outputs": [
    {
     "data": {
      "text/plain": [
       "<Axes: >"
      ]
     },
     "execution_count": 22,
     "metadata": {},
     "output_type": "execute_result"
    },
    {
     "data": {
      "image/png": "[encoded data removed]",
      "text/plain": [
       "<Figure size 640x480 with 1 Axes>"
      ]
     },
     "metadata": {},
     "output_type": "display_data"
    }
   ],
   "source": [
    "from sklearn.feature_selection import f_classif # anova\n",
    "\n",
    "imp_num = pd.Series(f_classif(X[num_cols], y)[0], index = num_cols)\n",
    "imp_num.sort_values(inplace = True)\n",
    "imp_num.plot(kind = 'barh')"
   ]
  },
  {
   "cell_type": "markdown",
   "metadata": {},
   "source": [
    "### Задание 4.2\n",
    "Сколько уникальных названий отелей представлено в наборе данных?"
   ]
  },
  {
   "cell_type": "code",
   "execution_count": 23,
   "metadata": {},
   "outputs": [
    {
     "data": {
      "text/plain": [
       "1492"
      ]
     },
     "execution_count": 23,
     "metadata": {},
     "output_type": "execute_result"
    }
   ],
   "source": [
    "hotels_c['hotel_name'].nunique()"
   ]
  },
  {
   "cell_type": "markdown",
   "metadata": {},
   "source": [
    "### Задание 4.3\n",
    "Ответьте на вопросы о дате размещения отзывов.\n",
    "Когда был оставлен самый свежий отзыв? Введите ответ в формате yyyy-mm-dd. \n",
    "Когда был оставлен самый первый отзыв? Введите ответ в формате yyyy-mm-dd."
   ]
  },
  {
   "cell_type": "code",
   "execution_count": 24,
   "metadata": {},
   "outputs": [
    {
     "name": "stdout",
     "output_type": "stream",
     "text": [
      "самый свежий отзыв 2017-08-03 00:00:00\n",
      "самый первый отзыв 2015-08-04 00:00:00\n"
     ]
    },
    {
     "data": {
      "text/plain": [
       "268933   2017-08-03\n",
       "83327    2017-08-03\n",
       "281594   2017-08-03\n",
       "28250    2017-08-03\n",
       "100707   2017-08-03\n",
       "            ...    \n",
       "277662   2015-08-04\n",
       "217125   2015-08-04\n",
       "133258   2015-08-04\n",
       "2018     2015-08-04\n",
       "157745   2015-08-04\n",
       "Name: review_date, Length: 386803, dtype: datetime64[ns]"
      ]
     },
     "execution_count": 24,
     "metadata": {},
     "output_type": "execute_result"
    }
   ],
   "source": [
    "hotels_c['review_date']=pd.to_datetime(hotels_c['review_date'])\n",
    "print('самый свежий отзыв',max(hotels_c['review_date']))\n",
    "print('самый первый отзыв',min(hotels_c['review_date']))\n",
    "hotels_c['review_date'].sort_values(ascending=False)\n",
    "# hotels['year']=hotels['review_date'].dt.year\n",
    "# # print(hotels['year'].value_counts())\n",
    "# hotels['quarter']=hotels['review_date'].dt.quarter\n",
    "# # print(hotels['quarter'].value_counts())\n",
    "# hotels['month']=hotels['review_date'].dt.month\n",
    "# # print(hotels['month'].value_counts())\n",
    "# hotels['weekday']=hotels['review_date'].dt.weekday\n",
    "# # print(hotels['weekday'].value_counts())\n",
    "# hotels.drop('review_date', axis = 1, inplace=True)\n",
    "# print(hotels.shape)\n",
    "# hotels.info()"
   ]
  },
  {
   "cell_type": "markdown",
   "metadata": {},
   "source": [
    "### Задание 4.4\n",
    "Сколько уникальных тегов представлено в наборе данных?"
   ]
  },
  {
   "cell_type": "code",
   "execution_count": 25,
   "metadata": {},
   "outputs": [
    {
     "name": "stdout",
     "output_type": "stream",
     "text": [
      "2368\n"
     ]
    }
   ],
   "source": [
    "delet_list=[\"'\",'[',']']\n",
    "dec_lict={}\n",
    "\n",
    "for index in hotels_c['tags']:#.unique():\n",
    "    for a in delet_list:\n",
    "        index=index.replace(a,\"\")\n",
    "    \n",
    "    for a in index.split(', '):\n",
    "        if a in dec_lict:\n",
    "            dec_lict[a]+=1\n",
    "        else:\n",
    "            dec_lict[a]=1\n",
    "\n",
    "print(len(dec_lict))   \n",
    "\n",
    "# for i in list_tags:\n",
    "#     print(f'\"{i}\" : {dec_lict[i]}')"
   ]
  },
  {
   "cell_type": "markdown",
   "metadata": {},
   "source": [
    "### Задание 4.5\n",
    "Какой тег представлен в наибольшем числе отзывов?"
   ]
  },
  {
   "cell_type": "code",
   "execution_count": 26,
   "metadata": {},
   "outputs": [
    {
     "name": "stdout",
     "output_type": "stream",
     "text": [
      " Leisure trip \n"
     ]
    }
   ],
   "source": [
    "print(sorted(dec_lict, key=dec_lict.get, reverse=True)[0])"
   ]
  },
  {
   "cell_type": "markdown",
   "metadata": {},
   "source": [
    "### Задание 4.6\n",
    "Из тегов выясните, на сколько ночей чаще всего останавливаются путешественники в отелях."
   ]
  },
  {
   "cell_type": "code",
   "execution_count": 27,
   "metadata": {},
   "outputs": [
    {
     "data": {
      "text/plain": [
       "' Stayed 1 night '"
      ]
     },
     "execution_count": 27,
     "metadata": {},
     "output_type": "execute_result"
    }
   ],
   "source": [
    "# night\n",
    "# hotels.loc[hotels['tags'].str.contains(index),index]=1\n",
    "# list_tags=sorted(dec_lict, key=dec_lict.get, reverse=True)[:10]\n",
    "list_tags={}\n",
    "\n",
    "for index in dec_lict:\n",
    "    if ('night' in index) and ('Stayed' in index):\n",
    "        list_tags[index]=dec_lict[index]\n",
    "        \n",
    "sorted(list_tags, key=list_tags.get, reverse=True)[0]"
   ]
  },
  {
   "cell_type": "markdown",
   "metadata": {},
   "source": [
    "### Задание 4.7\n",
    "Какое значение метрики MAPE вам удалось получить на этом этапе?"
   ]
  },
  {
   "cell_type": "code",
   "execution_count": 28,
   "metadata": {},
   "outputs": [],
   "source": [
    "hotels_c=hotels.copy()\n",
    "\n",
    "# убираем признаки которые еще не успели обработать, \n",
    "# модель на признаках с dtypes \"object\" обучаться не будет, просто выберим их и удалим\n",
    "object_columns = [s for s in hotels.columns if hotels[s].dtypes == 'object']\n",
    "hotels.drop(object_columns, axis = 1, inplace=True)\n",
    "\n",
    "# заполняем пропуски самым простым способом\n",
    "# hotels = hotels.fillna(0)"
   ]
  },
  {
   "cell_type": "code",
   "execution_count": 29,
   "metadata": {},
   "outputs": [],
   "source": [
    "# Разбиваем датафрейм на части, необходимые для обучения и тестирования модели  \n",
    "# Х - данные с информацией об отелях, у - целевая переменная (рейтинги отелей)  \n",
    "X = hotels.drop(['reviewer_score'], axis = 1)  \n",
    "y = hotels['reviewer_score'] "
   ]
  },
  {
   "cell_type": "code",
   "execution_count": 30,
   "metadata": {},
   "outputs": [],
   "source": [
    "# Наборы данных с меткой \"train\" будут использоваться для обучения модели, \"test\" - для тестирования.  \n",
    "# Для тестирования мы будем использовать 25% от исходного датасета.  \n",
    "X_train, X_test, y_train, y_test = train_test_split(X, y, test_size=0.25, random_state=42)"
   ]
  },
  {
   "cell_type": "code",
   "execution_count": 31,
   "metadata": {},
   "outputs": [],
   "source": [
    "hotels_c=hotels.copy()\n",
    "\n",
    "# убираем признаки которые еще не успели обработать, \n",
    "# модель на признаках с dtypes \"object\" обучаться не будет, просто выберим их и удалим\n",
    "object_columns = [s for s in hotels.columns if hotels[s].dtypes == 'object']\n",
    "hotels.drop(object_columns, axis = 1, inplace=True)"
   ]
  },
  {
   "cell_type": "code",
   "execution_count": 32,
   "metadata": {},
   "outputs": [],
   "source": [
    "# Импортируем необходимые библиотеки:  \n",
    "from sklearn.ensemble import RandomForestRegressor # инструмент для создания и обучения модели  \n",
    "from sklearn import metrics # инструменты для оценки точности модели  \n",
    "  \n",
    "# Создаём модель  \n",
    "regr = RandomForestRegressor(n_estimators=100)  \n",
    "      \n",
    "# Обучаем модель на тестовом наборе данных  \n",
    "regr.fit(X_train, y_train)  \n",
    "      \n",
    "# Используем обученную модель для предсказания рейтинга отелей в тестовой выборке.  \n",
    "# Предсказанные значения записываем в переменную y_pred  \n",
    "y_pred = regr.predict(X_test)  \n"
   ]
  },
  {
   "cell_type": "code",
   "execution_count": null,
   "metadata": {},
   "outputs": [
    {
     "name": "stdout",
     "output_type": "stream",
     "text": [
      "MAPE: 0.14141887621009572\n"
     ]
    }
   ],
   "source": [
    "# Сравниваем предсказанные значения (y_pred) с реальными (y_test), и смотрим насколько они отличаются  \n",
    "# Метрика называется Mean Absolute Percentage Error (MAPE) и показывает среднюю абсолютную процентную ошибку предсказанных значений от фактических.  \n",
    "print('MAPE:', metrics.mean_absolute_percentage_error(y_test, y_pred))\n",
    "\n",
    "# MAPE: 0.14136923280943037  было\n",
    "# MAPE: 0.16024089937932007  стало"
   ]
  }
 ],
 "metadata": {
  "kernelspec": {
   "display_name": "Python 3.8.10 64-bit",
   "language": "python",
   "name": "python3"
  },
  "language_info": {
   "codemirror_mode": {
    "name": "ipython",
    "version": 3
   },
   "file_extension": ".py",
   "mimetype": "text/x-python",
   "name": "python",
   "nbconvert_exporter": "python",
   "pygments_lexer": "ipython3",
   "version": "3.8.10"
  },
  "orig_nbformat": 4,
  "vscode": {
   "interpreter": {
    "hash": "541247ef5e2c485a853fcdfc5770898360c10253d62f064c141db27a35a34903"
   }
  }
 },
 "nbformat": 4,
 "nbformat_minor": 2
}
