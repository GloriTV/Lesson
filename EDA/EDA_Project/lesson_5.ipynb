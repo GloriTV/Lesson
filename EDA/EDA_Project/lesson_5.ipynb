{
 "cells": [
  {
   "cell_type": "code",
   "execution_count": 1,
   "metadata": {},
   "outputs": [],
   "source": [
    "import pandas as pd\n",
    "\n",
    "# Графическая \n",
    "import seaborn as sns                     # Рисует \n",
    "from matplotlib import pyplot as plt      # Подписывает\n",
    "\n",
    "# Загружаем специальный инструмент для разбивки:  \n",
    "# from sklearn.model_selection import train_test_split  \n",
    "\n",
    "# from sklearn.feature_selection import chi2 # хи-квадрат\n",
    "\n",
    "# # разведывательный анализ данных\n",
    "# from ydata_profiling import ProfileReport\n",
    "\n",
    "# import numpy as np"
   ]
  },
  {
   "cell_type": "code",
   "execution_count": 2,
   "metadata": {},
   "outputs": [
    {
     "data": {
      "text/html": [
       "<div>\n",
       "<style scoped>\n",
       "    .dataframe tbody tr th:only-of-type {\n",
       "        vertical-align: middle;\n",
       "    }\n",
       "\n",
       "    .dataframe tbody tr th {\n",
       "        vertical-align: top;\n",
       "    }\n",
       "\n",
       "    .dataframe thead th {\n",
       "        text-align: right;\n",
       "    }\n",
       "</style>\n",
       "<table border=\"1\" class=\"dataframe\">\n",
       "  <thead>\n",
       "    <tr style=\"text-align: right;\">\n",
       "      <th></th>\n",
       "      <th>hotel_address</th>\n",
       "      <th>additional_number_of_scoring</th>\n",
       "      <th>review_date</th>\n",
       "      <th>average_score</th>\n",
       "      <th>hotel_name</th>\n",
       "      <th>reviewer_nationality</th>\n",
       "      <th>negative_review</th>\n",
       "      <th>review_total_negative_word_counts</th>\n",
       "      <th>total_number_of_reviews</th>\n",
       "      <th>positive_review</th>\n",
       "      <th>review_total_positive_word_counts</th>\n",
       "      <th>total_number_of_reviews_reviewer_has_given</th>\n",
       "      <th>reviewer_score</th>\n",
       "      <th>tags</th>\n",
       "      <th>days_since_review</th>\n",
       "      <th>lat</th>\n",
       "      <th>lng</th>\n",
       "    </tr>\n",
       "  </thead>\n",
       "  <tbody>\n",
       "    <tr>\n",
       "      <th>0</th>\n",
       "      <td>Stratton Street Mayfair Westminster Borough Lo...</td>\n",
       "      <td>581</td>\n",
       "      <td>2/19/2016</td>\n",
       "      <td>8.4</td>\n",
       "      <td>The May Fair Hotel</td>\n",
       "      <td>United Kingdom</td>\n",
       "      <td>Leaving</td>\n",
       "      <td>3</td>\n",
       "      <td>1994</td>\n",
       "      <td>Staff were amazing</td>\n",
       "      <td>4</td>\n",
       "      <td>7</td>\n",
       "      <td>10.0</td>\n",
       "      <td>[' Leisure trip ', ' Couple ', ' Studio Suite ...</td>\n",
       "      <td>531 day</td>\n",
       "      <td>51.507894</td>\n",
       "      <td>-0.143671</td>\n",
       "    </tr>\n",
       "    <tr>\n",
       "      <th>1</th>\n",
       "      <td>130 134 Southampton Row Camden London WC1B 5AF...</td>\n",
       "      <td>299</td>\n",
       "      <td>1/12/2017</td>\n",
       "      <td>8.3</td>\n",
       "      <td>Mercure London Bloomsbury Hotel</td>\n",
       "      <td>United Kingdom</td>\n",
       "      <td>poor breakfast</td>\n",
       "      <td>3</td>\n",
       "      <td>1361</td>\n",
       "      <td>location</td>\n",
       "      <td>2</td>\n",
       "      <td>14</td>\n",
       "      <td>6.3</td>\n",
       "      <td>[' Business trip ', ' Couple ', ' Standard Dou...</td>\n",
       "      <td>203 day</td>\n",
       "      <td>51.521009</td>\n",
       "      <td>-0.123097</td>\n",
       "    </tr>\n",
       "    <tr>\n",
       "      <th>2</th>\n",
       "      <td>151 bis Rue de Rennes 6th arr 75006 Paris France</td>\n",
       "      <td>32</td>\n",
       "      <td>10/18/2016</td>\n",
       "      <td>8.9</td>\n",
       "      <td>Legend Saint Germain by Elegancia</td>\n",
       "      <td>China</td>\n",
       "      <td>No kettle in room</td>\n",
       "      <td>6</td>\n",
       "      <td>406</td>\n",
       "      <td>No Positive</td>\n",
       "      <td>0</td>\n",
       "      <td>14</td>\n",
       "      <td>7.5</td>\n",
       "      <td>[' Leisure trip ', ' Solo traveler ', ' Modern...</td>\n",
       "      <td>289 day</td>\n",
       "      <td>48.845377</td>\n",
       "      <td>2.325643</td>\n",
       "    </tr>\n",
       "  </tbody>\n",
       "</table>\n",
       "</div>"
      ],
      "text/plain": [
       "                                       hotel_address  \\\n",
       "0  Stratton Street Mayfair Westminster Borough Lo...   \n",
       "1  130 134 Southampton Row Camden London WC1B 5AF...   \n",
       "2   151 bis Rue de Rennes 6th arr 75006 Paris France   \n",
       "\n",
       "   additional_number_of_scoring review_date  average_score  \\\n",
       "0                           581   2/19/2016            8.4   \n",
       "1                           299   1/12/2017            8.3   \n",
       "2                            32  10/18/2016            8.9   \n",
       "\n",
       "                          hotel_name reviewer_nationality  \\\n",
       "0                 The May Fair Hotel      United Kingdom    \n",
       "1    Mercure London Bloomsbury Hotel      United Kingdom    \n",
       "2  Legend Saint Germain by Elegancia               China    \n",
       "\n",
       "       negative_review  review_total_negative_word_counts  \\\n",
       "0             Leaving                                   3   \n",
       "1       poor breakfast                                  3   \n",
       "2   No kettle in room                                   6   \n",
       "\n",
       "   total_number_of_reviews      positive_review  \\\n",
       "0                     1994   Staff were amazing   \n",
       "1                     1361             location   \n",
       "2                      406          No Positive   \n",
       "\n",
       "   review_total_positive_word_counts  \\\n",
       "0                                  4   \n",
       "1                                  2   \n",
       "2                                  0   \n",
       "\n",
       "   total_number_of_reviews_reviewer_has_given  reviewer_score  \\\n",
       "0                                           7            10.0   \n",
       "1                                          14             6.3   \n",
       "2                                          14             7.5   \n",
       "\n",
       "                                                tags days_since_review  \\\n",
       "0  [' Leisure trip ', ' Couple ', ' Studio Suite ...           531 day   \n",
       "1  [' Business trip ', ' Couple ', ' Standard Dou...           203 day   \n",
       "2  [' Leisure trip ', ' Solo traveler ', ' Modern...           289 day   \n",
       "\n",
       "         lat       lng  \n",
       "0  51.507894 -0.143671  \n",
       "1  51.521009 -0.123097  \n",
       "2  48.845377  2.325643  "
      ]
     },
     "execution_count": 2,
     "metadata": {},
     "output_type": "execute_result"
    }
   ],
   "source": [
    "df = pd.read_csv('../data/hotels.csv')\n",
    "hotels=df.copy()\n",
    "hotels.head(3)"
   ]
  },
  {
   "cell_type": "code",
   "execution_count": 3,
   "metadata": {},
   "outputs": [
    {
     "name": "stdout",
     "output_type": "stream",
     "text": [
      "<class 'pandas.core.frame.DataFrame'>\n",
      "RangeIndex: 386803 entries, 0 to 386802\n",
      "Data columns (total 17 columns):\n",
      " #   Column                                      Non-Null Count   Dtype  \n",
      "---  ------                                      --------------   -----  \n",
      " 0   hotel_address                               386803 non-null  object \n",
      " 1   additional_number_of_scoring                386803 non-null  int64  \n",
      " 2   review_date                                 386803 non-null  object \n",
      " 3   average_score                               386803 non-null  float64\n",
      " 4   hotel_name                                  386803 non-null  object \n",
      " 5   reviewer_nationality                        386803 non-null  object \n",
      " 6   negative_review                             386803 non-null  object \n",
      " 7   review_total_negative_word_counts           386803 non-null  int64  \n",
      " 8   total_number_of_reviews                     386803 non-null  int64  \n",
      " 9   positive_review                             386803 non-null  object \n",
      " 10  review_total_positive_word_counts           386803 non-null  int64  \n",
      " 11  total_number_of_reviews_reviewer_has_given  386803 non-null  int64  \n",
      " 12  reviewer_score                              386803 non-null  float64\n",
      " 13  tags                                        386803 non-null  object \n",
      " 14  days_since_review                           386803 non-null  object \n",
      " 15  lat                                         384355 non-null  float64\n",
      " 16  lng                                         384355 non-null  float64\n",
      "dtypes: float64(4), int64(5), object(8)\n",
      "memory usage: 50.2+ MB\n"
     ]
    }
   ],
   "source": [
    "# Разветка данных\n",
    "hotels.info()"
   ]
  },
  {
   "cell_type": "markdown",
   "metadata": {},
   "source": [
    "Пропуски с столбцах Lat и Lng проверим по адресу"
   ]
  },
  {
   "cell_type": "markdown",
   "metadata": {},
   "source": [
    "# Удалим дублекаты"
   ]
  },
  {
   "cell_type": "code",
   "execution_count": 4,
   "metadata": {},
   "outputs": [
    {
     "data": {
      "text/plain": [
       "False    386496\n",
       "True        307\n",
       "Name: count, dtype: int64"
      ]
     },
     "execution_count": 4,
     "metadata": {},
     "output_type": "execute_result"
    }
   ],
   "source": [
    "# Определим количество дублекатов \n",
    "hotels.duplicated ().value_counts()"
   ]
  },
  {
   "cell_type": "code",
   "execution_count": 5,
   "metadata": {},
   "outputs": [],
   "source": [
    "# удалим дубли\n",
    "hotels=hotels.drop_duplicates()"
   ]
  },
  {
   "cell_type": "markdown",
   "metadata": {},
   "source": [
    "# lat & lng"
   ]
  },
  {
   "cell_type": "code",
   "execution_count": 6,
   "metadata": {},
   "outputs": [
    {
     "data": {
      "text/html": [
       "<div>\n",
       "<style scoped>\n",
       "    .dataframe tbody tr th:only-of-type {\n",
       "        vertical-align: middle;\n",
       "    }\n",
       "\n",
       "    .dataframe tbody tr th {\n",
       "        vertical-align: top;\n",
       "    }\n",
       "\n",
       "    .dataframe thead th {\n",
       "        text-align: right;\n",
       "    }\n",
       "</style>\n",
       "<table border=\"1\" class=\"dataframe\">\n",
       "  <thead>\n",
       "    <tr style=\"text-align: right;\">\n",
       "      <th></th>\n",
       "      <th>lng_Nan</th>\n",
       "      <th>lat_Nan</th>\n",
       "      <th>lng&amp;lat_Nan</th>\n",
       "    </tr>\n",
       "    <tr>\n",
       "      <th>hotel_address</th>\n",
       "      <th></th>\n",
       "      <th></th>\n",
       "      <th></th>\n",
       "    </tr>\n",
       "  </thead>\n",
       "  <tbody>\n",
       "    <tr>\n",
       "      <th>20 Rue De La Ga t 14th arr 75014 Paris France</th>\n",
       "      <td>28</td>\n",
       "      <td>28</td>\n",
       "      <td>28</td>\n",
       "    </tr>\n",
       "    <tr>\n",
       "      <th>23 Rue Damr mont 18th arr 75018 Paris France</th>\n",
       "      <td>47</td>\n",
       "      <td>47</td>\n",
       "      <td>47</td>\n",
       "    </tr>\n",
       "    <tr>\n",
       "      <th>4 rue de la P pini re 8th arr 75008 Paris France</th>\n",
       "      <td>224</td>\n",
       "      <td>224</td>\n",
       "      <td>224</td>\n",
       "    </tr>\n",
       "    <tr>\n",
       "      <th>Bail n 4 6 Eixample 08010 Barcelona Spain</th>\n",
       "      <td>113</td>\n",
       "      <td>113</td>\n",
       "      <td>113</td>\n",
       "    </tr>\n",
       "    <tr>\n",
       "      <th>Gr nentorgasse 30 09 Alsergrund 1090 Vienna Austria</th>\n",
       "      <td>63</td>\n",
       "      <td>63</td>\n",
       "      <td>63</td>\n",
       "    </tr>\n",
       "    <tr>\n",
       "      <th>Hasenauerstra e 12 19 D bling 1190 Vienna Austria</th>\n",
       "      <td>44</td>\n",
       "      <td>44</td>\n",
       "      <td>44</td>\n",
       "    </tr>\n",
       "    <tr>\n",
       "      <th>Josefst dter Stra e 10 12 08 Josefstadt 1080 Vienna Austria</th>\n",
       "      <td>496</td>\n",
       "      <td>496</td>\n",
       "      <td>496</td>\n",
       "    </tr>\n",
       "    <tr>\n",
       "      <th>Josefst dter Stra e 22 08 Josefstadt 1080 Vienna Austria</th>\n",
       "      <td>40</td>\n",
       "      <td>40</td>\n",
       "      <td>40</td>\n",
       "    </tr>\n",
       "    <tr>\n",
       "      <th>Landstra er G rtel 5 03 Landstra e 1030 Vienna Austria</th>\n",
       "      <td>182</td>\n",
       "      <td>182</td>\n",
       "      <td>182</td>\n",
       "    </tr>\n",
       "    <tr>\n",
       "      <th>Paragonstra e 1 11 Simmering 1110 Vienna Austria</th>\n",
       "      <td>34</td>\n",
       "      <td>34</td>\n",
       "      <td>34</td>\n",
       "    </tr>\n",
       "    <tr>\n",
       "      <th>Pau Clar s 122 Eixample 08009 Barcelona Spain</th>\n",
       "      <td>20</td>\n",
       "      <td>20</td>\n",
       "      <td>20</td>\n",
       "    </tr>\n",
       "    <tr>\n",
       "      <th>Savoyenstra e 2 16 Ottakring 1160 Vienna Austria</th>\n",
       "      <td>141</td>\n",
       "      <td>141</td>\n",
       "      <td>141</td>\n",
       "    </tr>\n",
       "    <tr>\n",
       "      <th>Sep lveda 180 Eixample 08011 Barcelona Spain</th>\n",
       "      <td>26</td>\n",
       "      <td>26</td>\n",
       "      <td>26</td>\n",
       "    </tr>\n",
       "    <tr>\n",
       "      <th>Sieveringer Stra e 4 19 D bling 1190 Vienna Austria</th>\n",
       "      <td>112</td>\n",
       "      <td>112</td>\n",
       "      <td>112</td>\n",
       "    </tr>\n",
       "    <tr>\n",
       "      <th>Taborstra e 8 A 02 Leopoldstadt 1020 Vienna Austria</th>\n",
       "      <td>421</td>\n",
       "      <td>421</td>\n",
       "      <td>421</td>\n",
       "    </tr>\n",
       "    <tr>\n",
       "      <th>W hringer Stra e 12 09 Alsergrund 1090 Vienna Austria</th>\n",
       "      <td>172</td>\n",
       "      <td>172</td>\n",
       "      <td>172</td>\n",
       "    </tr>\n",
       "    <tr>\n",
       "      <th>W hringer Stra e 33 35 09 Alsergrund 1090 Vienna Austria</th>\n",
       "      <td>285</td>\n",
       "      <td>285</td>\n",
       "      <td>285</td>\n",
       "    </tr>\n",
       "  </tbody>\n",
       "</table>\n",
       "</div>"
      ],
      "text/plain": [
       "                                                    lng_Nan  lat_Nan  \\\n",
       "hotel_address                                                          \n",
       "20 Rue De La Ga t 14th arr 75014 Paris France            28       28   \n",
       "23 Rue Damr mont 18th arr 75018 Paris France             47       47   \n",
       "4 rue de la P pini re 8th arr 75008 Paris France        224      224   \n",
       "Bail n 4 6 Eixample 08010 Barcelona Spain               113      113   \n",
       "Gr nentorgasse 30 09 Alsergrund 1090 Vienna Aus...       63       63   \n",
       "Hasenauerstra e 12 19 D bling 1190 Vienna Austria        44       44   \n",
       "Josefst dter Stra e 10 12 08 Josefstadt 1080 Vi...      496      496   \n",
       "Josefst dter Stra e 22 08 Josefstadt 1080 Vienn...       40       40   \n",
       "Landstra er G rtel 5 03 Landstra e 1030 Vienna ...      182      182   \n",
       "Paragonstra e 1 11 Simmering 1110 Vienna Austria         34       34   \n",
       "Pau Clar s 122 Eixample 08009 Barcelona Spain            20       20   \n",
       "Savoyenstra e 2 16 Ottakring 1160 Vienna Austria        141      141   \n",
       "Sep lveda 180 Eixample 08011 Barcelona Spain             26       26   \n",
       "Sieveringer Stra e 4 19 D bling 1190 Vienna Aus...      112      112   \n",
       "Taborstra e 8 A 02 Leopoldstadt 1020 Vienna Aus...      421      421   \n",
       "W hringer Stra e 12 09 Alsergrund 1090 Vienna A...      172      172   \n",
       "W hringer Stra e 33 35 09 Alsergrund 1090 Vienn...      285      285   \n",
       "\n",
       "                                                    lng&lat_Nan  \n",
       "hotel_address                                                    \n",
       "20 Rue De La Ga t 14th arr 75014 Paris France                28  \n",
       "23 Rue Damr mont 18th arr 75018 Paris France                 47  \n",
       "4 rue de la P pini re 8th arr 75008 Paris France            224  \n",
       "Bail n 4 6 Eixample 08010 Barcelona Spain                   113  \n",
       "Gr nentorgasse 30 09 Alsergrund 1090 Vienna Aus...           63  \n",
       "Hasenauerstra e 12 19 D bling 1190 Vienna Austria            44  \n",
       "Josefst dter Stra e 10 12 08 Josefstadt 1080 Vi...          496  \n",
       "Josefst dter Stra e 22 08 Josefstadt 1080 Vienn...           40  \n",
       "Landstra er G rtel 5 03 Landstra e 1030 Vienna ...          182  \n",
       "Paragonstra e 1 11 Simmering 1110 Vienna Austria             34  \n",
       "Pau Clar s 122 Eixample 08009 Barcelona Spain                20  \n",
       "Savoyenstra e 2 16 Ottakring 1160 Vienna Austria            141  \n",
       "Sep lveda 180 Eixample 08011 Barcelona Spain                 26  \n",
       "Sieveringer Stra e 4 19 D bling 1190 Vienna Aus...          112  \n",
       "Taborstra e 8 A 02 Leopoldstadt 1020 Vienna Aus...          421  \n",
       "W hringer Stra e 12 09 Alsergrund 1090 Vienna A...          172  \n",
       "W hringer Stra e 33 35 09 Alsergrund 1090 Vienn...          285  "
      ]
     },
     "execution_count": 6,
     "metadata": {},
     "output_type": "execute_result"
    }
   ],
   "source": [
    "_df=hotels.copy()\n",
    "_df['lng_Nan']=_df['lng'].isnull()\n",
    "_df['lat_Nan']=_df['lat'].isnull()\n",
    "_df['lng&lat_Nan']=_df['lng_Nan']+_df['lat_Nan']\n",
    "# _df['lng&lat_Nan']=_df[['lng_Nan','lat_Nan']].apply(lambda x: True if x['lng_Nan'] and x['lat_Nan'] else False ,axis=1)\n",
    "_df_g=_df.groupby('hotel_address')[['lng_Nan','lat_Nan','lng&lat_Nan']].sum()\n",
    "_df_g[(_df_g['lng_Nan']>0) | (_df_g['lat_Nan']>0)]"
   ]
  },
  {
   "cell_type": "markdown",
   "metadata": {},
   "source": [
    "Если взять по Городам координаты\n",
    "'Vienna': [48.2085, 16.373333], 'Paris':  [48.8535, 2.34888], 'Barcelona':  [41.3888, 2.15899]\n",
    "Но если присмотрется\n",
    "                                           'Paris':  [48.8535, 2.34888]\n",
    "     '23 Rue Damr mont 18th arr 75018 Paris France':[48.856663, 2.351556],\n",
    " '4 rue de la P pini re 8th arr 75008 Paris France':[44.222128, 8.410980],\n",
    "                                                     4           6\n",
    "                                    'Barcelona':  [41.3888, 2.15899]\n",
    "    'Bail n 4 6 Eixample 08010 Barcelona Spain':[41.396133, 1.655829],\n",
    " 'Sep lveda 180 Eixample 08011 Barcelona Spain':[41.391510, 2.155331],\n",
    "                                                  0         1\n",
    "                                              'Vienna': [48.2085, 16.373333]\n",
    " 'Gr nentorgasse 30 09 Alsergrund 1090 Vienna Austria':[48.222139, 16.357513],\n",
    "   'Hasenauerstra e 12 19 D bling 1190 Vienna Austria':[48.778035, 15.655650],\n",
    "                                                         0          1\n",
    "### Имеются удаленные от центра\n",
    "1. надо добавить координаты центра\n",
    "2. из адреса вытащить город 'city' и удалить адрес\n",
    "3. город закодировать"
   ]
  },
  {
   "cell_type": "code",
   "execution_count": 7,
   "metadata": {},
   "outputs": [],
   "source": [
    "list_address={'20 Rue De La Ga t 14th arr 75014 Paris France':[48.838331, 2.330948],\n",
    " '23 Rue Damr mont 18th arr 75018 Paris France':[48.856663, 2.351556],\n",
    " '4 rue de la P pini re 8th arr 75008 Paris France':[44.222128, 8.410980],\n",
    " 'Bail n 4 6 Eixample 08010 Barcelona Spain':[41.396133, 1.655829],\n",
    " 'Sep lveda 180 Eixample 08011 Barcelona Spain':[41.391510, 2.155331],\n",
    " 'Pau Clar s 122 Eixample 08009 Barcelona Spain':[41.504994, 2.245959],\n",
    " 'Savoyenstra e 2 16 Ottakring 1160 Vienna Austria':[48.209410, 16.323834],\n",
    " 'Gr nentorgasse 30 09 Alsergrund 1090 Vienna Austria':[48.222139, 16.357513],\n",
    " 'Hasenauerstra e 12 19 D bling 1190 Vienna Austria':[48.778035, 15.655650],\n",
    " 'Josefst dter Stra e 10 12 08 Josefstadt 1080 Vienna Austria':[48.210918, 16.347119],\n",
    " 'Josefst dter Stra e 22 08 Josefstadt 1080 Vienna Austria':[48.210918, 16.347119],\n",
    " 'Landstra er G rtel 5 03 Landstra e 1030 Vienna Austria':[48.188405, 16.383052],\n",
    " 'Paragonstra e 1 11 Simmering 1110 Vienna Austria':[48.176599, 16.413999],\n",
    " 'Sieveringer Stra e 4 19 D bling 1190 Vienna Austria':[48.245935, 16.341397],\n",
    " 'Taborstra e 8 A 02 Leopoldstadt 1020 Vienna Austria':[48.218213, 16.394110],\n",
    " 'W hringer Stra e 12 09 Alsergrund 1090 Vienna Austria':[48.225182, 16.358573],\n",
    " 'W hringer Stra e 33 35 09 Alsergrund 1090 Vienna Austria':[48.225182, 16.358573]}\n",
    "\n",
    "for a in list_address:\n",
    "    hotels.loc[hotels['hotel_address']==a,'lat']=list_address[a][0]\n",
    "    hotels.loc[hotels['hotel_address']==a,'lng']=list_address[a][1]"
   ]
  },
  {
   "cell_type": "code",
   "execution_count": 8,
   "metadata": {},
   "outputs": [
    {
     "data": {
      "text/plain": [
       "<Axes: title={'center': 'Распределение отелей по географическим координатам'}, xlabel='lng', ylabel='lat'>"
      ]
     },
     "execution_count": 8,
     "metadata": {},
     "output_type": "execute_result"
    },
    {
     "data": {
      "image/png": "[encoded data removed]",
      "text/plain": [
       "<Figure size 640x480 with 1 Axes>"
      ]
     },
     "metadata": {},
     "output_type": "display_data"
    }
   ],
   "source": [
    "# посмотрим разброс в географических координатах\n",
    "plt.title('Распределение отелей по географическим координатам')\n",
    "sns.scatterplot(data = hotels, x = 'lng', y = 'lat' )"
   ]
  },
  {
   "cell_type": "code",
   "execution_count": 9,
   "metadata": {},
   "outputs": [],
   "source": [
    "# # Округлим координаты до челых значений\n",
    "# hotels['lat'] = hotels.lat.round()  # округляю\n",
    "# hotels['lng'] = hotels.lng.round()"
   ]
  },
  {
   "cell_type": "code",
   "execution_count": 10,
   "metadata": {},
   "outputs": [
    {
     "name": "stdout",
     "output_type": "stream",
     "text": [
      "Количество городов = 6\n"
     ]
    },
    {
     "data": {
      "text/plain": [
       "city\n",
       "London       196773\n",
       "Barcelona     45132\n",
       "Paris         44528\n",
       "Amsterdam     43004\n",
       "Vienna        29177\n",
       "Milan         27882\n",
       "Name: count, dtype: int64"
      ]
     },
     "metadata": {},
     "output_type": "display_data"
    }
   ],
   "source": [
    "# Процедура получает названия городов из признака hotel_address\n",
    "def get_city(x):\n",
    "    a=x.split(' ')\n",
    "    if a[-2]=='United':\n",
    "        return a[-5]\n",
    "    else:\n",
    "        return a[-2] \n",
    "\n",
    "# Создаем признак c названием города\n",
    "hotels['city']=hotels['hotel_address'].apply(get_city)\n",
    "print('Количество городов =', hotels['city'].nunique())\n",
    "display(hotels['city'].value_counts())\n",
    "\n",
    "# удаляем адрес\n",
    "hotels.drop('hotel_address', axis = 1, inplace=True)"
   ]
  },
  {
   "cell_type": "code",
   "execution_count": 11,
   "metadata": {},
   "outputs": [],
   "source": [
    "list_city={'London':[51.507351,-0.127696],'Barcelona':[41.386378, 2.186760],'Paris':[48.856663, 2.351556],'Amsterdam':[52.373057, 4.892557],'Vienna':[48.206487, 16.363460],'Milan':[45.464183, 9.189595]}\n",
    "# list_citi={'London':[51,0],'Barcelona':[41, 2],'Paris':[48, 2],'Amsterdam':[52, 4],'Vienna':[48, 16],'Milan':[45, 9]}\n",
    "# Функция высчитаем расстояние до центра\n",
    "def Distance(data):\n",
    "    x_1=data['lat']\n",
    "    x_2=list_city[data['city']][0]\n",
    "    y_1=data['lng']\n",
    "    y_2=list_city[data['city']][1]\n",
    "    \n",
    "    return round(((x_1-x_2)**2+(y_1-y_2)**2)**0.5*69)#69500\n",
    "\n",
    "# Новый признак растояние до центра в км\n",
    "hotels['Distance']=hotels[['city','lat','lng']].apply(Distance ,axis=1)\n",
    "\n",
    "hotels['lat']=hotels['lat'].round\n",
    "hotels['lng']=hotels['lng'].round"
   ]
  },
  {
   "cell_type": "code",
   "execution_count": 12,
   "metadata": {},
   "outputs": [
    {
     "name": "stdout",
     "output_type": "stream",
     "text": [
      "<class 'pandas.core.frame.DataFrame'>\n",
      "Index: 386496 entries, 0 to 386802\n",
      "Data columns (total 24 columns):\n",
      " #   Column                                      Non-Null Count   Dtype  \n",
      "---  ------                                      --------------   -----  \n",
      " 0   additional_number_of_scoring                386496 non-null  int64  \n",
      " 1   review_date                                 386496 non-null  object \n",
      " 2   average_score                               386496 non-null  float64\n",
      " 3   hotel_name                                  386496 non-null  object \n",
      " 4   reviewer_nationality                        386496 non-null  object \n",
      " 5   negative_review                             386496 non-null  object \n",
      " 6   review_total_negative_word_counts           386496 non-null  int64  \n",
      " 7   total_number_of_reviews                     386496 non-null  int64  \n",
      " 8   positive_review                             386496 non-null  object \n",
      " 9   review_total_positive_word_counts           386496 non-null  int64  \n",
      " 10  total_number_of_reviews_reviewer_has_given  386496 non-null  int64  \n",
      " 11  reviewer_score                              386496 non-null  float64\n",
      " 12  tags                                        386496 non-null  object \n",
      " 13  days_since_review                           386496 non-null  object \n",
      " 14  lat                                         386496 non-null  object \n",
      " 15  lng                                         386496 non-null  object \n",
      " 16  city                                        386496 non-null  int64  \n",
      " 17  Distance                                    386496 non-null  int64  \n",
      " 18  London                                      386496 non-null  int64  \n",
      " 19  Barcelona                                   386496 non-null  int64  \n",
      " 20  Paris                                       386496 non-null  int64  \n",
      " 21  Amsterdam                                   386496 non-null  int64  \n",
      " 22  Vienna                                      386496 non-null  int64  \n",
      " 23  Milan                                       386496 non-null  int64  \n",
      "dtypes: float64(2), int64(13), object(9)\n",
      "memory usage: 73.7+ MB\n"
     ]
    }
   ],
   "source": [
    "# применим к городам on-hot кодирование\n",
    "temp = list(hotels['city'].value_counts().index)\n",
    "\n",
    "for index in temp:\n",
    "    hotels[index]=hotels['city'].apply(lambda x: 1 if x==index else 0 )\n",
    "    \n",
    "# Кодируем города в числовые признаки по количеству убывания отелей\n",
    "hotels['city']=hotels['city'].apply(lambda x:temp.index(x)+1)  \n",
    "hotels.info()"
   ]
  },
  {
   "cell_type": "markdown",
   "metadata": {},
   "source": [
    "# Дата"
   ]
  },
  {
   "cell_type": "code",
   "execution_count": 13,
   "metadata": {},
   "outputs": [
    {
     "name": "stdout",
     "output_type": "stream",
     "text": [
      "Cамый свежий отзыв 2017-08-03 00:00:00\n",
      "Cамый первый отзыв 2015-08-04 00:00:00\n",
      "Разное количество дат 731\n"
     ]
    }
   ],
   "source": [
    "# hotels['review_date']=df['review_date'].copy()\n",
    "# Преобразуем дату из строкового типа в дату\n",
    "hotels['review_date']=pd.to_datetime(hotels['review_date'])\n",
    "print('Cамый свежий отзыв',hotels['review_date'].max())\n",
    "print('Cамый первый отзыв',hotels['review_date'].min())\n",
    "print('Разное количество дат',hotels['review_date'].nunique())"
   ]
  },
  {
   "cell_type": "code",
   "execution_count": 14,
   "metadata": {},
   "outputs": [
    {
     "name": "stdout",
     "output_type": "stream",
     "text": [
      "<class 'pandas.core.frame.DataFrame'>\n",
      "Index: 386496 entries, 0 to 386802\n",
      "Data columns (total 30 columns):\n",
      " #   Column                                      Non-Null Count   Dtype         \n",
      "---  ------                                      --------------   -----         \n",
      " 0   additional_number_of_scoring                386496 non-null  int64         \n",
      " 1   review_date                                 386496 non-null  datetime64[ns]\n",
      " 2   average_score                               386496 non-null  float64       \n",
      " 3   hotel_name                                  386496 non-null  object        \n",
      " 4   reviewer_nationality                        386496 non-null  object        \n",
      " 5   negative_review                             386496 non-null  object        \n",
      " 6   review_total_negative_word_counts           386496 non-null  int64         \n",
      " 7   total_number_of_reviews                     386496 non-null  int64         \n",
      " 8   positive_review                             386496 non-null  object        \n",
      " 9   review_total_positive_word_counts           386496 non-null  int64         \n",
      " 10  total_number_of_reviews_reviewer_has_given  386496 non-null  int64         \n",
      " 11  reviewer_score                              386496 non-null  float64       \n",
      " 12  tags                                        386496 non-null  object        \n",
      " 13  days_since_review                           386496 non-null  object        \n",
      " 14  lat                                         386496 non-null  object        \n",
      " 15  lng                                         386496 non-null  object        \n",
      " 16  city                                        386496 non-null  int64         \n",
      " 17  Distance                                    386496 non-null  int64         \n",
      " 18  London                                      386496 non-null  int64         \n",
      " 19  Barcelona                                   386496 non-null  int64         \n",
      " 20  Paris                                       386496 non-null  int64         \n",
      " 21  Amsterdam                                   386496 non-null  int64         \n",
      " 22  Vienna                                      386496 non-null  int64         \n",
      " 23  Milan                                       386496 non-null  int64         \n",
      " 24  year                                        386496 non-null  int32         \n",
      " 25  quarter                                     386496 non-null  int32         \n",
      " 26  month                                       386496 non-null  int32         \n",
      " 27  weekday                                     386496 non-null  int32         \n",
      " 28  Weekend                                     386496 non-null  int64         \n",
      " 29  season                                      386496 non-null  int64         \n",
      "dtypes: datetime64[ns](1), float64(2), int32(4), int64(15), object(8)\n",
      "memory usage: 85.5+ MB\n"
     ]
    }
   ],
   "source": [
    "# создадим список из признаков ['year','quarter','month','weekday','Weekend','season']\n",
    "#                               год,    квартал,  месяц,день-недели,выходной,  сезон\n",
    "hotels['year']=hotels['review_date'].dt.year-2000\n",
    "# print(hotels['year'].value_counts())\n",
    "hotels['quarter']=hotels['review_date'].dt.quarter\n",
    "# print(hotels['quarter'].value_counts())\n",
    "hotels['month']=hotels['review_date'].dt.month\n",
    "# print(hotels['month'].value_counts())\n",
    "hotels['weekday']=hotels['review_date'].dt.weekday+1\n",
    "# print(hotels['weekday'].value_counts())\n",
    "hotels['Weekend']=hotels['weekday'].apply(lambda x: 1 if x==6 or x==7 else 0)\n",
    "# print(hotels['Weekend'].value_counts())\n",
    "hotels['season']=hotels['month'].apply(lambda x: x//3+1 if x<12 else 1)\n",
    "# print(hotels['season'].value_counts())\n",
    "# plt.title('Распределение по годам')\n",
    "# sns.kdeplot(hotels['year'])\n",
    "# sns.kdeplot(hotels['quarter'])\n",
    "# sns.histplot(hotels['month'], binwidth=0.95)\n",
    "# sns.kdeplot(hotels['weekday'])\n",
    "# hotels.drop('review_date', axis = 1, inplace=True)\n",
    "# print(hotels.shape)\n",
    "hotels.info()"
   ]
  },
  {
   "cell_type": "markdown",
   "metadata": {},
   "source": [
    "# Название отеля\n",
    "hotel_name"
   ]
  },
  {
   "cell_type": "code",
   "execution_count": 28,
   "metadata": {},
   "outputs": [
    {
     "data": {
      "text/plain": [
       "0         0.001524\n",
       "1         0.002235\n",
       "2         0.000947\n",
       "3         0.000621\n",
       "4         0.003268\n",
       "            ...   \n",
       "386798    0.001154\n",
       "386799    0.004937\n",
       "386800    0.002466\n",
       "386801    0.004160\n",
       "386802    0.003705\n",
       "Name: hot_pop, Length: 386496, dtype: float64"
      ]
     },
     "execution_count": 28,
     "metadata": {},
     "output_type": "execute_result"
    }
   ],
   "source": [
    "top_temp = hotels['hotel_name'].value_counts(normalize=True) \n",
    "temp_rate = {}\n",
    "i=0\n",
    "for h in top_temp:\n",
    "  temp_rate.update({top_temp.index[i]: h})\n",
    "  i +=1\n",
    "# вводим новый признак - популярность отеля, который в отзыве\n",
    "hotels['hot_pop'] = hotels['hotel_name'].apply(lambda x: temp_rate[x])\n"
   ]
  },
  {
   "cell_type": "code",
   "execution_count": 29,
   "metadata": {},
   "outputs": [
    {
     "name": "stdout",
     "output_type": "stream",
     "text": [
      "<class 'pandas.core.frame.DataFrame'>\n",
      "Index: 386496 entries, 0 to 386802\n",
      "Data columns (total 34 columns):\n",
      " #   Column                                      Non-Null Count   Dtype         \n",
      "---  ------                                      --------------   -----         \n",
      " 0   additional_number_of_scoring                386496 non-null  int64         \n",
      " 1   review_date                                 386496 non-null  datetime64[ns]\n",
      " 2   average_score                               386496 non-null  float64       \n",
      " 3   hotel_name                                  386496 non-null  int64         \n",
      " 4   review_total_negative_word_counts           386496 non-null  int64         \n",
      " 5   total_number_of_reviews                     386496 non-null  int64         \n",
      " 6   review_total_positive_word_counts           386496 non-null  int64         \n",
      " 7   total_number_of_reviews_reviewer_has_given  386496 non-null  int64         \n",
      " 8   reviewer_score                              386496 non-null  float64       \n",
      " 9   tags                                        386496 non-null  object        \n",
      " 10  days_since_review                           386496 non-null  int64         \n",
      " 11  lat                                         386496 non-null  object        \n",
      " 12  lng                                         386496 non-null  object        \n",
      " 13  city                                        386496 non-null  int64         \n",
      " 14  Distance                                    386496 non-null  int64         \n",
      " 15  London                                      386496 non-null  int64         \n",
      " 16  Barcelona                                   386496 non-null  int64         \n",
      " 17  Paris                                       386496 non-null  int64         \n",
      " 18  Amsterdam                                   386496 non-null  int64         \n",
      " 19  Vienna                                      386496 non-null  int64         \n",
      " 20  Milan                                       386496 non-null  int64         \n",
      " 21  year                                        386496 non-null  int32         \n",
      " 22  quarter                                     386496 non-null  int32         \n",
      " 23  month                                       386496 non-null  int32         \n",
      " 24  weekday                                     386496 non-null  int32         \n",
      " 25  Weekend                                     386496 non-null  int64         \n",
      " 26  season                                      386496 non-null  int64         \n",
      " 27  hot_pop                                     386496 non-null  float64       \n",
      " 28  national_pop                                386496 non-null  float64       \n",
      " 29  reviewer_nationality_num                    386496 non-null  int64         \n",
      " 30  reviewer_nationality_bool                   386496 non-null  int64         \n",
      " 31  No Negative                                 386496 non-null  int64         \n",
      " 32  No Positive                                 386496 non-null  int64         \n",
      " 33  days_since_num                              386496 non-null  int64         \n",
      "dtypes: datetime64[ns](1), float64(4), int32(4), int64(22), object(3)\n",
      "memory usage: 97.3+ MB\n"
     ]
    }
   ],
   "source": [
    "top_temp = hotels['hotel_name'].value_counts() \n",
    "temp_rate = {}\n",
    "i=0\n",
    "for h in top_temp:\n",
    "  temp_rate.update({top_temp.index[i]: h})\n",
    "  i +=1\n",
    "# вводим новый признак - популярность отеля, который в отзыве\n",
    "hotels['hotel_name'] = hotels['hotel_name'].apply(lambda x: temp_rate[x])\n",
    "\n",
    "# медленный код\n",
    "# hotels['hot_pop'] = hotels['hotel_name'].apply(lambda x: temp_rate[x])\n",
    "# name_list=list(hotels['hotel_name'].value_counts().index)\n",
    "# cout_list=list(hotels['hotel_name'].value_counts().values)\n",
    "# hotels['hotel_name']=hotels['hotel_name'].apply(lambda x: cout_list[name_list.index(x)])\n",
    "hotels.info()\n"
   ]
  },
  {
   "cell_type": "markdown",
   "metadata": {},
   "source": [
    "# рецензент_национальность\n",
    "reviewer_nationality"
   ]
  },
  {
   "cell_type": "code",
   "execution_count": 31,
   "metadata": {},
   "outputs": [],
   "source": [
    "# print(df.reviewer_nationality.value_counts())\n",
    "top_temp = hotels['reviewer_nationality'].value_counts(normalize=True) \n",
    "temp_rate = {}\n",
    "i=0\n",
    "for h in top_temp:\n",
    "  temp_rate.update({top_temp.index[i]: h})\n",
    "  i +=1\n",
    "# вводим новый признак - популярность отеля, который в отзыве\n",
    "hotels['national_pop'] = hotels['reviewer_nationality'].apply(lambda x: temp_rate[x])"
   ]
  },
  {
   "cell_type": "code",
   "execution_count": 18,
   "metadata": {},
   "outputs": [
    {
     "name": "stdout",
     "output_type": "stream",
     "text": [
      "<class 'pandas.core.frame.DataFrame'>\n",
      "Index: 386496 entries, 0 to 386802\n",
      "Data columns (total 33 columns):\n",
      " #   Column                                      Non-Null Count   Dtype         \n",
      "---  ------                                      --------------   -----         \n",
      " 0   additional_number_of_scoring                386496 non-null  int64         \n",
      " 1   review_date                                 386496 non-null  datetime64[ns]\n",
      " 2   average_score                               386496 non-null  float64       \n",
      " 3   hotel_name                                  386496 non-null  int64         \n",
      " 4   negative_review                             386496 non-null  object        \n",
      " 5   review_total_negative_word_counts           386496 non-null  int64         \n",
      " 6   total_number_of_reviews                     386496 non-null  int64         \n",
      " 7   positive_review                             386496 non-null  object        \n",
      " 8   review_total_positive_word_counts           386496 non-null  int64         \n",
      " 9   total_number_of_reviews_reviewer_has_given  386496 non-null  int64         \n",
      " 10  reviewer_score                              386496 non-null  float64       \n",
      " 11  tags                                        386496 non-null  object        \n",
      " 12  days_since_review                           386496 non-null  object        \n",
      " 13  lat                                         386496 non-null  object        \n",
      " 14  lng                                         386496 non-null  object        \n",
      " 15  city                                        386496 non-null  int64         \n",
      " 16  Distance                                    386496 non-null  int64         \n",
      " 17  London                                      386496 non-null  int64         \n",
      " 18  Barcelona                                   386496 non-null  int64         \n",
      " 19  Paris                                       386496 non-null  int64         \n",
      " 20  Amsterdam                                   386496 non-null  int64         \n",
      " 21  Vienna                                      386496 non-null  int64         \n",
      " 22  Milan                                       386496 non-null  int64         \n",
      " 23  year                                        386496 non-null  int32         \n",
      " 24  quarter                                     386496 non-null  int32         \n",
      " 25  month                                       386496 non-null  int32         \n",
      " 26  weekday                                     386496 non-null  int32         \n",
      " 27  Weekend                                     386496 non-null  int64         \n",
      " 28  season                                      386496 non-null  int64         \n",
      " 29  hot_pop                                     386496 non-null  float64       \n",
      " 30  national_pop                                386496 non-null  float64       \n",
      " 31  reviewer_nationality_num                    386496 non-null  int64         \n",
      " 32  reviewer_nationality_bool                   386496 non-null  int64         \n",
      "dtypes: datetime64[ns](1), float64(4), int32(4), int64(18), object(6)\n",
      "memory usage: 94.4+ MB\n"
     ]
    }
   ],
   "source": [
    "# создали список стран из самых популярных рецензентов в числовом и вулевом\n",
    "temp=list(hotels['reviewer_nationality'].value_counts().head(11).index)\n",
    "hotels['reviewer_nationality_num']=hotels['reviewer_nationality'].apply(lambda x: temp.index(x)+1 if x in temp else 12)\n",
    "hotels['reviewer_nationality_bool']=hotels['reviewer_nationality'].apply(lambda x: 1 if x in temp else 0)\n",
    "hotels.drop('reviewer_nationality', axis = 1, inplace=True)\n",
    "hotels.info()"
   ]
  },
  {
   "cell_type": "markdown",
   "metadata": {},
   "source": [
    "# отрицательный отзыв\n",
    "negative_review "
   ]
  },
  {
   "cell_type": "code",
   "execution_count": 19,
   "metadata": {},
   "outputs": [
    {
     "name": "stdout",
     "output_type": "stream",
     "text": [
      "<class 'pandas.core.frame.DataFrame'>\n",
      "Index: 386496 entries, 0 to 386802\n",
      "Data columns (total 33 columns):\n",
      " #   Column                                      Non-Null Count   Dtype         \n",
      "---  ------                                      --------------   -----         \n",
      " 0   additional_number_of_scoring                386496 non-null  int64         \n",
      " 1   review_date                                 386496 non-null  datetime64[ns]\n",
      " 2   average_score                               386496 non-null  float64       \n",
      " 3   hotel_name                                  386496 non-null  int64         \n",
      " 4   review_total_negative_word_counts           386496 non-null  int64         \n",
      " 5   total_number_of_reviews                     386496 non-null  int64         \n",
      " 6   positive_review                             386496 non-null  object        \n",
      " 7   review_total_positive_word_counts           386496 non-null  int64         \n",
      " 8   total_number_of_reviews_reviewer_has_given  386496 non-null  int64         \n",
      " 9   reviewer_score                              386496 non-null  float64       \n",
      " 10  tags                                        386496 non-null  object        \n",
      " 11  days_since_review                           386496 non-null  object        \n",
      " 12  lat                                         386496 non-null  object        \n",
      " 13  lng                                         386496 non-null  object        \n",
      " 14  city                                        386496 non-null  int64         \n",
      " 15  Distance                                    386496 non-null  int64         \n",
      " 16  London                                      386496 non-null  int64         \n",
      " 17  Barcelona                                   386496 non-null  int64         \n",
      " 18  Paris                                       386496 non-null  int64         \n",
      " 19  Amsterdam                                   386496 non-null  int64         \n",
      " 20  Vienna                                      386496 non-null  int64         \n",
      " 21  Milan                                       386496 non-null  int64         \n",
      " 22  year                                        386496 non-null  int32         \n",
      " 23  quarter                                     386496 non-null  int32         \n",
      " 24  month                                       386496 non-null  int32         \n",
      " 25  weekday                                     386496 non-null  int32         \n",
      " 26  Weekend                                     386496 non-null  int64         \n",
      " 27  season                                      386496 non-null  int64         \n",
      " 28  hot_pop                                     386496 non-null  float64       \n",
      " 29  national_pop                                386496 non-null  float64       \n",
      " 30  reviewer_nationality_num                    386496 non-null  int64         \n",
      " 31  reviewer_nationality_bool                   386496 non-null  int64         \n",
      " 32  No Negative                                 386496 non-null  int64         \n",
      "dtypes: datetime64[ns](1), float64(4), int32(4), int64(19), object(5)\n",
      "memory usage: 94.4+ MB\n"
     ]
    }
   ],
   "source": [
    "# Если не т неготивного отзава +1 бал\n",
    "hotels['No Negative']=hotels['negative_review'].apply(lambda x: 1 if x=='No Negative' else 0)\n",
    "hotels.drop('negative_review', axis = 1, inplace=True)\n",
    "hotels.info()"
   ]
  },
  {
   "cell_type": "markdown",
   "metadata": {},
   "source": [
    "# позитивный отзыв\n",
    "positive_review"
   ]
  },
  {
   "cell_type": "code",
   "execution_count": 20,
   "metadata": {},
   "outputs": [
    {
     "name": "stdout",
     "output_type": "stream",
     "text": [
      "<class 'pandas.core.frame.DataFrame'>\n",
      "Index: 386496 entries, 0 to 386802\n",
      "Data columns (total 33 columns):\n",
      " #   Column                                      Non-Null Count   Dtype         \n",
      "---  ------                                      --------------   -----         \n",
      " 0   additional_number_of_scoring                386496 non-null  int64         \n",
      " 1   review_date                                 386496 non-null  datetime64[ns]\n",
      " 2   average_score                               386496 non-null  float64       \n",
      " 3   hotel_name                                  386496 non-null  int64         \n",
      " 4   review_total_negative_word_counts           386496 non-null  int64         \n",
      " 5   total_number_of_reviews                     386496 non-null  int64         \n",
      " 6   review_total_positive_word_counts           386496 non-null  int64         \n",
      " 7   total_number_of_reviews_reviewer_has_given  386496 non-null  int64         \n",
      " 8   reviewer_score                              386496 non-null  float64       \n",
      " 9   tags                                        386496 non-null  object        \n",
      " 10  days_since_review                           386496 non-null  object        \n",
      " 11  lat                                         386496 non-null  object        \n",
      " 12  lng                                         386496 non-null  object        \n",
      " 13  city                                        386496 non-null  int64         \n",
      " 14  Distance                                    386496 non-null  int64         \n",
      " 15  London                                      386496 non-null  int64         \n",
      " 16  Barcelona                                   386496 non-null  int64         \n",
      " 17  Paris                                       386496 non-null  int64         \n",
      " 18  Amsterdam                                   386496 non-null  int64         \n",
      " 19  Vienna                                      386496 non-null  int64         \n",
      " 20  Milan                                       386496 non-null  int64         \n",
      " 21  year                                        386496 non-null  int32         \n",
      " 22  quarter                                     386496 non-null  int32         \n",
      " 23  month                                       386496 non-null  int32         \n",
      " 24  weekday                                     386496 non-null  int32         \n",
      " 25  Weekend                                     386496 non-null  int64         \n",
      " 26  season                                      386496 non-null  int64         \n",
      " 27  hot_pop                                     386496 non-null  float64       \n",
      " 28  national_pop                                386496 non-null  float64       \n",
      " 29  reviewer_nationality_num                    386496 non-null  int64         \n",
      " 30  reviewer_nationality_bool                   386496 non-null  int64         \n",
      " 31  No Negative                                 386496 non-null  int64         \n",
      " 32  No Positive                                 386496 non-null  int64         \n",
      "dtypes: datetime64[ns](1), float64(4), int32(4), int64(20), object(4)\n",
      "memory usage: 94.4+ MB\n"
     ]
    }
   ],
   "source": [
    "# Если нет положительного отзыва то 0 бал\n",
    "hotels['No Positive']=hotels['positive_review'].apply(lambda x: 0 if x=='No Positive' else 1)\n",
    "hotels.drop('positive_review', axis = 1, inplace=True)\n",
    "hotels.info()"
   ]
  },
  {
   "cell_type": "markdown",
   "metadata": {},
   "source": [
    "# Теги\n",
    "tags"
   ]
  },
  {
   "cell_type": "code",
   "execution_count": 81,
   "metadata": {},
   "outputs": [],
   "source": [
    "def pr_pas(x,n=10):\n",
    "  global nx\n",
    "  if nx<n:\n",
    "    print(x)\n",
    "    nx+=1"
   ]
  },
  {
   "cell_type": "code",
   "execution_count": 84,
   "metadata": {},
   "outputs": [
    {
     "name": "stdout",
     "output_type": "stream",
     "text": [
      "***** ****** УНИКАЛЬНЫХ множеств тэгов  47135\n",
      "Уникальных тэгов всего:  2368\n",
      "days\n",
      "1    145373\n",
      "2    100263\n",
      "3     72000\n",
      "4     35748\n",
      "5     15611\n",
      "6      7399\n",
      "7      5549\n",
      "8      1910\n",
      "Name: count, dtype: int64\n"
     ]
    }
   ],
   "source": [
    "nx=0   \n",
    "def tags_str_to_list(ss):\n",
    "# функция которая будет из всех тегов выделять только количество дней\n",
    "# если не указано - возвращаем 0\n",
    "  # ss = ss.replace(\"'\", '') # сначала удаляем апострофы\n",
    "  s_s = ss[1:-1].split(', ') # потом разбиваем на список с разделителем ','\n",
    "  for s in s_s:\n",
    "    s=s[2:-2]\n",
    "    if s.find('Stayed') != -1:  # в теге со словом Stayed выделяем число\n",
    "      if len(s.split()) >1: return int(s.split()[1])\n",
    "  else: return 0\n",
    "\n",
    "# это я хотел сделать для каждого тега свой столбец'\n",
    "#    \"тип поездки\", \"тип путешественника\", \"тип комнаты\", \"ночи\", \"устройство\", \"следующий\"\n",
    "# ind = ['trip_type', 'traveller_type', 'room_type', 'nights', 'device', 'next']\n",
    "\n",
    "dd = hotels['tags'].unique() # сначала выделил все уникальные записи в столбце с тегами\n",
    "print('***** ****** УНИКАЛЬНЫХ множеств тэгов ', len(dd))\n",
    "                         # потом каждое из этих множеств разбил на составные части,\n",
    "du = set()               # и стал добавлять их в множество\n",
    "for ss in dd:\n",
    "  s = ss[1:-1].split(', ')\n",
    "  for i in s:\n",
    "    du.add(i[2:-2])\n",
    "print('Уникальных тэгов всего: ', len(du))\n",
    "# ответ всё равно неверный, пишет\n",
    "\n",
    "# из всех тегов выделяем только количество дней, на сколько останавливался рецензент (0 если не указано)\n",
    "# создаём новый признак days\n",
    "hotels['days'] = hotels['tags'].apply(tags_str_to_list)\n",
    "print(hotels['days'].value_counts()[:8])    # для проверки вывел первые 8 значений\n",
    "# sns.histplot(hotels['days'])\n",
    "# hotels.info()"
   ]
  },
  {
   "cell_type": "markdown",
   "metadata": {},
   "source": [
    "# дневный_последний_отчет\n",
    "days_since_review"
   ]
  },
  {
   "cell_type": "code",
   "execution_count": 22,
   "metadata": {},
   "outputs": [],
   "source": [
    "# Делаем столбец days_since_review, цифровым\n",
    "hotels['days_since_review'] = hotels['days_since_review'].apply(lambda x: int(x.split()[0]))"
   ]
  },
  {
   "cell_type": "code",
   "execution_count": 23,
   "metadata": {},
   "outputs": [
    {
     "name": "stdout",
     "output_type": "stream",
     "text": [
      "<class 'pandas.core.frame.DataFrame'>\n",
      "Index: 386496 entries, 0 to 386802\n",
      "Data columns (total 34 columns):\n",
      " #   Column                                      Non-Null Count   Dtype         \n",
      "---  ------                                      --------------   -----         \n",
      " 0   additional_number_of_scoring                386496 non-null  int64         \n",
      " 1   review_date                                 386496 non-null  datetime64[ns]\n",
      " 2   average_score                               386496 non-null  float64       \n",
      " 3   hotel_name                                  386496 non-null  int64         \n",
      " 4   review_total_negative_word_counts           386496 non-null  int64         \n",
      " 5   total_number_of_reviews                     386496 non-null  int64         \n",
      " 6   review_total_positive_word_counts           386496 non-null  int64         \n",
      " 7   total_number_of_reviews_reviewer_has_given  386496 non-null  int64         \n",
      " 8   reviewer_score                              386496 non-null  float64       \n",
      " 9   tags                                        386496 non-null  object        \n",
      " 10  days_since_review                           386496 non-null  int64         \n",
      " 11  lat                                         386496 non-null  object        \n",
      " 12  lng                                         386496 non-null  object        \n",
      " 13  city                                        386496 non-null  int64         \n",
      " 14  Distance                                    386496 non-null  int64         \n",
      " 15  London                                      386496 non-null  int64         \n",
      " 16  Barcelona                                   386496 non-null  int64         \n",
      " 17  Paris                                       386496 non-null  int64         \n",
      " 18  Amsterdam                                   386496 non-null  int64         \n",
      " 19  Vienna                                      386496 non-null  int64         \n",
      " 20  Milan                                       386496 non-null  int64         \n",
      " 21  year                                        386496 non-null  int32         \n",
      " 22  quarter                                     386496 non-null  int32         \n",
      " 23  month                                       386496 non-null  int32         \n",
      " 24  weekday                                     386496 non-null  int32         \n",
      " 25  Weekend                                     386496 non-null  int64         \n",
      " 26  season                                      386496 non-null  int64         \n",
      " 27  hot_pop                                     386496 non-null  float64       \n",
      " 28  national_pop                                386496 non-null  float64       \n",
      " 29  reviewer_nationality_num                    386496 non-null  int64         \n",
      " 30  reviewer_nationality_bool                   386496 non-null  int64         \n",
      " 31  No Negative                                 386496 non-null  int64         \n",
      " 32  No Positive                                 386496 non-null  int64         \n",
      " 33  days_since_num                              386496 non-null  int64         \n",
      "dtypes: datetime64[ns](1), float64(4), int32(4), int64(22), object(3)\n",
      "memory usage: 97.3+ MB\n"
     ]
    }
   ],
   "source": [
    "hotels['days_since_num'] = hotels['days_since_review'].apply(lambda x: 1 if x<250 else 3 if x>500 else 2)\n",
    "hotels.info()"
   ]
  }
 ],
 "metadata": {
  "kernelspec": {
   "display_name": "Python 3.8.10 64-bit",
   "language": "python",
   "name": "python3"
  },
  "language_info": {
   "codemirror_mode": {
    "name": "ipython",
    "version": 3
   },
   "file_extension": ".py",
   "mimetype": "text/x-python",
   "name": "python",
   "nbconvert_exporter": "python",
   "pygments_lexer": "ipython3",
   "version": "3.8.10"
  },
  "orig_nbformat": 4,
  "vscode": {
   "interpreter": {
    "hash": "541247ef5e2c485a853fcdfc5770898360c10253d62f064c141db27a35a34903"
   }
  }
 },
 "nbformat": 4,
 "nbformat_minor": 2
}
