{
 "cells": [
  {
   "cell_type": "markdown",
   "metadata": {},
   "source": [
    "### 0"
   ]
  },
  {
   "cell_type": "code",
   "execution_count": 7,
   "metadata": {},
   "outputs": [
    {
     "ename": "ValueError",
     "evalue": "too many values to unpack (expected 3)",
     "output_type": "error",
     "traceback": [
      "\u001b[1;31m---------------------------------------------------------------------------\u001b[0m",
      "\u001b[1;31mValueError\u001b[0m                                Traceback (most recent call last)",
      "Cell \u001b[1;32mIn[7], line 1\u001b[0m\n\u001b[1;32m----> 1\u001b[0m x, y, z \u001b[38;5;241m=\u001b[39m \u001b[38;5;28minput\u001b[39m(\u001b[38;5;124m'\u001b[39m\u001b[38;5;124mВведите размеры x y z: \u001b[39m\u001b[38;5;124m'\u001b[39m)\n\u001b[0;32m      2\u001b[0m a_in \u001b[38;5;241m=\u001b[39m a_in\u001b[38;5;241m.\u001b[39mstrip() \u001b[38;5;66;03m# Обрезаем пробелы по концам строки\u001b[39;00m\n\u001b[0;32m      3\u001b[0m a_in \u001b[38;5;241m=\u001b[39m a_in\u001b[38;5;241m.\u001b[39msplit()\n",
      "\u001b[1;31mValueError\u001b[0m: too many values to unpack (expected 3)"
     ]
    }
   ],
   "source": [
    "x, y, z = input('Введите размеры x y z: ')\n",
    "a_in = a_in.strip() # Обрезаем пробелы по концам строки\n",
    "a_in = a_in.split()\n",
    "x = a_in[0]\n",
    "y = a_in[1]\n",
    "z = a_in[2]\n",
    "print('Площадь = ', int(x)*int(y)*int(z))"
   ]
  },
  {
   "cell_type": "markdown",
   "metadata": {},
   "source": [
    "### 1"
   ]
  },
  {
   "cell_type": "code",
   "execution_count": 2,
   "metadata": {},
   "outputs": [
    {
     "name": "stdout",
     "output_type": "stream",
     "text": [
      "Площадь =  24\n"
     ]
    }
   ],
   "source": [
    "x, y, z = input('Введите размеры x y z: ').strip().split()\n",
    "print('Площадь = ', int(x)*int(y)*int(z))"
   ]
  },
  {
   "cell_type": "markdown",
   "metadata": {},
   "source": [
    "### 2"
   ]
  },
  {
   "cell_type": "code",
   "execution_count": 3,
   "metadata": {},
   "outputs": [
    {
     "name": "stdout",
     "output_type": "stream",
     "text": [
      "Площадь =  24\n"
     ]
    }
   ],
   "source": [
    "x, y, z = input('Введите размеры x y z: ').strip().split()\n",
    "x, y, z = map(int, (x, y, z))\n",
    "print('Площадь = ', x * y * z)"
   ]
  },
  {
   "cell_type": "markdown",
   "metadata": {},
   "source": [
    "### 3"
   ]
  },
  {
   "cell_type": "code",
   "execution_count": 5,
   "metadata": {},
   "outputs": [
    {
     "name": "stdout",
     "output_type": "stream",
     "text": [
      "Площадь =  24\n"
     ]
    }
   ],
   "source": [
    "x, y, z = map(int, input('Введите размеры x y z: ').strip().split())\n",
    "print('Площадь = ', x * y * z)"
   ]
  },
  {
   "cell_type": "markdown",
   "metadata": {},
   "source": [
    "### 4"
   ]
  },
  {
   "cell_type": "code",
   "execution_count": 8,
   "metadata": {},
   "outputs": [
    {
     "name": "stdout",
     "output_type": "stream",
     "text": [
      "Площадь = 24\n"
     ]
    }
   ],
   "source": [
    "from functools import reduce\n",
    "# result= reduce(\n",
    "#     lambda x, y: x * y,\n",
    "#     map(int, input('Введите размеры x y z: ').strip().split())\n",
    "# )\n",
    "result= reduce(lambda x, y: x * y, map(int, input('Введите размеры x y z: ').strip().split()))\n",
    "print(f'Площадь = {result}')"
   ]
  },
  {
   "cell_type": "markdown",
   "metadata": {},
   "source": [
    "### 5\n",
    "Выбрать из списка имена на 'А'"
   ]
  },
  {
   "cell_type": "code",
   "execution_count": 13,
   "metadata": {},
   "outputs": [
    {
     "name": "stdout",
     "output_type": "stream",
     "text": [
      "['Адемар', 'Архип']\n"
     ]
    }
   ],
   "source": [
    "names=['Хрестофор', 'Адемар', 'Тэя', 'Стефания', 'Архип' ]\n",
    "names_start_a = []\n",
    "for index in names:\n",
    "    if index[0]=='А':\n",
    "        names_start_a.append(index)\n",
    "print(names_start_a)"
   ]
  },
  {
   "cell_type": "code",
   "execution_count": 14,
   "metadata": {},
   "outputs": [
    {
     "name": "stdout",
     "output_type": "stream",
     "text": [
      "['Адемар', 'Архип']\n"
     ]
    }
   ],
   "source": [
    "names=['Хрестофор', 'Адемар', 'Тэя', 'Стефания', 'Архип' ]\n",
    "names_start_a = [name for name in names if name.startswith('А')]\n",
    "print(names_start_a)"
   ]
  },
  {
   "cell_type": "markdown",
   "metadata": {},
   "source": [
    "### 6"
   ]
  },
  {
   "cell_type": "code",
   "execution_count": 22,
   "metadata": {},
   "outputs": [
    {
     "name": "stdout",
     "output_type": "stream",
     "text": [
      "<filter object at 0x000000000674C9D0>\n",
      "('Адемар', 'Архип')\n"
     ]
    }
   ],
   "source": [
    "names=['Хрестофор', 'Адемар', 'Тэя', 'Стефания', 'Архип' ]\n",
    "names_start_a = filter (lambda name: name.startswith('А'), names)\n",
    "print(names_start_a)\n",
    "# print(list(names_start_a))\n",
    "print(tuple(names_start_a))"
   ]
  },
  {
   "cell_type": "markdown",
   "metadata": {},
   "source": [
    "### 7\n",
    "копия списка"
   ]
  },
  {
   "cell_type": "code",
   "execution_count": 24,
   "metadata": {},
   "outputs": [
    {
     "name": "stdout",
     "output_type": "stream",
     "text": [
      "[1, 2, 3, 100]\n",
      "[1, 2, 3, 100]\n",
      "[1, 2, 3, 100, 200]\n",
      "[1, 2, 3, 100]\n"
     ]
    }
   ],
   "source": [
    "number = [1, 2, 3]\n",
    "another_number = number\n",
    "another_number.append(100)\n",
    "print(another_number)\n",
    "print(number)\n",
    "another_number = number[:] # !!!! Копирование\n",
    "another_number.append(200)\n",
    "print(another_number)\n",
    "print(number)"
   ]
  },
  {
   "cell_type": "markdown",
   "metadata": {},
   "source": [
    "### 8"
   ]
  },
  {
   "cell_type": "code",
   "execution_count": 28,
   "metadata": {},
   "outputs": [
    {
     "name": "stdout",
     "output_type": "stream",
     "text": [
      "[1, 2, 3]\n",
      "[1, 2, 3]\n",
      "[3, 2, 1, 100]\n"
     ]
    }
   ],
   "source": [
    "number = [1, 2, 3]\n",
    "number_rew = number[::-1] # !!!! Копирование\n",
    "number_rew.append(100)\n",
    "print(number)\n",
    "print(number_rew)"
   ]
  },
  {
   "cell_type": "markdown",
   "metadata": {},
   "source": [
    "### 9"
   ]
  },
  {
   "cell_type": "code",
   "execution_count": 29,
   "metadata": {},
   "outputs": [],
   "source": [
    "name = 'Василий'\n",
    "if name == 'Алексей' or name == 'Петор' or name == 'Хрестофор':\n",
    "    print(name)\n",
    "    \n",
    "if name in ('Алексей', 'Петор', 'Хрестофор'):\n",
    "    print(name)"
   ]
  },
  {
   "cell_type": "markdown",
   "metadata": {},
   "source": [
    "### 10"
   ]
  },
  {
   "cell_type": "code",
   "execution_count": 33,
   "metadata": {},
   "outputs": [
    {
     "name": "stdout",
     "output_type": "stream",
     "text": [
      "All True\n",
      "All True\n",
      "All True\n",
      "Any True\n"
     ]
    }
   ],
   "source": [
    "a = b = c = d = e = None\n",
    "a = b = c = d = e = True\n",
    "if a and b and c and d and e :\n",
    "    print('All True') \n",
    "    \n",
    "if all((a,b,c,d,e)):\n",
    "    print('All True')\n",
    "    \n",
    "number=[1, 1, 1, 1, 1, 1]\n",
    "if all(number):\n",
    "    print('All True')\n",
    "    \n",
    "number=[0, 1, 0, 0, 0, 0]\n",
    "if any(number):\n",
    "    print('Any True')"
   ]
  },
  {
   "cell_type": "markdown",
   "metadata": {},
   "source": [
    "### 11\n",
    "Тернарный оператор"
   ]
  },
  {
   "cell_type": "code",
   "execution_count": 35,
   "metadata": {},
   "outputs": [],
   "source": [
    "# Подготовка\n",
    "class SalesReport():  \n",
    "    pass \n",
    "\n",
    "config = SalesReport()\n",
    "config.IS_PRODUCTION = True"
   ]
  },
  {
   "cell_type": "code",
   "execution_count": 37,
   "metadata": {},
   "outputs": [
    {
     "name": "stdout",
     "output_type": "stream",
     "text": [
      "admin@siti.ru\n"
     ]
    }
   ],
   "source": [
    "admin_email = 'admin@siti.ru' if config.IS_PRODUCTION else 'mymail@mail.com'\n",
    "print(admin_email)"
   ]
  },
  {
   "cell_type": "markdown",
   "metadata": {},
   "source": [
    "### 12"
   ]
  },
  {
   "cell_type": "code",
   "execution_count": 40,
   "metadata": {},
   "outputs": [
    {
     "name": "stdout",
     "output_type": "stream",
     "text": [
      "<__main__.User object at 0x0000000007B5C9A0>\n",
      "1\n",
      "<__main__.User object at 0x0000000007B5C9A0>\n",
      "1\n"
     ]
    }
   ],
   "source": [
    "class User():\n",
    "    def __init__(self, group: str) -> None:\n",
    "        self.group = group\n",
    "        \n",
    "def process_admin_request(users, request):\n",
    "    print(users)\n",
    "    print(request)\n",
    "def process_manager_request(users, request):\n",
    "    print(users)\n",
    "    print(request+1)\n",
    "def process_client_request(users, request):\n",
    "    print(users)   \n",
    "    print(request+2)   \n",
    "    \n",
    "user = User(group='admin') \n",
    "request = 1 \n",
    "\n",
    "if user.group ==  'admin':\n",
    "    process_admin_request(user, request)\n",
    "elif user.group ==  'manager':\n",
    "    process_manager_request(user, request)\n",
    "elif user.group ==  'client':\n",
    "    process_client_request(user, request)  \n",
    "    \n",
    "group_to_proces_metod={'admin': process_admin_request,\n",
    "                'manager':process_manager_request,\n",
    "                'client': process_client_request} \n",
    "\n",
    "group_to_proces_metod[user.group](user, request)"
   ]
  }
 ],
 "metadata": {
  "kernelspec": {
   "display_name": "Python 3.8.10 64-bit",
   "language": "python",
   "name": "python3"
  },
  "language_info": {
   "codemirror_mode": {
    "name": "ipython",
    "version": 3
   },
   "file_extension": ".py",
   "mimetype": "text/x-python",
   "name": "python",
   "nbconvert_exporter": "python",
   "pygments_lexer": "ipython3",
   "version": "3.8.10"
  },
  "orig_nbformat": 4,
  "vscode": {
   "interpreter": {
    "hash": "541247ef5e2c485a853fcdfc5770898360c10253d62f064c141db27a35a34903"
   }
  }
 },
 "nbformat": 4,
 "nbformat_minor": 2
}
