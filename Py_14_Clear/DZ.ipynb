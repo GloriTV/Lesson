{
 "cells": [
  {
   "cell_type": "code",
   "execution_count": 3,
   "metadata": {},
   "outputs": [],
   "source": [
    "import pandas as pd\n",
    "import numpy as np\n",
    "import matplotlib.pyplot as plt\n",
    "import seaborn as sns\n",
    "\n",
    "import plotly\n",
    "import plotly.express as px\n",
    "\n",
    "# Подгказка 2 файлов из одного excel\n",
    "data_Parsing = pd.read_excel('data/Data_TSUM.xlsx', sheet_name='Data_Parsing')\n",
    "data_Company = pd.read_excel('data/Data_TSUM.xlsx', sheet_name='Data_Company')\n",
    "# print(data_Parsing.shape)\n",
    "# print(data_Company.shape)\n",
    "# display(data_Parsing.head())\n",
    "# data_Company.head()"
   ]
  },
  {
   "cell_type": "code",
   "execution_count": 4,
   "metadata": {},
   "outputs": [],
   "source": [
    "list_sim=['_', '-', '~', '\\\\', '/' ]\n",
    "\n",
    "def filtr(x):\n",
    "    for i in list_sim:\n",
    "        x=x.replace(i,'')\n",
    "    return x\n",
    "\n",
    "data_Parsing['producer_id']=data_Parsing['producer_id'].apply(lambda x:x.replace('_',''))\n",
    "data_Parsing['producer_color']=data_Parsing['producer_color'].apply(filtr)\n",
    "\n",
    "# data_Company=\n",
    "data_Company.drop(['brand','Category'],axis=1,inplace=True)\n",
    "# data_Company"
   ]
  },
  {
   "cell_type": "code",
   "execution_count": 5,
   "metadata": {},
   "outputs": [],
   "source": [
    "# data_Parsing_Company=pd.concat(\n",
    "#     [data_Parsing ,data_Company],ignore_index=False,axis=1\n",
    "# )\n",
    "data_Parsing_Company=data_Parsing.merge(\n",
    "    data_Company,\n",
    "    left_on='producer_id', \n",
    "    right_on='item_id',\n",
    "    )   "
   ]
  },
  {
   "cell_type": "code",
   "execution_count": 6,
   "metadata": {},
   "outputs": [],
   "source": [
    "data_Parsing_Company['%']=(data_Parsing_Company['current price']-data_Parsing_Company['price'])*100/data_Parsing_Company['current price']\n",
    "\n",
    "fig=px.box(\n",
    "    data_Parsing_Company,\n",
    "    x='brand',\n",
    "    y='%',\n",
    "    color='Category'    \n",
    ")"
   ]
  },
  {
   "cell_type": "code",
   "execution_count": 18,
   "metadata": {},
   "outputs": [
    {
     "name": "stdout",
     "output_type": "stream",
     "text": [
      "-8.104879000000002\n"
     ]
    },
    {
     "data": {
      "text/plain": [
       "brand         Category\n",
       "Brioni        Bags        15.301984\n",
       "              Shoes        4.215731\n",
       "Stone Island  Bags        18.592183\n",
       "              Shoes       20.996377\n",
       "Valentino     Bags         9.736842\n",
       "              Shoes       29.628191\n",
       "Name: %, dtype: float64"
      ]
     },
     "execution_count": 18,
     "metadata": {},
     "output_type": "execute_result"
    }
   ],
   "source": [
    "data_gru=data_Parsing_Company.groupby(['brand','Category'])['%'].mean()\n",
    "#quantile(0.25)\n",
    "data_mode=data_Parsing_Company.groupby(['brand','Category'])['%'].quantile(0.75)#agg(['quantile(0.25)','mean','std'])\n",
    "def row_con(x,p=30):\n",
    "    if x['%']<data_gru[x['brand'],x['Category']]*p: return \"No\"\n",
    "    return \"Yes\"\n",
    "    \n",
    "data_Parsing_Company['outlier']=data_Parsing_Company.apply(lambda row: row_con(row),axis=1)\n",
    "\n",
    "print(15.301984-23.406863)\n",
    "data_mode\n",
    "\n",
    "# data_Parsing_Company.iloc[::1]"
   ]
  },
  {
   "cell_type": "code",
   "execution_count": null,
   "metadata": {},
   "outputs": [
    {
     "data": {
      "text/plain": [
       "[1, 2, 3, 4, 5, 6, 7, 8, 9, 0]"
      ]
     },
     "execution_count": 14,
     "metadata": {},
     "output_type": "execute_result"
    }
   ],
   "source": [
    "numbers='1 2 3 4 5 6 7 8 9 0'\n",
    "\n",
    "[int(c) for c in numbers.split(' ')]"
   ]
  }
 ],
 "metadata": {
  "kernelspec": {
   "display_name": "Python 3.8.10 64-bit",
   "language": "python",
   "name": "python3"
  },
  "language_info": {
   "codemirror_mode": {
    "name": "ipython",
    "version": 3
   },
   "file_extension": ".py",
   "mimetype": "text/x-python",
   "name": "python",
   "nbconvert_exporter": "python",
   "pygments_lexer": "ipython3",
   "version": "3.8.10"
  },
  "orig_nbformat": 4,
  "vscode": {
   "interpreter": {
    "hash": "541247ef5e2c485a853fcdfc5770898360c10253d62f064c141db27a35a34903"
   }
  }
 },
 "nbformat": 4,
 "nbformat_minor": 2
}
